{
 "cells": [
  {
   "cell_type": "code",
   "execution_count": null,
   "id": "f4588de2-7c1f-4f4b-9c14-a4f75dad1d3d",
   "metadata": {},
   "outputs": [],
   "source": []
  },
  {
   "cell_type": "code",
   "execution_count": 2,
   "id": "9106c48a-2eb3-4656-9dca-f22852ce3ca5",
   "metadata": {},
   "outputs": [
    {
     "name": "stderr",
     "output_type": "stream",
     "text": [
      "\u001b[32m\u001b[1m    Updating\u001b[22m\u001b[39m registry at `/srv/julia-depot/registries/General.toml`\n",
      "\u001b[32m\u001b[1m   Resolving\u001b[22m\u001b[39m package versions...\n",
      "\u001b[32m\u001b[1m   Installed\u001b[22m\u001b[39m x265_jll ───────────────────── v3.5.0+0\n",
      "\u001b[32m\u001b[1m   Installed\u001b[22m\u001b[39m libfdk_aac_jll ─────────────── v2.0.2+0\n",
      "\u001b[32m\u001b[1m   Installed\u001b[22m\u001b[39m Libmount_jll ───────────────── v2.35.0+0\n",
      "\u001b[32m\u001b[1m   Installed\u001b[22m\u001b[39m GR_jll ─────────────────────── v0.72.4+0\n",
      "\u001b[32m\u001b[1m   Installed\u001b[22m\u001b[39m Calculus ───────────────────── v0.5.1\n",
      "\u001b[32m\u001b[1m   Installed\u001b[22m\u001b[39m JpegTurbo_jll ──────────────── v2.1.91+0\n",
      "\u001b[32m\u001b[1m   Installed\u001b[22m\u001b[39m OffsetArrays ───────────────── v1.12.9\n",
      "\u001b[32m\u001b[1m   Installed\u001b[22m\u001b[39m HypergeometricFunctions ────── v0.3.16\n",
      "\u001b[32m\u001b[1m   Installed\u001b[22m\u001b[39m LERC_jll ───────────────────── v3.0.0+1\n",
      "\u001b[32m\u001b[1m   Installed\u001b[22m\u001b[39m StatsFuns ──────────────────── v1.3.0\n",
      "\u001b[32m\u001b[1m   Installed\u001b[22m\u001b[39m Xorg_xkbcomp_jll ───────────── v1.4.2+4\n",
      "\u001b[32m\u001b[1m   Installed\u001b[22m\u001b[39m FFTW ───────────────────────── v1.6.0\n",
      "\u001b[32m\u001b[1m   Installed\u001b[22m\u001b[39m LoggingExtras ──────────────── v1.0.0\n",
      "\u001b[32m\u001b[1m   Installed\u001b[22m\u001b[39m Opus_jll ───────────────────── v1.3.2+0\n",
      "\u001b[32m\u001b[1m   Installed\u001b[22m\u001b[39m RelocatableFolders ─────────── v1.0.0\n",
      "\u001b[32m\u001b[1m   Installed\u001b[22m\u001b[39m Measures ───────────────────── v0.3.2\n",
      "\u001b[32m\u001b[1m   Installed\u001b[22m\u001b[39m PDMats ─────────────────────── v0.11.17\n",
      "\u001b[32m\u001b[1m   Installed\u001b[22m\u001b[39m ConcurrentUtilities ────────── v2.2.0\n",
      "\u001b[32m\u001b[1m   Installed\u001b[22m\u001b[39m NearestNeighbors ───────────── v0.4.13\n",
      "\u001b[32m\u001b[1m   Installed\u001b[22m\u001b[39m StaticArrays ───────────────── v1.5.24\n",
      "\u001b[32m\u001b[1m   Installed\u001b[22m\u001b[39m Contour ────────────────────── v0.6.2\n",
      "\u001b[32m\u001b[1m   Installed\u001b[22m\u001b[39m Grisu ──────────────────────── v1.0.2\n",
      "\u001b[32m\u001b[1m   Installed\u001b[22m\u001b[39m Formatting ─────────────────── v0.4.2\n",
      "\u001b[32m\u001b[1m   Installed\u001b[22m\u001b[39m Xorg_xcb_util_wm_jll ───────── v0.4.1+1\n",
      "\u001b[32m\u001b[1m   Installed\u001b[22m\u001b[39m Xorg_xcb_util_image_jll ────── v0.4.0+1\n",
      "\u001b[32m\u001b[1m   Installed\u001b[22m\u001b[39m RecipesPipeline ────────────── v0.6.12\n",
      "\u001b[32m\u001b[1m   Installed\u001b[22m\u001b[39m PlotUtils ──────────────────── v1.3.5\n",
      "\u001b[32m\u001b[1m   Installed\u001b[22m\u001b[39m Xorg_libpthread_stubs_jll ──── v0.1.0+3\n",
      "\u001b[32m\u001b[1m   Installed\u001b[22m\u001b[39m OpenSSL ────────────────────── v1.4.1\n",
      "\u001b[32m\u001b[1m   Installed\u001b[22m\u001b[39m Cairo_jll ──────────────────── v1.16.1+1\n",
      "\u001b[32m\u001b[1m   Installed\u001b[22m\u001b[39m Fontconfig_jll ─────────────── v2.13.93+0\n",
      "\u001b[32m\u001b[1m   Installed\u001b[22m\u001b[39m Xorg_xcb_util_jll ──────────── v0.4.0+1\n",
      "\u001b[32m\u001b[1m   Installed\u001b[22m\u001b[39m HTTP ───────────────────────── v1.9.4\n",
      "\u001b[32m\u001b[1m   Installed\u001b[22m\u001b[39m IntelOpenMP_jll ────────────── v2023.1.0+0\n",
      "\u001b[32m\u001b[1m   Installed\u001b[22m\u001b[39m Libgpg_error_jll ───────────── v1.42.0+0\n",
      "\u001b[32m\u001b[1m   Installed\u001b[22m\u001b[39m Xorg_libxkbfile_jll ────────── v1.1.0+4\n",
      "\u001b[32m\u001b[1m   Installed\u001b[22m\u001b[39m Xorg_libXinerama_jll ───────── v1.1.4+4\n",
      "\u001b[32m\u001b[1m   Installed\u001b[22m\u001b[39m Xorg_libXau_jll ────────────── v1.0.9+4\n",
      "\u001b[32m\u001b[1m   Installed\u001b[22m\u001b[39m Missings ───────────────────── v1.1.0\n",
      "\u001b[32m\u001b[1m   Installed\u001b[22m\u001b[39m Distances ──────────────────── v0.10.8\n",
      "\u001b[32m\u001b[1m   Installed\u001b[22m\u001b[39m FFMPEG ─────────────────────── v0.4.1\n",
      "\u001b[32m\u001b[1m   Installed\u001b[22m\u001b[39m Xorg_xcb_util_keysyms_jll ──── v0.4.0+1\n",
      "\u001b[32m\u001b[1m   Installed\u001b[22m\u001b[39m Showoff ────────────────────── v1.0.3\n",
      "\u001b[32m\u001b[1m   Installed\u001b[22m\u001b[39m Qt5Base_jll ────────────────── v5.15.3+2\n",
      "\u001b[32m\u001b[1m   Installed\u001b[22m\u001b[39m SpecialFunctions ───────────── v2.2.0\n",
      "\u001b[32m\u001b[1m   Installed\u001b[22m\u001b[39m xkbcommon_jll ──────────────── v1.4.1+0\n",
      "\u001b[32m\u001b[1m   Installed\u001b[22m\u001b[39m Bzip2_jll ──────────────────── v1.0.8+0\n",
      "\u001b[32m\u001b[1m   Installed\u001b[22m\u001b[39m SimpleBufferStream ─────────── v1.1.0\n",
      "\u001b[32m\u001b[1m   Installed\u001b[22m\u001b[39m Pipe ───────────────────────── v1.3.0\n",
      "\u001b[32m\u001b[1m   Installed\u001b[22m\u001b[39m ColorSchemes ───────────────── v3.21.0\n",
      "\u001b[32m\u001b[1m   Installed\u001b[22m\u001b[39m Clustering ─────────────────── v0.15.2\n",
      "\u001b[32m\u001b[1m   Installed\u001b[22m\u001b[39m IrrationalConstants ────────── v0.2.2\n",
      "\u001b[32m\u001b[1m   Installed\u001b[22m\u001b[39m SentinelArrays ─────────────── v1.3.18\n",
      "\u001b[32m\u001b[1m   Installed\u001b[22m\u001b[39m HarfBuzz_jll ───────────────── v2.8.1+1\n",
      "\u001b[32m\u001b[1m   Installed\u001b[22m\u001b[39m LZO_jll ────────────────────── v2.10.1+0\n",
      "\u001b[32m\u001b[1m   Installed\u001b[22m\u001b[39m PlotThemes ─────────────────── v3.1.0\n",
      "\u001b[32m\u001b[1m   Installed\u001b[22m\u001b[39m StaticArraysCore ───────────── v1.4.0\n",
      "\u001b[32m\u001b[1m   Installed\u001b[22m\u001b[39m NaNMath ────────────────────── v1.0.2\n",
      "\u001b[32m\u001b[1m   Installed\u001b[22m\u001b[39m fzf_jll ────────────────────── v0.29.0+0\n",
      "\u001b[32m\u001b[1m   Installed\u001b[22m\u001b[39m TranscodingStreams ─────────── v0.9.13\n",
      "\u001b[32m\u001b[1m   Installed\u001b[22m\u001b[39m FriBidi_jll ────────────────── v1.0.10+0\n",
      "\u001b[32m\u001b[1m   Installed\u001b[22m\u001b[39m GLFW_jll ───────────────────── v3.3.8+0\n",
      "\u001b[32m\u001b[1m   Installed\u001b[22m\u001b[39m UnicodeFun ─────────────────── v0.4.1\n",
      "\u001b[32m\u001b[1m   Installed\u001b[22m\u001b[39m Rmath_jll ──────────────────── v0.4.0+0\n",
      "\u001b[32m\u001b[1m   Installed\u001b[22m\u001b[39m x264_jll ───────────────────── v2021.5.5+0\n",
      "\u001b[32m\u001b[1m   Installed\u001b[22m\u001b[39m Ratios ─────────────────────── v0.4.4\n",
      "\u001b[32m\u001b[1m   Installed\u001b[22m\u001b[39m Colors ─────────────────────── v0.12.10\n",
      "\u001b[32m\u001b[1m   Installed\u001b[22m\u001b[39m FreeType2_jll ──────────────── v2.10.4+0\n",
      "\u001b[32m\u001b[1m   Installed\u001b[22m\u001b[39m JLFzf ──────────────────────── v0.1.5\n",
      "\u001b[32m\u001b[1m   Installed\u001b[22m\u001b[39m DataStructures ─────────────── v0.18.13\n",
      "\u001b[32m\u001b[1m   Installed\u001b[22m\u001b[39m StatsAPI ───────────────────── v1.6.0\n",
      "\u001b[32m\u001b[1m   Installed\u001b[22m\u001b[39m CodecZlib ──────────────────── v0.7.1\n",
      "\u001b[32m\u001b[1m   Installed\u001b[22m\u001b[39m Compat ─────────────────────── v4.6.1\n",
      "\u001b[32m\u001b[1m   Installed\u001b[22m\u001b[39m StatsBase ──────────────────── v0.33.21\n",
      "\u001b[32m\u001b[1m   Installed\u001b[22m\u001b[39m Xorg_libxcb_jll ────────────── v1.13.0+3\n",
      "\u001b[32m\u001b[1m   Installed\u001b[22m\u001b[39m libpng_jll ─────────────────── v1.6.38+0\n",
      "\u001b[32m\u001b[1m   Installed\u001b[22m\u001b[39m libaom_jll ─────────────────── v3.4.0+0\n",
      "\u001b[32m\u001b[1m   Installed\u001b[22m\u001b[39m GR ─────────────────────────── v0.72.4\n",
      "\u001b[32m\u001b[1m   Installed\u001b[22m\u001b[39m StatsPlots ─────────────────── v0.15.5\n",
      "\u001b[32m\u001b[1m   Installed\u001b[22m\u001b[39m ColorTypes ─────────────────── v0.11.4\n",
      "\u001b[32m\u001b[1m   Installed\u001b[22m\u001b[39m Xorg_libXext_jll ───────────── v1.3.4+4\n",
      "\u001b[32m\u001b[1m   Installed\u001b[22m\u001b[39m Scratch ────────────────────── v1.2.0\n",
      "\u001b[32m\u001b[1m   Installed\u001b[22m\u001b[39m TensorCore ─────────────────── v0.1.1\n",
      "\u001b[32m\u001b[1m   Installed\u001b[22m\u001b[39m Zstd_jll ───────────────────── v1.5.5+0\n",
      "\u001b[32m\u001b[1m   Installed\u001b[22m\u001b[39m Plots ──────────────────────── v1.38.11\n",
      "\u001b[32m\u001b[1m   Installed\u001b[22m\u001b[39m Expat_jll ──────────────────── v2.4.8+0\n",
      "\u001b[32m\u001b[1m   Installed\u001b[22m\u001b[39m MKL_jll ────────────────────── v2022.2.0+0\n",
      "\u001b[32m\u001b[1m   Installed\u001b[22m\u001b[39m Libtiff_jll ────────────────── v4.4.0+0\n",
      "\u001b[32m\u001b[1m   Installed\u001b[22m\u001b[39m ColorVectorSpace ───────────── v0.9.10\n",
      "\u001b[32m\u001b[1m   Installed\u001b[22m\u001b[39m TableTraits ────────────────── v1.0.1\n",
      "\u001b[32m\u001b[1m   Installed\u001b[22m\u001b[39m AbstractFFTs ───────────────── v1.3.1\n",
      "\u001b[32m\u001b[1m   Installed\u001b[22m\u001b[39m DataValueInterfaces ────────── v1.0.0\n",
      "\u001b[32m\u001b[1m   Installed\u001b[22m\u001b[39m Libffi_jll ─────────────────── v3.2.2+1\n",
      "\u001b[32m\u001b[1m   Installed\u001b[22m\u001b[39m KernelDensity ──────────────── v0.6.7\n",
      "\u001b[32m\u001b[1m   Installed\u001b[22m\u001b[39m Ogg_jll ────────────────────── v1.3.5+1\n",
      "\u001b[32m\u001b[1m   Installed\u001b[22m\u001b[39m OrderedCollections ─────────── v1.6.0\n",
      "\u001b[32m\u001b[1m   Installed\u001b[22m\u001b[39m Xorg_libXrender_jll ────────── v0.9.10+4\n",
      "\u001b[32m\u001b[1m   Installed\u001b[22m\u001b[39m ChainRulesCore ─────────────── v1.16.0\n",
      "\u001b[32m\u001b[1m   Installed\u001b[22m\u001b[39m XSLT_jll ───────────────────── v1.1.34+0\n",
      "\u001b[32m\u001b[1m   Installed\u001b[22m\u001b[39m Xorg_libXi_jll ─────────────── v1.7.10+4\n",
      "\u001b[32m\u001b[1m   Installed\u001b[22m\u001b[39m Reexport ───────────────────── v1.2.2\n",
      "\u001b[32m\u001b[1m   Installed\u001b[22m\u001b[39m OpenSpecFun_jll ────────────── v0.5.5+0\n",
      "\u001b[32m\u001b[1m   Installed\u001b[22m\u001b[39m FFTW_jll ───────────────────── v3.3.10+0\n",
      "\u001b[32m\u001b[1m   Installed\u001b[22m\u001b[39m LogExpFunctions ────────────── v0.3.23\n",
      "\u001b[32m\u001b[1m   Installed\u001b[22m\u001b[39m MacroTools ─────────────────── v0.5.10\n",
      "\u001b[32m\u001b[1m   Installed\u001b[22m\u001b[39m Xorg_libXcursor_jll ────────── v1.2.0+4\n",
      "\u001b[32m\u001b[1m   Installed\u001b[22m\u001b[39m InverseFunctions ───────────── v0.1.9\n",
      "\u001b[32m\u001b[1m   Installed\u001b[22m\u001b[39m Libuuid_jll ────────────────── v2.36.0+0\n",
      "\u001b[32m\u001b[1m   Installed\u001b[22m\u001b[39m Wayland_protocols_jll ──────── v1.25.0+0\n",
      "\u001b[32m\u001b[1m   Installed\u001b[22m\u001b[39m Xorg_xcb_util_renderutil_jll ─ v0.3.9+1\n",
      "\u001b[32m\u001b[1m   Installed\u001b[22m\u001b[39m Widgets ────────────────────── v0.6.6\n",
      "\u001b[32m\u001b[1m   Installed\u001b[22m\u001b[39m Adapt ──────────────────────── v3.6.2\n",
      "\u001b[32m\u001b[1m   Installed\u001b[22m\u001b[39m MultivariateStats ──────────── v0.10.2\n",
      "\u001b[32m\u001b[1m   Installed\u001b[22m\u001b[39m DocStringExtensions ────────── v0.9.3\n",
      "\u001b[32m\u001b[1m   Installed\u001b[22m\u001b[39m Graphite2_jll ──────────────── v1.3.14+0\n",
      "\u001b[32m\u001b[1m   Installed\u001b[22m\u001b[39m libass_jll ─────────────────── v0.15.1+0\n",
      "\u001b[32m\u001b[1m   Installed\u001b[22m\u001b[39m XML2_jll ───────────────────── v2.10.3+0\n",
      "\u001b[32m\u001b[1m   Installed\u001b[22m\u001b[39m Rmath ──────────────────────── v0.7.1\n",
      "\u001b[32m\u001b[1m   Installed\u001b[22m\u001b[39m Pixman_jll ─────────────────── v0.40.1+0\n",
      "\u001b[32m\u001b[1m   Installed\u001b[22m\u001b[39m DualNumbers ────────────────── v0.6.8\n",
      "\u001b[32m\u001b[1m   Installed\u001b[22m\u001b[39m Gettext_jll ────────────────── v0.21.0+0\n",
      "\u001b[32m\u001b[1m   Installed\u001b[22m\u001b[39m Wayland_jll ────────────────── v1.21.0+0\n",
      "\u001b[32m\u001b[1m   Installed\u001b[22m\u001b[39m Arpack_jll ─────────────────── v3.5.1+1\n",
      "\u001b[32m\u001b[1m   Installed\u001b[22m\u001b[39m Latexify ───────────────────── v0.16.0\n",
      "\u001b[32m\u001b[1m   Installed\u001b[22m\u001b[39m Xorg_xtrans_jll ────────────── v1.4.0+3\n",
      "\u001b[32m\u001b[1m   Installed\u001b[22m\u001b[39m OpenSSL_jll ────────────────── v1.1.20+0\n",
      "\u001b[32m\u001b[1m   Installed\u001b[22m\u001b[39m BitFlags ───────────────────── v0.1.7\n",
      "\u001b[32m\u001b[1m   Installed\u001b[22m\u001b[39m FFMPEG_jll ─────────────────── v4.4.2+2\n",
      "\u001b[32m\u001b[1m   Installed\u001b[22m\u001b[39m Libgcrypt_jll ──────────────── v1.8.7+0\n",
      "\u001b[32m\u001b[1m   Installed\u001b[22m\u001b[39m Xorg_xkeyboard_config_jll ──── v2.27.0+4\n",
      "\u001b[32m\u001b[1m   Installed\u001b[22m\u001b[39m DataAPI ────────────────────── v1.15.0\n",
      "\u001b[32m\u001b[1m   Installed\u001b[22m\u001b[39m Xorg_libXrandr_jll ─────────── v1.5.2+4\n",
      "\u001b[32m\u001b[1m   Installed\u001b[22m\u001b[39m FixedPointNumbers ──────────── v0.8.4\n",
      "\u001b[32m\u001b[1m   Installed\u001b[22m\u001b[39m Tables ─────────────────────── v1.10.1\n",
      "\u001b[32m\u001b[1m   Installed\u001b[22m\u001b[39m RecipesBase ────────────────── v1.3.4\n",
      "\u001b[32m\u001b[1m   Installed\u001b[22m\u001b[39m TableOperations ────────────── v1.2.0\n",
      "\u001b[32m\u001b[1m   Installed\u001b[22m\u001b[39m Xorg_libXfixes_jll ─────────── v5.0.3+4\n",
      "\u001b[32m\u001b[1m   Installed\u001b[22m\u001b[39m LAME_jll ───────────────────── v3.100.1+0\n",
      "\u001b[32m\u001b[1m   Installed\u001b[22m\u001b[39m Libiconv_jll ───────────────── v1.16.1+2\n",
      "\u001b[32m\u001b[1m   Installed\u001b[22m\u001b[39m IteratorInterfaceExtensions ── v1.0.0\n",
      "\u001b[32m\u001b[1m   Installed\u001b[22m\u001b[39m LaTeXStrings ───────────────── v1.3.0\n",
      "\u001b[32m\u001b[1m   Installed\u001b[22m\u001b[39m URIs ───────────────────────── v1.4.2\n",
      "\u001b[32m\u001b[1m   Installed\u001b[22m\u001b[39m PrecompileTools ────────────── v1.1.1\n",
      "\u001b[32m\u001b[1m   Installed\u001b[22m\u001b[39m Arpack ─────────────────────── v0.5.4\n",
      "\u001b[32m\u001b[1m   Installed\u001b[22m\u001b[39m Interpolations ─────────────── v0.14.7\n",
      "\u001b[32m\u001b[1m   Installed\u001b[22m\u001b[39m Glib_jll ───────────────────── v2.74.0+2\n",
      "\u001b[32m\u001b[1m   Installed\u001b[22m\u001b[39m Libglvnd_jll ───────────────── v1.6.0+0\n",
      "\u001b[32m\u001b[1m   Installed\u001b[22m\u001b[39m libvorbis_jll ──────────────── v1.3.7+1\n",
      "\u001b[32m\u001b[1m   Installed\u001b[22m\u001b[39m AxisAlgorithms ─────────────── v1.0.1\n",
      "\u001b[32m\u001b[1m   Installed\u001b[22m\u001b[39m QuadGK ─────────────────────── v2.8.2\n",
      "\u001b[32m\u001b[1m   Installed\u001b[22m\u001b[39m FillArrays ─────────────────── v1.0.0\n",
      "\u001b[32m\u001b[1m   Installed\u001b[22m\u001b[39m Requires ───────────────────── v1.3.0\n",
      "\u001b[32m\u001b[1m   Installed\u001b[22m\u001b[39m Xorg_libX11_jll ────────────── v1.6.9+4\n",
      "\u001b[32m\u001b[1m   Installed\u001b[22m\u001b[39m Xorg_libXdmcp_jll ──────────── v1.1.3+4\n",
      "\u001b[32m\u001b[1m   Installed\u001b[22m\u001b[39m Observables ────────────────── v0.5.4\n",
      "\u001b[32m\u001b[1m   Installed\u001b[22m\u001b[39m SortingAlgorithms ──────────── v1.1.0\n",
      "\u001b[32m\u001b[1m   Installed\u001b[22m\u001b[39m WoodburyMatrices ───────────── v0.5.5\n",
      "\u001b[32m\u001b[1m   Installed\u001b[22m\u001b[39m Unzip ──────────────────────── v0.2.0\n",
      "\u001b[32m\u001b[1m   Installed\u001b[22m\u001b[39m Distributions ──────────────── v0.25.90\n",
      "\u001b[32m\u001b[1m   Installed\u001b[22m\u001b[39m ChangesOfVariables ─────────── v0.1.7\n",
      "\u001b[32m\u001b[1m   Installed\u001b[22m\u001b[39m DensityInterface ───────────── v0.4.0\n",
      "\u001b[32m\u001b[1m    Updating\u001b[22m\u001b[39m `/srv/julia-depot/environments/v1.8/Project.toml`\n",
      " \u001b[90m [f3b207a7] \u001b[39m\u001b[92m+ StatsPlots v0.15.5\u001b[39m\n",
      "\u001b[32m\u001b[1m    Updating\u001b[22m\u001b[39m `/srv/julia-depot/environments/v1.8/Manifest.toml`\n",
      " \u001b[90m [621f4979] \u001b[39m\u001b[92m+ AbstractFFTs v1.3.1\u001b[39m\n",
      " \u001b[90m [79e6a3ab] \u001b[39m\u001b[92m+ Adapt v3.6.2\u001b[39m\n",
      " \u001b[90m [7d9fca2a] \u001b[39m\u001b[92m+ Arpack v0.5.4\u001b[39m\n",
      " \u001b[90m [13072b0f] \u001b[39m\u001b[92m+ AxisAlgorithms v1.0.1\u001b[39m\n",
      " \u001b[90m [d1d4a3ce] \u001b[39m\u001b[92m+ BitFlags v0.1.7\u001b[39m\n",
      " \u001b[90m [49dc2e85] \u001b[39m\u001b[92m+ Calculus v0.5.1\u001b[39m\n",
      " \u001b[90m [d360d2e6] \u001b[39m\u001b[92m+ ChainRulesCore v1.16.0\u001b[39m\n",
      " \u001b[90m [9e997f8a] \u001b[39m\u001b[92m+ ChangesOfVariables v0.1.7\u001b[39m\n",
      " \u001b[90m [aaaa29a8] \u001b[39m\u001b[92m+ Clustering v0.15.2\u001b[39m\n",
      " \u001b[90m [944b1d66] \u001b[39m\u001b[92m+ CodecZlib v0.7.1\u001b[39m\n",
      " \u001b[90m [35d6a980] \u001b[39m\u001b[92m+ ColorSchemes v3.21.0\u001b[39m\n",
      " \u001b[90m [3da002f7] \u001b[39m\u001b[92m+ ColorTypes v0.11.4\u001b[39m\n",
      " \u001b[90m [c3611d14] \u001b[39m\u001b[92m+ ColorVectorSpace v0.9.10\u001b[39m\n",
      " \u001b[90m [5ae59095] \u001b[39m\u001b[92m+ Colors v0.12.10\u001b[39m\n",
      " \u001b[90m [34da2185] \u001b[39m\u001b[92m+ Compat v4.6.1\u001b[39m\n",
      " \u001b[90m [f0e56b4a] \u001b[39m\u001b[92m+ ConcurrentUtilities v2.2.0\u001b[39m\n",
      " \u001b[90m [d38c429a] \u001b[39m\u001b[92m+ Contour v0.6.2\u001b[39m\n",
      " \u001b[90m [9a962f9c] \u001b[39m\u001b[92m+ DataAPI v1.15.0\u001b[39m\n",
      " \u001b[90m [864edb3b] \u001b[39m\u001b[92m+ DataStructures v0.18.13\u001b[39m\n",
      " \u001b[90m [e2d170a0] \u001b[39m\u001b[92m+ DataValueInterfaces v1.0.0\u001b[39m\n",
      " \u001b[90m [b429d917] \u001b[39m\u001b[92m+ DensityInterface v0.4.0\u001b[39m\n",
      " \u001b[90m [b4f34e82] \u001b[39m\u001b[92m+ Distances v0.10.8\u001b[39m\n",
      " \u001b[90m [31c24e10] \u001b[39m\u001b[92m+ Distributions v0.25.90\u001b[39m\n",
      " \u001b[90m [ffbed154] \u001b[39m\u001b[92m+ DocStringExtensions v0.9.3\u001b[39m\n",
      " \u001b[90m [fa6b7ba4] \u001b[39m\u001b[92m+ DualNumbers v0.6.8\u001b[39m\n",
      " \u001b[90m [c87230d0] \u001b[39m\u001b[92m+ FFMPEG v0.4.1\u001b[39m\n",
      " \u001b[90m [7a1cc6ca] \u001b[39m\u001b[92m+ FFTW v1.6.0\u001b[39m\n",
      " \u001b[90m [1a297f60] \u001b[39m\u001b[92m+ FillArrays v1.0.0\u001b[39m\n",
      " \u001b[90m [53c48c17] \u001b[39m\u001b[92m+ FixedPointNumbers v0.8.4\u001b[39m\n",
      " \u001b[90m [59287772] \u001b[39m\u001b[92m+ Formatting v0.4.2\u001b[39m\n",
      " \u001b[90m [28b8d3ca] \u001b[39m\u001b[92m+ GR v0.72.4\u001b[39m\n",
      " \u001b[90m [42e2da0e] \u001b[39m\u001b[92m+ Grisu v1.0.2\u001b[39m\n",
      " \u001b[90m [cd3eb016] \u001b[39m\u001b[92m+ HTTP v1.9.4\u001b[39m\n",
      " \u001b[90m [34004b35] \u001b[39m\u001b[92m+ HypergeometricFunctions v0.3.16\u001b[39m\n",
      " \u001b[90m [a98d9a8b] \u001b[39m\u001b[92m+ Interpolations v0.14.7\u001b[39m\n",
      " \u001b[90m [3587e190] \u001b[39m\u001b[92m+ InverseFunctions v0.1.9\u001b[39m\n",
      " \u001b[90m [92d709cd] \u001b[39m\u001b[92m+ IrrationalConstants v0.2.2\u001b[39m\n",
      " \u001b[90m [82899510] \u001b[39m\u001b[92m+ IteratorInterfaceExtensions v1.0.0\u001b[39m\n",
      " \u001b[90m [1019f520] \u001b[39m\u001b[92m+ JLFzf v0.1.5\u001b[39m\n",
      " \u001b[90m [5ab0869b] \u001b[39m\u001b[92m+ KernelDensity v0.6.7\u001b[39m\n",
      " \u001b[90m [b964fa9f] \u001b[39m\u001b[92m+ LaTeXStrings v1.3.0\u001b[39m\n",
      " \u001b[90m [23fbe1c1] \u001b[39m\u001b[92m+ Latexify v0.16.0\u001b[39m\n",
      " \u001b[90m [2ab3a3ac] \u001b[39m\u001b[92m+ LogExpFunctions v0.3.23\u001b[39m\n",
      " \u001b[90m [e6f89c97] \u001b[39m\u001b[92m+ LoggingExtras v1.0.0\u001b[39m\n",
      " \u001b[90m [1914dd2f] \u001b[39m\u001b[92m+ MacroTools v0.5.10\u001b[39m\n",
      " \u001b[90m [442fdcdd] \u001b[39m\u001b[92m+ Measures v0.3.2\u001b[39m\n",
      " \u001b[90m [e1d29d7a] \u001b[39m\u001b[92m+ Missings v1.1.0\u001b[39m\n",
      " \u001b[90m [6f286f6a] \u001b[39m\u001b[92m+ MultivariateStats v0.10.2\u001b[39m\n",
      " \u001b[90m [77ba4419] \u001b[39m\u001b[92m+ NaNMath v1.0.2\u001b[39m\n",
      " \u001b[90m [b8a86587] \u001b[39m\u001b[92m+ NearestNeighbors v0.4.13\u001b[39m\n",
      " \u001b[90m [510215fc] \u001b[39m\u001b[92m+ Observables v0.5.4\u001b[39m\n",
      " \u001b[90m [6fe1bfb0] \u001b[39m\u001b[92m+ OffsetArrays v1.12.9\u001b[39m\n",
      " \u001b[90m [4d8831e6] \u001b[39m\u001b[92m+ OpenSSL v1.4.1\u001b[39m\n",
      " \u001b[90m [bac558e1] \u001b[39m\u001b[92m+ OrderedCollections v1.6.0\u001b[39m\n",
      " \u001b[90m [90014a1f] \u001b[39m\u001b[92m+ PDMats v0.11.17\u001b[39m\n",
      " \u001b[90m [b98c9c47] \u001b[39m\u001b[92m+ Pipe v1.3.0\u001b[39m\n",
      " \u001b[90m [ccf2f8ad] \u001b[39m\u001b[92m+ PlotThemes v3.1.0\u001b[39m\n",
      " \u001b[90m [995b91a9] \u001b[39m\u001b[92m+ PlotUtils v1.3.5\u001b[39m\n",
      " \u001b[90m [91a5bcdd] \u001b[39m\u001b[92m+ Plots v1.38.11\u001b[39m\n",
      " \u001b[90m [aea7be01] \u001b[39m\u001b[92m+ PrecompileTools v1.1.1\u001b[39m\n",
      " \u001b[90m [1fd47b50] \u001b[39m\u001b[92m+ QuadGK v2.8.2\u001b[39m\n",
      " \u001b[90m [c84ed2f1] \u001b[39m\u001b[92m+ Ratios v0.4.4\u001b[39m\n",
      " \u001b[90m [3cdcf5f2] \u001b[39m\u001b[92m+ RecipesBase v1.3.4\u001b[39m\n",
      " \u001b[90m [01d81517] \u001b[39m\u001b[92m+ RecipesPipeline v0.6.12\u001b[39m\n",
      " \u001b[90m [189a3867] \u001b[39m\u001b[92m+ Reexport v1.2.2\u001b[39m\n",
      " \u001b[90m [05181044] \u001b[39m\u001b[92m+ RelocatableFolders v1.0.0\u001b[39m\n",
      " \u001b[90m [ae029012] \u001b[39m\u001b[92m+ Requires v1.3.0\u001b[39m\n",
      " \u001b[90m [79098fc4] \u001b[39m\u001b[92m+ Rmath v0.7.1\u001b[39m\n",
      " \u001b[90m [6c6a2e73] \u001b[39m\u001b[92m+ Scratch v1.2.0\u001b[39m\n",
      " \u001b[90m [91c51154] \u001b[39m\u001b[92m+ SentinelArrays v1.3.18\u001b[39m\n",
      " \u001b[90m [992d4aef] \u001b[39m\u001b[92m+ Showoff v1.0.3\u001b[39m\n",
      " \u001b[90m [777ac1f9] \u001b[39m\u001b[92m+ SimpleBufferStream v1.1.0\u001b[39m\n",
      " \u001b[90m [a2af1166] \u001b[39m\u001b[92m+ SortingAlgorithms v1.1.0\u001b[39m\n",
      " \u001b[90m [276daf66] \u001b[39m\u001b[92m+ SpecialFunctions v2.2.0\u001b[39m\n",
      " \u001b[90m [90137ffa] \u001b[39m\u001b[92m+ StaticArrays v1.5.24\u001b[39m\n",
      " \u001b[90m [1e83bf80] \u001b[39m\u001b[92m+ StaticArraysCore v1.4.0\u001b[39m\n",
      " \u001b[90m [82ae8749] \u001b[39m\u001b[92m+ StatsAPI v1.6.0\u001b[39m\n",
      "\u001b[33m⌅\u001b[39m\u001b[90m [2913bbd2] \u001b[39m\u001b[92m+ StatsBase v0.33.21\u001b[39m\n",
      " \u001b[90m [4c63d2b9] \u001b[39m\u001b[92m+ StatsFuns v1.3.0\u001b[39m\n",
      " \u001b[90m [f3b207a7] \u001b[39m\u001b[92m+ StatsPlots v0.15.5\u001b[39m\n",
      " \u001b[90m [ab02a1b2] \u001b[39m\u001b[92m+ TableOperations v1.2.0\u001b[39m\n",
      " \u001b[90m [3783bdb8] \u001b[39m\u001b[92m+ TableTraits v1.0.1\u001b[39m\n",
      " \u001b[90m [bd369af6] \u001b[39m\u001b[92m+ Tables v1.10.1\u001b[39m\n",
      " \u001b[90m [62fd8b95] \u001b[39m\u001b[92m+ TensorCore v0.1.1\u001b[39m\n",
      " \u001b[90m [3bb67fe8] \u001b[39m\u001b[92m+ TranscodingStreams v0.9.13\u001b[39m\n",
      " \u001b[90m [5c2747f8] \u001b[39m\u001b[92m+ URIs v1.4.2\u001b[39m\n",
      " \u001b[90m [1cfade01] \u001b[39m\u001b[92m+ UnicodeFun v0.4.1\u001b[39m\n",
      " \u001b[90m [41fe7b60] \u001b[39m\u001b[92m+ Unzip v0.2.0\u001b[39m\n",
      " \u001b[90m [cc8bc4a8] \u001b[39m\u001b[92m+ Widgets v0.6.6\u001b[39m\n",
      " \u001b[90m [efce3f68] \u001b[39m\u001b[92m+ WoodburyMatrices v0.5.5\u001b[39m\n",
      "\u001b[33m⌅\u001b[39m\u001b[90m [68821587] \u001b[39m\u001b[92m+ Arpack_jll v3.5.1+1\u001b[39m\n",
      " \u001b[90m [6e34b625] \u001b[39m\u001b[92m+ Bzip2_jll v1.0.8+0\u001b[39m\n",
      " \u001b[90m [83423d85] \u001b[39m\u001b[92m+ Cairo_jll v1.16.1+1\u001b[39m\n",
      " \u001b[90m [2e619515] \u001b[39m\u001b[92m+ Expat_jll v2.4.8+0\u001b[39m\n",
      " \u001b[90m [b22a6f82] \u001b[39m\u001b[92m+ FFMPEG_jll v4.4.2+2\u001b[39m\n",
      " \u001b[90m [f5851436] \u001b[39m\u001b[92m+ FFTW_jll v3.3.10+0\u001b[39m\n",
      " \u001b[90m [a3f928ae] \u001b[39m\u001b[92m+ Fontconfig_jll v2.13.93+0\u001b[39m\n",
      " \u001b[90m [d7e528f0] \u001b[39m\u001b[92m+ FreeType2_jll v2.10.4+0\u001b[39m\n",
      " \u001b[90m [559328eb] \u001b[39m\u001b[92m+ FriBidi_jll v1.0.10+0\u001b[39m\n",
      " \u001b[90m [0656b61e] \u001b[39m\u001b[92m+ GLFW_jll v3.3.8+0\u001b[39m\n",
      " \u001b[90m [d2c73de3] \u001b[39m\u001b[92m+ GR_jll v0.72.4+0\u001b[39m\n",
      " \u001b[90m [78b55507] \u001b[39m\u001b[92m+ Gettext_jll v0.21.0+0\u001b[39m\n",
      " \u001b[90m [7746bdde] \u001b[39m\u001b[92m+ Glib_jll v2.74.0+2\u001b[39m\n",
      " \u001b[90m [3b182d85] \u001b[39m\u001b[92m+ Graphite2_jll v1.3.14+0\u001b[39m\n",
      " \u001b[90m [2e76f6c2] \u001b[39m\u001b[92m+ HarfBuzz_jll v2.8.1+1\u001b[39m\n",
      " \u001b[90m [1d5cc7b8] \u001b[39m\u001b[92m+ IntelOpenMP_jll v2023.1.0+0\u001b[39m\n",
      " \u001b[90m [aacddb02] \u001b[39m\u001b[92m+ JpegTurbo_jll v2.1.91+0\u001b[39m\n",
      " \u001b[90m [c1c5ebd0] \u001b[39m\u001b[92m+ LAME_jll v3.100.1+0\u001b[39m\n",
      " \u001b[90m [88015f11] \u001b[39m\u001b[92m+ LERC_jll v3.0.0+1\u001b[39m\n",
      " \u001b[90m [dd4b983a] \u001b[39m\u001b[92m+ LZO_jll v2.10.1+0\u001b[39m\n",
      "\u001b[33m⌅\u001b[39m\u001b[90m [e9f186c6] \u001b[39m\u001b[92m+ Libffi_jll v3.2.2+1\u001b[39m\n",
      " \u001b[90m [d4300ac3] \u001b[39m\u001b[92m+ Libgcrypt_jll v1.8.7+0\u001b[39m\n",
      " \u001b[90m [7e76a0d4] \u001b[39m\u001b[92m+ Libglvnd_jll v1.6.0+0\u001b[39m\n",
      " \u001b[90m [7add5ba3] \u001b[39m\u001b[92m+ Libgpg_error_jll v1.42.0+0\u001b[39m\n",
      " \u001b[90m [94ce4f54] \u001b[39m\u001b[92m+ Libiconv_jll v1.16.1+2\u001b[39m\n",
      " \u001b[90m [4b2f31a3] \u001b[39m\u001b[92m+ Libmount_jll v2.35.0+0\u001b[39m\n",
      " \u001b[90m [89763e89] \u001b[39m\u001b[92m+ Libtiff_jll v4.4.0+0\u001b[39m\n",
      " \u001b[90m [38a345b3] \u001b[39m\u001b[92m+ Libuuid_jll v2.36.0+0\u001b[39m\n",
      "\u001b[33m⌅\u001b[39m\u001b[90m [856f044c] \u001b[39m\u001b[92m+ MKL_jll v2022.2.0+0\u001b[39m\n",
      " \u001b[90m [e7412a2a] \u001b[39m\u001b[92m+ Ogg_jll v1.3.5+1\u001b[39m\n",
      "\u001b[33m⌅\u001b[39m\u001b[90m [458c3c95] \u001b[39m\u001b[92m+ OpenSSL_jll v1.1.20+0\u001b[39m\n",
      " \u001b[90m [efe28fd5] \u001b[39m\u001b[92m+ OpenSpecFun_jll v0.5.5+0\u001b[39m\n",
      " \u001b[90m [91d4177d] \u001b[39m\u001b[92m+ Opus_jll v1.3.2+0\u001b[39m\n",
      " \u001b[90m [30392449] \u001b[39m\u001b[92m+ Pixman_jll v0.40.1+0\u001b[39m\n",
      " \u001b[90m [ea2cea3b] \u001b[39m\u001b[92m+ Qt5Base_jll v5.15.3+2\u001b[39m\n",
      " \u001b[90m [f50d1b31] \u001b[39m\u001b[92m+ Rmath_jll v0.4.0+0\u001b[39m\n",
      " \u001b[90m [a2964d1f] \u001b[39m\u001b[92m+ Wayland_jll v1.21.0+0\u001b[39m\n",
      " \u001b[90m [2381bf8a] \u001b[39m\u001b[92m+ Wayland_protocols_jll v1.25.0+0\u001b[39m\n",
      " \u001b[90m [02c8fc9c] \u001b[39m\u001b[92m+ XML2_jll v2.10.3+0\u001b[39m\n",
      " \u001b[90m [aed1982a] \u001b[39m\u001b[92m+ XSLT_jll v1.1.34+0\u001b[39m\n",
      " \u001b[90m [4f6342f7] \u001b[39m\u001b[92m+ Xorg_libX11_jll v1.6.9+4\u001b[39m\n",
      " \u001b[90m [0c0b7dd1] \u001b[39m\u001b[92m+ Xorg_libXau_jll v1.0.9+4\u001b[39m\n",
      " \u001b[90m [935fb764] \u001b[39m\u001b[92m+ Xorg_libXcursor_jll v1.2.0+4\u001b[39m\n",
      " \u001b[90m [a3789734] \u001b[39m\u001b[92m+ Xorg_libXdmcp_jll v1.1.3+4\u001b[39m\n",
      " \u001b[90m [1082639a] \u001b[39m\u001b[92m+ Xorg_libXext_jll v1.3.4+4\u001b[39m\n",
      " \u001b[90m [d091e8ba] \u001b[39m\u001b[92m+ Xorg_libXfixes_jll v5.0.3+4\u001b[39m\n",
      " \u001b[90m [a51aa0fd] \u001b[39m\u001b[92m+ Xorg_libXi_jll v1.7.10+4\u001b[39m\n",
      " \u001b[90m [d1454406] \u001b[39m\u001b[92m+ Xorg_libXinerama_jll v1.1.4+4\u001b[39m\n",
      " \u001b[90m [ec84b674] \u001b[39m\u001b[92m+ Xorg_libXrandr_jll v1.5.2+4\u001b[39m\n",
      " \u001b[90m [ea2f1a96] \u001b[39m\u001b[92m+ Xorg_libXrender_jll v0.9.10+4\u001b[39m\n",
      " \u001b[90m [14d82f49] \u001b[39m\u001b[92m+ Xorg_libpthread_stubs_jll v0.1.0+3\u001b[39m\n",
      " \u001b[90m [c7cfdc94] \u001b[39m\u001b[92m+ Xorg_libxcb_jll v1.13.0+3\u001b[39m\n",
      " \u001b[90m [cc61e674] \u001b[39m\u001b[92m+ Xorg_libxkbfile_jll v1.1.0+4\u001b[39m\n",
      " \u001b[90m [12413925] \u001b[39m\u001b[92m+ Xorg_xcb_util_image_jll v0.4.0+1\u001b[39m\n",
      " \u001b[90m [2def613f] \u001b[39m\u001b[92m+ Xorg_xcb_util_jll v0.4.0+1\u001b[39m\n",
      " \u001b[90m [975044d2] \u001b[39m\u001b[92m+ Xorg_xcb_util_keysyms_jll v0.4.0+1\u001b[39m\n",
      " \u001b[90m [0d47668e] \u001b[39m\u001b[92m+ Xorg_xcb_util_renderutil_jll v0.3.9+1\u001b[39m\n",
      " \u001b[90m [c22f9ab0] \u001b[39m\u001b[92m+ Xorg_xcb_util_wm_jll v0.4.1+1\u001b[39m\n",
      " \u001b[90m [35661453] \u001b[39m\u001b[92m+ Xorg_xkbcomp_jll v1.4.2+4\u001b[39m\n",
      " \u001b[90m [33bec58e] \u001b[39m\u001b[92m+ Xorg_xkeyboard_config_jll v2.27.0+4\u001b[39m\n",
      " \u001b[90m [c5fb5394] \u001b[39m\u001b[92m+ Xorg_xtrans_jll v1.4.0+3\u001b[39m\n",
      " \u001b[90m [3161d3a3] \u001b[39m\u001b[92m+ Zstd_jll v1.5.5+0\u001b[39m\n",
      "\u001b[33m⌅\u001b[39m\u001b[90m [214eeab7] \u001b[39m\u001b[92m+ fzf_jll v0.29.0+0\u001b[39m\n",
      " \u001b[90m [a4ae2306] \u001b[39m\u001b[92m+ libaom_jll v3.4.0+0\u001b[39m\n",
      " \u001b[90m [0ac62f75] \u001b[39m\u001b[92m+ libass_jll v0.15.1+0\u001b[39m\n",
      " \u001b[90m [f638f0a6] \u001b[39m\u001b[92m+ libfdk_aac_jll v2.0.2+0\u001b[39m\n",
      " \u001b[90m [b53b4c65] \u001b[39m\u001b[92m+ libpng_jll v1.6.38+0\u001b[39m\n",
      " \u001b[90m [f27f6e37] \u001b[39m\u001b[92m+ libvorbis_jll v1.3.7+1\u001b[39m\n",
      " \u001b[90m [1270edf5] \u001b[39m\u001b[92m+ x264_jll v2021.5.5+0\u001b[39m\n",
      " \u001b[90m [dfaa095f] \u001b[39m\u001b[92m+ x265_jll v3.5.0+0\u001b[39m\n",
      " \u001b[90m [d8fb68d0] \u001b[39m\u001b[92m+ xkbcommon_jll v1.4.1+0\u001b[39m\n",
      " \u001b[90m [8bb1440f] \u001b[39m\u001b[92m+ DelimitedFiles\u001b[39m\n",
      " \u001b[90m [8ba89e20] \u001b[39m\u001b[92m+ Distributed\u001b[39m\n",
      " \u001b[90m [4af54fe1] \u001b[39m\u001b[92m+ LazyArtifacts\u001b[39m\n",
      " \u001b[90m [37e2e46d] \u001b[39m\u001b[92m+ LinearAlgebra\u001b[39m\n",
      " \u001b[90m [1a1011a3] \u001b[39m\u001b[92m+ SharedArrays\u001b[39m\n",
      " \u001b[90m [2f01184e] \u001b[39m\u001b[92m+ SparseArrays\u001b[39m\n",
      " \u001b[90m [10745b16] \u001b[39m\u001b[92m+ Statistics\u001b[39m\n",
      " \u001b[90m [4607b0f0] \u001b[39m\u001b[92m+ SuiteSparse\u001b[39m\n",
      " \u001b[90m [e66e0078] \u001b[39m\u001b[92m+ CompilerSupportLibraries_jll v0.5.2+0\u001b[39m\n",
      " \u001b[90m [4536629a] \u001b[39m\u001b[92m+ OpenBLAS_jll v0.3.20+0\u001b[39m\n",
      " \u001b[90m [05823500] \u001b[39m\u001b[92m+ OpenLibm_jll v0.8.1+0\u001b[39m\n",
      " \u001b[90m [efcefdf7] \u001b[39m\u001b[92m+ PCRE2_jll v10.40.0+0\u001b[39m\n",
      " \u001b[90m [8e850b90] \u001b[39m\u001b[92m+ libblastrampoline_jll v5.1.1+0\u001b[39m\n",
      "\u001b[36m\u001b[1m        Info\u001b[22m\u001b[39m Packages marked with \u001b[33m⌅\u001b[39m have new versions available but cannot be upgraded. To see why use `status --outdated -m`\n",
      "\u001b[32m\u001b[1mPrecompiling\u001b[22m\u001b[39m project...\n",
      "\u001b[32m  ✓ \u001b[39m\u001b[90mIteratorInterfaceExtensions\u001b[39m\n",
      "\u001b[32m  ✓ \u001b[39m\u001b[90mStatsAPI\u001b[39m\n",
      "\u001b[32m  ✓ \u001b[39m\u001b[90mTensorCore\u001b[39m\n",
      "\u001b[32m  ✓ \u001b[39m\u001b[90mLaTeXStrings\u001b[39m\n",
      "\u001b[32m  ✓ \u001b[39m\u001b[90mChangesOfVariables\u001b[39m\n",
      "\u001b[32m  ✓ \u001b[39m\u001b[90mContour\u001b[39m\n",
      "\u001b[32m  ✓ \u001b[39m\u001b[90mCalculus\u001b[39m\n",
      "\u001b[32m  ✓ \u001b[39m\u001b[90mPipe\u001b[39m\n",
      "\u001b[32m  ✓ \u001b[39m\u001b[90mPDMats\u001b[39m\n",
      "\u001b[32m  ✓ \u001b[39m\u001b[90mOpenLibm_jll\u001b[39m\n",
      "\u001b[32m  ✓ \u001b[39m\u001b[90mMeasures\u001b[39m\n",
      "\u001b[32m  ✓ \u001b[39m\u001b[90mSentinelArrays\u001b[39m\n",
      "\u001b[32m  ✓ \u001b[39m\u001b[90mConcurrentUtilities\u001b[39m\n",
      "\u001b[32m  ✓ \u001b[39m\u001b[90mWoodburyMatrices\u001b[39m\n",
      "\u001b[32m  ✓ \u001b[39m\u001b[90mCompilerSupportLibraries_jll\u001b[39m\n",
      "\u001b[32m  ✓ \u001b[39m\u001b[90mInverseFunctions\u001b[39m\n",
      "\u001b[32m  ✓ \u001b[39m\u001b[90mCompat\u001b[39m\n",
      "\u001b[32m  ✓ \u001b[39m\u001b[90mOrderedCollections\u001b[39m\n",
      "\u001b[32m  ✓ \u001b[39m\u001b[90mObservables\u001b[39m\n",
      "\u001b[32m  ✓ \u001b[39m\u001b[90mFillArrays\u001b[39m\n",
      "\u001b[32m  ✓ \u001b[39m\u001b[90mRequires\u001b[39m\n",
      "\u001b[32m  ✓ \u001b[39m\u001b[90mDataValueInterfaces\u001b[39m\n",
      "\u001b[32m  ✓ \u001b[39m\u001b[90mGrisu\u001b[39m\n",
      "\u001b[32m  ✓ \u001b[39m\u001b[90mUnzip\u001b[39m\n",
      "\u001b[32m  ✓ \u001b[39m\u001b[90mReexport\u001b[39m\n",
      "\u001b[32m  ✓ \u001b[39m\u001b[90mSimpleBufferStream\u001b[39m\n",
      "\u001b[32m  ✓ \u001b[39m\u001b[90mFixedPointNumbers\u001b[39m\n",
      "\u001b[32m  ✓ \u001b[39m\u001b[90mFormatting\u001b[39m\n",
      "\u001b[32m  ✓ \u001b[39m\u001b[90mDocStringExtensions\u001b[39m\n",
      "\u001b[32m  ✓ \u001b[39m\u001b[90mPCRE2_jll\u001b[39m\n",
      "\u001b[32m  ✓ \u001b[39m\u001b[90mIrrationalConstants\u001b[39m\n",
      "\u001b[32m  ✓ \u001b[39m\u001b[90mURIs\u001b[39m\n",
      "\u001b[32m  ✓ \u001b[39m\u001b[90mUnicodeFun\u001b[39m\n",
      "\u001b[32m  ✓ \u001b[39m\u001b[90mDataAPI\u001b[39m\n",
      "\u001b[32m  ✓ \u001b[39m\u001b[90mMacroTools\u001b[39m\n",
      "\u001b[32m  ✓ \u001b[39m\u001b[90mPrecompileTools\u001b[39m\n",
      "\u001b[32m  ✓ \u001b[39m\u001b[90mScratch\u001b[39m\n",
      "\u001b[32m  ✓ \u001b[39m\u001b[90mBitFlags\u001b[39m\n",
      "\u001b[32m  ✓ \u001b[39m\u001b[90mStaticArraysCore\u001b[39m\n",
      "\u001b[32m  ✓ \u001b[39m\u001b[90mTranscodingStreams\u001b[39m\n",
      "\u001b[32m  ✓ \u001b[39m\u001b[90mOpenSSL_jll\u001b[39m\n",
      "\u001b[32m  ✓ \u001b[39m\u001b[90mLoggingExtras\u001b[39m\n",
      "\u001b[32m  ✓ \u001b[39m\u001b[90mLibmount_jll\u001b[39m\n",
      "\u001b[32m  ✓ \u001b[39m\u001b[90mGraphite2_jll\u001b[39m\n",
      "\u001b[32m  ✓ \u001b[39m\u001b[90mBzip2_jll\u001b[39m\n",
      "\u001b[32m  ✓ \u001b[39m\u001b[90mXorg_libXau_jll\u001b[39m\n",
      "\u001b[32m  ✓ \u001b[39m\u001b[90mRmath_jll\u001b[39m\n",
      "\u001b[32m  ✓ \u001b[39m\u001b[90mlibpng_jll\u001b[39m\n",
      "\u001b[32m  ✓ \u001b[39m\u001b[90mIntelOpenMP_jll\u001b[39m\n",
      "\u001b[32m  ✓ \u001b[39m\u001b[90mPixman_jll\u001b[39m\n",
      "\u001b[32m  ✓ \u001b[39m\u001b[90mlibfdk_aac_jll\u001b[39m\n",
      "\u001b[32m  ✓ \u001b[39m\u001b[90mLERC_jll\u001b[39m\n",
      "\u001b[32m  ✓ \u001b[39m\u001b[90mLAME_jll\u001b[39m\n",
      "\u001b[32m  ✓ \u001b[39m\u001b[90mfzf_jll\u001b[39m\n",
      "\u001b[32m  ✓ \u001b[39m\u001b[90mJpegTurbo_jll\u001b[39m\n",
      "\u001b[32m  ✓ \u001b[39m\u001b[90mx265_jll\u001b[39m\n",
      "\u001b[32m  ✓ \u001b[39m\u001b[90mOgg_jll\u001b[39m\n",
      "\u001b[32m  ✓ \u001b[39m\u001b[90mXorg_libXdmcp_jll\u001b[39m\n",
      "\u001b[32m  ✓ \u001b[39m\u001b[90mx264_jll\u001b[39m\n",
      "\u001b[32m  ✓ \u001b[39m\u001b[90mlibaom_jll\u001b[39m\n",
      "\u001b[32m  ✓ \u001b[39m\u001b[90mZstd_jll\u001b[39m\n",
      "\u001b[32m  ✓ \u001b[39m\u001b[90mLZO_jll\u001b[39m\n",
      "\u001b[32m  ✓ \u001b[39m\u001b[90mOpus_jll\u001b[39m\n",
      "\u001b[32m  ✓ \u001b[39m\u001b[90mXorg_xtrans_jll\u001b[39m\n",
      "\u001b[32m  ✓ \u001b[39m\u001b[90mLibiconv_jll\u001b[39m\n",
      "\u001b[32m  ✓ \u001b[39m\u001b[90mLibffi_jll\u001b[39m\n",
      "\u001b[32m  ✓ \u001b[39m\u001b[90mWayland_protocols_jll\u001b[39m\n",
      "\u001b[32m  ✓ \u001b[39m\u001b[90mExpat_jll\u001b[39m\n",
      "\u001b[32m  ✓ \u001b[39m\u001b[90mLibgpg_error_jll\u001b[39m\n",
      "\u001b[32m  ✓ \u001b[39m\u001b[90mXorg_libpthread_stubs_jll\u001b[39m\n",
      "\u001b[32m  ✓ \u001b[39m\u001b[90mFFTW_jll\u001b[39m\n",
      "\u001b[32m  ✓ \u001b[39m\u001b[90mTableTraits\u001b[39m\n",
      "\u001b[32m  ✓ \u001b[39m\u001b[90mFriBidi_jll\u001b[39m\n",
      "\u001b[32m  ✓ \u001b[39m\u001b[90mNaNMath\u001b[39m\n",
      "\u001b[32m  ✓ \u001b[39m\u001b[90mAxisAlgorithms\u001b[39m\n",
      "\u001b[32m  ✓ \u001b[39m\u001b[90mOpenBLAS_jll\u001b[39m\n",
      "\u001b[32m  ✓ \u001b[39m\u001b[90mLibuuid_jll\u001b[39m\n",
      "\u001b[32m  ✓ \u001b[39m\u001b[90mOpenSpecFun_jll\u001b[39m\n",
      "\u001b[32m  ✓ \u001b[39m\u001b[90mDensityInterface\u001b[39m\n",
      "\u001b[32m  ✓ \u001b[39m\u001b[90mDistances\u001b[39m\n",
      "\u001b[32m  ✓ \u001b[39m\u001b[90mShowoff\u001b[39m\n",
      "\u001b[32m  ✓ \u001b[39m\u001b[90mAdapt\u001b[39m\n",
      "\u001b[32m  ✓ \u001b[39m\u001b[90mRatios\u001b[39m\n",
      "\u001b[32m  ✓ \u001b[39m\u001b[90mMissings\u001b[39m\n",
      "\u001b[32m  ✓ \u001b[39m\u001b[90mRelocatableFolders\u001b[39m\n",
      "\u001b[32m  ✓ \u001b[39m\u001b[90mCodecZlib\u001b[39m\n",
      "\u001b[32m  ✓ \u001b[39m\u001b[90mChainRulesCore\u001b[39m\n",
      "\u001b[32m  ✓ \u001b[39m\u001b[90mFreeType2_jll\u001b[39m\n",
      "\u001b[32m  ✓ \u001b[39m\u001b[90mMKL_jll\u001b[39m\n",
      "\u001b[32m  ✓ \u001b[39m\u001b[90mRecipesBase\u001b[39m\n",
      "\u001b[32m  ✓ \u001b[39m\u001b[90mRmath\u001b[39m\n",
      "\u001b[32m  ✓ \u001b[39m\u001b[90mlibvorbis_jll\u001b[39m\n",
      "\u001b[32m  ✓ \u001b[39m\u001b[90mLibtiff_jll\u001b[39m\n",
      "\u001b[32m  ✓ \u001b[39m\u001b[90mDataStructures\u001b[39m\n",
      "\u001b[32m  ✓ \u001b[39m\u001b[90mJLFzf\u001b[39m\n",
      "\u001b[32m  ✓ \u001b[39m\u001b[90mXML2_jll\u001b[39m\n",
      "\u001b[32m  ✓ \u001b[39m\u001b[90mColorTypes\u001b[39m\n",
      "\u001b[32m  ✓ \u001b[39m\u001b[90mlibblastrampoline_jll\u001b[39m\n",
      "\u001b[32m  ✓ \u001b[39m\u001b[90mLibgcrypt_jll\u001b[39m\n",
      "\u001b[32m  ✓ \u001b[39m\u001b[90mLatexify\u001b[39m\n",
      "\u001b[32m  ✓ \u001b[39m\u001b[90mArpack_jll\u001b[39m\n",
      "\u001b[32m  ✓ \u001b[39m\u001b[90mOpenSSL\u001b[39m\n",
      "\u001b[32m  ✓ \u001b[39m\u001b[90mAbstractFFTs\u001b[39m\n",
      "\u001b[32m  ✓ \u001b[39m\u001b[90mTables\u001b[39m\n",
      "\u001b[32m  ✓ \u001b[39m\u001b[90mSortingAlgorithms\u001b[39m\n",
      "\u001b[32m  ✓ \u001b[39m\u001b[90mWayland_jll\u001b[39m\n",
      "\u001b[32m  ✓ \u001b[39m\u001b[90mOffsetArrays\u001b[39m\n",
      "\u001b[32m  ✓ \u001b[39m\u001b[90mFontconfig_jll\u001b[39m\n",
      "\u001b[32m  ✓ \u001b[39m\u001b[90mGettext_jll\u001b[39m\n",
      "\u001b[32m  ✓ \u001b[39m\u001b[90mXSLT_jll\u001b[39m\n",
      "\u001b[32m  ✓ \u001b[39m\u001b[90mQuadGK\u001b[39m\n",
      "\u001b[32m  ✓ \u001b[39m\u001b[90mArpack\u001b[39m\n",
      "\u001b[32m  ✓ \u001b[39m\u001b[90mTableOperations\u001b[39m\n",
      "\u001b[32m  ✓ \u001b[39m\u001b[90mGlib_jll\u001b[39m\n",
      "\u001b[32m  ✓ \u001b[39m\u001b[90mLogExpFunctions\u001b[39m\n",
      "\u001b[32m  ✓ \u001b[39m\u001b[90mXorg_libxcb_jll\u001b[39m\n",
      "\u001b[32m  ✓ \u001b[39m\u001b[90mXorg_xcb_util_jll\u001b[39m\n",
      "\u001b[32m  ✓ \u001b[39m\u001b[90mXorg_libX11_jll\u001b[39m\n",
      "\u001b[32m  ✓ \u001b[39m\u001b[90mXorg_xcb_util_image_jll\u001b[39m\n",
      "\u001b[32m  ✓ \u001b[39m\u001b[90mXorg_xcb_util_renderutil_jll\u001b[39m\n",
      "\u001b[32m  ✓ \u001b[39m\u001b[90mXorg_xcb_util_keysyms_jll\u001b[39m\n",
      "\u001b[32m  ✓ \u001b[39m\u001b[90mXorg_libXrender_jll\u001b[39m\n",
      "\u001b[32m  ✓ \u001b[39m\u001b[90mXorg_xcb_util_wm_jll\u001b[39m\n",
      "\u001b[32m  ✓ \u001b[39m\u001b[90mXorg_libXext_jll\u001b[39m\n",
      "\u001b[32m  ✓ \u001b[39m\u001b[90mXorg_libXfixes_jll\u001b[39m\n",
      "\u001b[32m  ✓ \u001b[39m\u001b[90mLibglvnd_jll\u001b[39m\n",
      "\u001b[32m  ✓ \u001b[39m\u001b[90mXorg_libXinerama_jll\u001b[39m\n",
      "\u001b[32m  ✓ \u001b[39m\u001b[90mStatsBase\u001b[39m\n",
      "\u001b[32m  ✓ \u001b[39m\u001b[90mXorg_libxkbfile_jll\u001b[39m\n",
      "\u001b[32m  ✓ \u001b[39m\u001b[90mXorg_libXrandr_jll\u001b[39m\n",
      "\u001b[32m  ✓ \u001b[39m\u001b[90mHTTP\u001b[39m\n",
      "\u001b[32m  ✓ \u001b[39m\u001b[90mXorg_libXi_jll\u001b[39m\n",
      "\u001b[32m  ✓ \u001b[39m\u001b[90mXorg_libXcursor_jll\u001b[39m\n",
      "\u001b[32m  ✓ \u001b[39m\u001b[90mColors\u001b[39m\n",
      "\u001b[32m  ✓ \u001b[39m\u001b[90mCairo_jll\u001b[39m\n",
      "\u001b[32m  ✓ \u001b[39m\u001b[90mXorg_xkbcomp_jll\u001b[39m\n",
      "\u001b[32m  ✓ \u001b[39m\u001b[90mStaticArrays\u001b[39m\n",
      "\u001b[32m  ✓ \u001b[39m\u001b[90mGLFW_jll\u001b[39m\n",
      "\u001b[32m  ✓ \u001b[39m\u001b[90mHarfBuzz_jll\u001b[39m\n",
      "\u001b[32m  ✓ \u001b[39m\u001b[90mXorg_xkeyboard_config_jll\u001b[39m\n",
      "\u001b[32m  ✓ \u001b[39m\u001b[90mFFTW\u001b[39m\n",
      "\u001b[32m  ✓ \u001b[39m\u001b[90mlibass_jll\u001b[39m\n",
      "\u001b[32m  ✓ \u001b[39m\u001b[90mxkbcommon_jll\u001b[39m\n",
      "\u001b[32m  ✓ \u001b[39m\u001b[90mMultivariateStats\u001b[39m\n",
      "\u001b[32m  ✓ \u001b[39m\u001b[90mWidgets\u001b[39m\n",
      "\u001b[32m  ✓ \u001b[39m\u001b[90mQt5Base_jll\u001b[39m\n",
      "\u001b[32m  ✓ \u001b[39m\u001b[90mFFMPEG_jll\u001b[39m\n",
      "\u001b[32m  ✓ \u001b[39m\u001b[90mSpecialFunctions\u001b[39m\n",
      "\u001b[32m  ✓ \u001b[39m\u001b[90mFFMPEG\u001b[39m\n",
      "\u001b[32m  ✓ \u001b[39m\u001b[90mGR_jll\u001b[39m\n",
      "\u001b[32m  ✓ \u001b[39m\u001b[90mNearestNeighbors\u001b[39m\n",
      "\u001b[32m  ✓ \u001b[39m\u001b[90mDualNumbers\u001b[39m\n",
      "\u001b[32m  ✓ \u001b[39m\u001b[90mInterpolations\u001b[39m\n",
      "\u001b[32m  ✓ \u001b[39m\u001b[90mHypergeometricFunctions\u001b[39m\n",
      "\u001b[32m  ✓ \u001b[39m\u001b[90mClustering\u001b[39m\n",
      "\u001b[32m  ✓ \u001b[39m\u001b[90mGR\u001b[39m\n",
      "\u001b[32m  ✓ \u001b[39m\u001b[90mColorVectorSpace\u001b[39m\n",
      "\u001b[32m  ✓ \u001b[39m\u001b[90mStatsFuns\u001b[39m\n",
      "\u001b[32m  ✓ \u001b[39m\u001b[90mColorSchemes\u001b[39m\n",
      "\u001b[32m  ✓ \u001b[39m\u001b[90mDistributions\u001b[39m\n",
      "\u001b[32m  ✓ \u001b[39m\u001b[90mKernelDensity\u001b[39m\n",
      "\u001b[32m  ✓ \u001b[39m\u001b[90mPlotUtils\u001b[39m\n",
      "\u001b[32m  ✓ \u001b[39m\u001b[90mPlotThemes\u001b[39m\n",
      "\u001b[32m  ✓ \u001b[39m\u001b[90mRecipesPipeline\u001b[39m\n",
      "\u001b[32m  ✓ \u001b[39m\u001b[90mPlots\u001b[39m\n",
      "\u001b[32m  ✓ \u001b[39mStatsPlots\n",
      "  166 dependencies successfully precompiled in 417 seconds. 16 already precompiled.\n"
     ]
    }
   ],
   "source": [
    "] add StatsPlots"
   ]
  },
  {
   "cell_type": "code",
   "execution_count": 3,
   "id": "577b730c-a48a-4e6c-9810-681627ed1720",
   "metadata": {},
   "outputs": [],
   "source": [
    "using StatsPlots"
   ]
  },
  {
   "cell_type": "markdown",
   "id": "752213ca-7348-4c09-abbb-e41c49cbb5a7",
   "metadata": {},
   "source": [
    "**Ejercicio** Crea una función `aleatorioUniforme` que tome como argumentos dos números `a` y `b`, y devuelva como salida un número aleatorio distribuido uniformemente en el intervalo $[a,b]\\subset\\mathbb{R}$. (Sugerencia: Utiliza `rand()` y un poco de aritmética.)"
   ]
  },
  {
   "cell_type": "code",
   "execution_count": 6,
   "id": "b72bad01-e824-47e5-9bb5-da7da4cdebf1",
   "metadata": {},
   "outputs": [
    {
     "data": {
      "text/plain": [
       "aleatorioUniforme (generic function with 1 method)"
      ]
     },
     "execution_count": 6,
     "metadata": {},
     "output_type": "execute_result"
    }
   ],
   "source": [
    "begin \n",
    "#Como 0<=|rand()|<=1, entonces 0<=(b-a)|rand()|<=b-a, se sigue a<=a+(b-a)|rand()|<=a+b-a=b\n",
    "#por tanto a<=a+(b-a)|rand()|<=b\n",
    "\tfunction aleatorioUniforme(a,b)\n",
    "\t\treturn a+rand()*(b-a)\n",
    "\tend\n",
    "end"
   ]
  },
  {
   "cell_type": "markdown",
   "id": "72c7913e-12ac-4b27-a74a-88970e1d1296",
   "metadata": {},
   "source": [
    "**Ejercicio** Verifica con un histograma que tu función `aleatorioUniforme` realmente cumpla la propiedad desada. (Pista: ¿Cómo debería verse el histograma?)"
   ]
  },
  {
   "cell_type": "code",
   "execution_count": 7,
   "id": "712842dd-a0fe-4f9a-83a6-c90e90ec3982",
   "metadata": {},
   "outputs": [
    {
     "data": {
      "text/plain": [
       "ArrayAU (generic function with 1 method)"
      ]
     },
     "execution_count": 7,
     "metadata": {},
     "output_type": "execute_result"
    }
   ],
   "source": [
    "function ArrayAU(N1,a,b) #Esta función se encarga de generar un arreglo de N1 entradas con números aleatorios entre a y b\n",
    "                         #para ser graficados con la función \"histogram()\".\n",
    "#Aquí defino un arreglo para guaradar los números aleatorios.\n",
    "v=[]\n",
    "for i in 1:N1\n",
    "\t #Aquí se agrega un número aleatorio entre a y b.\n",
    "    push!(v, aleatorioUniforme(a,b))  \n",
    "end\n",
    "\n",
    "return v\n",
    "end"
   ]
  },
  {
   "cell_type": "code",
   "execution_count": 23,
   "id": "9f6f80cc-c07b-4e49-bc03-2e58ace63029",
   "metadata": {},
   "outputs": [
    {
     "data": {
      "text/plain": [
       "10-element Vector{Any}:\n",
       " -0.6594847837116\n",
       "  0.043015896020191624\n",
       "  0.7214130329098736\n",
       "  0.8244853796089395\n",
       "  0.983158457768621\n",
       " -0.7073270728253571\n",
       " -0.5818662541516981\n",
       "  0.9006351382973272\n",
       "  0.02152341148929282\n",
       " -0.8324242052736779"
      ]
     },
     "execution_count": 23,
     "metadata": {},
     "output_type": "execute_result"
    }
   ],
   "source": [
    "ArrayAU(10,-1,1)"
   ]
  },
  {
   "cell_type": "code",
   "execution_count": 8,
   "id": "b6bab08d-e07c-4db4-9192-ea307fd69214",
   "metadata": {},
   "outputs": [
    {
     "data": {
      "image/svg+xml": [
       "<?xml version=\"1.0\" encoding=\"utf-8\"?>\n",
       "<svg xmlns=\"http://www.w3.org/2000/svg\" xmlns:xlink=\"http://www.w3.org/1999/xlink\" width=\"600\" height=\"400\" viewBox=\"0 0 2400 1600\">\n",
       "<defs>\n",
       "  <clipPath id=\"clip310\">\n",
       "    <rect x=\"0\" y=\"0\" width=\"2400\" height=\"1600\"/>\n",
       "  </clipPath>\n",
       "</defs>\n",
       "<path clip-path=\"url(#clip310)\" d=\"M0 1600 L2400 1600 L2400 0 L0 0  Z\" fill=\"#ffffff\" fill-rule=\"evenodd\" fill-opacity=\"1\"/>\n",
       "<defs>\n",
       "  <clipPath id=\"clip311\">\n",
       "    <rect x=\"480\" y=\"0\" width=\"1681\" height=\"1600\"/>\n",
       "  </clipPath>\n",
       "</defs>\n",
       "<path clip-path=\"url(#clip310)\" d=\"M306.435 1486.45 L2352.76 1486.45 L2352.76 47.2441 L306.435 47.2441  Z\" fill=\"#ffffff\" fill-rule=\"evenodd\" fill-opacity=\"1\"/>\n",
       "<defs>\n",
       "  <clipPath id=\"clip312\">\n",
       "    <rect x=\"306\" y=\"47\" width=\"2047\" height=\"1440\"/>\n",
       "  </clipPath>\n",
       "</defs>\n",
       "<polyline clip-path=\"url(#clip312)\" style=\"stroke:#000000; stroke-linecap:round; stroke-linejoin:round; stroke-width:2; stroke-opacity:0.1; fill:none\" points=\"418.987,1486.45 418.987,47.2441 \"/>\n",
       "<polyline clip-path=\"url(#clip312)\" style=\"stroke:#000000; stroke-linecap:round; stroke-linejoin:round; stroke-width:2; stroke-opacity:0.1; fill:none\" points=\"823.702,1486.45 823.702,47.2441 \"/>\n",
       "<polyline clip-path=\"url(#clip312)\" style=\"stroke:#000000; stroke-linecap:round; stroke-linejoin:round; stroke-width:2; stroke-opacity:0.1; fill:none\" points=\"1228.42,1486.45 1228.42,47.2441 \"/>\n",
       "<polyline clip-path=\"url(#clip312)\" style=\"stroke:#000000; stroke-linecap:round; stroke-linejoin:round; stroke-width:2; stroke-opacity:0.1; fill:none\" points=\"1633.13,1486.45 1633.13,47.2441 \"/>\n",
       "<polyline clip-path=\"url(#clip312)\" style=\"stroke:#000000; stroke-linecap:round; stroke-linejoin:round; stroke-width:2; stroke-opacity:0.1; fill:none\" points=\"2037.85,1486.45 2037.85,47.2441 \"/>\n",
       "<polyline clip-path=\"url(#clip310)\" style=\"stroke:#000000; stroke-linecap:round; stroke-linejoin:round; stroke-width:4; stroke-opacity:1; fill:none\" points=\"306.435,1486.45 2352.76,1486.45 \"/>\n",
       "<polyline clip-path=\"url(#clip310)\" style=\"stroke:#000000; stroke-linecap:round; stroke-linejoin:round; stroke-width:4; stroke-opacity:1; fill:none\" points=\"418.987,1486.45 418.987,1467.55 \"/>\n",
       "<polyline clip-path=\"url(#clip310)\" style=\"stroke:#000000; stroke-linecap:round; stroke-linejoin:round; stroke-width:4; stroke-opacity:1; fill:none\" points=\"823.702,1486.45 823.702,1467.55 \"/>\n",
       "<polyline clip-path=\"url(#clip310)\" style=\"stroke:#000000; stroke-linecap:round; stroke-linejoin:round; stroke-width:4; stroke-opacity:1; fill:none\" points=\"1228.42,1486.45 1228.42,1467.55 \"/>\n",
       "<polyline clip-path=\"url(#clip310)\" style=\"stroke:#000000; stroke-linecap:round; stroke-linejoin:round; stroke-width:4; stroke-opacity:1; fill:none\" points=\"1633.13,1486.45 1633.13,1467.55 \"/>\n",
       "<polyline clip-path=\"url(#clip310)\" style=\"stroke:#000000; stroke-linecap:round; stroke-linejoin:round; stroke-width:4; stroke-opacity:1; fill:none\" points=\"2037.85,1486.45 2037.85,1467.55 \"/>\n",
       "<path clip-path=\"url(#clip310)\" d=\"M418.987 1517.37 Q415.376 1517.37 413.547 1520.93 Q411.741 1524.47 411.741 1531.6 Q411.741 1538.71 413.547 1542.27 Q415.376 1545.82 418.987 1545.82 Q422.621 1545.82 424.426 1542.27 Q426.255 1538.71 426.255 1531.6 Q426.255 1524.47 424.426 1520.93 Q422.621 1517.37 418.987 1517.37 M418.987 1513.66 Q424.797 1513.66 427.852 1518.27 Q430.931 1522.85 430.931 1531.6 Q430.931 1540.33 427.852 1544.94 Q424.797 1549.52 418.987 1549.52 Q413.177 1549.52 410.098 1544.94 Q407.042 1540.33 407.042 1531.6 Q407.042 1522.85 410.098 1518.27 Q413.177 1513.66 418.987 1513.66 Z\" fill=\"#000000\" fill-rule=\"nonzero\" fill-opacity=\"1\" /><path clip-path=\"url(#clip310)\" d=\"M818.355 1544.91 L834.674 1544.91 L834.674 1548.85 L812.73 1548.85 L812.73 1544.91 Q815.392 1542.16 819.975 1537.53 Q824.581 1532.88 825.762 1531.53 Q828.007 1529.01 828.887 1527.27 Q829.79 1525.51 829.79 1523.82 Q829.79 1521.07 827.845 1519.33 Q825.924 1517.6 822.822 1517.6 Q820.623 1517.6 818.169 1518.36 Q815.739 1519.13 812.961 1520.68 L812.961 1515.95 Q815.785 1514.82 818.239 1514.24 Q820.693 1513.66 822.73 1513.66 Q828.1 1513.66 831.294 1516.35 Q834.489 1519.03 834.489 1523.52 Q834.489 1525.65 833.679 1527.57 Q832.892 1529.47 830.785 1532.07 Q830.206 1532.74 827.105 1535.95 Q824.003 1539.15 818.355 1544.91 Z\" fill=\"#000000\" fill-rule=\"nonzero\" fill-opacity=\"1\" /><path clip-path=\"url(#clip310)\" d=\"M1231.43 1518.36 L1219.62 1536.81 L1231.43 1536.81 L1231.43 1518.36 M1230.2 1514.29 L1236.08 1514.29 L1236.08 1536.81 L1241.01 1536.81 L1241.01 1540.7 L1236.08 1540.7 L1236.08 1548.85 L1231.43 1548.85 L1231.43 1540.7 L1215.82 1540.7 L1215.82 1536.19 L1230.2 1514.29 Z\" fill=\"#000000\" fill-rule=\"nonzero\" fill-opacity=\"1\" /><path clip-path=\"url(#clip310)\" d=\"M1633.54 1529.7 Q1630.39 1529.7 1628.54 1531.86 Q1626.71 1534.01 1626.71 1537.76 Q1626.71 1541.49 1628.54 1543.66 Q1630.39 1545.82 1633.54 1545.82 Q1636.69 1545.82 1638.51 1543.66 Q1640.37 1541.49 1640.37 1537.76 Q1640.37 1534.01 1638.51 1531.86 Q1636.69 1529.7 1633.54 1529.7 M1642.82 1515.05 L1642.82 1519.31 Q1641.06 1518.48 1639.25 1518.04 Q1637.47 1517.6 1635.71 1517.6 Q1631.08 1517.6 1628.63 1520.72 Q1626.2 1523.85 1625.85 1530.17 Q1627.22 1528.15 1629.28 1527.09 Q1631.34 1526 1633.81 1526 Q1639.02 1526 1642.03 1529.17 Q1645.06 1532.32 1645.06 1537.76 Q1645.06 1543.08 1641.92 1546.3 Q1638.77 1549.52 1633.54 1549.52 Q1627.54 1549.52 1624.37 1544.94 Q1621.2 1540.33 1621.2 1531.6 Q1621.2 1523.41 1625.09 1518.55 Q1628.98 1513.66 1635.53 1513.66 Q1637.29 1513.66 1639.07 1514.01 Q1640.87 1514.36 1642.82 1515.05 Z\" fill=\"#000000\" fill-rule=\"nonzero\" fill-opacity=\"1\" /><path clip-path=\"url(#clip310)\" d=\"M2037.85 1532.44 Q2034.51 1532.44 2032.59 1534.22 Q2030.69 1536 2030.69 1539.13 Q2030.69 1542.25 2032.59 1544.03 Q2034.51 1545.82 2037.85 1545.82 Q2041.18 1545.82 2043.1 1544.03 Q2045.02 1542.23 2045.02 1539.13 Q2045.02 1536 2043.1 1534.22 Q2041.2 1532.44 2037.85 1532.44 M2033.17 1530.45 Q2030.16 1529.7 2028.47 1527.64 Q2026.81 1525.58 2026.81 1522.62 Q2026.81 1518.48 2029.75 1516.07 Q2032.71 1513.66 2037.85 1513.66 Q2043.01 1513.66 2045.95 1516.07 Q2048.89 1518.48 2048.89 1522.62 Q2048.89 1525.58 2047.2 1527.64 Q2045.53 1529.7 2042.55 1530.45 Q2045.93 1531.23 2047.8 1533.52 Q2049.7 1535.82 2049.7 1539.13 Q2049.7 1544.15 2046.62 1546.83 Q2043.56 1549.52 2037.85 1549.52 Q2032.13 1549.52 2029.05 1546.83 Q2026 1544.15 2026 1539.13 Q2026 1535.82 2027.89 1533.52 Q2029.79 1531.23 2033.17 1530.45 M2031.46 1523.06 Q2031.46 1525.75 2033.12 1527.25 Q2034.81 1528.76 2037.85 1528.76 Q2040.86 1528.76 2042.55 1527.25 Q2044.26 1525.75 2044.26 1523.06 Q2044.26 1520.38 2042.55 1518.87 Q2040.86 1517.37 2037.85 1517.37 Q2034.81 1517.37 2033.12 1518.87 Q2031.46 1520.38 2031.46 1523.06 Z\" fill=\"#000000\" fill-rule=\"nonzero\" fill-opacity=\"1\" /><polyline clip-path=\"url(#clip312)\" style=\"stroke:#000000; stroke-linecap:round; stroke-linejoin:round; stroke-width:2; stroke-opacity:0.1; fill:none\" points=\"306.435,1445.72 2352.76,1445.72 \"/>\n",
       "<polyline clip-path=\"url(#clip312)\" style=\"stroke:#000000; stroke-linecap:round; stroke-linejoin:round; stroke-width:2; stroke-opacity:0.1; fill:none\" points=\"306.435,1107.31 2352.76,1107.31 \"/>\n",
       "<polyline clip-path=\"url(#clip312)\" style=\"stroke:#000000; stroke-linecap:round; stroke-linejoin:round; stroke-width:2; stroke-opacity:0.1; fill:none\" points=\"306.435,768.91 2352.76,768.91 \"/>\n",
       "<polyline clip-path=\"url(#clip312)\" style=\"stroke:#000000; stroke-linecap:round; stroke-linejoin:round; stroke-width:2; stroke-opacity:0.1; fill:none\" points=\"306.435,430.508 2352.76,430.508 \"/>\n",
       "<polyline clip-path=\"url(#clip312)\" style=\"stroke:#000000; stroke-linecap:round; stroke-linejoin:round; stroke-width:2; stroke-opacity:0.1; fill:none\" points=\"306.435,92.1048 2352.76,92.1048 \"/>\n",
       "<polyline clip-path=\"url(#clip310)\" style=\"stroke:#000000; stroke-linecap:round; stroke-linejoin:round; stroke-width:4; stroke-opacity:1; fill:none\" points=\"306.435,1486.45 306.435,47.2441 \"/>\n",
       "<polyline clip-path=\"url(#clip310)\" style=\"stroke:#000000; stroke-linecap:round; stroke-linejoin:round; stroke-width:4; stroke-opacity:1; fill:none\" points=\"306.435,1445.72 325.333,1445.72 \"/>\n",
       "<polyline clip-path=\"url(#clip310)\" style=\"stroke:#000000; stroke-linecap:round; stroke-linejoin:round; stroke-width:4; stroke-opacity:1; fill:none\" points=\"306.435,1107.31 325.333,1107.31 \"/>\n",
       "<polyline clip-path=\"url(#clip310)\" style=\"stroke:#000000; stroke-linecap:round; stroke-linejoin:round; stroke-width:4; stroke-opacity:1; fill:none\" points=\"306.435,768.91 325.333,768.91 \"/>\n",
       "<polyline clip-path=\"url(#clip310)\" style=\"stroke:#000000; stroke-linecap:round; stroke-linejoin:round; stroke-width:4; stroke-opacity:1; fill:none\" points=\"306.435,430.508 325.333,430.508 \"/>\n",
       "<polyline clip-path=\"url(#clip310)\" style=\"stroke:#000000; stroke-linecap:round; stroke-linejoin:round; stroke-width:4; stroke-opacity:1; fill:none\" points=\"306.435,92.1048 325.333,92.1048 \"/>\n",
       "<path clip-path=\"url(#clip310)\" d=\"M258.491 1431.51 Q254.88 1431.51 253.051 1435.08 Q251.246 1438.62 251.246 1445.75 Q251.246 1452.86 253.051 1456.42 Q254.88 1459.96 258.491 1459.96 Q262.125 1459.96 263.931 1456.42 Q265.759 1452.86 265.759 1445.75 Q265.759 1438.62 263.931 1435.08 Q262.125 1431.51 258.491 1431.51 M258.491 1427.81 Q264.301 1427.81 267.357 1432.42 Q270.435 1437 270.435 1445.75 Q270.435 1454.48 267.357 1459.08 Q264.301 1463.67 258.491 1463.67 Q252.681 1463.67 249.602 1459.08 Q246.547 1454.48 246.547 1445.75 Q246.547 1437 249.602 1432.42 Q252.681 1427.81 258.491 1427.81 Z\" fill=\"#000000\" fill-rule=\"nonzero\" fill-opacity=\"1\" /><path clip-path=\"url(#clip310)\" d=\"M54.6105 1096.48 L72.9668 1096.48 L72.9668 1100.42 L58.8928 1100.42 L58.8928 1108.89 Q59.9113 1108.54 60.9299 1108.38 Q61.9484 1108.19 62.9669 1108.19 Q68.7539 1108.19 72.1335 1111.36 Q75.5131 1114.54 75.5131 1119.95 Q75.5131 1125.53 72.0409 1128.63 Q68.5687 1131.71 62.2493 1131.71 Q60.0734 1131.71 57.8049 1131.34 Q55.5595 1130.97 53.1521 1130.23 L53.1521 1125.53 Q55.2354 1126.67 57.4577 1127.22 Q59.6799 1127.78 62.1567 1127.78 Q66.1613 1127.78 68.4993 1125.67 Q70.8372 1123.56 70.8372 1119.95 Q70.8372 1116.34 68.4993 1114.24 Q66.1613 1112.13 62.1567 1112.13 Q60.2817 1112.13 58.4067 1112.55 Q56.5549 1112.96 54.6105 1113.84 L54.6105 1096.48 Z\" fill=\"#000000\" fill-rule=\"nonzero\" fill-opacity=\"1\" /><path clip-path=\"url(#clip310)\" d=\"M84.726 1125.16 L89.6103 1125.16 L89.6103 1131.04 L84.726 1131.04 L84.726 1125.16 Z\" fill=\"#000000\" fill-rule=\"nonzero\" fill-opacity=\"1\" /><path clip-path=\"url(#clip310)\" d=\"M109.795 1099.56 Q106.184 1099.56 104.356 1103.12 Q102.55 1106.67 102.55 1113.8 Q102.55 1120.9 104.356 1124.47 Q106.184 1128.01 109.795 1128.01 Q113.43 1128.01 115.235 1124.47 Q117.064 1120.9 117.064 1113.8 Q117.064 1106.67 115.235 1103.12 Q113.43 1099.56 109.795 1099.56 M109.795 1095.86 Q115.605 1095.86 118.661 1100.46 Q121.74 1105.05 121.74 1113.8 Q121.74 1122.52 118.661 1127.13 Q115.605 1131.71 109.795 1131.71 Q103.985 1131.71 100.906 1127.13 Q97.851 1122.52 97.851 1113.8 Q97.851 1105.05 100.906 1100.46 Q103.985 1095.86 109.795 1095.86 Z\" fill=\"#000000\" fill-rule=\"nonzero\" fill-opacity=\"1\" /><path clip-path=\"url(#clip310)\" d=\"M139.957 1099.56 Q136.346 1099.56 134.517 1103.12 Q132.712 1106.67 132.712 1113.8 Q132.712 1120.9 134.517 1124.47 Q136.346 1128.01 139.957 1128.01 Q143.591 1128.01 145.397 1124.47 Q147.226 1120.9 147.226 1113.8 Q147.226 1106.67 145.397 1103.12 Q143.591 1099.56 139.957 1099.56 M139.957 1095.86 Q145.767 1095.86 148.823 1100.46 Q151.902 1105.05 151.902 1113.8 Q151.902 1122.52 148.823 1127.13 Q145.767 1131.71 139.957 1131.71 Q134.147 1131.71 131.068 1127.13 Q128.013 1122.52 128.013 1113.8 Q128.013 1105.05 131.068 1100.46 Q134.147 1095.86 139.957 1095.86 Z\" fill=\"#000000\" fill-rule=\"nonzero\" fill-opacity=\"1\" /><path clip-path=\"url(#clip310)\" d=\"M188.29 1105.58 L177.712 1116.2 L188.29 1126.78 L185.536 1129.58 L174.911 1118.96 L164.286 1129.58 L161.554 1126.78 L172.11 1116.2 L161.554 1105.58 L164.286 1102.78 L174.911 1113.4 L185.536 1102.78 L188.29 1105.58 Z\" fill=\"#000000\" fill-rule=\"nonzero\" fill-opacity=\"1\" /><path clip-path=\"url(#clip310)\" d=\"M200.651 1127.11 L208.29 1127.11 L208.29 1100.74 L199.98 1102.41 L199.98 1098.15 L208.244 1096.48 L212.92 1096.48 L212.92 1127.11 L220.559 1127.11 L220.559 1131.04 L200.651 1131.04 L200.651 1127.11 Z\" fill=\"#000000\" fill-rule=\"nonzero\" fill-opacity=\"1\" /><path clip-path=\"url(#clip310)\" d=\"M240.003 1099.56 Q236.392 1099.56 234.563 1103.12 Q232.758 1106.67 232.758 1113.8 Q232.758 1120.9 234.563 1124.47 Q236.392 1128.01 240.003 1128.01 Q243.637 1128.01 245.443 1124.47 Q247.271 1120.9 247.271 1113.8 Q247.271 1106.67 245.443 1103.12 Q243.637 1099.56 240.003 1099.56 M240.003 1095.86 Q245.813 1095.86 248.869 1100.46 Q251.947 1105.05 251.947 1113.8 Q251.947 1122.52 248.869 1127.13 Q245.813 1131.71 240.003 1131.71 Q234.193 1131.71 231.114 1127.13 Q228.059 1122.52 228.059 1113.8 Q228.059 1105.05 231.114 1100.46 Q234.193 1095.86 240.003 1095.86 Z\" fill=\"#000000\" fill-rule=\"nonzero\" fill-opacity=\"1\" /><path clip-path=\"url(#clip310)\" d=\"M264.643 1088.49 Q267.37 1089.07 268.893 1090.92 Q270.435 1092.76 270.435 1095.47 Q270.435 1099.62 267.577 1101.9 Q264.718 1104.18 259.452 1104.18 Q257.684 1104.18 255.803 1103.82 Q253.941 1103.48 251.947 1102.78 L251.947 1099.12 Q253.527 1100.04 255.408 1100.51 Q257.289 1100.98 259.339 1100.98 Q262.912 1100.98 264.774 1099.57 Q266.655 1098.16 266.655 1095.47 Q266.655 1092.98 264.906 1091.59 Q263.176 1090.18 260.072 1090.18 L256.8 1090.18 L256.8 1087.06 L260.223 1087.06 Q263.025 1087.06 264.511 1085.95 Q265.997 1084.82 265.997 1082.72 Q265.997 1080.55 264.455 1079.41 Q262.931 1078.24 260.072 1078.24 Q258.511 1078.24 256.725 1078.58 Q254.938 1078.92 252.794 1079.63 L252.794 1076.25 Q254.957 1075.64 256.837 1075.34 Q258.737 1075.04 260.411 1075.04 Q264.737 1075.04 267.257 1077.02 Q269.777 1078.97 269.777 1082.32 Q269.777 1084.65 268.442 1086.27 Q267.106 1087.87 264.643 1088.49 Z\" fill=\"#000000\" fill-rule=\"nonzero\" fill-opacity=\"1\" /><path clip-path=\"url(#clip310)\" d=\"M53.3995 788.703 L61.0384 788.703 L61.0384 762.337 L52.7282 764.004 L52.7282 759.744 L60.9921 758.078 L65.668 758.078 L65.668 788.703 L73.3068 788.703 L73.3068 792.638 L53.3995 792.638 L53.3995 788.703 Z\" fill=\"#000000\" fill-rule=\"nonzero\" fill-opacity=\"1\" /><path clip-path=\"url(#clip310)\" d=\"M82.7512 786.758 L87.6354 786.758 L87.6354 792.638 L82.7512 792.638 L82.7512 786.758 Z\" fill=\"#000000\" fill-rule=\"nonzero\" fill-opacity=\"1\" /><path clip-path=\"url(#clip310)\" d=\"M107.821 761.157 Q104.209 761.157 102.381 764.721 Q100.575 768.263 100.575 775.393 Q100.575 782.499 102.381 786.064 Q104.209 789.605 107.821 789.605 Q111.455 789.605 113.26 786.064 Q115.089 782.499 115.089 775.393 Q115.089 768.263 113.26 764.721 Q111.455 761.157 107.821 761.157 M107.821 757.453 Q113.631 757.453 116.686 762.059 Q119.765 766.643 119.765 775.393 Q119.765 784.119 116.686 788.726 Q113.631 793.309 107.821 793.309 Q102.01 793.309 98.9317 788.726 Q95.8761 784.119 95.8761 775.393 Q95.8761 766.643 98.9317 762.059 Q102.01 757.453 107.821 757.453 Z\" fill=\"#000000\" fill-rule=\"nonzero\" fill-opacity=\"1\" /><path clip-path=\"url(#clip310)\" d=\"M137.982 761.157 Q134.371 761.157 132.543 764.721 Q130.737 768.263 130.737 775.393 Q130.737 782.499 132.543 786.064 Q134.371 789.605 137.982 789.605 Q141.617 789.605 143.422 786.064 Q145.251 782.499 145.251 775.393 Q145.251 768.263 143.422 764.721 Q141.617 761.157 137.982 761.157 M137.982 757.453 Q143.793 757.453 146.848 762.059 Q149.927 766.643 149.927 775.393 Q149.927 784.119 146.848 788.726 Q143.793 793.309 137.982 793.309 Q132.172 793.309 129.094 788.726 Q126.038 784.119 126.038 775.393 Q126.038 766.643 129.094 762.059 Q132.172 757.453 137.982 757.453 Z\" fill=\"#000000\" fill-rule=\"nonzero\" fill-opacity=\"1\" /><path clip-path=\"url(#clip310)\" d=\"M186.315 767.175 L175.737 777.8 L186.315 788.379 L183.561 791.18 L172.936 780.555 L162.311 791.18 L159.58 788.379 L170.135 777.8 L159.58 767.175 L162.311 764.374 L172.936 774.999 L183.561 764.374 L186.315 767.175 Z\" fill=\"#000000\" fill-rule=\"nonzero\" fill-opacity=\"1\" /><path clip-path=\"url(#clip310)\" d=\"M198.677 788.703 L206.315 788.703 L206.315 762.337 L198.005 764.004 L198.005 759.744 L206.269 758.078 L210.945 758.078 L210.945 788.703 L218.584 788.703 L218.584 792.638 L198.677 792.638 L198.677 788.703 Z\" fill=\"#000000\" fill-rule=\"nonzero\" fill-opacity=\"1\" /><path clip-path=\"url(#clip310)\" d=\"M238.028 761.157 Q234.417 761.157 232.588 764.721 Q230.783 768.263 230.783 775.393 Q230.783 782.499 232.588 786.064 Q234.417 789.605 238.028 789.605 Q241.662 789.605 243.468 786.064 Q245.297 782.499 245.297 775.393 Q245.297 768.263 243.468 764.721 Q241.662 761.157 238.028 761.157 M238.028 757.453 Q243.838 757.453 246.894 762.059 Q249.973 766.643 249.973 775.393 Q249.973 784.119 246.894 788.726 Q243.838 793.309 238.028 793.309 Q232.218 793.309 229.139 788.726 Q226.084 784.119 226.084 775.393 Q226.084 766.643 229.139 762.059 Q232.218 757.453 238.028 757.453 Z\" fill=\"#000000\" fill-rule=\"nonzero\" fill-opacity=\"1\" /><path clip-path=\"url(#clip310)\" d=\"M262.649 740.458 L253.057 755.447 L262.649 755.447 L262.649 740.458 M261.652 737.147 L266.429 737.147 L266.429 755.447 L270.435 755.447 L270.435 758.607 L266.429 758.607 L266.429 765.227 L262.649 765.227 L262.649 758.607 L249.973 758.607 L249.973 754.94 L261.652 737.147 Z\" fill=\"#000000\" fill-rule=\"nonzero\" fill-opacity=\"1\" /><path clip-path=\"url(#clip310)\" d=\"M53.3995 450.3 L61.0384 450.3 L61.0384 423.934 L52.7282 425.601 L52.7282 421.342 L60.9921 419.675 L65.668 419.675 L65.668 450.3 L73.3068 450.3 L73.3068 454.235 L53.3995 454.235 L53.3995 450.3 Z\" fill=\"#000000\" fill-rule=\"nonzero\" fill-opacity=\"1\" /><path clip-path=\"url(#clip310)\" d=\"M82.7512 448.356 L87.6354 448.356 L87.6354 454.235 L82.7512 454.235 L82.7512 448.356 Z\" fill=\"#000000\" fill-rule=\"nonzero\" fill-opacity=\"1\" /><path clip-path=\"url(#clip310)\" d=\"M97.8669 419.675 L116.223 419.675 L116.223 423.61 L102.149 423.61 L102.149 432.082 Q103.168 431.735 104.186 431.573 Q105.205 431.388 106.223 431.388 Q112.01 431.388 115.39 434.559 Q118.77 437.731 118.77 443.147 Q118.77 448.726 115.297 451.828 Q111.825 454.906 105.506 454.906 Q103.33 454.906 101.061 454.536 Q98.8159 454.166 96.4085 453.425 L96.4085 448.726 Q98.4919 449.86 100.714 450.416 Q102.936 450.971 105.413 450.971 Q109.418 450.971 111.756 448.865 Q114.094 446.758 114.094 443.147 Q114.094 439.536 111.756 437.43 Q109.418 435.323 105.413 435.323 Q103.538 435.323 101.663 435.74 Q99.8113 436.157 97.8669 437.036 L97.8669 419.675 Z\" fill=\"#000000\" fill-rule=\"nonzero\" fill-opacity=\"1\" /><path clip-path=\"url(#clip310)\" d=\"M137.982 422.754 Q134.371 422.754 132.543 426.319 Q130.737 429.86 130.737 436.99 Q130.737 444.096 132.543 447.661 Q134.371 451.203 137.982 451.203 Q141.617 451.203 143.422 447.661 Q145.251 444.096 145.251 436.99 Q145.251 429.86 143.422 426.319 Q141.617 422.754 137.982 422.754 M137.982 419.05 Q143.793 419.05 146.848 423.657 Q149.927 428.24 149.927 436.99 Q149.927 445.717 146.848 450.323 Q143.793 454.906 137.982 454.906 Q132.172 454.906 129.094 450.323 Q126.038 445.717 126.038 436.99 Q126.038 428.24 129.094 423.657 Q132.172 419.05 137.982 419.05 Z\" fill=\"#000000\" fill-rule=\"nonzero\" fill-opacity=\"1\" /><path clip-path=\"url(#clip310)\" d=\"M186.315 428.772 L175.737 439.397 L186.315 449.976 L183.561 452.777 L172.936 442.152 L162.311 452.777 L159.58 449.976 L170.135 439.397 L159.58 428.772 L162.311 425.971 L172.936 436.596 L183.561 425.971 L186.315 428.772 Z\" fill=\"#000000\" fill-rule=\"nonzero\" fill-opacity=\"1\" /><path clip-path=\"url(#clip310)\" d=\"M198.677 450.3 L206.315 450.3 L206.315 423.934 L198.005 425.601 L198.005 421.342 L206.269 419.675 L210.945 419.675 L210.945 450.3 L218.584 450.3 L218.584 454.235 L198.677 454.235 L198.677 450.3 Z\" fill=\"#000000\" fill-rule=\"nonzero\" fill-opacity=\"1\" /><path clip-path=\"url(#clip310)\" d=\"M238.028 422.754 Q234.417 422.754 232.588 426.319 Q230.783 429.86 230.783 436.99 Q230.783 444.096 232.588 447.661 Q234.417 451.203 238.028 451.203 Q241.662 451.203 243.468 447.661 Q245.297 444.096 245.297 436.99 Q245.297 429.86 243.468 426.319 Q241.662 422.754 238.028 422.754 M238.028 419.05 Q243.838 419.05 246.894 423.657 Q249.973 428.24 249.973 436.99 Q249.973 445.717 246.894 450.323 Q243.838 454.906 238.028 454.906 Q232.218 454.906 229.139 450.323 Q226.084 445.717 226.084 436.99 Q226.084 428.24 229.139 423.657 Q232.218 419.05 238.028 419.05 Z\" fill=\"#000000\" fill-rule=\"nonzero\" fill-opacity=\"1\" /><path clip-path=\"url(#clip310)\" d=\"M262.649 402.055 L253.057 417.045 L262.649 417.045 L262.649 402.055 M261.652 398.745 L266.429 398.745 L266.429 417.045 L270.435 417.045 L270.435 420.204 L266.429 420.204 L266.429 426.825 L262.649 426.825 L262.649 420.204 L249.973 420.204 L249.973 416.537 L261.652 398.745 Z\" fill=\"#000000\" fill-rule=\"nonzero\" fill-opacity=\"1\" /><path clip-path=\"url(#clip310)\" d=\"M56.6171 111.897 L72.9365 111.897 L72.9365 115.832 L50.9921 115.832 L50.9921 111.897 Q53.6541 109.143 58.2375 104.513 Q62.8439 99.8603 64.0245 98.5177 Q66.2698 95.9945 67.1494 94.2584 Q68.0522 92.4992 68.0522 90.8094 Q68.0522 88.0548 66.1078 86.3187 Q64.1865 84.5826 61.0847 84.5826 Q58.8856 84.5826 56.4319 85.3464 Q54.0014 86.1103 51.2236 87.6612 L51.2236 82.939 Q54.0477 81.8048 56.5014 81.2261 Q58.955 80.6474 60.9921 80.6474 Q66.3624 80.6474 69.5568 83.3326 Q72.7513 86.0177 72.7513 90.5085 Q72.7513 92.6381 71.9411 94.5594 Q71.1541 96.4575 69.0476 99.0501 Q68.4689 99.7214 65.367 102.939 Q62.2652 106.133 56.6171 111.897 Z\" fill=\"#000000\" fill-rule=\"nonzero\" fill-opacity=\"1\" /><path clip-path=\"url(#clip310)\" d=\"M82.7512 109.953 L87.6354 109.953 L87.6354 115.832 L82.7512 115.832 L82.7512 109.953 Z\" fill=\"#000000\" fill-rule=\"nonzero\" fill-opacity=\"1\" /><path clip-path=\"url(#clip310)\" d=\"M107.821 84.3511 Q104.209 84.3511 102.381 87.9159 Q100.575 91.4575 100.575 98.5871 Q100.575 105.694 102.381 109.258 Q104.209 112.8 107.821 112.8 Q111.455 112.8 113.26 109.258 Q115.089 105.694 115.089 98.5871 Q115.089 91.4575 113.26 87.9159 Q111.455 84.3511 107.821 84.3511 M107.821 80.6474 Q113.631 80.6474 116.686 85.2539 Q119.765 89.8372 119.765 98.5871 Q119.765 107.314 116.686 111.92 Q113.631 116.504 107.821 116.504 Q102.01 116.504 98.9317 111.92 Q95.8761 107.314 95.8761 98.5871 Q95.8761 89.8372 98.9317 85.2539 Q102.01 80.6474 107.821 80.6474 Z\" fill=\"#000000\" fill-rule=\"nonzero\" fill-opacity=\"1\" /><path clip-path=\"url(#clip310)\" d=\"M137.982 84.3511 Q134.371 84.3511 132.543 87.9159 Q130.737 91.4575 130.737 98.5871 Q130.737 105.694 132.543 109.258 Q134.371 112.8 137.982 112.8 Q141.617 112.8 143.422 109.258 Q145.251 105.694 145.251 98.5871 Q145.251 91.4575 143.422 87.9159 Q141.617 84.3511 137.982 84.3511 M137.982 80.6474 Q143.793 80.6474 146.848 85.2539 Q149.927 89.8372 149.927 98.5871 Q149.927 107.314 146.848 111.92 Q143.793 116.504 137.982 116.504 Q132.172 116.504 129.094 111.92 Q126.038 107.314 126.038 98.5871 Q126.038 89.8372 129.094 85.2539 Q132.172 80.6474 137.982 80.6474 Z\" fill=\"#000000\" fill-rule=\"nonzero\" fill-opacity=\"1\" /><path clip-path=\"url(#clip310)\" d=\"M186.315 90.3696 L175.737 100.995 L186.315 111.573 L183.561 114.374 L172.936 103.749 L162.311 114.374 L159.58 111.573 L170.135 100.995 L159.58 90.3696 L162.311 87.5687 L172.936 98.1936 L183.561 87.5687 L186.315 90.3696 Z\" fill=\"#000000\" fill-rule=\"nonzero\" fill-opacity=\"1\" /><path clip-path=\"url(#clip310)\" d=\"M198.677 111.897 L206.315 111.897 L206.315 85.5316 L198.005 87.1983 L198.005 82.939 L206.269 81.2724 L210.945 81.2724 L210.945 111.897 L218.584 111.897 L218.584 115.832 L198.677 115.832 L198.677 111.897 Z\" fill=\"#000000\" fill-rule=\"nonzero\" fill-opacity=\"1\" /><path clip-path=\"url(#clip310)\" d=\"M238.028 84.3511 Q234.417 84.3511 232.588 87.9159 Q230.783 91.4575 230.783 98.5871 Q230.783 105.694 232.588 109.258 Q234.417 112.8 238.028 112.8 Q241.662 112.8 243.468 109.258 Q245.297 105.694 245.297 98.5871 Q245.297 91.4575 243.468 87.9159 Q241.662 84.3511 238.028 84.3511 M238.028 80.6474 Q243.838 80.6474 246.894 85.2539 Q249.973 89.8372 249.973 98.5871 Q249.973 107.314 246.894 111.92 Q243.838 116.504 238.028 116.504 Q232.218 116.504 229.139 111.92 Q226.084 107.314 226.084 98.5871 Q226.084 89.8372 229.139 85.2539 Q232.218 80.6474 238.028 80.6474 Z\" fill=\"#000000\" fill-rule=\"nonzero\" fill-opacity=\"1\" /><path clip-path=\"url(#clip310)\" d=\"M262.649 63.6522 L253.057 78.6419 L262.649 78.6419 L262.649 63.6522 M261.652 60.342 L266.429 60.342 L266.429 78.6419 L270.435 78.6419 L270.435 81.8017 L266.429 81.8017 L266.429 88.422 L262.649 88.422 L262.649 81.8017 L249.973 81.8017 L249.973 78.1341 L261.652 60.342 Z\" fill=\"#000000\" fill-rule=\"nonzero\" fill-opacity=\"1\" /><path clip-path=\"url(#clip312)\" d=\"M418.987 1445.72 L418.987 1445.72 L621.344 1445.72 L621.344 1445.72 L418.987 1445.72 L418.987 1445.72  Z\" fill=\"#009af9\" fill-rule=\"evenodd\" fill-opacity=\"1\"/>\n",
       "<polyline clip-path=\"url(#clip312)\" style=\"stroke:#000000; stroke-linecap:round; stroke-linejoin:round; stroke-width:4; stroke-opacity:1; fill:none\" points=\"418.987,1445.72 418.987,1445.72 621.344,1445.72 418.987,1445.72 \"/>\n",
       "<path clip-path=\"url(#clip312)\" d=\"M621.344 1445.72 L621.344 1445.72 L823.702 1445.72 L823.702 1445.72 L621.344 1445.72 L621.344 1445.72  Z\" fill=\"#009af9\" fill-rule=\"evenodd\" fill-opacity=\"1\"/>\n",
       "<polyline clip-path=\"url(#clip312)\" style=\"stroke:#000000; stroke-linecap:round; stroke-linejoin:round; stroke-width:4; stroke-opacity:1; fill:none\" points=\"621.344,1445.72 621.344,1445.72 823.702,1445.72 621.344,1445.72 \"/>\n",
       "<path clip-path=\"url(#clip312)\" d=\"M823.702 1445.72 L823.702 1445.72 L1026.06 1445.72 L1026.06 1445.72 L823.702 1445.72 L823.702 1445.72  Z\" fill=\"#009af9\" fill-rule=\"evenodd\" fill-opacity=\"1\"/>\n",
       "<polyline clip-path=\"url(#clip312)\" style=\"stroke:#000000; stroke-linecap:round; stroke-linejoin:round; stroke-width:4; stroke-opacity:1; fill:none\" points=\"823.702,1445.72 823.702,1445.72 1026.06,1445.72 823.702,1445.72 \"/>\n",
       "<path clip-path=\"url(#clip312)\" d=\"M1026.06 95.0827 L1026.06 1445.72 L1228.42 1445.72 L1228.42 95.0827 L1026.06 95.0827 L1026.06 95.0827  Z\" fill=\"#009af9\" fill-rule=\"evenodd\" fill-opacity=\"1\"/>\n",
       "<polyline clip-path=\"url(#clip312)\" style=\"stroke:#000000; stroke-linecap:round; stroke-linejoin:round; stroke-width:4; stroke-opacity:1; fill:none\" points=\"1026.06,95.0827 1026.06,1445.72 1228.42,1445.72 1228.42,95.0827 1026.06,95.0827 \"/>\n",
       "<path clip-path=\"url(#clip312)\" d=\"M1228.42 87.9763 L1228.42 1445.72 L1430.77 1445.72 L1430.77 87.9763 L1228.42 87.9763 L1228.42 87.9763  Z\" fill=\"#009af9\" fill-rule=\"evenodd\" fill-opacity=\"1\"/>\n",
       "<polyline clip-path=\"url(#clip312)\" style=\"stroke:#000000; stroke-linecap:round; stroke-linejoin:round; stroke-width:4; stroke-opacity:1; fill:none\" points=\"1228.42,87.9763 1228.42,1445.72 1430.77,1445.72 1430.77,87.9763 1228.42,87.9763 \"/>\n",
       "<path clip-path=\"url(#clip312)\" d=\"M1430.77 95.8949 L1430.77 1445.72 L1633.13 1445.72 L1633.13 95.8949 L1430.77 95.8949 L1430.77 95.8949  Z\" fill=\"#009af9\" fill-rule=\"evenodd\" fill-opacity=\"1\"/>\n",
       "<polyline clip-path=\"url(#clip312)\" style=\"stroke:#000000; stroke-linecap:round; stroke-linejoin:round; stroke-width:4; stroke-opacity:1; fill:none\" points=\"1430.77,95.8949 1430.77,1445.72 1633.13,1445.72 1633.13,95.8949 1430.77,95.8949 \"/>\n",
       "<path clip-path=\"url(#clip312)\" d=\"M1633.13 91.9694 L1633.13 1445.72 L1835.49 1445.72 L1835.49 91.9694 L1633.13 91.9694 L1633.13 91.9694  Z\" fill=\"#009af9\" fill-rule=\"evenodd\" fill-opacity=\"1\"/>\n",
       "<polyline clip-path=\"url(#clip312)\" style=\"stroke:#000000; stroke-linecap:round; stroke-linejoin:round; stroke-width:4; stroke-opacity:1; fill:none\" points=\"1633.13,91.9694 1633.13,1445.72 1835.49,1445.72 1835.49,91.9694 1633.13,91.9694 \"/>\n",
       "<path clip-path=\"url(#clip312)\" d=\"M1835.49 89.6006 L1835.49 1445.72 L2037.85 1445.72 L2037.85 89.6006 L1835.49 89.6006 L1835.49 89.6006  Z\" fill=\"#009af9\" fill-rule=\"evenodd\" fill-opacity=\"1\"/>\n",
       "<polyline clip-path=\"url(#clip312)\" style=\"stroke:#000000; stroke-linecap:round; stroke-linejoin:round; stroke-width:4; stroke-opacity:1; fill:none\" points=\"1835.49,89.6006 1835.49,1445.72 2037.85,1445.72 2037.85,89.6006 1835.49,89.6006 \"/>\n",
       "<path clip-path=\"url(#clip312)\" d=\"M2037.85 1445.72 L2037.85 1445.72 L2240.2 1445.72 L2240.2 1445.72 L2037.85 1445.72 L2037.85 1445.72  Z\" fill=\"#009af9\" fill-rule=\"evenodd\" fill-opacity=\"1\"/>\n",
       "<polyline clip-path=\"url(#clip312)\" style=\"stroke:#000000; stroke-linecap:round; stroke-linejoin:round; stroke-width:4; stroke-opacity:1; fill:none\" points=\"2037.85,1445.72 2037.85,1445.72 2240.2,1445.72 2037.85,1445.72 \"/>\n",
       "<circle clip-path=\"url(#clip312)\" style=\"fill:#009af9; stroke:none; fill-opacity:0\" cx=\"520.165\" cy=\"1445.72\" r=\"2\"/>\n",
       "<circle clip-path=\"url(#clip312)\" style=\"fill:#009af9; stroke:none; fill-opacity:0\" cx=\"722.523\" cy=\"1445.72\" r=\"2\"/>\n",
       "<circle clip-path=\"url(#clip312)\" style=\"fill:#009af9; stroke:none; fill-opacity:0\" cx=\"924.881\" cy=\"1445.72\" r=\"2\"/>\n",
       "<circle clip-path=\"url(#clip312)\" style=\"fill:#009af9; stroke:none; fill-opacity:0\" cx=\"1127.24\" cy=\"95.0827\" r=\"2\"/>\n",
       "<circle clip-path=\"url(#clip312)\" style=\"fill:#009af9; stroke:none; fill-opacity:0\" cx=\"1329.6\" cy=\"87.9763\" r=\"2\"/>\n",
       "<circle clip-path=\"url(#clip312)\" style=\"fill:#009af9; stroke:none; fill-opacity:0\" cx=\"1531.95\" cy=\"95.8949\" r=\"2\"/>\n",
       "<circle clip-path=\"url(#clip312)\" style=\"fill:#009af9; stroke:none; fill-opacity:0\" cx=\"1734.31\" cy=\"91.9694\" r=\"2\"/>\n",
       "<circle clip-path=\"url(#clip312)\" style=\"fill:#009af9; stroke:none; fill-opacity:0\" cx=\"1936.67\" cy=\"89.6006\" r=\"2\"/>\n",
       "<circle clip-path=\"url(#clip312)\" style=\"fill:#009af9; stroke:none; fill-opacity:0\" cx=\"2139.03\" cy=\"1445.72\" r=\"2\"/>\n",
       "</svg>\n"
      ]
     },
     "execution_count": 8,
     "metadata": {},
     "output_type": "execute_result"
    }
   ],
   "source": [
    "histogram(ArrayAU(100000,3,8),bins=0:9,legend=false)"
   ]
  },
  {
   "cell_type": "markdown",
   "id": "ce0f5df0-a9f7-4dc4-b344-ea8d311e74a8",
   "metadata": {},
   "source": [
    " ### Modelando una caminata aleatoria\n",
    "\n",
    "Como estamos modelando el espacio con los números enteros, cada paso sucesivo de nuestro caminante aleatorio debería sumar o restar `1` a la posición anterior con igual probabilidad. \n",
    "\n",
    "**Ejercicio** Crea una función `unPaso` que no tome argumentos de entrada y devuelva sólamente los valores `1` y `-1` con igual probabilidad. (Pista: La forma más sencilla de hacerlo es usando `rand(Bool)` y un poco de aritmética...)"
   ]
  },
  {
   "cell_type": "code",
   "execution_count": null,
   "id": "5e9fdff4-841f-4ee6-ab9f-c3274d4f3df5",
   "metadata": {},
   "outputs": [],
   "source": [
    "function unPaso()\n",
    "    return 1-Int(rand(Bool))*(2) #Cuando Int(rand(Bool))=0, unPaso()=1-0*2=1 y \n",
    "    #cuando Int(rand(Bool))=1, unPaso()=1-1*2=-1\n",
    "end\n"
   ]
  },
  {
   "cell_type": "markdown",
   "id": "0a2d1048-cdcc-4888-913e-9a0b111d5b6d",
   "metadata": {},
   "source": [
    "**Ejercicio** Crea una función `variosPasos` que tome como argumento un número entero positivo `n` y devuelva un arreglo con `n` entradas, donde cada una de ellas tiene la misma probabilidad de ser `1` ó `-1`. (Pista: Recuerda que colocar un punto (`.`) antes de un operador aritmético hace que funcione con arreglos.)"
   ]
  },
  {
   "cell_type": "code",
   "execution_count": 10,
   "id": "0a7d891a-83cf-4a96-aee8-616076471a66",
   "metadata": {},
   "outputs": [
    {
     "data": {
      "text/plain": [
       "variosPasos (generic function with 1 method)"
      ]
     },
     "execution_count": 10,
     "metadata": {},
     "output_type": "execute_result"
    }
   ],
   "source": [
    "\n",
    "function variosPasos(n)\n",
    "    \n",
    "   Va=[] #Aquí defino un arreglo para guaradar los números aleatorios 1 ó -1.\n",
    "   for i in 1:n\n",
    "      push!(Va, unPaso() ) #Aquí se agrega el número aleatorio al arreglo. \n",
    "   end\n",
    "    return Va\n",
    "\n",
    "end"
   ]
  },
  {
   "cell_type": "code",
   "execution_count": 11,
   "id": "819b4d45-fb45-4ed1-be1e-c8b239735665",
   "metadata": {},
   "outputs": [
    {
     "data": {
      "text/plain": [
       "15-element Vector{Any}:\n",
       "  1\n",
       "  1\n",
       " -1\n",
       " -1\n",
       " -1\n",
       " -1\n",
       "  1\n",
       "  1\n",
       " -1\n",
       "  1\n",
       "  1\n",
       "  1\n",
       "  1\n",
       "  1\n",
       "  1"
      ]
     },
     "execution_count": 11,
     "metadata": {},
     "output_type": "execute_result"
    }
   ],
   "source": [
    "variosPasos(15)\n"
   ]
  },
  {
   "cell_type": "markdown",
   "id": "e77cba1b-c448-4f86-82c9-bcd3bd8b3691",
   "metadata": {},
   "source": [
    " **Ejercicio** Crea una función `caminataAleatoria` que\n",
    "* tome como entrada un número de pasos `n` y\n",
    "* devuelva como salida un arreglo con `n+1` posiciones, incluyendo la posición inicial `0`, simulando una caminata aleatoria. (Sugerencia: Puedes usar cualquiera de las funciones `unPaso` o `variosPasos`; la que te resulte más cómoda.)\n"
   ]
  },
  {
   "cell_type": "code",
   "execution_count": 12,
   "id": "edcbdfe0-e8d5-4cdc-a176-afb17d5b6c24",
   "metadata": {},
   "outputs": [
    {
     "data": {
      "text/plain": [
       "caminataAleatoria (generic function with 1 method)"
      ]
     },
     "execution_count": 12,
     "metadata": {},
     "output_type": "execute_result"
    }
   ],
   "source": [
    "function caminataAleatoria(N2)\n",
    "    CA=[0] #Aquí se le agrega el cero al arreglo porque queremos que inicie la partícula en cero.\n",
    "    for i in 2:N2+1 #Aquí definimos el el ciclo for para que devuelva un arreglo con N2+1 entradas.\n",
    "        push!(CA, CA[i-1]+ unPaso() )#Aqui se le suma \"unPaso()\" al paso anterior que dio la partícula.\n",
    "    end\n",
    "    return CA\n",
    "\n",
    "end"
   ]
  },
  {
   "cell_type": "code",
   "execution_count": 13,
   "id": "e3c6f3c9-d5c1-4161-9120-05d7cf4dc95e",
   "metadata": {},
   "outputs": [
    {
     "data": {
      "text/plain": [
       "22-element Vector{Int64}:\n",
       "  0\n",
       " -1\n",
       " -2\n",
       " -1\n",
       "  0\n",
       " -1\n",
       "  0\n",
       " -1\n",
       " -2\n",
       " -3\n",
       " -4\n",
       " -5\n",
       " -6\n",
       " -5\n",
       " -4\n",
       " -3\n",
       " -4\n",
       " -3\n",
       " -4\n",
       " -3\n",
       " -4\n",
       " -5"
      ]
     },
     "execution_count": 13,
     "metadata": {},
     "output_type": "execute_result"
    }
   ],
   "source": [
    "caminataAleatoria(21)"
   ]
  },
  {
   "cell_type": "markdown",
   "id": "7ded1f64-3ba4-4fef-9e41-88ff9a634004",
   "metadata": {},
   "source": [
    "**Ejercicio** Crea una función `graficaCaminata` que\n",
    "* tome como entrada un arreglo -que supondremos que simula una caminata aleatoria en una dimensión- y \n",
    "* devuelva como salida una gráfica de posición contra número de pasos, usando _puntos_ (`scatter`) y con etiquetas en los ejes.\n",
    "(Sugerencia: Crea un bloque de código con `begin` y `end` para poder hacer todo en una sola celda de Pluto.)\n",
    "Luego, en una celda aparte, define una variable `n2` como un número entero positivo y aplica tu función `graficaCaminata` a `caminataAleatoria(n2)` para generar gráficas de caminatas aleatorias.\n"
   ]
  },
  {
   "cell_type": "code",
   "execution_count": 14,
   "id": "ef4edd31-72ef-43d6-89ce-632dc616f550",
   "metadata": {},
   "outputs": [
    {
     "data": {
      "text/plain": [
       "Arrposicion (generic function with 1 method)"
      ]
     },
     "execution_count": 14,
     "metadata": {},
     "output_type": "execute_result"
    }
   ],
   "source": [
    "\n",
    "function Arrposicion(N) #Esta función se encarga de entregar un arreglo con las entradas enumeradas\n",
    "                        #para que se pueda graficar junto a \"caminataAleatoria\".\n",
    "    T=[0]\n",
    "    for i in 1:N\n",
    "        push!(T, i )#Aquí se agrega i en la entrada i\n",
    "    end\n",
    "    return T\n",
    "end"
   ]
  },
  {
   "cell_type": "code",
   "execution_count": 15,
   "id": "cd3fdd4d-457a-4ed9-8dad-6ef96a5ec3d3",
   "metadata": {},
   "outputs": [
    {
     "data": {
      "text/plain": [
       "3-element Vector{Int64}:\n",
       " 0\n",
       " 1\n",
       " 2"
      ]
     },
     "execution_count": 15,
     "metadata": {},
     "output_type": "execute_result"
    }
   ],
   "source": [
    "Arrposicion(2)"
   ]
  },
  {
   "cell_type": "code",
   "execution_count": 16,
   "id": "d9ceda8e-c173-445e-8e07-f41e90e6dc23",
   "metadata": {},
   "outputs": [
    {
     "data": {
      "text/plain": [
       "graficaCaminata (generic function with 1 method)"
      ]
     },
     "execution_count": 16,
     "metadata": {},
     "output_type": "execute_result"
    }
   ],
   "source": [
    "function graficaCaminata(T)\n",
    "    n=length(T) #Aquí se cuenta las entradas del arreglo para obtener una arreglo Arrposicion(N) de las misma dimensión.\n",
    "    Posic=Arrposicion(n-1)\n",
    "\n",
    "    scatter(Posic,T)#aquí se grafican los arreglos de posición y caminata aleatoria.\n",
    "    xlabel!(\"Número de pasos\")\n",
    "    ylabel!(\"Posición\")\n",
    "\n",
    "end"
   ]
  },
  {
   "cell_type": "code",
   "execution_count": 17,
   "id": "7fca4657-8c56-4dcb-9884-559f5c99a958",
   "metadata": {},
   "outputs": [
    {
     "data": {
      "image/svg+xml": [
       "<?xml version=\"1.0\" encoding=\"utf-8\"?>\n",
       "<svg xmlns=\"http://www.w3.org/2000/svg\" xmlns:xlink=\"http://www.w3.org/1999/xlink\" width=\"600\" height=\"400\" viewBox=\"0 0 2400 1600\">\n",
       "<defs>\n",
       "  <clipPath id=\"clip350\">\n",
       "    <rect x=\"0\" y=\"0\" width=\"2400\" height=\"1600\"/>\n",
       "  </clipPath>\n",
       "</defs>\n",
       "<path clip-path=\"url(#clip350)\" d=\"M0 1600 L2400 1600 L2400 0 L0 0  Z\" fill=\"#ffffff\" fill-rule=\"evenodd\" fill-opacity=\"1\"/>\n",
       "<defs>\n",
       "  <clipPath id=\"clip351\">\n",
       "    <rect x=\"480\" y=\"0\" width=\"1681\" height=\"1600\"/>\n",
       "  </clipPath>\n",
       "</defs>\n",
       "<path clip-path=\"url(#clip350)\" d=\"M212.459 1423.18 L2352.76 1423.18 L2352.76 47.2441 L212.459 47.2441  Z\" fill=\"#ffffff\" fill-rule=\"evenodd\" fill-opacity=\"1\"/>\n",
       "<defs>\n",
       "  <clipPath id=\"clip352\">\n",
       "    <rect x=\"212\" y=\"47\" width=\"2141\" height=\"1377\"/>\n",
       "  </clipPath>\n",
       "</defs>\n",
       "<polyline clip-path=\"url(#clip352)\" style=\"stroke:#000000; stroke-linecap:round; stroke-linejoin:round; stroke-width:2; stroke-opacity:0.1; fill:none\" points=\"273.033,1423.18 273.033,47.2441 \"/>\n",
       "<polyline clip-path=\"url(#clip352)\" style=\"stroke:#000000; stroke-linecap:round; stroke-linejoin:round; stroke-width:2; stroke-opacity:0.1; fill:none\" points=\"946.083,1423.18 946.083,47.2441 \"/>\n",
       "<polyline clip-path=\"url(#clip352)\" style=\"stroke:#000000; stroke-linecap:round; stroke-linejoin:round; stroke-width:2; stroke-opacity:0.1; fill:none\" points=\"1619.13,1423.18 1619.13,47.2441 \"/>\n",
       "<polyline clip-path=\"url(#clip352)\" style=\"stroke:#000000; stroke-linecap:round; stroke-linejoin:round; stroke-width:2; stroke-opacity:0.1; fill:none\" points=\"2292.18,1423.18 2292.18,47.2441 \"/>\n",
       "<polyline clip-path=\"url(#clip350)\" style=\"stroke:#000000; stroke-linecap:round; stroke-linejoin:round; stroke-width:4; stroke-opacity:1; fill:none\" points=\"212.459,1423.18 2352.76,1423.18 \"/>\n",
       "<polyline clip-path=\"url(#clip350)\" style=\"stroke:#000000; stroke-linecap:round; stroke-linejoin:round; stroke-width:4; stroke-opacity:1; fill:none\" points=\"273.033,1423.18 273.033,1404.28 \"/>\n",
       "<polyline clip-path=\"url(#clip350)\" style=\"stroke:#000000; stroke-linecap:round; stroke-linejoin:round; stroke-width:4; stroke-opacity:1; fill:none\" points=\"946.083,1423.18 946.083,1404.28 \"/>\n",
       "<polyline clip-path=\"url(#clip350)\" style=\"stroke:#000000; stroke-linecap:round; stroke-linejoin:round; stroke-width:4; stroke-opacity:1; fill:none\" points=\"1619.13,1423.18 1619.13,1404.28 \"/>\n",
       "<polyline clip-path=\"url(#clip350)\" style=\"stroke:#000000; stroke-linecap:round; stroke-linejoin:round; stroke-width:4; stroke-opacity:1; fill:none\" points=\"2292.18,1423.18 2292.18,1404.28 \"/>\n",
       "<path clip-path=\"url(#clip350)\" d=\"M273.033 1454.1 Q269.422 1454.1 267.594 1457.66 Q265.788 1461.2 265.788 1468.33 Q265.788 1475.44 267.594 1479.01 Q269.422 1482.55 273.033 1482.55 Q276.668 1482.55 278.473 1479.01 Q280.302 1475.44 280.302 1468.33 Q280.302 1461.2 278.473 1457.66 Q276.668 1454.1 273.033 1454.1 M273.033 1450.39 Q278.843 1450.39 281.899 1455 Q284.978 1459.58 284.978 1468.33 Q284.978 1477.06 281.899 1481.67 Q278.843 1486.25 273.033 1486.25 Q267.223 1486.25 264.145 1481.67 Q261.089 1477.06 261.089 1468.33 Q261.089 1459.58 264.145 1455 Q267.223 1450.39 273.033 1450.39 Z\" fill=\"#000000\" fill-rule=\"nonzero\" fill-opacity=\"1\" /><path clip-path=\"url(#clip350)\" d=\"M936.361 1451.02 L954.717 1451.02 L954.717 1454.96 L940.643 1454.96 L940.643 1463.43 Q941.661 1463.08 942.68 1462.92 Q943.698 1462.73 944.717 1462.73 Q950.504 1462.73 953.884 1465.9 Q957.263 1469.08 957.263 1474.49 Q957.263 1480.07 953.791 1483.17 Q950.319 1486.25 943.999 1486.25 Q941.823 1486.25 939.555 1485.88 Q937.31 1485.51 934.902 1484.77 L934.902 1480.07 Q936.986 1481.2 939.208 1481.76 Q941.43 1482.32 943.907 1482.32 Q947.911 1482.32 950.249 1480.21 Q952.587 1478.1 952.587 1474.49 Q952.587 1470.88 950.249 1468.77 Q947.911 1466.67 943.907 1466.67 Q942.032 1466.67 940.157 1467.08 Q938.305 1467.5 936.361 1468.38 L936.361 1451.02 Z\" fill=\"#000000\" fill-rule=\"nonzero\" fill-opacity=\"1\" /><path clip-path=\"url(#clip350)\" d=\"M1593.82 1481.64 L1601.46 1481.64 L1601.46 1455.28 L1593.15 1456.95 L1593.15 1452.69 L1601.41 1451.02 L1606.09 1451.02 L1606.09 1481.64 L1613.73 1481.64 L1613.73 1485.58 L1593.82 1485.58 L1593.82 1481.64 Z\" fill=\"#000000\" fill-rule=\"nonzero\" fill-opacity=\"1\" /><path clip-path=\"url(#clip350)\" d=\"M1633.17 1454.1 Q1629.56 1454.1 1627.73 1457.66 Q1625.93 1461.2 1625.93 1468.33 Q1625.93 1475.44 1627.73 1479.01 Q1629.56 1482.55 1633.17 1482.55 Q1636.81 1482.55 1638.61 1479.01 Q1640.44 1475.44 1640.44 1468.33 Q1640.44 1461.2 1638.61 1457.66 Q1636.81 1454.1 1633.17 1454.1 M1633.17 1450.39 Q1638.98 1450.39 1642.04 1455 Q1645.12 1459.58 1645.12 1468.33 Q1645.12 1477.06 1642.04 1481.67 Q1638.98 1486.25 1633.17 1486.25 Q1627.36 1486.25 1624.28 1481.67 Q1621.23 1477.06 1621.23 1468.33 Q1621.23 1459.58 1624.28 1455 Q1627.36 1450.39 1633.17 1450.39 Z\" fill=\"#000000\" fill-rule=\"nonzero\" fill-opacity=\"1\" /><path clip-path=\"url(#clip350)\" d=\"M2267.37 1481.64 L2275.01 1481.64 L2275.01 1455.28 L2266.7 1456.95 L2266.7 1452.69 L2274.96 1451.02 L2279.64 1451.02 L2279.64 1481.64 L2287.27 1481.64 L2287.27 1485.58 L2267.37 1485.58 L2267.37 1481.64 Z\" fill=\"#000000\" fill-rule=\"nonzero\" fill-opacity=\"1\" /><path clip-path=\"url(#clip350)\" d=\"M2296.76 1451.02 L2315.12 1451.02 L2315.12 1454.96 L2301.05 1454.96 L2301.05 1463.43 Q2302.07 1463.08 2303.08 1462.92 Q2304.1 1462.73 2305.12 1462.73 Q2310.91 1462.73 2314.29 1465.9 Q2317.67 1469.08 2317.67 1474.49 Q2317.67 1480.07 2314.2 1483.17 Q2310.72 1486.25 2304.4 1486.25 Q2302.23 1486.25 2299.96 1485.88 Q2297.71 1485.51 2295.31 1484.77 L2295.31 1480.07 Q2297.39 1481.2 2299.61 1481.76 Q2301.83 1482.32 2304.31 1482.32 Q2308.32 1482.32 2310.65 1480.21 Q2312.99 1478.1 2312.99 1474.49 Q2312.99 1470.88 2310.65 1468.77 Q2308.32 1466.67 2304.31 1466.67 Q2302.44 1466.67 2300.56 1467.08 Q2298.71 1467.5 2296.76 1468.38 L2296.76 1451.02 Z\" fill=\"#000000\" fill-rule=\"nonzero\" fill-opacity=\"1\" /><path clip-path=\"url(#clip350)\" d=\"M1001.91 1520.52 L1010.57 1520.52 L1031.64 1560.28 L1031.64 1520.52 L1037.88 1520.52 L1037.88 1568.04 L1029.22 1568.04 L1008.15 1528.29 L1008.15 1568.04 L1001.91 1568.04 L1001.91 1520.52 Z\" fill=\"#000000\" fill-rule=\"nonzero\" fill-opacity=\"1\" /><path clip-path=\"url(#clip350)\" d=\"M1049.81 1553.98 L1049.81 1532.4 L1055.67 1532.4 L1055.67 1553.75 Q1055.67 1558.81 1057.64 1561.36 Q1059.62 1563.87 1063.56 1563.87 Q1068.31 1563.87 1071.04 1560.85 Q1073.81 1557.83 1073.81 1552.61 L1073.81 1532.4 L1079.67 1532.4 L1079.67 1568.04 L1073.81 1568.04 L1073.81 1562.57 Q1071.68 1565.82 1068.85 1567.41 Q1066.05 1568.97 1062.32 1568.97 Q1056.18 1568.97 1053 1565.15 Q1049.81 1561.33 1049.81 1553.98 M1064.55 1531.54 L1064.55 1531.54 M1068.91 1515.91 L1075.24 1515.91 L1064.87 1527.88 L1060 1527.88 L1068.91 1515.91 Z\" fill=\"#000000\" fill-rule=\"nonzero\" fill-opacity=\"1\" /><path clip-path=\"url(#clip350)\" d=\"M1119.49 1539.24 Q1121.68 1535.29 1124.74 1533.41 Q1127.79 1531.54 1131.93 1531.54 Q1137.5 1531.54 1140.52 1535.45 Q1143.55 1539.33 1143.55 1546.53 L1143.55 1568.04 L1137.66 1568.04 L1137.66 1546.72 Q1137.66 1541.59 1135.85 1539.11 Q1134.03 1536.63 1130.31 1536.63 Q1125.76 1536.63 1123.11 1539.65 Q1120.47 1542.68 1120.47 1547.9 L1120.47 1568.04 L1114.58 1568.04 L1114.58 1546.72 Q1114.58 1541.56 1112.77 1539.11 Q1110.96 1536.63 1107.17 1536.63 Q1102.68 1536.63 1100.04 1539.68 Q1097.4 1542.71 1097.4 1547.9 L1097.4 1568.04 L1091.51 1568.04 L1091.51 1532.4 L1097.4 1532.4 L1097.4 1537.93 Q1099.4 1534.66 1102.2 1533.1 Q1105 1531.54 1108.86 1531.54 Q1112.74 1531.54 1115.44 1533.51 Q1118.18 1535.48 1119.49 1539.24 Z\" fill=\"#000000\" fill-rule=\"nonzero\" fill-opacity=\"1\" /><path clip-path=\"url(#clip350)\" d=\"M1185.72 1548.76 L1185.72 1551.62 L1158.79 1551.62 Q1159.18 1557.67 1162.42 1560.85 Q1165.7 1564 1171.53 1564 Q1174.9 1564 1178.05 1563.17 Q1181.23 1562.35 1184.35 1560.69 L1184.35 1566.23 Q1181.2 1567.57 1177.89 1568.27 Q1174.58 1568.97 1171.18 1568.97 Q1162.65 1568.97 1157.65 1564 Q1152.68 1559.04 1152.68 1550.57 Q1152.68 1541.82 1157.39 1536.69 Q1162.14 1531.54 1170.16 1531.54 Q1177.35 1531.54 1181.52 1536.18 Q1185.72 1540.8 1185.72 1548.76 M1179.86 1547.04 Q1179.8 1542.23 1177.16 1539.37 Q1174.55 1536.5 1170.22 1536.5 Q1165.32 1536.5 1162.36 1539.27 Q1159.43 1542.04 1158.99 1547.07 L1179.86 1547.04 Z\" fill=\"#000000\" fill-rule=\"nonzero\" fill-opacity=\"1\" /><path clip-path=\"url(#clip350)\" d=\"M1215.99 1537.87 Q1215 1537.3 1213.83 1537.04 Q1212.68 1536.76 1211.28 1536.76 Q1206.31 1536.76 1203.64 1540 Q1201 1543.22 1201 1549.27 L1201 1568.04 L1195.11 1568.04 L1195.11 1532.4 L1201 1532.4 L1201 1537.93 Q1202.85 1534.69 1205.81 1533.13 Q1208.77 1531.54 1213 1531.54 Q1213.6 1531.54 1214.34 1531.63 Q1215.07 1531.7 1215.96 1531.85 L1215.99 1537.87 Z\" fill=\"#000000\" fill-rule=\"nonzero\" fill-opacity=\"1\" /><path clip-path=\"url(#clip350)\" d=\"M1234.51 1536.5 Q1229.8 1536.5 1227.07 1540.19 Q1224.33 1543.85 1224.33 1550.25 Q1224.33 1556.65 1227.03 1560.34 Q1229.77 1564 1234.51 1564 Q1239.19 1564 1241.93 1560.31 Q1244.67 1556.62 1244.67 1550.25 Q1244.67 1543.92 1241.93 1540.23 Q1239.19 1536.5 1234.51 1536.5 M1234.51 1531.54 Q1242.15 1531.54 1246.51 1536.5 Q1250.87 1541.47 1250.87 1550.25 Q1250.87 1559 1246.51 1564 Q1242.15 1568.97 1234.51 1568.97 Q1226.84 1568.97 1222.48 1564 Q1218.15 1559 1218.15 1550.25 Q1218.15 1541.47 1222.48 1536.5 Q1226.84 1531.54 1234.51 1531.54 Z\" fill=\"#000000\" fill-rule=\"nonzero\" fill-opacity=\"1\" /><path clip-path=\"url(#clip350)\" d=\"M1304.76 1537.81 L1304.76 1518.52 L1310.62 1518.52 L1310.62 1568.04 L1304.76 1568.04 L1304.76 1562.7 Q1302.91 1565.88 1300.08 1567.44 Q1297.28 1568.97 1293.33 1568.97 Q1286.87 1568.97 1282.8 1563.81 Q1278.76 1558.65 1278.76 1550.25 Q1278.76 1541.85 1282.8 1536.69 Q1286.87 1531.54 1293.33 1531.54 Q1297.28 1531.54 1300.08 1533.1 Q1302.91 1534.62 1304.76 1537.81 M1284.8 1550.25 Q1284.8 1556.71 1287.45 1560.4 Q1290.12 1564.07 1294.77 1564.07 Q1299.41 1564.07 1302.09 1560.4 Q1304.76 1556.71 1304.76 1550.25 Q1304.76 1543.79 1302.09 1540.13 Q1299.41 1536.44 1294.77 1536.44 Q1290.12 1536.44 1287.45 1540.13 Q1284.8 1543.79 1284.8 1550.25 Z\" fill=\"#000000\" fill-rule=\"nonzero\" fill-opacity=\"1\" /><path clip-path=\"url(#clip350)\" d=\"M1353.17 1548.76 L1353.17 1551.62 L1326.24 1551.62 Q1326.63 1557.67 1329.87 1560.85 Q1333.15 1564 1338.98 1564 Q1342.35 1564 1345.5 1563.17 Q1348.68 1562.35 1351.8 1560.69 L1351.8 1566.23 Q1348.65 1567.57 1345.34 1568.27 Q1342.03 1568.97 1338.63 1568.97 Q1330.1 1568.97 1325.1 1564 Q1320.13 1559.04 1320.13 1550.57 Q1320.13 1541.82 1324.84 1536.69 Q1329.59 1531.54 1337.61 1531.54 Q1344.8 1531.54 1348.97 1536.18 Q1353.17 1540.8 1353.17 1548.76 M1347.31 1547.04 Q1347.25 1542.23 1344.61 1539.37 Q1342 1536.5 1337.67 1536.5 Q1332.77 1536.5 1329.81 1539.27 Q1326.88 1542.04 1326.44 1547.07 L1347.31 1547.04 Z\" fill=\"#000000\" fill-rule=\"nonzero\" fill-opacity=\"1\" /><path clip-path=\"url(#clip350)\" d=\"M1389.17 1562.7 L1389.17 1581.6 L1383.28 1581.6 L1383.28 1532.4 L1389.17 1532.4 L1389.17 1537.81 Q1391.02 1534.62 1393.82 1533.1 Q1396.65 1531.54 1400.56 1531.54 Q1407.06 1531.54 1411.1 1536.69 Q1415.17 1541.85 1415.17 1550.25 Q1415.17 1558.65 1411.1 1563.81 Q1407.06 1568.97 1400.56 1568.97 Q1396.65 1568.97 1393.82 1567.44 Q1391.02 1565.88 1389.17 1562.7 M1409.09 1550.25 Q1409.09 1543.79 1406.42 1540.13 Q1403.78 1536.44 1399.13 1536.44 Q1394.48 1536.44 1391.81 1540.13 Q1389.17 1543.79 1389.17 1550.25 Q1389.17 1556.71 1391.81 1560.4 Q1394.48 1564.07 1399.13 1564.07 Q1403.78 1564.07 1406.42 1560.4 Q1409.09 1556.71 1409.09 1550.25 Z\" fill=\"#000000\" fill-rule=\"nonzero\" fill-opacity=\"1\" /><path clip-path=\"url(#clip350)\" d=\"M1441.08 1550.12 Q1433.98 1550.12 1431.25 1551.75 Q1428.51 1553.37 1428.51 1557.29 Q1428.51 1560.4 1430.55 1562.25 Q1432.62 1564.07 1436.15 1564.07 Q1441.02 1564.07 1443.95 1560.63 Q1446.91 1557.16 1446.91 1551.43 L1446.91 1550.12 L1441.08 1550.12 M1452.76 1547.71 L1452.76 1568.04 L1446.91 1568.04 L1446.91 1562.63 Q1444.9 1565.88 1441.91 1567.44 Q1438.92 1568.97 1434.59 1568.97 Q1429.11 1568.97 1425.87 1565.91 Q1422.65 1562.82 1422.65 1557.67 Q1422.65 1551.65 1426.66 1548.6 Q1430.71 1545.54 1438.69 1545.54 L1446.91 1545.54 L1446.91 1544.97 Q1446.91 1540.93 1444.23 1538.73 Q1441.59 1536.5 1436.78 1536.5 Q1433.73 1536.5 1430.83 1537.23 Q1427.94 1537.97 1425.26 1539.43 L1425.26 1534.02 Q1428.48 1532.78 1431.5 1532.17 Q1434.52 1531.54 1437.39 1531.54 Q1445.12 1531.54 1448.94 1535.55 Q1452.76 1539.56 1452.76 1547.71 Z\" fill=\"#000000\" fill-rule=\"nonzero\" fill-opacity=\"1\" /><path clip-path=\"url(#clip350)\" d=\"M1487.55 1533.45 L1487.55 1538.98 Q1485.07 1537.71 1482.4 1537.07 Q1479.72 1536.44 1476.86 1536.44 Q1472.5 1536.44 1470.3 1537.77 Q1468.14 1539.11 1468.14 1541.79 Q1468.14 1543.82 1469.7 1545 Q1471.26 1546.15 1475.97 1547.2 L1477.97 1547.64 Q1484.21 1548.98 1486.82 1551.43 Q1489.46 1553.85 1489.46 1558.21 Q1489.46 1563.17 1485.51 1566.07 Q1481.6 1568.97 1474.72 1568.97 Q1471.86 1568.97 1468.74 1568.39 Q1465.65 1567.85 1462.22 1566.74 L1462.22 1560.69 Q1465.46 1562.38 1468.61 1563.24 Q1471.76 1564.07 1474.85 1564.07 Q1478.99 1564.07 1481.22 1562.66 Q1483.45 1561.23 1483.45 1558.65 Q1483.45 1556.27 1481.82 1554.99 Q1480.23 1553.72 1474.79 1552.54 L1472.75 1552.07 Q1467.31 1550.92 1464.89 1548.56 Q1462.47 1546.18 1462.47 1542.04 Q1462.47 1537.01 1466.04 1534.27 Q1469.6 1531.54 1476.16 1531.54 Q1479.4 1531.54 1482.27 1532.01 Q1485.13 1532.49 1487.55 1533.45 Z\" fill=\"#000000\" fill-rule=\"nonzero\" fill-opacity=\"1\" /><path clip-path=\"url(#clip350)\" d=\"M1512.6 1536.5 Q1507.89 1536.5 1505.15 1540.19 Q1502.42 1543.85 1502.42 1550.25 Q1502.42 1556.65 1505.12 1560.34 Q1507.86 1564 1512.6 1564 Q1517.28 1564 1520.02 1560.31 Q1522.75 1556.62 1522.75 1550.25 Q1522.75 1543.92 1520.02 1540.23 Q1517.28 1536.5 1512.6 1536.5 M1512.6 1531.54 Q1520.24 1531.54 1524.6 1536.5 Q1528.96 1541.47 1528.96 1550.25 Q1528.96 1559 1524.6 1564 Q1520.24 1568.97 1512.6 1568.97 Q1504.93 1568.97 1500.57 1564 Q1496.24 1559 1496.24 1550.25 Q1496.24 1541.47 1500.57 1536.5 Q1504.93 1531.54 1512.6 1531.54 Z\" fill=\"#000000\" fill-rule=\"nonzero\" fill-opacity=\"1\" /><path clip-path=\"url(#clip350)\" d=\"M1561.39 1533.45 L1561.39 1538.98 Q1558.91 1537.71 1556.24 1537.07 Q1553.56 1536.44 1550.7 1536.44 Q1546.34 1536.44 1544.14 1537.77 Q1541.98 1539.11 1541.98 1541.79 Q1541.98 1543.82 1543.54 1545 Q1545.1 1546.15 1549.81 1547.2 L1551.81 1547.64 Q1558.05 1548.98 1560.66 1551.43 Q1563.3 1553.85 1563.3 1558.21 Q1563.3 1563.17 1559.36 1566.07 Q1555.44 1568.97 1548.57 1568.97 Q1545.7 1568.97 1542.58 1568.39 Q1539.5 1567.85 1536.06 1566.74 L1536.06 1560.69 Q1539.3 1562.38 1542.46 1563.24 Q1545.61 1564.07 1548.69 1564.07 Q1552.83 1564.07 1555.06 1562.66 Q1557.29 1561.23 1557.29 1558.65 Q1557.29 1556.27 1555.66 1554.99 Q1554.07 1553.72 1548.63 1552.54 L1546.59 1552.07 Q1541.15 1550.92 1538.73 1548.56 Q1536.31 1546.18 1536.31 1542.04 Q1536.31 1537.01 1539.88 1534.27 Q1543.44 1531.54 1550 1531.54 Q1553.25 1531.54 1556.11 1532.01 Q1558.97 1532.49 1561.39 1533.45 Z\" fill=\"#000000\" fill-rule=\"nonzero\" fill-opacity=\"1\" /><polyline clip-path=\"url(#clip352)\" style=\"stroke:#000000; stroke-linecap:round; stroke-linejoin:round; stroke-width:2; stroke-opacity:0.1; fill:none\" points=\"212.459,1384.24 2352.76,1384.24 \"/>\n",
       "<polyline clip-path=\"url(#clip352)\" style=\"stroke:#000000; stroke-linecap:round; stroke-linejoin:round; stroke-width:2; stroke-opacity:0.1; fill:none\" points=\"212.459,1124.63 2352.76,1124.63 \"/>\n",
       "<polyline clip-path=\"url(#clip352)\" style=\"stroke:#000000; stroke-linecap:round; stroke-linejoin:round; stroke-width:2; stroke-opacity:0.1; fill:none\" points=\"212.459,865.017 2352.76,865.017 \"/>\n",
       "<polyline clip-path=\"url(#clip352)\" style=\"stroke:#000000; stroke-linecap:round; stroke-linejoin:round; stroke-width:2; stroke-opacity:0.1; fill:none\" points=\"212.459,605.407 2352.76,605.407 \"/>\n",
       "<polyline clip-path=\"url(#clip352)\" style=\"stroke:#000000; stroke-linecap:round; stroke-linejoin:round; stroke-width:2; stroke-opacity:0.1; fill:none\" points=\"212.459,345.796 2352.76,345.796 \"/>\n",
       "<polyline clip-path=\"url(#clip352)\" style=\"stroke:#000000; stroke-linecap:round; stroke-linejoin:round; stroke-width:2; stroke-opacity:0.1; fill:none\" points=\"212.459,86.1857 2352.76,86.1857 \"/>\n",
       "<polyline clip-path=\"url(#clip350)\" style=\"stroke:#000000; stroke-linecap:round; stroke-linejoin:round; stroke-width:4; stroke-opacity:1; fill:none\" points=\"212.459,1423.18 212.459,47.2441 \"/>\n",
       "<polyline clip-path=\"url(#clip350)\" style=\"stroke:#000000; stroke-linecap:round; stroke-linejoin:round; stroke-width:4; stroke-opacity:1; fill:none\" points=\"212.459,1384.24 231.357,1384.24 \"/>\n",
       "<polyline clip-path=\"url(#clip350)\" style=\"stroke:#000000; stroke-linecap:round; stroke-linejoin:round; stroke-width:4; stroke-opacity:1; fill:none\" points=\"212.459,1124.63 231.357,1124.63 \"/>\n",
       "<polyline clip-path=\"url(#clip350)\" style=\"stroke:#000000; stroke-linecap:round; stroke-linejoin:round; stroke-width:4; stroke-opacity:1; fill:none\" points=\"212.459,865.017 231.357,865.017 \"/>\n",
       "<polyline clip-path=\"url(#clip350)\" style=\"stroke:#000000; stroke-linecap:round; stroke-linejoin:round; stroke-width:4; stroke-opacity:1; fill:none\" points=\"212.459,605.407 231.357,605.407 \"/>\n",
       "<polyline clip-path=\"url(#clip350)\" style=\"stroke:#000000; stroke-linecap:round; stroke-linejoin:round; stroke-width:4; stroke-opacity:1; fill:none\" points=\"212.459,345.796 231.357,345.796 \"/>\n",
       "<polyline clip-path=\"url(#clip350)\" style=\"stroke:#000000; stroke-linecap:round; stroke-linejoin:round; stroke-width:4; stroke-opacity:1; fill:none\" points=\"212.459,86.1857 231.357,86.1857 \"/>\n",
       "<path clip-path=\"url(#clip350)\" d=\"M115.742 1384.69 L145.417 1384.69 L145.417 1388.62 L115.742 1388.62 L115.742 1384.69 Z\" fill=\"#000000\" fill-rule=\"nonzero\" fill-opacity=\"1\" /><path clip-path=\"url(#clip350)\" d=\"M155.556 1366.96 L173.913 1366.96 L173.913 1370.89 L159.839 1370.89 L159.839 1379.37 Q160.857 1379.02 161.876 1378.86 Q162.894 1378.67 163.913 1378.67 Q169.7 1378.67 173.079 1381.84 Q176.459 1385.01 176.459 1390.43 Q176.459 1396.01 172.987 1399.11 Q169.514 1402.19 163.195 1402.19 Q161.019 1402.19 158.751 1401.82 Q156.505 1401.45 154.098 1400.71 L154.098 1396.01 Q156.181 1397.14 158.403 1397.7 Q160.626 1398.25 163.102 1398.25 Q167.107 1398.25 169.445 1396.15 Q171.783 1394.04 171.783 1390.43 Q171.783 1386.82 169.445 1384.71 Q167.107 1382.61 163.102 1382.61 Q161.227 1382.61 159.353 1383.02 Q157.501 1383.44 155.556 1384.32 L155.556 1366.96 Z\" fill=\"#000000\" fill-rule=\"nonzero\" fill-opacity=\"1\" /><path clip-path=\"url(#clip350)\" d=\"M114.26 1125.08 L143.936 1125.08 L143.936 1129.01 L114.26 1129.01 L114.26 1125.08 Z\" fill=\"#000000\" fill-rule=\"nonzero\" fill-opacity=\"1\" /><path clip-path=\"url(#clip350)\" d=\"M166.876 1111.42 L155.07 1129.87 L166.876 1129.87 L166.876 1111.42 M165.649 1107.35 L171.528 1107.35 L171.528 1129.87 L176.459 1129.87 L176.459 1133.76 L171.528 1133.76 L171.528 1141.91 L166.876 1141.91 L166.876 1133.76 L151.274 1133.76 L151.274 1129.25 L165.649 1107.35 Z\" fill=\"#000000\" fill-rule=\"nonzero\" fill-opacity=\"1\" /><path clip-path=\"url(#clip350)\" d=\"M115.394 865.469 L145.07 865.469 L145.07 869.404 L115.394 869.404 L115.394 865.469 Z\" fill=\"#000000\" fill-rule=\"nonzero\" fill-opacity=\"1\" /><path clip-path=\"url(#clip350)\" d=\"M169.329 863.663 Q172.686 864.381 174.561 866.649 Q176.459 868.918 176.459 872.251 Q176.459 877.367 172.94 880.168 Q169.422 882.969 162.94 882.969 Q160.765 882.969 158.45 882.529 Q156.158 882.112 153.704 881.256 L153.704 876.742 Q155.649 877.876 157.964 878.455 Q160.278 879.033 162.802 879.033 Q167.2 879.033 169.491 877.297 Q171.806 875.561 171.806 872.251 Q171.806 869.195 169.653 867.482 Q167.524 865.746 163.704 865.746 L159.677 865.746 L159.677 861.904 L163.89 861.904 Q167.339 861.904 169.167 860.538 Q170.996 859.149 170.996 856.557 Q170.996 853.895 169.098 852.483 Q167.223 851.047 163.704 851.047 Q161.783 851.047 159.584 851.464 Q157.385 851.881 154.746 852.76 L154.746 848.594 Q157.408 847.853 159.723 847.483 Q162.061 847.112 164.121 847.112 Q169.445 847.112 172.547 849.543 Q175.649 851.95 175.649 856.071 Q175.649 858.941 174.005 860.932 Q172.362 862.899 169.329 863.663 Z\" fill=\"#000000\" fill-rule=\"nonzero\" fill-opacity=\"1\" /><path clip-path=\"url(#clip350)\" d=\"M116.343 605.858 L146.019 605.858 L146.019 609.793 L116.343 609.793 L116.343 605.858 Z\" fill=\"#000000\" fill-rule=\"nonzero\" fill-opacity=\"1\" /><path clip-path=\"url(#clip350)\" d=\"M160.14 618.752 L176.459 618.752 L176.459 622.687 L154.515 622.687 L154.515 618.752 Q157.177 615.997 161.76 611.367 Q166.366 606.715 167.547 605.372 Q169.792 602.849 170.672 601.113 Q171.575 599.354 171.575 597.664 Q171.575 594.909 169.63 593.173 Q167.709 591.437 164.607 591.437 Q162.408 591.437 159.954 592.201 Q157.524 592.965 154.746 594.516 L154.746 589.793 Q157.57 588.659 160.024 588.08 Q162.477 587.502 164.515 587.502 Q169.885 587.502 173.079 590.187 Q176.274 592.872 176.274 597.363 Q176.274 599.492 175.464 601.414 Q174.677 603.312 172.57 605.904 Q171.991 606.576 168.889 609.793 Q165.788 612.988 160.14 618.752 Z\" fill=\"#000000\" fill-rule=\"nonzero\" fill-opacity=\"1\" /><path clip-path=\"url(#clip350)\" d=\"M115.973 346.248 L145.649 346.248 L145.649 350.183 L115.973 350.183 L115.973 346.248 Z\" fill=\"#000000\" fill-rule=\"nonzero\" fill-opacity=\"1\" /><path clip-path=\"url(#clip350)\" d=\"M156.552 359.141 L164.19 359.141 L164.19 332.775 L155.88 334.442 L155.88 330.183 L164.144 328.516 L168.82 328.516 L168.82 359.141 L176.459 359.141 L176.459 363.076 L156.552 363.076 L156.552 359.141 Z\" fill=\"#000000\" fill-rule=\"nonzero\" fill-opacity=\"1\" /><path clip-path=\"url(#clip350)\" d=\"M164.515 71.9844 Q160.903 71.9844 159.075 75.5492 Q157.269 79.0908 157.269 86.2204 Q157.269 93.3268 159.075 96.8916 Q160.903 100.433 164.515 100.433 Q168.149 100.433 169.954 96.8916 Q171.783 93.3268 171.783 86.2204 Q171.783 79.0908 169.954 75.5492 Q168.149 71.9844 164.515 71.9844 M164.515 68.2807 Q170.325 68.2807 173.38 72.8871 Q176.459 77.4704 176.459 86.2204 Q176.459 94.9472 173.38 99.5537 Q170.325 104.137 164.515 104.137 Q158.704 104.137 155.626 99.5537 Q152.57 94.9472 152.57 86.2204 Q152.57 77.4704 155.626 72.8871 Q158.704 68.2807 164.515 68.2807 Z\" fill=\"#000000\" fill-rule=\"nonzero\" fill-opacity=\"1\" /><path clip-path=\"url(#clip350)\" d=\"M21.7677 854.855 L39.6235 854.855 L39.6235 846.771 Q39.6235 842.283 37.3 839.832 Q34.9765 837.382 30.6797 837.382 Q26.4147 837.382 24.0912 839.832 Q21.7677 842.283 21.7677 846.771 L21.7677 854.855 M16.4842 861.285 L16.4842 846.771 Q16.4842 838.782 20.1126 834.708 Q23.7092 830.602 30.6797 830.602 Q37.7138 830.602 41.3104 834.708 Q44.907 838.782 44.907 846.771 L44.907 854.855 L64.0042 854.855 L64.0042 861.285 L16.4842 861.285 Z\" fill=\"#000000\" fill-rule=\"nonzero\" fill-opacity=\"1\" /><path clip-path=\"url(#clip350)\" d=\"M32.4621 810.741 Q32.4621 815.452 36.1542 818.189 Q39.8145 820.926 46.212 820.926 Q52.6095 820.926 56.3017 818.221 Q59.9619 815.484 59.9619 810.741 Q59.9619 806.062 56.2698 803.325 Q52.5777 800.588 46.212 800.588 Q39.8781 800.588 36.186 803.325 Q32.4621 806.062 32.4621 810.741 M27.4968 810.741 Q27.4968 803.102 32.4621 798.742 Q37.4273 794.381 46.212 794.381 Q54.9649 794.381 59.9619 798.742 Q64.9272 803.102 64.9272 810.741 Q64.9272 818.412 59.9619 822.772 Q54.9649 827.101 46.212 827.101 Q37.4273 827.101 32.4621 822.772 Q27.4968 818.412 27.4968 810.741 Z\" fill=\"#000000\" fill-rule=\"nonzero\" fill-opacity=\"1\" /><path clip-path=\"url(#clip350)\" d=\"M29.4065 761.948 L34.9447 761.948 Q33.6716 764.431 33.035 767.104 Q32.3984 769.778 32.3984 772.642 Q32.3984 777.003 33.7352 779.199 Q35.072 781.363 37.7456 781.363 Q39.7826 781.363 40.9603 779.804 Q42.1061 778.244 43.1565 773.534 L43.6021 771.528 Q44.9389 765.29 47.3897 762.68 Q49.8086 760.038 54.1691 760.038 Q59.1344 760.038 62.0308 763.985 Q64.9272 767.9 64.9272 774.775 Q64.9272 777.639 64.3543 780.759 Q63.8132 783.846 62.6992 787.283 L56.6518 787.283 Q58.3387 784.037 59.198 780.886 Q60.0256 777.735 60.0256 774.648 Q60.0256 770.51 58.6251 768.282 Q57.1929 766.054 54.6147 766.054 Q52.2276 766.054 50.9545 767.677 Q49.6813 769.268 48.5037 774.711 L48.0262 776.748 Q46.8804 782.191 44.5251 784.61 Q42.138 787.029 38.0002 787.029 Q32.9713 787.029 30.2341 783.464 Q27.4968 779.899 27.4968 773.343 Q27.4968 770.096 27.9743 767.231 Q28.4517 764.367 29.4065 761.948 Z\" fill=\"#000000\" fill-rule=\"nonzero\" fill-opacity=\"1\" /><path clip-path=\"url(#clip350)\" d=\"M28.3562 750.712 L28.3562 744.856 L64.0042 744.856 L64.0042 750.712 L28.3562 750.712 M14.479 750.712 L14.479 744.856 L21.895 744.856 L21.895 750.712 L14.479 750.712 Z\" fill=\"#000000\" fill-rule=\"nonzero\" fill-opacity=\"1\" /><path clip-path=\"url(#clip350)\" d=\"M29.7248 706.948 L35.1993 706.948 Q33.8307 709.431 33.1623 711.945 Q32.4621 714.428 32.4621 716.974 Q32.4621 722.672 36.0905 725.823 Q39.6872 728.974 46.212 728.974 Q52.7369 728.974 56.3653 725.823 Q59.9619 722.672 59.9619 716.974 Q59.9619 714.428 59.2935 711.945 Q58.5933 709.431 57.2247 706.948 L62.6355 706.948 Q63.7814 709.399 64.3543 712.041 Q64.9272 714.651 64.9272 717.611 Q64.9272 725.663 59.8664 730.406 Q54.8057 735.148 46.212 735.148 Q37.491 735.148 32.4939 730.374 Q27.4968 725.568 27.4968 717.229 Q27.4968 714.523 28.0697 711.945 Q28.6108 709.367 29.7248 706.948 Z\" fill=\"#000000\" fill-rule=\"nonzero\" fill-opacity=\"1\" /><path clip-path=\"url(#clip350)\" d=\"M28.3562 696.763 L28.3562 690.907 L64.0042 690.907 L64.0042 696.763 L28.3562 696.763 M14.479 696.763 L14.479 690.907 L21.895 690.907 L21.895 696.763 L14.479 696.763 Z\" fill=\"#000000\" fill-rule=\"nonzero\" fill-opacity=\"1\" /><path clip-path=\"url(#clip350)\" d=\"M32.4621 664.839 Q32.4621 669.55 36.1542 672.287 Q39.8145 675.024 46.212 675.024 Q52.6095 675.024 56.3017 672.319 Q59.9619 669.582 59.9619 664.839 Q59.9619 660.16 56.2698 657.423 Q52.5777 654.686 46.212 654.686 Q39.8781 654.686 36.186 657.423 Q32.4621 660.16 32.4621 664.839 M27.4968 664.839 Q27.4968 657.2 32.4621 652.84 Q37.4273 648.479 46.212 648.479 Q54.9649 648.479 59.9619 652.84 Q64.9272 657.2 64.9272 664.839 Q64.9272 672.51 59.9619 676.87 Q54.9649 681.199 46.212 681.199 Q37.4273 681.199 32.4621 676.87 Q27.4968 672.51 27.4968 664.839 M11.869 660.415 L11.869 654.081 L23.8365 664.457 L23.8365 669.327 L11.869 660.415 Z\" fill=\"#000000\" fill-rule=\"nonzero\" fill-opacity=\"1\" /><path clip-path=\"url(#clip350)\" d=\"M42.4881 609.139 L64.0042 609.139 L64.0042 614.996 L42.679 614.996 Q37.6183 614.996 35.1038 616.969 Q32.5894 618.942 32.5894 622.889 Q32.5894 627.632 35.6131 630.369 Q38.6368 633.106 43.8567 633.106 L64.0042 633.106 L64.0042 638.994 L28.3562 638.994 L28.3562 633.106 L33.8944 633.106 Q30.6797 631.005 29.0883 628.173 Q27.4968 625.308 27.4968 621.584 Q27.4968 615.441 31.3163 612.29 Q35.1038 609.139 42.4881 609.139 Z\" fill=\"#000000\" fill-rule=\"nonzero\" fill-opacity=\"1\" /><circle clip-path=\"url(#clip352)\" cx=\"273.033\" cy=\"86.1857\" r=\"14.4\" fill=\"#009af9\" fill-rule=\"evenodd\" fill-opacity=\"1\" stroke=\"#000000\" stroke-opacity=\"1\" stroke-width=\"3.2\"/>\n",
       "<circle clip-path=\"url(#clip352)\" cx=\"407.643\" cy=\"345.796\" r=\"14.4\" fill=\"#009af9\" fill-rule=\"evenodd\" fill-opacity=\"1\" stroke=\"#000000\" stroke-opacity=\"1\" stroke-width=\"3.2\"/>\n",
       "<circle clip-path=\"url(#clip352)\" cx=\"542.253\" cy=\"605.407\" r=\"14.4\" fill=\"#009af9\" fill-rule=\"evenodd\" fill-opacity=\"1\" stroke=\"#000000\" stroke-opacity=\"1\" stroke-width=\"3.2\"/>\n",
       "<circle clip-path=\"url(#clip352)\" cx=\"676.863\" cy=\"345.796\" r=\"14.4\" fill=\"#009af9\" fill-rule=\"evenodd\" fill-opacity=\"1\" stroke=\"#000000\" stroke-opacity=\"1\" stroke-width=\"3.2\"/>\n",
       "<circle clip-path=\"url(#clip352)\" cx=\"811.473\" cy=\"605.407\" r=\"14.4\" fill=\"#009af9\" fill-rule=\"evenodd\" fill-opacity=\"1\" stroke=\"#000000\" stroke-opacity=\"1\" stroke-width=\"3.2\"/>\n",
       "<circle clip-path=\"url(#clip352)\" cx=\"946.083\" cy=\"865.017\" r=\"14.4\" fill=\"#009af9\" fill-rule=\"evenodd\" fill-opacity=\"1\" stroke=\"#000000\" stroke-opacity=\"1\" stroke-width=\"3.2\"/>\n",
       "<circle clip-path=\"url(#clip352)\" cx=\"1080.69\" cy=\"1124.63\" r=\"14.4\" fill=\"#009af9\" fill-rule=\"evenodd\" fill-opacity=\"1\" stroke=\"#000000\" stroke-opacity=\"1\" stroke-width=\"3.2\"/>\n",
       "<circle clip-path=\"url(#clip352)\" cx=\"1215.3\" cy=\"865.017\" r=\"14.4\" fill=\"#009af9\" fill-rule=\"evenodd\" fill-opacity=\"1\" stroke=\"#000000\" stroke-opacity=\"1\" stroke-width=\"3.2\"/>\n",
       "<circle clip-path=\"url(#clip352)\" cx=\"1349.91\" cy=\"1124.63\" r=\"14.4\" fill=\"#009af9\" fill-rule=\"evenodd\" fill-opacity=\"1\" stroke=\"#000000\" stroke-opacity=\"1\" stroke-width=\"3.2\"/>\n",
       "<circle clip-path=\"url(#clip352)\" cx=\"1484.52\" cy=\"865.017\" r=\"14.4\" fill=\"#009af9\" fill-rule=\"evenodd\" fill-opacity=\"1\" stroke=\"#000000\" stroke-opacity=\"1\" stroke-width=\"3.2\"/>\n",
       "<circle clip-path=\"url(#clip352)\" cx=\"1619.13\" cy=\"1124.63\" r=\"14.4\" fill=\"#009af9\" fill-rule=\"evenodd\" fill-opacity=\"1\" stroke=\"#000000\" stroke-opacity=\"1\" stroke-width=\"3.2\"/>\n",
       "<circle clip-path=\"url(#clip352)\" cx=\"1753.74\" cy=\"1384.24\" r=\"14.4\" fill=\"#009af9\" fill-rule=\"evenodd\" fill-opacity=\"1\" stroke=\"#000000\" stroke-opacity=\"1\" stroke-width=\"3.2\"/>\n",
       "<circle clip-path=\"url(#clip352)\" cx=\"1888.35\" cy=\"1124.63\" r=\"14.4\" fill=\"#009af9\" fill-rule=\"evenodd\" fill-opacity=\"1\" stroke=\"#000000\" stroke-opacity=\"1\" stroke-width=\"3.2\"/>\n",
       "<circle clip-path=\"url(#clip352)\" cx=\"2022.96\" cy=\"1384.24\" r=\"14.4\" fill=\"#009af9\" fill-rule=\"evenodd\" fill-opacity=\"1\" stroke=\"#000000\" stroke-opacity=\"1\" stroke-width=\"3.2\"/>\n",
       "<circle clip-path=\"url(#clip352)\" cx=\"2157.57\" cy=\"1124.63\" r=\"14.4\" fill=\"#009af9\" fill-rule=\"evenodd\" fill-opacity=\"1\" stroke=\"#000000\" stroke-opacity=\"1\" stroke-width=\"3.2\"/>\n",
       "<circle clip-path=\"url(#clip352)\" cx=\"2292.18\" cy=\"1384.24\" r=\"14.4\" fill=\"#009af9\" fill-rule=\"evenodd\" fill-opacity=\"1\" stroke=\"#000000\" stroke-opacity=\"1\" stroke-width=\"3.2\"/>\n",
       "<path clip-path=\"url(#clip350)\" d=\"M2014.95 196.789 L2281.41 196.789 L2281.41 93.1086 L2014.95 93.1086  Z\" fill=\"#ffffff\" fill-rule=\"evenodd\" fill-opacity=\"1\"/>\n",
       "<polyline clip-path=\"url(#clip350)\" style=\"stroke:#000000; stroke-linecap:round; stroke-linejoin:round; stroke-width:4; stroke-opacity:1; fill:none\" points=\"2014.95,196.789 2281.41,196.789 2281.41,93.1086 2014.95,93.1086 2014.95,196.789 \"/>\n",
       "<circle clip-path=\"url(#clip350)\" cx=\"2110.08\" cy=\"144.949\" r=\"20.48\" fill=\"#009af9\" fill-rule=\"evenodd\" fill-opacity=\"1\" stroke=\"#000000\" stroke-opacity=\"1\" stroke-width=\"4.55111\"/>\n",
       "<path clip-path=\"url(#clip350)\" d=\"M2219.04 164.636 Q2217.24 169.266 2215.53 170.678 Q2213.81 172.09 2210.94 172.09 L2207.54 172.09 L2207.54 168.525 L2210.04 168.525 Q2211.8 168.525 2212.77 167.692 Q2213.74 166.858 2214.92 163.756 L2215.69 161.812 L2205.2 136.303 L2209.72 136.303 L2217.82 156.581 L2225.92 136.303 L2230.43 136.303 L2219.04 164.636 Z\" fill=\"#000000\" fill-rule=\"nonzero\" fill-opacity=\"1\" /><path clip-path=\"url(#clip350)\" d=\"M2237.72 158.293 L2245.36 158.293 L2245.36 131.928 L2237.05 133.595 L2237.05 129.335 L2245.32 127.669 L2249.99 127.669 L2249.99 158.293 L2257.63 158.293 L2257.63 162.229 L2237.72 162.229 L2237.72 158.293 Z\" fill=\"#000000\" fill-rule=\"nonzero\" fill-opacity=\"1\" /></svg>\n"
      ]
     },
     "execution_count": 17,
     "metadata": {},
     "output_type": "execute_result"
    }
   ],
   "source": [
    "graficaCaminata(caminataAleatoria(15))"
   ]
  },
  {
   "cell_type": "markdown",
   "id": "1abc8408-75d8-4c72-a933-65145854273c",
   "metadata": {},
   "source": [
    "**Ejercicio** Crea una función `graficaCaminata!` que sea una versión modificadora de la función anterior y utilice gráficas con líneas rectas punteadas (pues esto nos ayudará a discernir las trayectorias de distintos puntos más fácilmente). Luego, genera una gráfica con 5 caminatas aleatorias.\n"
   ]
  },
  {
   "cell_type": "code",
   "execution_count": 18,
   "id": "4f8d6df0-d8d2-4b25-bbd2-d7382fb93253",
   "metadata": {},
   "outputs": [
    {
     "data": {
      "text/plain": [
       "graficaCaminata! (generic function with 1 method)"
      ]
     },
     "execution_count": 18,
     "metadata": {},
     "output_type": "execute_result"
    }
   ],
   "source": [
    "function graficaCaminata!(T1,T2,T3,T4,T5)\n",
    "    n=length(T1) #Aquí se cuenta las entradas del arreglo para obtener una arreglo Arrposicion(N) de las misma dimensión.\n",
    "    Posic=Arrposicion(n-1)\n",
    "#aquí se grafican los arreglos de posición y las distintas caminatas aleatorias.\n",
    "    plot(Posic,T1, linewidth = 3, linestyle = :dash)\n",
    "    plot!(Posic,T2, linewidth = 3, linestyle = :dash)\n",
    "    plot!(Posic,T3, linewidth = 3, linestyle = :dash)\n",
    "    plot!(Posic,T4, linewidth = 3, linestyle = :dash)\n",
    "    plot!(Posic,T5, linewidth = 3, linestyle = :dash)\n",
    "    xlabel!(\"Número de pasos\")\n",
    "    ylabel!(\"Posición\")\n",
    "\n",
    "end"
   ]
  },
  {
   "cell_type": "code",
   "execution_count": 19,
   "id": "4302b90d-4431-45f4-87bd-3b3d2e77b046",
   "metadata": {},
   "outputs": [
    {
     "data": {
      "image/svg+xml": [
       "<?xml version=\"1.0\" encoding=\"utf-8\"?>\n",
       "<svg xmlns=\"http://www.w3.org/2000/svg\" xmlns:xlink=\"http://www.w3.org/1999/xlink\" width=\"600\" height=\"400\" viewBox=\"0 0 2400 1600\">\n",
       "<defs>\n",
       "  <clipPath id=\"clip390\">\n",
       "    <rect x=\"0\" y=\"0\" width=\"2400\" height=\"1600\"/>\n",
       "  </clipPath>\n",
       "</defs>\n",
       "<path clip-path=\"url(#clip390)\" d=\"M0 1600 L2400 1600 L2400 0 L0 0  Z\" fill=\"#ffffff\" fill-rule=\"evenodd\" fill-opacity=\"1\"/>\n",
       "<defs>\n",
       "  <clipPath id=\"clip391\">\n",
       "    <rect x=\"480\" y=\"0\" width=\"1681\" height=\"1600\"/>\n",
       "  </clipPath>\n",
       "</defs>\n",
       "<path clip-path=\"url(#clip390)\" d=\"M242.135 1423.18 L2352.76 1423.18 L2352.76 47.2441 L242.135 47.2441  Z\" fill=\"#ffffff\" fill-rule=\"evenodd\" fill-opacity=\"1\"/>\n",
       "<defs>\n",
       "  <clipPath id=\"clip392\">\n",
       "    <rect x=\"242\" y=\"47\" width=\"2112\" height=\"1377\"/>\n",
       "  </clipPath>\n",
       "</defs>\n",
       "<polyline clip-path=\"url(#clip392)\" style=\"stroke:#000000; stroke-linecap:round; stroke-linejoin:round; stroke-width:2; stroke-opacity:0.1; fill:none\" points=\"301.869,1423.18 301.869,47.2441 \"/>\n",
       "<polyline clip-path=\"url(#clip392)\" style=\"stroke:#000000; stroke-linecap:round; stroke-linejoin:round; stroke-width:2; stroke-opacity:0.1; fill:none\" points=\"799.657,1423.18 799.657,47.2441 \"/>\n",
       "<polyline clip-path=\"url(#clip392)\" style=\"stroke:#000000; stroke-linecap:round; stroke-linejoin:round; stroke-width:2; stroke-opacity:0.1; fill:none\" points=\"1297.45,1423.18 1297.45,47.2441 \"/>\n",
       "<polyline clip-path=\"url(#clip392)\" style=\"stroke:#000000; stroke-linecap:round; stroke-linejoin:round; stroke-width:2; stroke-opacity:0.1; fill:none\" points=\"1795.23,1423.18 1795.23,47.2441 \"/>\n",
       "<polyline clip-path=\"url(#clip392)\" style=\"stroke:#000000; stroke-linecap:round; stroke-linejoin:round; stroke-width:2; stroke-opacity:0.1; fill:none\" points=\"2293.02,1423.18 2293.02,47.2441 \"/>\n",
       "<polyline clip-path=\"url(#clip390)\" style=\"stroke:#000000; stroke-linecap:round; stroke-linejoin:round; stroke-width:4; stroke-opacity:1; fill:none\" points=\"242.135,1423.18 2352.76,1423.18 \"/>\n",
       "<polyline clip-path=\"url(#clip390)\" style=\"stroke:#000000; stroke-linecap:round; stroke-linejoin:round; stroke-width:4; stroke-opacity:1; fill:none\" points=\"301.869,1423.18 301.869,1404.28 \"/>\n",
       "<polyline clip-path=\"url(#clip390)\" style=\"stroke:#000000; stroke-linecap:round; stroke-linejoin:round; stroke-width:4; stroke-opacity:1; fill:none\" points=\"799.657,1423.18 799.657,1404.28 \"/>\n",
       "<polyline clip-path=\"url(#clip390)\" style=\"stroke:#000000; stroke-linecap:round; stroke-linejoin:round; stroke-width:4; stroke-opacity:1; fill:none\" points=\"1297.45,1423.18 1297.45,1404.28 \"/>\n",
       "<polyline clip-path=\"url(#clip390)\" style=\"stroke:#000000; stroke-linecap:round; stroke-linejoin:round; stroke-width:4; stroke-opacity:1; fill:none\" points=\"1795.23,1423.18 1795.23,1404.28 \"/>\n",
       "<polyline clip-path=\"url(#clip390)\" style=\"stroke:#000000; stroke-linecap:round; stroke-linejoin:round; stroke-width:4; stroke-opacity:1; fill:none\" points=\"2293.02,1423.18 2293.02,1404.28 \"/>\n",
       "<path clip-path=\"url(#clip390)\" d=\"M301.869 1454.1 Q298.258 1454.1 296.429 1457.66 Q294.624 1461.2 294.624 1468.33 Q294.624 1475.44 296.429 1479.01 Q298.258 1482.55 301.869 1482.55 Q305.503 1482.55 307.309 1479.01 Q309.138 1475.44 309.138 1468.33 Q309.138 1461.2 307.309 1457.66 Q305.503 1454.1 301.869 1454.1 M301.869 1450.39 Q307.679 1450.39 310.735 1455 Q313.814 1459.58 313.814 1468.33 Q313.814 1477.06 310.735 1481.67 Q307.679 1486.25 301.869 1486.25 Q296.059 1486.25 292.98 1481.67 Q289.925 1477.06 289.925 1468.33 Q289.925 1459.58 292.98 1455 Q296.059 1450.39 301.869 1450.39 Z\" fill=\"#000000\" fill-rule=\"nonzero\" fill-opacity=\"1\" /><path clip-path=\"url(#clip390)\" d=\"M778.928 1481.64 L795.248 1481.64 L795.248 1485.58 L773.303 1485.58 L773.303 1481.64 Q775.965 1478.89 780.549 1474.26 Q785.155 1469.61 786.336 1468.27 Q788.581 1465.74 789.461 1464.01 Q790.363 1462.25 790.363 1460.56 Q790.363 1457.8 788.419 1456.07 Q786.498 1454.33 783.396 1454.33 Q781.197 1454.33 778.743 1455.09 Q776.312 1455.86 773.535 1457.41 L773.535 1452.69 Q776.359 1451.55 778.812 1450.97 Q781.266 1450.39 783.303 1450.39 Q788.674 1450.39 791.868 1453.08 Q795.062 1455.77 795.062 1460.26 Q795.062 1462.39 794.252 1464.31 Q793.465 1466.2 791.359 1468.8 Q790.78 1469.47 787.678 1472.69 Q784.576 1475.88 778.928 1481.64 Z\" fill=\"#000000\" fill-rule=\"nonzero\" fill-opacity=\"1\" /><path clip-path=\"url(#clip390)\" d=\"M805.109 1451.02 L823.465 1451.02 L823.465 1454.96 L809.391 1454.96 L809.391 1463.43 Q810.41 1463.08 811.428 1462.92 Q812.447 1462.73 813.465 1462.73 Q819.252 1462.73 822.632 1465.9 Q826.011 1469.08 826.011 1474.49 Q826.011 1480.07 822.539 1483.17 Q819.067 1486.25 812.747 1486.25 Q810.572 1486.25 808.303 1485.88 Q806.058 1485.51 803.65 1484.77 L803.65 1480.07 Q805.734 1481.2 807.956 1481.76 Q810.178 1482.32 812.655 1482.32 Q816.659 1482.32 818.997 1480.21 Q821.335 1478.1 821.335 1474.49 Q821.335 1470.88 818.997 1468.77 Q816.659 1466.67 812.655 1466.67 Q810.78 1466.67 808.905 1467.08 Q807.053 1467.5 805.109 1468.38 L805.109 1451.02 Z\" fill=\"#000000\" fill-rule=\"nonzero\" fill-opacity=\"1\" /><path clip-path=\"url(#clip390)\" d=\"M1272.14 1451.02 L1290.5 1451.02 L1290.5 1454.96 L1276.43 1454.96 L1276.43 1463.43 Q1277.45 1463.08 1278.46 1462.92 Q1279.48 1462.73 1280.5 1462.73 Q1286.29 1462.73 1289.67 1465.9 Q1293.05 1469.08 1293.05 1474.49 Q1293.05 1480.07 1289.57 1483.17 Q1286.1 1486.25 1279.78 1486.25 Q1277.61 1486.25 1275.34 1485.88 Q1273.09 1485.51 1270.69 1484.77 L1270.69 1480.07 Q1272.77 1481.2 1274.99 1481.76 Q1277.21 1482.32 1279.69 1482.32 Q1283.7 1482.32 1286.03 1480.21 Q1288.37 1478.1 1288.37 1474.49 Q1288.37 1470.88 1286.03 1468.77 Q1283.7 1466.67 1279.69 1466.67 Q1277.82 1466.67 1275.94 1467.08 Q1274.09 1467.5 1272.14 1468.38 L1272.14 1451.02 Z\" fill=\"#000000\" fill-rule=\"nonzero\" fill-opacity=\"1\" /><path clip-path=\"url(#clip390)\" d=\"M1312.26 1454.1 Q1308.65 1454.1 1306.82 1457.66 Q1305.01 1461.2 1305.01 1468.33 Q1305.01 1475.44 1306.82 1479.01 Q1308.65 1482.55 1312.26 1482.55 Q1315.89 1482.55 1317.7 1479.01 Q1319.53 1475.44 1319.53 1468.33 Q1319.53 1461.2 1317.7 1457.66 Q1315.89 1454.1 1312.26 1454.1 M1312.26 1450.39 Q1318.07 1450.39 1321.13 1455 Q1324.2 1459.58 1324.2 1468.33 Q1324.2 1477.06 1321.13 1481.67 Q1318.07 1486.25 1312.26 1486.25 Q1306.45 1486.25 1303.37 1481.67 Q1300.32 1477.06 1300.32 1468.33 Q1300.32 1459.58 1303.37 1455 Q1306.45 1450.39 1312.26 1450.39 Z\" fill=\"#000000\" fill-rule=\"nonzero\" fill-opacity=\"1\" /><path clip-path=\"url(#clip390)\" d=\"M1769.09 1451.02 L1791.31 1451.02 L1791.31 1453.01 L1778.76 1485.58 L1773.88 1485.58 L1785.68 1454.96 L1769.09 1454.96 L1769.09 1451.02 Z\" fill=\"#000000\" fill-rule=\"nonzero\" fill-opacity=\"1\" /><path clip-path=\"url(#clip390)\" d=\"M1800.48 1451.02 L1818.83 1451.02 L1818.83 1454.96 L1804.76 1454.96 L1804.76 1463.43 Q1805.78 1463.08 1806.8 1462.92 Q1807.81 1462.73 1808.83 1462.73 Q1814.62 1462.73 1818 1465.9 Q1821.38 1469.08 1821.38 1474.49 Q1821.38 1480.07 1817.91 1483.17 Q1814.43 1486.25 1808.12 1486.25 Q1805.94 1486.25 1803.67 1485.88 Q1801.43 1485.51 1799.02 1484.77 L1799.02 1480.07 Q1801.1 1481.2 1803.32 1481.76 Q1805.55 1482.32 1808.02 1482.32 Q1812.03 1482.32 1814.37 1480.21 Q1816.7 1478.1 1816.7 1474.49 Q1816.7 1470.88 1814.37 1468.77 Q1812.03 1466.67 1808.02 1466.67 Q1806.15 1466.67 1804.27 1467.08 Q1802.42 1467.5 1800.48 1468.38 L1800.48 1451.02 Z\" fill=\"#000000\" fill-rule=\"nonzero\" fill-opacity=\"1\" /><path clip-path=\"url(#clip390)\" d=\"M2252.63 1481.64 L2260.27 1481.64 L2260.27 1455.28 L2251.96 1456.95 L2251.96 1452.69 L2260.22 1451.02 L2264.9 1451.02 L2264.9 1481.64 L2272.54 1481.64 L2272.54 1485.58 L2252.63 1485.58 L2252.63 1481.64 Z\" fill=\"#000000\" fill-rule=\"nonzero\" fill-opacity=\"1\" /><path clip-path=\"url(#clip390)\" d=\"M2291.98 1454.1 Q2288.37 1454.1 2286.54 1457.66 Q2284.73 1461.2 2284.73 1468.33 Q2284.73 1475.44 2286.54 1479.01 Q2288.37 1482.55 2291.98 1482.55 Q2295.61 1482.55 2297.42 1479.01 Q2299.25 1475.44 2299.25 1468.33 Q2299.25 1461.2 2297.42 1457.66 Q2295.61 1454.1 2291.98 1454.1 M2291.98 1450.39 Q2297.79 1450.39 2300.85 1455 Q2303.92 1459.58 2303.92 1468.33 Q2303.92 1477.06 2300.85 1481.67 Q2297.79 1486.25 2291.98 1486.25 Q2286.17 1486.25 2283.09 1481.67 Q2280.04 1477.06 2280.04 1468.33 Q2280.04 1459.58 2283.09 1455 Q2286.17 1450.39 2291.98 1450.39 Z\" fill=\"#000000\" fill-rule=\"nonzero\" fill-opacity=\"1\" /><path clip-path=\"url(#clip390)\" d=\"M2322.14 1454.1 Q2318.53 1454.1 2316.7 1457.66 Q2314.9 1461.2 2314.9 1468.33 Q2314.9 1475.44 2316.7 1479.01 Q2318.53 1482.55 2322.14 1482.55 Q2325.78 1482.55 2327.58 1479.01 Q2329.41 1475.44 2329.41 1468.33 Q2329.41 1461.2 2327.58 1457.66 Q2325.78 1454.1 2322.14 1454.1 M2322.14 1450.39 Q2327.95 1450.39 2331.01 1455 Q2334.09 1459.58 2334.09 1468.33 Q2334.09 1477.06 2331.01 1481.67 Q2327.95 1486.25 2322.14 1486.25 Q2316.33 1486.25 2313.25 1481.67 Q2310.2 1477.06 2310.2 1468.33 Q2310.2 1459.58 2313.25 1455 Q2316.33 1450.39 2322.14 1450.39 Z\" fill=\"#000000\" fill-rule=\"nonzero\" fill-opacity=\"1\" /><path clip-path=\"url(#clip390)\" d=\"M1016.75 1520.52 L1025.41 1520.52 L1046.48 1560.28 L1046.48 1520.52 L1052.72 1520.52 L1052.72 1568.04 L1044.06 1568.04 L1022.99 1528.29 L1022.99 1568.04 L1016.75 1568.04 L1016.75 1520.52 Z\" fill=\"#000000\" fill-rule=\"nonzero\" fill-opacity=\"1\" /><path clip-path=\"url(#clip390)\" d=\"M1064.65 1553.98 L1064.65 1532.4 L1070.51 1532.4 L1070.51 1553.75 Q1070.51 1558.81 1072.48 1561.36 Q1074.45 1563.87 1078.4 1563.87 Q1083.14 1563.87 1085.88 1560.85 Q1088.65 1557.83 1088.65 1552.61 L1088.65 1532.4 L1094.51 1532.4 L1094.51 1568.04 L1088.65 1568.04 L1088.65 1562.57 Q1086.52 1565.82 1083.68 1567.41 Q1080.88 1568.97 1077.16 1568.97 Q1071.02 1568.97 1067.83 1565.15 Q1064.65 1561.33 1064.65 1553.98 M1079.39 1531.54 L1079.39 1531.54 M1083.75 1515.91 L1090.08 1515.91 L1079.71 1527.88 L1074.84 1527.88 L1083.75 1515.91 Z\" fill=\"#000000\" fill-rule=\"nonzero\" fill-opacity=\"1\" /><path clip-path=\"url(#clip390)\" d=\"M1134.32 1539.24 Q1136.52 1535.29 1139.58 1533.41 Q1142.63 1531.54 1146.77 1531.54 Q1152.34 1531.54 1155.36 1535.45 Q1158.39 1539.33 1158.39 1546.53 L1158.39 1568.04 L1152.5 1568.04 L1152.5 1546.72 Q1152.5 1541.59 1150.68 1539.11 Q1148.87 1536.63 1145.15 1536.63 Q1140.59 1536.63 1137.95 1539.65 Q1135.31 1542.68 1135.31 1547.9 L1135.31 1568.04 L1129.42 1568.04 L1129.42 1546.72 Q1129.42 1541.56 1127.61 1539.11 Q1125.79 1536.63 1122.01 1536.63 Q1117.52 1536.63 1114.88 1539.68 Q1112.24 1542.71 1112.24 1547.9 L1112.24 1568.04 L1106.35 1568.04 L1106.35 1532.4 L1112.24 1532.4 L1112.24 1537.93 Q1114.24 1534.66 1117.04 1533.1 Q1119.84 1531.54 1123.69 1531.54 Q1127.58 1531.54 1130.28 1533.51 Q1133.02 1535.48 1134.32 1539.24 Z\" fill=\"#000000\" fill-rule=\"nonzero\" fill-opacity=\"1\" /><path clip-path=\"url(#clip390)\" d=\"M1200.56 1548.76 L1200.56 1551.62 L1173.63 1551.62 Q1174.01 1557.67 1177.26 1560.85 Q1180.54 1564 1186.36 1564 Q1189.74 1564 1192.89 1563.17 Q1196.07 1562.35 1199.19 1560.69 L1199.19 1566.23 Q1196.04 1567.57 1192.73 1568.27 Q1189.42 1568.97 1186.01 1568.97 Q1177.48 1568.97 1172.49 1564 Q1167.52 1559.04 1167.52 1550.57 Q1167.52 1541.82 1172.23 1536.69 Q1176.97 1531.54 1185 1531.54 Q1192.19 1531.54 1196.36 1536.18 Q1200.56 1540.8 1200.56 1548.76 M1194.7 1547.04 Q1194.64 1542.23 1192 1539.37 Q1189.39 1536.5 1185.06 1536.5 Q1180.16 1536.5 1177.2 1539.27 Q1174.27 1542.04 1173.82 1547.07 L1194.7 1547.04 Z\" fill=\"#000000\" fill-rule=\"nonzero\" fill-opacity=\"1\" /><path clip-path=\"url(#clip390)\" d=\"M1230.83 1537.87 Q1229.84 1537.3 1228.66 1537.04 Q1227.52 1536.76 1226.12 1536.76 Q1221.15 1536.76 1218.48 1540 Q1215.84 1543.22 1215.84 1549.27 L1215.84 1568.04 L1209.95 1568.04 L1209.95 1532.4 L1215.84 1532.4 L1215.84 1537.93 Q1217.68 1534.69 1220.64 1533.13 Q1223.6 1531.54 1227.84 1531.54 Q1228.44 1531.54 1229.17 1531.63 Q1229.91 1531.7 1230.8 1531.85 L1230.83 1537.87 Z\" fill=\"#000000\" fill-rule=\"nonzero\" fill-opacity=\"1\" /><path clip-path=\"url(#clip390)\" d=\"M1249.35 1536.5 Q1244.64 1536.5 1241.9 1540.19 Q1239.17 1543.85 1239.17 1550.25 Q1239.17 1556.65 1241.87 1560.34 Q1244.61 1564 1249.35 1564 Q1254.03 1564 1256.77 1560.31 Q1259.51 1556.62 1259.51 1550.25 Q1259.51 1543.92 1256.77 1540.23 Q1254.03 1536.5 1249.35 1536.5 M1249.35 1531.54 Q1256.99 1531.54 1261.35 1536.5 Q1265.71 1541.47 1265.71 1550.25 Q1265.71 1559 1261.35 1564 Q1256.99 1568.97 1249.35 1568.97 Q1241.68 1568.97 1237.32 1564 Q1232.99 1559 1232.99 1550.25 Q1232.99 1541.47 1237.32 1536.5 Q1241.68 1531.54 1249.35 1531.54 Z\" fill=\"#000000\" fill-rule=\"nonzero\" fill-opacity=\"1\" /><path clip-path=\"url(#clip390)\" d=\"M1319.6 1537.81 L1319.6 1518.52 L1325.45 1518.52 L1325.45 1568.04 L1319.6 1568.04 L1319.6 1562.7 Q1317.75 1565.88 1314.92 1567.44 Q1312.12 1568.97 1308.17 1568.97 Q1301.71 1568.97 1297.64 1563.81 Q1293.59 1558.65 1293.59 1550.25 Q1293.59 1541.85 1297.64 1536.69 Q1301.71 1531.54 1308.17 1531.54 Q1312.12 1531.54 1314.92 1533.1 Q1317.75 1534.62 1319.6 1537.81 M1299.64 1550.25 Q1299.64 1556.71 1302.28 1560.4 Q1304.96 1564.07 1309.6 1564.07 Q1314.25 1564.07 1316.92 1560.4 Q1319.6 1556.71 1319.6 1550.25 Q1319.6 1543.79 1316.92 1540.13 Q1314.25 1536.44 1309.6 1536.44 Q1304.96 1536.44 1302.28 1540.13 Q1299.64 1543.79 1299.64 1550.25 Z\" fill=\"#000000\" fill-rule=\"nonzero\" fill-opacity=\"1\" /><path clip-path=\"url(#clip390)\" d=\"M1368.01 1548.76 L1368.01 1551.62 L1341.08 1551.62 Q1341.46 1557.67 1344.71 1560.85 Q1347.99 1564 1353.81 1564 Q1357.19 1564 1360.34 1563.17 Q1363.52 1562.35 1366.64 1560.69 L1366.64 1566.23 Q1363.49 1567.57 1360.18 1568.27 Q1356.87 1568.97 1353.46 1568.97 Q1344.93 1568.97 1339.94 1564 Q1334.97 1559.04 1334.97 1550.57 Q1334.97 1541.82 1339.68 1536.69 Q1344.42 1531.54 1352.44 1531.54 Q1359.64 1531.54 1363.81 1536.18 Q1368.01 1540.8 1368.01 1548.76 M1362.15 1547.04 Q1362.09 1542.23 1359.45 1539.37 Q1356.84 1536.5 1352.51 1536.5 Q1347.61 1536.5 1344.65 1539.27 Q1341.72 1542.04 1341.27 1547.07 L1362.15 1547.04 Z\" fill=\"#000000\" fill-rule=\"nonzero\" fill-opacity=\"1\" /><path clip-path=\"url(#clip390)\" d=\"M1404.01 1562.7 L1404.01 1581.6 L1398.12 1581.6 L1398.12 1532.4 L1404.01 1532.4 L1404.01 1537.81 Q1405.85 1534.62 1408.65 1533.1 Q1411.49 1531.54 1415.4 1531.54 Q1421.89 1531.54 1425.94 1536.69 Q1430.01 1541.85 1430.01 1550.25 Q1430.01 1558.65 1425.94 1563.81 Q1421.89 1568.97 1415.4 1568.97 Q1411.49 1568.97 1408.65 1567.44 Q1405.85 1565.88 1404.01 1562.7 M1423.93 1550.25 Q1423.93 1543.79 1421.26 1540.13 Q1418.62 1536.44 1413.97 1536.44 Q1409.32 1536.44 1406.65 1540.13 Q1404.01 1543.79 1404.01 1550.25 Q1404.01 1556.71 1406.65 1560.4 Q1409.32 1564.07 1413.97 1564.07 Q1418.62 1564.07 1421.26 1560.4 Q1423.93 1556.71 1423.93 1550.25 Z\" fill=\"#000000\" fill-rule=\"nonzero\" fill-opacity=\"1\" /><path clip-path=\"url(#clip390)\" d=\"M1455.92 1550.12 Q1448.82 1550.12 1446.08 1551.75 Q1443.35 1553.37 1443.35 1557.29 Q1443.35 1560.4 1445.38 1562.25 Q1447.45 1564.07 1450.99 1564.07 Q1455.86 1564.07 1458.78 1560.63 Q1461.74 1557.16 1461.74 1551.43 L1461.74 1550.12 L1455.92 1550.12 M1467.6 1547.71 L1467.6 1568.04 L1461.74 1568.04 L1461.74 1562.63 Q1459.74 1565.88 1456.75 1567.44 Q1453.76 1568.97 1449.43 1568.97 Q1443.95 1568.97 1440.71 1565.91 Q1437.49 1562.82 1437.49 1557.67 Q1437.49 1551.65 1441.5 1548.6 Q1445.54 1545.54 1453.53 1545.54 L1461.74 1545.54 L1461.74 1544.97 Q1461.74 1540.93 1459.07 1538.73 Q1456.43 1536.5 1451.62 1536.5 Q1448.57 1536.5 1445.67 1537.23 Q1442.77 1537.97 1440.1 1539.43 L1440.1 1534.02 Q1443.32 1532.78 1446.34 1532.17 Q1449.36 1531.54 1452.23 1531.54 Q1459.96 1531.54 1463.78 1535.55 Q1467.6 1539.56 1467.6 1547.71 Z\" fill=\"#000000\" fill-rule=\"nonzero\" fill-opacity=\"1\" /><path clip-path=\"url(#clip390)\" d=\"M1502.39 1533.45 L1502.39 1538.98 Q1499.91 1537.71 1497.23 1537.07 Q1494.56 1536.44 1491.69 1536.44 Q1487.33 1536.44 1485.14 1537.77 Q1482.97 1539.11 1482.97 1541.79 Q1482.97 1543.82 1484.53 1545 Q1486.09 1546.15 1490.8 1547.2 L1492.81 1547.64 Q1499.05 1548.98 1501.66 1551.43 Q1504.3 1553.85 1504.3 1558.21 Q1504.3 1563.17 1500.35 1566.07 Q1496.44 1568.97 1489.56 1568.97 Q1486.7 1568.97 1483.58 1568.39 Q1480.49 1567.85 1477.05 1566.74 L1477.05 1560.69 Q1480.3 1562.38 1483.45 1563.24 Q1486.6 1564.07 1489.69 1564.07 Q1493.83 1564.07 1496.06 1562.66 Q1498.28 1561.23 1498.28 1558.65 Q1498.28 1556.27 1496.66 1554.99 Q1495.07 1553.72 1489.63 1552.54 L1487.59 1552.07 Q1482.15 1550.92 1479.73 1548.56 Q1477.31 1546.18 1477.31 1542.04 Q1477.31 1537.01 1480.87 1534.27 Q1484.44 1531.54 1490.99 1531.54 Q1494.24 1531.54 1497.11 1532.01 Q1499.97 1532.49 1502.39 1533.45 Z\" fill=\"#000000\" fill-rule=\"nonzero\" fill-opacity=\"1\" /><path clip-path=\"url(#clip390)\" d=\"M1527.44 1536.5 Q1522.73 1536.5 1519.99 1540.19 Q1517.25 1543.85 1517.25 1550.25 Q1517.25 1556.65 1519.96 1560.34 Q1522.7 1564 1527.44 1564 Q1532.12 1564 1534.85 1560.31 Q1537.59 1556.62 1537.59 1550.25 Q1537.59 1543.92 1534.85 1540.23 Q1532.12 1536.5 1527.44 1536.5 M1527.44 1531.54 Q1535.08 1531.54 1539.44 1536.5 Q1543.8 1541.47 1543.8 1550.25 Q1543.8 1559 1539.44 1564 Q1535.08 1568.97 1527.44 1568.97 Q1519.77 1568.97 1515.41 1564 Q1511.08 1559 1511.08 1550.25 Q1511.08 1541.47 1515.41 1536.5 Q1519.77 1531.54 1527.44 1531.54 Z\" fill=\"#000000\" fill-rule=\"nonzero\" fill-opacity=\"1\" /><path clip-path=\"url(#clip390)\" d=\"M1576.23 1533.45 L1576.23 1538.98 Q1573.75 1537.71 1571.08 1537.07 Q1568.4 1536.44 1565.54 1536.44 Q1561.18 1536.44 1558.98 1537.77 Q1556.82 1539.11 1556.82 1541.79 Q1556.82 1543.82 1558.38 1545 Q1559.94 1546.15 1564.65 1547.2 L1566.65 1547.64 Q1572.89 1548.98 1575.5 1551.43 Q1578.14 1553.85 1578.14 1558.21 Q1578.14 1563.17 1574.19 1566.07 Q1570.28 1568.97 1563.4 1568.97 Q1560.54 1568.97 1557.42 1568.39 Q1554.33 1567.85 1550.9 1566.74 L1550.9 1560.69 Q1554.14 1562.38 1557.29 1563.24 Q1560.44 1564.07 1563.53 1564.07 Q1567.67 1564.07 1569.9 1562.66 Q1572.13 1561.23 1572.13 1558.65 Q1572.13 1556.27 1570.5 1554.99 Q1568.91 1553.72 1563.47 1552.54 L1561.43 1552.07 Q1555.99 1550.92 1553.57 1548.56 Q1551.15 1546.18 1551.15 1542.04 Q1551.15 1537.01 1554.72 1534.27 Q1558.28 1531.54 1564.84 1531.54 Q1568.08 1531.54 1570.95 1532.01 Q1573.81 1532.49 1576.23 1533.45 Z\" fill=\"#000000\" fill-rule=\"nonzero\" fill-opacity=\"1\" /><polyline clip-path=\"url(#clip392)\" style=\"stroke:#000000; stroke-linecap:round; stroke-linejoin:round; stroke-width:2; stroke-opacity:0.1; fill:none\" points=\"242.135,1243.15 2352.76,1243.15 \"/>\n",
       "<polyline clip-path=\"url(#clip392)\" style=\"stroke:#000000; stroke-linecap:round; stroke-linejoin:round; stroke-width:2; stroke-opacity:0.1; fill:none\" points=\"242.135,960.96 2352.76,960.96 \"/>\n",
       "<polyline clip-path=\"url(#clip392)\" style=\"stroke:#000000; stroke-linecap:round; stroke-linejoin:round; stroke-width:2; stroke-opacity:0.1; fill:none\" points=\"242.135,678.775 2352.76,678.775 \"/>\n",
       "<polyline clip-path=\"url(#clip392)\" style=\"stroke:#000000; stroke-linecap:round; stroke-linejoin:round; stroke-width:2; stroke-opacity:0.1; fill:none\" points=\"242.135,396.59 2352.76,396.59 \"/>\n",
       "<polyline clip-path=\"url(#clip392)\" style=\"stroke:#000000; stroke-linecap:round; stroke-linejoin:round; stroke-width:2; stroke-opacity:0.1; fill:none\" points=\"242.135,114.404 2352.76,114.404 \"/>\n",
       "<polyline clip-path=\"url(#clip390)\" style=\"stroke:#000000; stroke-linecap:round; stroke-linejoin:round; stroke-width:4; stroke-opacity:1; fill:none\" points=\"242.135,1423.18 242.135,47.2441 \"/>\n",
       "<polyline clip-path=\"url(#clip390)\" style=\"stroke:#000000; stroke-linecap:round; stroke-linejoin:round; stroke-width:4; stroke-opacity:1; fill:none\" points=\"242.135,1243.15 261.032,1243.15 \"/>\n",
       "<polyline clip-path=\"url(#clip390)\" style=\"stroke:#000000; stroke-linecap:round; stroke-linejoin:round; stroke-width:4; stroke-opacity:1; fill:none\" points=\"242.135,960.96 261.032,960.96 \"/>\n",
       "<polyline clip-path=\"url(#clip390)\" style=\"stroke:#000000; stroke-linecap:round; stroke-linejoin:round; stroke-width:4; stroke-opacity:1; fill:none\" points=\"242.135,678.775 261.032,678.775 \"/>\n",
       "<polyline clip-path=\"url(#clip390)\" style=\"stroke:#000000; stroke-linecap:round; stroke-linejoin:round; stroke-width:4; stroke-opacity:1; fill:none\" points=\"242.135,396.59 261.032,396.59 \"/>\n",
       "<polyline clip-path=\"url(#clip390)\" style=\"stroke:#000000; stroke-linecap:round; stroke-linejoin:round; stroke-width:4; stroke-opacity:1; fill:none\" points=\"242.135,114.404 261.032,114.404 \"/>\n",
       "<path clip-path=\"url(#clip390)\" d=\"M114.26 1243.6 L143.936 1243.6 L143.936 1247.53 L114.26 1247.53 L114.26 1243.6 Z\" fill=\"#000000\" fill-rule=\"nonzero\" fill-opacity=\"1\" /><path clip-path=\"url(#clip390)\" d=\"M158.056 1256.49 L174.376 1256.49 L174.376 1260.43 L152.431 1260.43 L152.431 1256.49 Q155.093 1253.74 159.677 1249.11 Q164.283 1244.45 165.464 1243.11 Q167.709 1240.59 168.589 1238.85 Q169.491 1237.09 169.491 1235.4 Q169.491 1232.65 167.547 1230.91 Q165.626 1229.18 162.524 1229.18 Q160.325 1229.18 157.871 1229.94 Q155.44 1230.7 152.663 1232.25 L152.663 1227.53 Q155.487 1226.4 157.94 1225.82 Q160.394 1225.24 162.431 1225.24 Q167.802 1225.24 170.996 1227.93 Q174.19 1230.61 174.19 1235.1 Q174.19 1237.23 173.38 1239.15 Q172.593 1241.05 170.487 1243.64 Q169.908 1244.31 166.806 1247.53 Q163.704 1250.73 158.056 1256.49 Z\" fill=\"#000000\" fill-rule=\"nonzero\" fill-opacity=\"1\" /><path clip-path=\"url(#clip390)\" d=\"M194.19 1228.94 Q190.579 1228.94 188.75 1232.51 Q186.945 1236.05 186.945 1243.18 Q186.945 1250.29 188.75 1253.85 Q190.579 1257.39 194.19 1257.39 Q197.825 1257.39 199.63 1253.85 Q201.459 1250.29 201.459 1243.18 Q201.459 1236.05 199.63 1232.51 Q197.825 1228.94 194.19 1228.94 M194.19 1225.24 Q200 1225.24 203.056 1229.85 Q206.135 1234.43 206.135 1243.18 Q206.135 1251.91 203.056 1256.51 Q200 1261.1 194.19 1261.1 Q188.38 1261.1 185.301 1256.51 Q182.246 1251.91 182.246 1243.18 Q182.246 1234.43 185.301 1229.85 Q188.38 1225.24 194.19 1225.24 Z\" fill=\"#000000\" fill-rule=\"nonzero\" fill-opacity=\"1\" /><path clip-path=\"url(#clip390)\" d=\"M114.26 961.412 L143.936 961.412 L143.936 965.347 L114.26 965.347 L114.26 961.412 Z\" fill=\"#000000\" fill-rule=\"nonzero\" fill-opacity=\"1\" /><path clip-path=\"url(#clip390)\" d=\"M154.839 974.305 L162.477 974.305 L162.477 947.939 L154.167 949.606 L154.167 945.347 L162.431 943.68 L167.107 943.68 L167.107 974.305 L174.746 974.305 L174.746 978.24 L154.839 978.24 L154.839 974.305 Z\" fill=\"#000000\" fill-rule=\"nonzero\" fill-opacity=\"1\" /><path clip-path=\"url(#clip390)\" d=\"M194.19 946.759 Q190.579 946.759 188.75 950.324 Q186.945 953.865 186.945 960.995 Q186.945 968.101 188.75 971.666 Q190.579 975.208 194.19 975.208 Q197.825 975.208 199.63 971.666 Q201.459 968.101 201.459 960.995 Q201.459 953.865 199.63 950.324 Q197.825 946.759 194.19 946.759 M194.19 943.055 Q200 943.055 203.056 947.662 Q206.135 952.245 206.135 960.995 Q206.135 969.722 203.056 974.328 Q200 978.912 194.19 978.912 Q188.38 978.912 185.301 974.328 Q182.246 969.722 182.246 960.995 Q182.246 952.245 185.301 947.662 Q188.38 943.055 194.19 943.055 Z\" fill=\"#000000\" fill-rule=\"nonzero\" fill-opacity=\"1\" /><path clip-path=\"url(#clip390)\" d=\"M194.19 664.574 Q190.579 664.574 188.75 668.138 Q186.945 671.68 186.945 678.81 Q186.945 685.916 188.75 689.481 Q190.579 693.023 194.19 693.023 Q197.825 693.023 199.63 689.481 Q201.459 685.916 201.459 678.81 Q201.459 671.68 199.63 668.138 Q197.825 664.574 194.19 664.574 M194.19 660.87 Q200 660.87 203.056 665.476 Q206.135 670.06 206.135 678.81 Q206.135 687.536 203.056 692.143 Q200 696.726 194.19 696.726 Q188.38 696.726 185.301 692.143 Q182.246 687.536 182.246 678.81 Q182.246 670.06 185.301 665.476 Q188.38 660.87 194.19 660.87 Z\" fill=\"#000000\" fill-rule=\"nonzero\" fill-opacity=\"1\" /><path clip-path=\"url(#clip390)\" d=\"M154.839 409.934 L162.477 409.934 L162.477 383.569 L154.167 385.235 L154.167 380.976 L162.431 379.31 L167.107 379.31 L167.107 409.934 L174.746 409.934 L174.746 413.87 L154.839 413.87 L154.839 409.934 Z\" fill=\"#000000\" fill-rule=\"nonzero\" fill-opacity=\"1\" /><path clip-path=\"url(#clip390)\" d=\"M194.19 382.388 Q190.579 382.388 188.75 385.953 Q186.945 389.495 186.945 396.624 Q186.945 403.731 188.75 407.296 Q190.579 410.837 194.19 410.837 Q197.825 410.837 199.63 407.296 Q201.459 403.731 201.459 396.624 Q201.459 389.495 199.63 385.953 Q197.825 382.388 194.19 382.388 M194.19 378.685 Q200 378.685 203.056 383.291 Q206.135 387.874 206.135 396.624 Q206.135 405.351 203.056 409.958 Q200 414.541 194.19 414.541 Q188.38 414.541 185.301 409.958 Q182.246 405.351 182.246 396.624 Q182.246 387.874 185.301 383.291 Q188.38 378.685 194.19 378.685 Z\" fill=\"#000000\" fill-rule=\"nonzero\" fill-opacity=\"1\" /><path clip-path=\"url(#clip390)\" d=\"M158.056 127.749 L174.376 127.749 L174.376 131.684 L152.431 131.684 L152.431 127.749 Q155.093 124.994 159.677 120.365 Q164.283 115.712 165.464 114.369 Q167.709 111.846 168.589 110.11 Q169.491 108.351 169.491 106.661 Q169.491 103.907 167.547 102.17 Q165.626 100.434 162.524 100.434 Q160.325 100.434 157.871 101.198 Q155.44 101.962 152.663 103.513 L152.663 98.7909 Q155.487 97.6566 157.94 97.0779 Q160.394 96.4992 162.431 96.4992 Q167.802 96.4992 170.996 99.1844 Q174.19 101.87 174.19 106.36 Q174.19 108.49 173.38 110.411 Q172.593 112.309 170.487 114.902 Q169.908 115.573 166.806 118.791 Q163.704 121.985 158.056 127.749 Z\" fill=\"#000000\" fill-rule=\"nonzero\" fill-opacity=\"1\" /><path clip-path=\"url(#clip390)\" d=\"M194.19 100.203 Q190.579 100.203 188.75 103.768 Q186.945 107.309 186.945 114.439 Q186.945 121.545 188.75 125.11 Q190.579 128.652 194.19 128.652 Q197.825 128.652 199.63 125.11 Q201.459 121.545 201.459 114.439 Q201.459 107.309 199.63 103.768 Q197.825 100.203 194.19 100.203 M194.19 96.4992 Q200 96.4992 203.056 101.106 Q206.135 105.689 206.135 114.439 Q206.135 123.166 203.056 127.772 Q200 132.355 194.19 132.355 Q188.38 132.355 185.301 127.772 Q182.246 123.166 182.246 114.439 Q182.246 105.689 185.301 101.106 Q188.38 96.4992 194.19 96.4992 Z\" fill=\"#000000\" fill-rule=\"nonzero\" fill-opacity=\"1\" /><path clip-path=\"url(#clip390)\" d=\"M21.7677 854.855 L39.6235 854.855 L39.6235 846.771 Q39.6235 842.283 37.3 839.832 Q34.9765 837.382 30.6797 837.382 Q26.4147 837.382 24.0912 839.832 Q21.7677 842.283 21.7677 846.771 L21.7677 854.855 M16.4842 861.285 L16.4842 846.771 Q16.4842 838.782 20.1126 834.708 Q23.7092 830.602 30.6797 830.602 Q37.7138 830.602 41.3104 834.708 Q44.907 838.782 44.907 846.771 L44.907 854.855 L64.0042 854.855 L64.0042 861.285 L16.4842 861.285 Z\" fill=\"#000000\" fill-rule=\"nonzero\" fill-opacity=\"1\" /><path clip-path=\"url(#clip390)\" d=\"M32.4621 810.741 Q32.4621 815.452 36.1542 818.189 Q39.8145 820.926 46.212 820.926 Q52.6095 820.926 56.3017 818.221 Q59.9619 815.484 59.9619 810.741 Q59.9619 806.062 56.2698 803.325 Q52.5777 800.588 46.212 800.588 Q39.8781 800.588 36.186 803.325 Q32.4621 806.062 32.4621 810.741 M27.4968 810.741 Q27.4968 803.102 32.4621 798.742 Q37.4273 794.381 46.212 794.381 Q54.9649 794.381 59.9619 798.742 Q64.9272 803.102 64.9272 810.741 Q64.9272 818.412 59.9619 822.772 Q54.9649 827.101 46.212 827.101 Q37.4273 827.101 32.4621 822.772 Q27.4968 818.412 27.4968 810.741 Z\" fill=\"#000000\" fill-rule=\"nonzero\" fill-opacity=\"1\" /><path clip-path=\"url(#clip390)\" d=\"M29.4065 761.948 L34.9447 761.948 Q33.6716 764.431 33.035 767.104 Q32.3984 769.778 32.3984 772.642 Q32.3984 777.003 33.7352 779.199 Q35.072 781.363 37.7456 781.363 Q39.7826 781.363 40.9603 779.804 Q42.1061 778.244 43.1565 773.534 L43.6021 771.528 Q44.9389 765.29 47.3897 762.68 Q49.8086 760.038 54.1691 760.038 Q59.1344 760.038 62.0308 763.985 Q64.9272 767.9 64.9272 774.775 Q64.9272 777.639 64.3543 780.759 Q63.8132 783.846 62.6992 787.283 L56.6518 787.283 Q58.3387 784.037 59.198 780.886 Q60.0256 777.735 60.0256 774.648 Q60.0256 770.51 58.6251 768.282 Q57.1929 766.054 54.6147 766.054 Q52.2276 766.054 50.9545 767.677 Q49.6813 769.268 48.5037 774.711 L48.0262 776.748 Q46.8804 782.191 44.5251 784.61 Q42.138 787.029 38.0002 787.029 Q32.9713 787.029 30.2341 783.464 Q27.4968 779.899 27.4968 773.343 Q27.4968 770.096 27.9743 767.231 Q28.4517 764.367 29.4065 761.948 Z\" fill=\"#000000\" fill-rule=\"nonzero\" fill-opacity=\"1\" /><path clip-path=\"url(#clip390)\" d=\"M28.3562 750.712 L28.3562 744.856 L64.0042 744.856 L64.0042 750.712 L28.3562 750.712 M14.479 750.712 L14.479 744.856 L21.895 744.856 L21.895 750.712 L14.479 750.712 Z\" fill=\"#000000\" fill-rule=\"nonzero\" fill-opacity=\"1\" /><path clip-path=\"url(#clip390)\" d=\"M29.7248 706.948 L35.1993 706.948 Q33.8307 709.431 33.1623 711.945 Q32.4621 714.428 32.4621 716.974 Q32.4621 722.672 36.0905 725.823 Q39.6872 728.974 46.212 728.974 Q52.7369 728.974 56.3653 725.823 Q59.9619 722.672 59.9619 716.974 Q59.9619 714.428 59.2935 711.945 Q58.5933 709.431 57.2247 706.948 L62.6355 706.948 Q63.7814 709.399 64.3543 712.041 Q64.9272 714.651 64.9272 717.611 Q64.9272 725.663 59.8664 730.406 Q54.8057 735.148 46.212 735.148 Q37.491 735.148 32.4939 730.374 Q27.4968 725.568 27.4968 717.229 Q27.4968 714.523 28.0697 711.945 Q28.6108 709.367 29.7248 706.948 Z\" fill=\"#000000\" fill-rule=\"nonzero\" fill-opacity=\"1\" /><path clip-path=\"url(#clip390)\" d=\"M28.3562 696.763 L28.3562 690.907 L64.0042 690.907 L64.0042 696.763 L28.3562 696.763 M14.479 696.763 L14.479 690.907 L21.895 690.907 L21.895 696.763 L14.479 696.763 Z\" fill=\"#000000\" fill-rule=\"nonzero\" fill-opacity=\"1\" /><path clip-path=\"url(#clip390)\" d=\"M32.4621 664.839 Q32.4621 669.55 36.1542 672.287 Q39.8145 675.024 46.212 675.024 Q52.6095 675.024 56.3017 672.319 Q59.9619 669.582 59.9619 664.839 Q59.9619 660.16 56.2698 657.423 Q52.5777 654.686 46.212 654.686 Q39.8781 654.686 36.186 657.423 Q32.4621 660.16 32.4621 664.839 M27.4968 664.839 Q27.4968 657.2 32.4621 652.84 Q37.4273 648.479 46.212 648.479 Q54.9649 648.479 59.9619 652.84 Q64.9272 657.2 64.9272 664.839 Q64.9272 672.51 59.9619 676.87 Q54.9649 681.199 46.212 681.199 Q37.4273 681.199 32.4621 676.87 Q27.4968 672.51 27.4968 664.839 M11.869 660.415 L11.869 654.081 L23.8365 664.457 L23.8365 669.327 L11.869 660.415 Z\" fill=\"#000000\" fill-rule=\"nonzero\" fill-opacity=\"1\" /><path clip-path=\"url(#clip390)\" d=\"M42.4881 609.139 L64.0042 609.139 L64.0042 614.996 L42.679 614.996 Q37.6183 614.996 35.1038 616.969 Q32.5894 618.942 32.5894 622.889 Q32.5894 627.632 35.6131 630.369 Q38.6368 633.106 43.8567 633.106 L64.0042 633.106 L64.0042 638.994 L28.3562 638.994 L28.3562 633.106 L33.8944 633.106 Q30.6797 631.005 29.0883 628.173 Q27.4968 625.308 27.4968 621.584 Q27.4968 615.441 31.3163 612.29 Q35.1038 609.139 42.4881 609.139 Z\" fill=\"#000000\" fill-rule=\"nonzero\" fill-opacity=\"1\" /><polyline clip-path=\"url(#clip392)\" style=\"stroke:#009af9; stroke-linecap:round; stroke-linejoin:round; stroke-width:12; stroke-opacity:1; fill:none\" stroke-dasharray=\"48, 30\" points=\"301.869,678.775 321.781,650.556 341.692,622.338 361.604,594.119 381.515,565.901 401.427,537.682 421.338,509.464 441.25,481.245 461.161,453.027 481.073,481.245 500.984,509.464 520.896,537.682 540.807,565.901 560.719,594.119 580.631,622.338 600.542,594.119 620.454,622.338 640.365,650.556 660.277,678.775 680.188,650.556 700.1,622.338 720.011,650.556 739.923,622.338 759.834,594.119 779.746,622.338 799.657,594.119 819.569,565.901 839.48,594.119 859.392,565.901 879.303,594.119 899.215,622.338 919.126,650.556 939.038,622.338 958.949,650.556 978.861,622.338 998.772,650.556 1018.68,622.338 1038.6,650.556 1058.51,678.775 1078.42,650.556 1098.33,622.338 1118.24,594.119 1138.15,565.901 1158.06,537.682 1177.98,509.464 1197.89,537.682 1217.8,509.464 1237.71,481.245 1257.62,453.027 1277.53,424.808 1297.45,396.59 1317.36,368.371 1337.27,340.152 1357.18,368.371 1377.09,396.59 1397,424.808 1416.91,396.59 1436.83,424.808 1456.74,396.59 1476.65,368.371 1496.56,396.59 1516.47,368.371 1536.38,340.152 1556.3,311.934 1576.21,283.715 1596.12,255.497 1616.03,283.715 1635.94,311.934 1655.85,283.715 1675.76,311.934 1695.68,340.152 1715.59,368.371 1735.5,396.59 1755.41,368.371 1775.32,396.59 1795.23,368.371 1815.14,396.59 1835.06,368.371 1854.97,340.152 1874.88,311.934 1894.79,340.152 1914.7,368.371 1934.61,340.152 1954.53,368.371 1974.44,340.152 1994.35,368.371 2014.26,396.59 2034.17,424.808 2054.08,396.59 2073.99,424.808 2093.91,453.027 2113.82,481.245 2133.73,509.464 2153.64,481.245 2173.55,453.027 2193.46,424.808 2213.38,453.027 2233.29,424.808 2253.2,396.59 2273.11,424.808 2293.02,453.027 \"/>\n",
       "<polyline clip-path=\"url(#clip392)\" style=\"stroke:#e26f46; stroke-linecap:round; stroke-linejoin:round; stroke-width:12; stroke-opacity:1; fill:none\" stroke-dasharray=\"48, 30\" points=\"301.869,678.775 321.781,650.556 341.692,622.338 361.604,650.556 381.515,622.338 401.427,650.556 421.338,678.775 441.25,650.556 461.161,622.338 481.073,594.119 500.984,565.901 520.896,537.682 540.807,565.901 560.719,594.119 580.631,565.901 600.542,594.119 620.454,565.901 640.365,537.682 660.277,565.901 680.188,594.119 700.1,565.901 720.011,537.682 739.923,565.901 759.834,537.682 779.746,509.464 799.657,481.245 819.569,509.464 839.48,481.245 859.392,453.027 879.303,424.808 899.215,396.59 919.126,368.371 939.038,396.59 958.949,368.371 978.861,396.59 998.772,424.808 1018.68,453.027 1038.6,424.808 1058.51,396.59 1078.42,368.371 1098.33,340.152 1118.24,368.371 1138.15,340.152 1158.06,368.371 1177.98,396.59 1197.89,368.371 1217.8,396.59 1237.71,368.371 1257.62,340.152 1277.53,311.934 1297.45,283.715 1317.36,255.497 1337.27,283.715 1357.18,311.934 1377.09,340.152 1397,368.371 1416.91,340.152 1436.83,368.371 1456.74,396.59 1476.65,424.808 1496.56,396.59 1516.47,368.371 1536.38,340.152 1556.3,311.934 1576.21,283.715 1596.12,311.934 1616.03,283.715 1635.94,311.934 1655.85,340.152 1675.76,311.934 1695.68,283.715 1715.59,311.934 1735.5,340.152 1755.41,311.934 1775.32,283.715 1795.23,311.934 1815.14,283.715 1835.06,255.497 1854.97,283.715 1874.88,311.934 1894.79,283.715 1914.7,255.497 1934.61,227.278 1954.53,255.497 1974.44,283.715 1994.35,311.934 2014.26,283.715 2034.17,311.934 2054.08,340.152 2073.99,311.934 2093.91,283.715 2113.82,311.934 2133.73,283.715 2153.64,311.934 2173.55,283.715 2193.46,311.934 2213.38,340.152 2233.29,368.371 2253.2,340.152 2273.11,368.371 2293.02,396.59 \"/>\n",
       "<polyline clip-path=\"url(#clip392)\" style=\"stroke:#3da44d; stroke-linecap:round; stroke-linejoin:round; stroke-width:12; stroke-opacity:1; fill:none\" stroke-dasharray=\"48, 30\" points=\"301.869,678.775 321.781,706.993 341.692,678.775 361.604,650.556 381.515,622.338 401.427,650.556 421.338,678.775 441.25,706.993 461.161,678.775 481.073,706.993 500.984,735.212 520.896,706.993 540.807,735.212 560.719,763.431 580.631,791.649 600.542,763.431 620.454,735.212 640.365,706.993 660.277,735.212 680.188,706.993 700.1,735.212 720.011,706.993 739.923,735.212 759.834,763.431 779.746,791.649 799.657,819.868 819.569,791.649 839.48,763.431 859.392,735.212 879.303,763.431 899.215,735.212 919.126,706.993 939.038,678.775 958.949,650.556 978.861,622.338 998.772,594.119 1018.68,565.901 1038.6,537.682 1058.51,509.464 1078.42,481.245 1098.33,453.027 1118.24,481.245 1138.15,453.027 1158.06,424.808 1177.98,396.59 1197.89,368.371 1217.8,396.59 1237.71,424.808 1257.62,396.59 1277.53,368.371 1297.45,396.59 1317.36,368.371 1337.27,396.59 1357.18,368.371 1377.09,340.152 1397,368.371 1416.91,340.152 1436.83,311.934 1456.74,340.152 1476.65,368.371 1496.56,396.59 1516.47,424.808 1536.38,396.59 1556.3,424.808 1576.21,396.59 1596.12,424.808 1616.03,396.59 1635.94,368.371 1655.85,340.152 1675.76,311.934 1695.68,340.152 1715.59,311.934 1735.5,283.715 1755.41,311.934 1775.32,283.715 1795.23,255.497 1815.14,283.715 1835.06,255.497 1854.97,227.278 1874.88,199.06 1894.79,170.841 1914.7,199.06 1934.61,170.841 1954.53,142.623 1974.44,114.404 1994.35,86.1857 2014.26,114.404 2034.17,142.623 2054.08,170.841 2073.99,199.06 2093.91,170.841 2113.82,142.623 2133.73,170.841 2153.64,199.06 2173.55,170.841 2193.46,142.623 2213.38,114.404 2233.29,142.623 2253.2,114.404 2273.11,86.1857 2293.02,114.404 \"/>\n",
       "<polyline clip-path=\"url(#clip392)\" style=\"stroke:#c271d2; stroke-linecap:round; stroke-linejoin:round; stroke-width:12; stroke-opacity:1; fill:none\" stroke-dasharray=\"48, 30\" points=\"301.869,678.775 321.781,706.993 341.692,735.212 361.604,763.431 381.515,735.212 401.427,763.431 421.338,735.212 441.25,706.993 461.161,735.212 481.073,763.431 500.984,791.649 520.896,763.431 540.807,735.212 560.719,763.431 580.631,735.212 600.542,706.993 620.454,678.775 640.365,650.556 660.277,622.338 680.188,594.119 700.1,622.338 720.011,594.119 739.923,565.901 759.834,594.119 779.746,565.901 799.657,594.119 819.569,565.901 839.48,594.119 859.392,565.901 879.303,594.119 899.215,565.901 919.126,594.119 939.038,622.338 958.949,650.556 978.861,678.775 998.772,650.556 1018.68,622.338 1038.6,650.556 1058.51,678.775 1078.42,650.556 1098.33,622.338 1118.24,594.119 1138.15,622.338 1158.06,650.556 1177.98,678.775 1197.89,650.556 1217.8,622.338 1237.71,594.119 1257.62,622.338 1277.53,650.556 1297.45,678.775 1317.36,706.993 1337.27,735.212 1357.18,763.431 1377.09,735.212 1397,706.993 1416.91,678.775 1436.83,650.556 1456.74,678.775 1476.65,706.993 1496.56,678.775 1516.47,706.993 1536.38,678.775 1556.3,650.556 1576.21,622.338 1596.12,650.556 1616.03,622.338 1635.94,594.119 1655.85,565.901 1675.76,537.682 1695.68,509.464 1715.59,481.245 1735.5,453.027 1755.41,481.245 1775.32,509.464 1795.23,537.682 1815.14,565.901 1835.06,537.682 1854.97,509.464 1874.88,537.682 1894.79,509.464 1914.7,481.245 1934.61,453.027 1954.53,481.245 1974.44,509.464 1994.35,481.245 2014.26,453.027 2034.17,424.808 2054.08,453.027 2073.99,424.808 2093.91,453.027 2113.82,481.245 2133.73,509.464 2153.64,481.245 2173.55,509.464 2193.46,537.682 2213.38,509.464 2233.29,537.682 2253.2,565.901 2273.11,594.119 2293.02,565.901 \"/>\n",
       "<polyline clip-path=\"url(#clip392)\" style=\"stroke:#ac8d18; stroke-linecap:round; stroke-linejoin:round; stroke-width:12; stroke-opacity:1; fill:none\" stroke-dasharray=\"48, 30\" points=\"301.869,678.775 321.781,706.993 341.692,735.212 361.604,706.993 381.515,678.775 401.427,650.556 421.338,622.338 441.25,650.556 461.161,678.775 481.073,706.993 500.984,678.775 520.896,706.993 540.807,735.212 560.719,763.431 580.631,791.649 600.542,763.431 620.454,791.649 640.365,763.431 660.277,735.212 680.188,706.993 700.1,678.775 720.011,706.993 739.923,735.212 759.834,706.993 779.746,678.775 799.657,650.556 819.569,678.775 839.48,706.993 859.392,735.212 879.303,763.431 899.215,791.649 919.126,763.431 939.038,791.649 958.949,763.431 978.861,791.649 998.772,763.431 1018.68,791.649 1038.6,819.868 1058.51,848.086 1078.42,876.305 1098.33,904.523 1118.24,932.742 1138.15,960.96 1158.06,989.179 1177.98,1017.4 1197.89,989.179 1217.8,1017.4 1237.71,1045.62 1257.62,1073.83 1277.53,1102.05 1297.45,1130.27 1317.36,1158.49 1337.27,1186.71 1357.18,1158.49 1377.09,1186.71 1397,1214.93 1416.91,1186.71 1436.83,1214.93 1456.74,1243.15 1476.65,1214.93 1496.56,1186.71 1516.47,1214.93 1536.38,1186.71 1556.3,1158.49 1576.21,1186.71 1596.12,1214.93 1616.03,1186.71 1635.94,1214.93 1655.85,1186.71 1675.76,1158.49 1695.68,1130.27 1715.59,1158.49 1735.5,1186.71 1755.41,1214.93 1775.32,1243.15 1795.23,1214.93 1815.14,1243.15 1835.06,1271.36 1854.97,1243.15 1874.88,1271.36 1894.79,1299.58 1914.7,1271.36 1934.61,1299.58 1954.53,1271.36 1974.44,1299.58 1994.35,1327.8 2014.26,1356.02 2034.17,1384.24 2054.08,1356.02 2073.99,1327.8 2093.91,1299.58 2113.82,1271.36 2133.73,1299.58 2153.64,1271.36 2173.55,1243.15 2193.46,1271.36 2213.38,1243.15 2233.29,1214.93 2253.2,1243.15 2273.11,1214.93 2293.02,1243.15 \"/>\n",
       "<path clip-path=\"url(#clip390)\" d=\"M312.489 404.149 L577.694 404.149 L577.694 93.1086 L312.489 93.1086  Z\" fill=\"#ffffff\" fill-rule=\"evenodd\" fill-opacity=\"1\"/>\n",
       "<polyline clip-path=\"url(#clip390)\" style=\"stroke:#000000; stroke-linecap:round; stroke-linejoin:round; stroke-width:4; stroke-opacity:1; fill:none\" points=\"312.489,404.149 577.694,404.149 577.694,93.1086 312.489,93.1086 312.489,404.149 \"/>\n",
       "<polyline clip-path=\"url(#clip390)\" style=\"stroke:#009af9; stroke-linecap:round; stroke-linejoin:round; stroke-width:12; stroke-opacity:1; fill:none\" stroke-dasharray=\"48, 30\" points=\"335.94,144.949 476.648,144.949 \"/>\n",
       "<path clip-path=\"url(#clip390)\" d=\"M513.942 164.636 Q512.136 169.266 510.424 170.678 Q508.711 172.09 505.84 172.09 L502.437 172.09 L502.437 168.525 L504.937 168.525 Q506.697 168.525 507.669 167.692 Q508.641 166.858 509.822 163.756 L510.586 161.812 L500.099 136.303 L504.613 136.303 L512.715 156.581 L520.817 136.303 L525.331 136.303 L513.942 164.636 Z\" fill=\"#000000\" fill-rule=\"nonzero\" fill-opacity=\"1\" /><path clip-path=\"url(#clip390)\" d=\"M532.622 158.293 L540.261 158.293 L540.261 131.928 L531.951 133.595 L531.951 129.335 L540.215 127.669 L544.891 127.669 L544.891 158.293 L552.53 158.293 L552.53 162.229 L532.622 162.229 L532.622 158.293 Z\" fill=\"#000000\" fill-rule=\"nonzero\" fill-opacity=\"1\" /><polyline clip-path=\"url(#clip390)\" style=\"stroke:#e26f46; stroke-linecap:round; stroke-linejoin:round; stroke-width:12; stroke-opacity:1; fill:none\" stroke-dasharray=\"48, 30\" points=\"335.94,196.789 476.648,196.789 \"/>\n",
       "<path clip-path=\"url(#clip390)\" d=\"M513.942 216.476 Q512.136 221.106 510.424 222.518 Q508.711 223.93 505.84 223.93 L502.437 223.93 L502.437 220.365 L504.937 220.365 Q506.697 220.365 507.669 219.532 Q508.641 218.698 509.822 215.596 L510.586 213.652 L500.099 188.143 L504.613 188.143 L512.715 208.421 L520.817 188.143 L525.331 188.143 L513.942 216.476 Z\" fill=\"#000000\" fill-rule=\"nonzero\" fill-opacity=\"1\" /><path clip-path=\"url(#clip390)\" d=\"M535.84 210.133 L552.159 210.133 L552.159 214.069 L530.215 214.069 L530.215 210.133 Q532.877 207.379 537.46 202.749 Q542.067 198.096 543.247 196.754 Q545.493 194.231 546.372 192.495 Q547.275 190.735 547.275 189.046 Q547.275 186.291 545.331 184.555 Q543.409 182.819 540.308 182.819 Q538.109 182.819 535.655 183.583 Q533.224 184.347 530.447 185.897 L530.447 181.175 Q533.271 180.041 535.724 179.462 Q538.178 178.884 540.215 178.884 Q545.585 178.884 548.78 181.569 Q551.974 184.254 551.974 188.745 Q551.974 190.874 551.164 192.796 Q550.377 194.694 548.271 197.286 Q547.692 197.958 544.59 201.175 Q541.488 204.37 535.84 210.133 Z\" fill=\"#000000\" fill-rule=\"nonzero\" fill-opacity=\"1\" /><polyline clip-path=\"url(#clip390)\" style=\"stroke:#3da44d; stroke-linecap:round; stroke-linejoin:round; stroke-width:12; stroke-opacity:1; fill:none\" stroke-dasharray=\"48, 30\" points=\"335.94,248.629 476.648,248.629 \"/>\n",
       "<path clip-path=\"url(#clip390)\" d=\"M513.942 268.316 Q512.136 272.946 510.424 274.358 Q508.711 275.77 505.84 275.77 L502.437 275.77 L502.437 272.205 L504.937 272.205 Q506.697 272.205 507.669 271.372 Q508.641 270.538 509.822 267.436 L510.586 265.492 L500.099 239.983 L504.613 239.983 L512.715 260.261 L520.817 239.983 L525.331 239.983 L513.942 268.316 Z\" fill=\"#000000\" fill-rule=\"nonzero\" fill-opacity=\"1\" /><path clip-path=\"url(#clip390)\" d=\"M545.979 247.274 Q549.335 247.992 551.21 250.261 Q553.108 252.529 553.108 255.862 Q553.108 260.978 549.59 263.779 Q546.071 266.58 539.59 266.58 Q537.414 266.58 535.099 266.14 Q532.808 265.723 530.354 264.867 L530.354 260.353 Q532.298 261.487 534.613 262.066 Q536.928 262.645 539.451 262.645 Q543.849 262.645 546.141 260.909 Q548.456 259.173 548.456 255.862 Q548.456 252.807 546.303 251.094 Q544.173 249.358 540.354 249.358 L536.326 249.358 L536.326 245.515 L540.539 245.515 Q543.988 245.515 545.817 244.149 Q547.646 242.761 547.646 240.168 Q547.646 237.506 545.747 236.094 Q543.872 234.659 540.354 234.659 Q538.433 234.659 536.234 235.075 Q534.034 235.492 531.396 236.372 L531.396 232.205 Q534.058 231.464 536.372 231.094 Q538.71 230.724 540.771 230.724 Q546.095 230.724 549.196 233.154 Q552.298 235.562 552.298 239.682 Q552.298 242.552 550.655 244.543 Q549.011 246.511 545.979 247.274 Z\" fill=\"#000000\" fill-rule=\"nonzero\" fill-opacity=\"1\" /><polyline clip-path=\"url(#clip390)\" style=\"stroke:#c271d2; stroke-linecap:round; stroke-linejoin:round; stroke-width:12; stroke-opacity:1; fill:none\" stroke-dasharray=\"48, 30\" points=\"335.94,300.469 476.648,300.469 \"/>\n",
       "<path clip-path=\"url(#clip390)\" d=\"M513.942 320.156 Q512.136 324.786 510.424 326.198 Q508.711 327.61 505.84 327.61 L502.437 327.61 L502.437 324.045 L504.937 324.045 Q506.697 324.045 507.669 323.212 Q508.641 322.378 509.822 319.276 L510.586 317.332 L500.099 291.823 L504.613 291.823 L512.715 312.101 L520.817 291.823 L525.331 291.823 L513.942 320.156 Z\" fill=\"#000000\" fill-rule=\"nonzero\" fill-opacity=\"1\" /><path clip-path=\"url(#clip390)\" d=\"M544.659 287.263 L532.854 305.712 L544.659 305.712 L544.659 287.263 M543.433 283.189 L549.312 283.189 L549.312 305.712 L554.243 305.712 L554.243 309.601 L549.312 309.601 L549.312 317.749 L544.659 317.749 L544.659 309.601 L529.058 309.601 L529.058 305.087 L543.433 283.189 Z\" fill=\"#000000\" fill-rule=\"nonzero\" fill-opacity=\"1\" /><polyline clip-path=\"url(#clip390)\" style=\"stroke:#ac8d18; stroke-linecap:round; stroke-linejoin:round; stroke-width:12; stroke-opacity:1; fill:none\" stroke-dasharray=\"48, 30\" points=\"335.94,352.309 476.648,352.309 \"/>\n",
       "<path clip-path=\"url(#clip390)\" d=\"M513.942 371.996 Q512.136 376.626 510.424 378.038 Q508.711 379.45 505.84 379.45 L502.437 379.45 L502.437 375.885 L504.937 375.885 Q506.697 375.885 507.669 375.052 Q508.641 374.218 509.822 371.116 L510.586 369.172 L500.099 343.663 L504.613 343.663 L512.715 363.941 L520.817 343.663 L525.331 343.663 L513.942 371.996 Z\" fill=\"#000000\" fill-rule=\"nonzero\" fill-opacity=\"1\" /><path clip-path=\"url(#clip390)\" d=\"M531.859 335.029 L550.215 335.029 L550.215 338.964 L536.141 338.964 L536.141 347.436 Q537.159 347.089 538.178 346.927 Q539.196 346.742 540.215 346.742 Q546.002 346.742 549.382 349.913 Q552.761 353.084 552.761 358.501 Q552.761 364.079 549.289 367.181 Q545.817 370.26 539.497 370.26 Q537.322 370.26 535.053 369.89 Q532.808 369.519 530.4 368.778 L530.4 364.079 Q532.484 365.214 534.706 365.769 Q536.928 366.325 539.405 366.325 Q543.409 366.325 545.747 364.218 Q548.085 362.112 548.085 358.501 Q548.085 354.89 545.747 352.783 Q543.409 350.677 539.405 350.677 Q537.53 350.677 535.655 351.093 Q533.803 351.51 531.859 352.39 L531.859 335.029 Z\" fill=\"#000000\" fill-rule=\"nonzero\" fill-opacity=\"1\" /></svg>\n"
      ]
     },
     "execution_count": 19,
     "metadata": {},
     "output_type": "execute_result"
    }
   ],
   "source": [
    "\n",
    "graficaCaminata!(caminataAleatoria(100),caminataAleatoria(100),caminataAleatoria(100),caminataAleatoria(100),caminataAleatoria(100))\n"
   ]
  },
  {
   "cell_type": "markdown",
   "id": "6034d493-4524-4988-a5b9-0b7b435aa4ef",
   "metadata": {},
   "source": [
    "**Ejercicio** Crea una función `animaCaminata` que\n",
    "* tome como entrada un arreglo -que supondremos que simula una caminata aleatoria en una dimensión- y\n",
    "* devuelva como salida una *animación* de la caminata. (Sugerencia: Usa tu función `graficaCaminata`.)\n"
   ]
  },
  {
   "cell_type": "code",
   "execution_count": 92,
   "id": "322997d9-441c-43c5-b1c4-99bb83d5e283",
   "metadata": {},
   "outputs": [
    {
     "data": {
      "text/plain": [
       "animaCaminata (generic function with 1 method)"
      ]
     },
     "execution_count": 92,
     "metadata": {},
     "output_type": "execute_result"
    }
   ],
   "source": [
    "function animaCaminata(T)\n",
    "NP=length(T)\n",
    "List=[]\n",
    "#push!(List, 0 )\n",
    "NumPa=[]\n",
    "#push!(NumPa, 0 )\n",
    "\n",
    "anima = @animate for t in 1:NP # Por cada t ∈ 0:NP, se va mostrando los pasos del arreglo desde 1 hasta t.\n",
    "    push!(List, T[t] ) #Aquí se agrega T[t] a list para que grafique hasta la entrada t. \n",
    "    push!(NumPa, t-1 ) #Aqui se agrega la posición t-1, mostrantando en la grafica desde 0 hasta t-1.                              \n",
    "    #Aquí se grafica la línea punteada.\n",
    "    scatter( NumPa, List,legend = false, title = \"Caminata aleatoria\", linewidth = 3, linestyle = :dash) #Aquí se grafica la línea punteada\n",
    "    \n",
    "  xlabel!(\"Número de pasos\")\n",
    "  ylabel!(\"Posición\")\n",
    "  xlims!(0,NP+1) #Aquí se grafica desde 0 hasta NP+1 pasra que se meustren todos los puntos.\n",
    "  ylims!(-NP/2,NP/2) #Aquí se grafica desde -NP/2 hasta NP/2, ya que en ele caso extremo, sube o baja NP/2 ya que tiene\n",
    "                     # 50% de probabilidad de subir o  bajar un paso.\n",
    "\n",
    "  end\n",
    "\n",
    "gif(anima, \"Caminata aleatoria.gif\", fps = 10)\n",
    "end"
   ]
  },
  {
   "cell_type": "code",
   "execution_count": 93,
   "id": "cb9653d2-526f-4d84-a379-f6979fdddde1",
   "metadata": {},
   "outputs": [
    {
     "name": "stderr",
     "output_type": "stream",
     "text": [
      "\u001b[36m\u001b[1m[ \u001b[22m\u001b[39m\u001b[36m\u001b[1mInfo: \u001b[22m\u001b[39mSaved animation to /home/paws/Caminata aleatoria.gif\n"
     ]
    },
    {
     "data": {
      "text/html": [
       "<img src=\"data:image/gif;base64,R0lGODlhWAKQAfcWAAAAAABpqgBtrwBxtgB2vgB3wAB6xQB7xgB8yAB+zAB/zQCE1QCH2wCN5ACR6gCU7gCW8QCW8QCY9QCZ9wCa+QCb+gD/AAEBAQFmpQJflwJjngMDAwNJdQQ1UwRbkAUFBQVNegYRGAZYiQcHBwhUggkJCQoKCgpUgQsLCwxQeg0NDQ5LcQ5Odg8PDw9IahAQEBERERE8WBFBXxFMcBISEhI0SBI1SxI4TxI6UxJHaBM1ShNHZRQUFBQoMxQrORQtPBQwQhUVFRUdIhUlLhUpNhUtPBUxQhU2ShU6URU8VBU8VRU/WRVFYxYWFhY3SxY8Uxc9VBgYGBkZGRonMBsbGx0dHR0qMh8fHx8tNiEhISIiIiMjIyUlJSUyOicnJyczPCkpKSoqKisrKys3PiwsLC4uLi87Qi89RTAwMDE9RTIyMjI+RjMzMzRBSTY2Njg4ODk5OTpHUDs7Oz4+Pj9LU0BAQEFBQUJCQkREREZGRkZRWEdUXUhISEpWXktLS0tYYExMTE1NTU5OTk5ZYE9PT09bY1FRUVNfZVRUVFZhaFhYWFlka1paWltbW11dXV5obl9fX2BgYGFhYWNjY2VvdWZmZmdnZ2pqamt0eWxsbG52e29vb3FxcXJycnJ6fnR0dHV1dXV8gXd3d3h/hHl5eXx8fH5+fn9/f3+Eh4GBgYGCgoODg4SJjIWFhYWKjYaGhoiIiImJiYmNj4mOkIuLi46Ojo6Ul5CQkJCTlJGRkZSUlJWWlpabnZeXl5mZmZmZmZueoJycnJ6enqCgoKGjpaKioqSkpKWlpaenp6mpqaqrq6ysrK6urq+vr7GxsbOzs7W1tbe3t7m5ubq6u7u7u7y8vL29vb+/v8DAwMLCwsTExMXGxsjIyMrKyszMzM7OztDQ0NPT09XV1dfX19nZ2dvb293d3d7e3t/f3+Hh4eLi4uTk5OXl5ebm5ujo6Orq6uvr6+3t7e/v7/Hx8fLy8vPz8/T09Pb29vf39/j4+Pn5+fr6+vv7+/39/f7+/v///yH/C05FVFNDQVBFMi4wAwEAAAAh+QQFCgAVACwAAAAAWAKQAYcAAAAAaaoAba8AcbYAdr4Ad8AAesUAe8YAfMgAfswAf80AhNUAh9sAjeQAkeoAlO4AlvEAmPUAmfcAmvkAm/oA/wABAQEBZqUCX5cCY54DAwMDSXUENVMEW5AFBQUFTXoGERgGWIkHBwcIVIIJCQkKCgoKVIELCwsMUHoNDQ0OS3EOTnYPDw8PSGoQEBARERERPFgRQV8RTHASEhISNEgSNUsSOE8SOlMSR2gTNUoTR2UUFBQUKDMUKzkULTwUMEIVFRUVHSIVJS4VKTYVLTwVMUIVNkoVOlEVPFQVPFUVP1kVRWMWFhYWN0sWPFMXPVQYGBgZGRkaJzAbGxsdHR0dKjIfHx8fLTYhISEiIiIjIyMlJSUlMjonJycnMzwpKSkqKiorKysrNz4sLCwuLi4vO0IvPUUwMDAxPUUyMjIyPkYzMzM0QUk2NjY4ODg5OTk6R1A7Ozs+Pj4/S1NAQEBBQUFCQkJERERGRkZGUVhHVF1ISEhKVl5LS0tLWGBMTExNTU1OTk5OWWBPT09PW2NRUVFTX2VUVFRWYWhYWFhZZGtaWlpbW1tdXV1eaG5fX19gYGBhYWFjY2Nlb3VmZmZnZ2dqamprdHlsbGxudntvb29xcXFycnJyen50dHR1dXV1fIF3d3d4f4R5eXl8fHx+fn5/f39/hIeBgYGBgoKDg4OEiYyFhYWFio2GhoaIiIiJiYmJjY+JjpCLi4uOjo6OlJeQkJCQk5SRkZGUlJSVlpaWm52Xl5eZmZmbnqCcnJyenp6goKCho6WioqKkpKSlpaWnp6epqamqq6usrKyurq6vr6+xsbGzs7O1tbW3t7e5ubm6uru7u7u8vLy9vb2/v7/AwMDCwsLExMTFxsbIyMjKysrMzMzOzs7Q0NDT09PV1dXX19fZ2dnb29vd3d3e3t7f39/h4eHi4uLk5OTl5eXm5ubo6Ojq6urr6+vt7e3v7+/x8fHy8vLz8/P09PT29vb39/f4+Pj5+fn6+vr7+/v9/f3+/v7///////////8I/wD7CRxIsKDBgwgTKlzIsKHDhxAjSpxIsaLFixgzatzIsaPHjyBDihxJsqTJkyhTqlzJsqXLlzBjypxJs2Y/dt2yjeNXMp+kUjYfgpNELOjAXJLUGV3KtKnTp1AN4ssFBoBVADssnRtZD0CYjt56fSsJDUAljvd6JdsYCMDYqHDjyp1LF+M7OQBEFEL1SlMYACxG4qMTqeMsALjImuX4DkCajaTomKtLubLly1D34QGwZjLBZlrmHk5MsuzZjY0fY17NurVruccAQHF38B3Bds1y0VIWryA8buj6jeuFS9tAeshmHaNHkB83cAPfcUvXr1wvWs/2GSyXzBauZ/gIgv/TBOATt/O9BX4zRivXNe0M2THLZWuZvIKmC+7LpotWsvsF0QPNL7MUo9RA7VQDQBfncVMOQeQEA0swWxEUDzdboQPMLOMIx409BLnTTH/JwPPaiSimqKJAeMHC0CEWXAVYUQMtA4AmpcRoVST7VAPEVVhU2E9XXwlkDACjoKIjZ7YJxM9fMlKBzUBkyGiVNP2cY4WVZHSoECBLAvACMgTlN9A3VV61w1oDpSKCjB6QMpAtVgLQiED4ULKkBpjoM5AzAFiipFXF9NPWW/0sooGMKQSz4qOQRhqVPW9CtxAepEATTjezuOABNzUCYMUMvHCTDBUAsMICJtZcMwgAgQz/RORAR2LxQi7bPLMGAJQMxM8Xs1gzjjafeDADbf1oU0mg0jRrGzhv8ILNONc8AgAY8CFUhynShMPNKyx4gKiZ1b3ggSfZgNPLDB5kMxAmlTTzzTfBYAHALwKdowwAWzQrzVuSADDGM+Q00wUAmPwJABUsuFINNGMdOlAfo2jaDS0vaGCcpBx37HFL4wBgQbYP2ViYQDZasM1AzVgViqw7aFCPQLMaCYAG3QyUjggzKJQKALQMNBpDiwDwDERHWjIQuYUA0AtB1lhgR0LjiEBGdI4V9A1g7ehMggVeAgpAMwVJjBCgd36s9tpsd8QNACdMhI8HRfZjIx0WWsUOQXsA/xAOzV7RCsAeBaUBQHoHeQNAIkIjxlBsqEBEjwVrLL1YP/FowARPBIXhAXMIpWHBzP2kVtDPmxRECQCzCARo3QOZfZA+JHTR9u245+5QODdzrhA8pKTBhIxQhNorQR4ERlAjAFwDeN1HalJQ33/na8kYL8h4R+OkEdTNIl+cIGPCCb0zyhnDA2n5adeIGsr78Gvht0D55BLHFIteRV3pWROUCADDKAgvAAAJ1wHgEAaRXTxKsQYoyGgHuougBCMYjxh5JiHyONgYNJGKV7yCBBBE2Y0KQoLiEQQSAKjG8wQ3ioL0YX7C2YEF4uAJVrxiFACoA/cKUg0ReGAPofBgwP+UhhB4yO8Mm1CFBzVAhfUJpGUeeIEUpyhFbwjkVVSohCk8KL8KmY4gfzBaQWyEwH4AiogEMRs9/hIGDnqwBMqboBzn6DHD4UshdJIEQephgRDabYQEKWFBUKjCIQXOZi0kyAurFwkA2IIg28jhDgnyBjEOJBiBSogrEEaQxjRRIGZSkA4T0j43gGggVfFi/wZSNEcRZIAnO2MC3SKQXNiJIPfQQBzpyMteoggX17rH7ASCQiwNBBtYCZX0AmnCgRByhYh0IQwN17WB6EKSAgHmIwlSgp4RhDxoNMj/pjQQaSzMiaXTpTARAsxXWOhNFZIHAK5GEFYAciABC5oZM1n/Nlr2Y3VHG0gkd+nLghq0MvWoSiJOORByTK0fnriXr+6QTBEucyCCPGEKodmPIyVyYjDczMoEQo8tjbIfyQAAJwpCBQ80qR/oKAE/D2IJABRKIPuIwzlBebl+NM0UBpmHzcL5CasIiQVAIFk4LJCCveWLBBrwjCz7+RYc8sJXfSPoQbfKVaiEA1VWQAUzoBGMRXhABE8EABCCEY5qACIKIFQmCZtJzI0aEnpIkmb1XgGALzRDHM1YQxawWR0LsCAUuugFdawlB2qIoxhYGGw4C5JSKBAjHNTYQ0s/2Q9ynWN4iUiGN6zxiz+MEh0e8MAsvrENTJBgCgAQkh0AUAhb//SikDX9gjK+gYzBrtSAkzWUP8uyA7a6Cgpw7Kpyl9sUdlDCAzKygBwK2Y9PLAkL3WCBH210UYFk1Jl2rVlH86pIGOLjVVdxgzYI249eROEqWHJHG2RUiH0F11eaWNIWviECzpKrH+bYjIxY8NFgkOAqLFDGbIUUjjfoKG360AR0reKBUWRrqmn0Zz9IsSQrcGMHWmWuiEfsEgEBgxfK2B+EjtGLaeQDwEKqBzleKpByCEkg7SAH6fgxDiHNY8YFWQc5XjwQbwwDGNrghz7IsY6gkkPHOM0GMIIxFhkji2rH+EU1tGNjWY2jmgQZhzF4cYxshOc2zOBFM4QqZD8RJP8f6SAHmPuxjmPwAhlzHhI5rjyQdYzjzDVGRi+k8eJzXJDEiE60ohfN6EY7+tGQjrSkJ03pSlv60pjOtKY3zelOe/rToA61qEdN6lKb+tSoTrWqV83qVrv61bCOtaxnTetazwUVJONqrnUt4l1v1dcHJQHplAug5Rab2Mzlh1CZK2zmHrurz+ZqtA+qbBE329ginvZBtV3QarctHKgoRHfVkYguDMJLB7k2sp2d7WQvm23JwEQj3kAQOlTCHKQAg+9IOGxot5vdy/X27YBBb4GEgwRC3QcTqMtvgGPb4V0VeNsIPhBknGEge8gFQtTtb4h3XLkSZxvFBaILOQwkEUD/OYgFrICFlldCHjCPucxnTvOa2/zmOM+5znfO85uvo+dAD7rQh050nv+86EhPutKXHvOjM/3pUI86zePhdKnznMgxGXk/ilE5gfRBnwYhATieTI53G5TbBUW7L9XOy5CvTevaeIGbtbCMjfdb2v9+OMjNrrZ8vCMXbXiHUPnRhacxAwjrDPvdt8p2Xjaejo+Xo9s9Fg0qMkIg2sACFKIAjYRwHO8eB/3eefmOfSs+9IzPe8T5ztXPpx7123a3tRcfe9ifXfbMpv3tbZ923C/X9bXX+7pHn3ver131XJ18sHXfe+P3MvITVL5Bgb974X989bN3vuORv1XpF5T6zbe+/+ixX3zxv978BvW+L8F/fO1D3vfKZf/zuX9+8v+e+e1Hf/XtH3/8z9/9cwR9EqR+vSR/2weAciSAEUSAvGSA74eAE6SAusOAdOSAAUh/wcd/XWWBCYiB+5d8rLdVHBiBHhh+Gth6/neA+meCIJh9K5h/w3eCIpiCD/iC/0d89weBEiSBusODuEOBczSCO1iCMNiC5ReD15eE3ReCy6eDEeSDuAOFbQOEciSET0iENyiDTWiDKoiES+iCXlh/SkhtTDh9NHiBTtiD8LeBZ9iBaZg7Usg2VDhBVqiGbxiFa4iCd3g7ccg2fag2cyhBdQiHWNiFRpiDXFiDYZh+Zfh9bf9IgnvYNn/4MYEYQYOIh5Hoh3k4g5m4NpP4MZ/YMZWoO5fIh4WoiIfYf52oNqHYMa0oKaOYO6UoiaeIhjioioloi4vYbY24fo84hKsIipu4hbvIguOXimwYjB7zipLCjJASi7gzi5qojK44jGZIjRzjjJCijSsCjbcjjZ5Yi254i8mYi+NYjL3kjW0DjqwojpBIjnpoju+Ijm3XiwX4i1eIjc1ojY6oj5HCjSsCkCmijmzDjsLoj9vIj76IkI8ikCnikCdCkGtjkMvojsAIj5wojxdJj3QkkWpDkdXIkAGpkPcokioCkSeCkq7hkR8DktlokfmIkcQ4hhlIk7wIhjb/aYxi+IVHmJNFeIw8iYgciYpASYY4WZQ1iZQ32ZNKqZNJaZRMuZNS+ZSMOEfYgAxYSTZ2Z5IPCZO5w5KtMQhyQAmU8Ameh492qJExqYW3MwjAwBAuuY9ciSIq2RpgyRqDYAm/4DxnOZcp6ZU/aI9qQwmLIAlU8AfA5gGa4AmMSQz38JiQGZmSOZmUWZmWeZmYmZmauZmW6Q6c+ZmgGZqiOZqb6ZmkeZqomZqqCZmmuZqu+ZqwOZn28A6xCZrARhPxMAVkchAegAqs8JvLkA/COZzEWZzGeZzImZzKuZzM2ZzOmZzv8JzSOZ3UWZ3W6ZzReZ3auZ3c2Z3DmZ3eGZ7i/zmexokP4EmeznmbNFEIqbCVapmWQyl5gukx/AAf80AFxuCe8XmOPlmPchQPWSAJmIAFeOBmp/eehOiXKzmfoqgNvaAL1mB6gYSWCYqgmCiT12ihpqigdsmgVUihF7qf84iM8SiiG9mfHemhdAiiG6qhtBhwKiqILPqiLjqNGNqPNRqOHMoad8kxcfmPgBmiJJqRJrqWKDpHPSopP5qQO8oadcmjMWqJM2qjRQqfQzqTTfmTU7mUQnmkuuil0RelpDilOpqj7QijR7mlTvmBQYmLVVqhb3o7SRopS9qQQdqibImjcYqnYDqAYiqLZHqmZnqQN7qQg1qRTYoZcwopdf86komKGU+6Gov6KI16kndKo3lqqHuKqX26gH8ajYFKqJtKpVeaoaNapqdKiZ/6jaGKqIcakoVakq/6ko9qGZO6IpXalbVqGZGqqKu6jq0Kq6kqqqWqp51qpFnqn1FJlWyqpun4qwUZrLQ6q3IZqw0ordU6rK6aqbKqrcJ6rF8JrROJrUC6q5XRq5dxqyqSq3R5qaTapuXordMqr5GirinCrn9prpSBrrYqrh9JrkxKreVqrRUIsHaqr3XBr5VhryiCr6+hsOfqroDorykRD9/QIOfBEg7rGhC7rxKrqnIRDrNVJxprsI4qsAHLrTZBBkAAC83gL81SsghLFx2bsCT/WRMVxCYxsbGtUbM0+7H0SbElUUEjtbMma6kzOxc+KxcMuxF7EDkywbNOCrTbWqxG8QxU8AnTgLGgshJSuxpLKxdhGxdjGxVNqxHpQ7Jee7S6irIHS7A0cQ0wC7My67YnS6/PKLQd87WQSrXfCq9REQ/boAzaQGMqwbeXUbZRobhQwbhOcbYZsQ+jcGAUVgmJlxKIy6t+O69WKxP3ALX9YAoHlAzZsAyS4AHHc7hs265JK7Y3CxP5sAOQkA/64AJmSRC24AEmorqtS7abW696CxLpIAd7sA4AYEWdBABFixKZG7G9CxeO2xSQWxH6wAoVpJUD0Q0AIA5r+7yL+7t5/ysXcpAFyCsca6AFEloSzeux3tu4r0sT3wAEFtAFdRAGGpACfMm7dou0+4si04sR7YAKdrAGcjAKN4a5q5uv/cu6cPuh7fsU0dsUEbwU/7sa62uzD+wUE2wUFRwRz0AHhVIIdDDCJDzCdYu3KQuugQkV0bAHx9APibAHMjzDMnzCKiykyZqiacqsa9rDz7rDzcrDWlqVcVEKrlAQvUA++ovCb8vEKtLBE7EPLLCbA6ENGrC7CJzBEgy+jwLFEtEOAGApAyFPOdMR+mAOgJZuCfywXNzEnVsTjWENBREy5asR1QAFXbADdYcQIJAJ3OvE/AvI/hu8I6EFZTQQmsACaf+MEfuABUVRebq3AQHgA7UgyAxsya/hxRJBDAAgB8EwDcTQFi7CEdiwA/DRBTpbEB9AARHgA+Rww3yaw0hKyCPRCzuAYLCQvhZBDG0wEH/QOgexyhSAAZyQZ0McxMjsS5osN9rQDNiArSV3cilnEBtAARQgAEGwCVa3zdwsdFXXzeAczjj3zeJczuZMzuacztxMdepMc1hXE8lAT/2AB7qAEMJsAsIAy5wqy/IJFetADVtxDdQw0AQ90B1RNb2xDztATgaxygpQBaDjrFmoz2uzzAwBDABwxGlrJR6xB43wDZqgGgfBAUkgBtXDz/yJ0n4KFe6wDU3WDdsQ0zId0x7/8Q6UsAaNoGJh1w26fMw+PNGAS6QUjapDDbKUsQ26sLxZvMAKjMkLKhdukDr9gAwxYgFX1b1MzcZaTMG0DBL4oAFy3A9jIAfqQAo7sMgmccE/u9VLscFBYdEOYbwPgg4AUHeNgW7Mu8Yc28Z3+8Y0IU9WlAsaYBtd0bVL7dR7zdZv3dUg0QWL0A1jrR4AcCCHXdTEqtKeKhfOIFMnwJeowFmVjdnIKtE6LBfucA1gVg35G9qkTZSt3c/Lmsw+PdvKGhfo8Al48AV1oAl/jNWI3bN8PZCM/RHd8AKU0wdt4AEkYExLbNlVK9rhCtVdcNLo4AZYoJ4hodZKG9xtq7K4/2kBAXUmMMTaQgzUrx2mcWG8ZYwgAGDYea3YQeHW8f2+MqHQ3dUPs+ABiPPeWZ3Y/Q2lcsFXfRAM0VAMiqLE5C3b5l3epQ0X/KAqV1ECnvDO/P3bUwvfNQHXEGEP2gAN2DDcCqHdrovhNSHfGQ7iG7ENkPAGhcALPV3hzv23573SUNENBwYE0DXNLiHivkvif03fL9EIL5Az8bAHJ2CgLcHj0Mvdl+zXMdEGUt0PkfTKL6Hk3+vjM2HiNKHhCoEFYGe87lLleg3cWC4TWj4TXJ4QVvDlABDmOz7mF/7fce7dMWEFXXAHeI4XbYDneG7D0A2nMQ6LKJ4R45sFhn7oiP/u5zN+on8up4N+IlbuvmUeE2cuE2kOF5EOwUze1E7uwHIOtpv+1LH904bY6FP46K+R6Roc6v5N555u4aA+6S9x6VGh6lss6y9R6TFB61Bh60yh65TO6gA+6rRd6os+gajuGr7e1sI+552+orjuEsAOE9PuErz+FMtuFNUu7c3uq0BM6q7N4LP87cUe7gre4G4a6Nmq7uFL7At+7uauzMneGtk+39HeEtvOEtfuFPVuE/nOEv++EgGfEvveFP1e4t3et2jq7sYu7l8a1Fh67FZq6nI476xx8D9+7wAP5DKq8QKf8P1K7u8O7g8PlV1K8e8q8SvM8PFe7iVPxCev8jj/LPOnLvIND+8vz6XpjvJEzfNGHfMOn9I0X/E23/Ij7/LozfI5T/JCD/M7P/QpH/Q0DvQ43/RVP/VPL/WMDvUTW/RLj/QjCvGmyu4p7PNB6/VWz/Rhb/JZf/Vbr/XIjvZrD/cTz/bxSvZubPaiaPFPoQtkWZZ9+ekKL/ghL0d5mZWBD+uDr/iFP0FuCZdwHuuEr7kL7/hygHLGjFGRv/h439diDynn0A2iP/peogvBgAyHQAWGOxAaQAZp8PqcMA+yP/u0X/u2f/u4n/u6v/u83/u+n/vr8PvCP/zEX/zG7/vBf/zKv/zM3/yzn/zOH/3SP/22Lw/sQP3Dj+QrwUBr/9D93a9HzUEGVx122dAglO32o033K89LgcAK+tn5gQz/gyxH+fDH3NDZ76/3Mq7+ji5HAEHvBZUuLGb1Q5gwIYl6Ch0+hBhR4kSKFS1exKhQXkaOHT1+BBlxY0iSJU2WHHlS5UqWD/nNaxlTZsV958blm8hw5k6eGVP2BBrU4U+hRXsSNZq05UulTWXqdBr1JFKpVTtStZrVIlatXSEy9RqWIlSxZYeaRasx7Vqua62CdVuWbFyvbelGtXu3aV69RuH2zToXsFS+g4MWNnw0cdW/i5sKdmwUceSYkymztHz5ZGPNQSF35pkZNEnRo0GWNt2Rc+qnDVmHfq049k7Us/8rrrZ98nNulLwr+25ZG7hLmMNV7jZ+NfnU5SaFN8fdPCNy6Vurh3zePHvy6NcrUvcucXvy8cbLA+8eXiJ49Q/PA3/vO37u9O0fsrefcH7u/bb7x64vv4VcE5Ci/2I78LUEUwuwQPwEXDC1CE2bELQGBXwwvwpB27CzDi+7ML8M7fvwshIpO9GxEO0bsb0UHXtxsRgNW7G9FtWb0bAcB9uxrxrVuzG8HvsaUq8i6foxvCC9O5KuJuN6cq0kvVvyuijZKtC6LCea8roqq7syrTDRGrOsLqv7Uroyy1pTrDa9OlO6NLXb0sA6J3qzqzibm3O5PLv6U6tA3yruToj6JM//UJEUhWhQxgpldMBI1ZpUv0otvXTP5RA171KEHK0K1Kg0TY7T4UTFy9N+UG2KVONMhU9VVvfy1NXhYJVPVl0zhXRSXHmbValgkxq2KFuB+5W/XS8tVqhjfUvWv2UrbTaoZ3mLdrZqD5s20mtzyxbBbiPdtqdvbQtXwXEZLZenc2dLl7V2YfN03pnejS1eCddV1F6Z8H1NXwr5NdTfmABmTeDRDP6t3lp7jVRhDgm+k2GWEE5NYg8prtPilTA2TWPNPF6JZJVMNgnk0UQ2keMtUS5JZdBYRtHlLGEmSebOaI4MZ9JsFlBnzXiGEWgIH1aVaBmN1hBpT5VOzGfsmG5P/+jLoNaRahedvhRrHrXGketKvQZM6tPA9s5qysgmEm0mxfaVwEnN/ohuj+zmSO3I2DbSbSvhjlhucv0GE3BG+b4Lb44U98lwRRF3knA1HTcUciglp5PXpAVnF3M/Kb/TcrcYx4j0i0y/DeLDOe/X80Q1f5r1gl3vFPauZa+Y9lNBr1N0LB0GvlK9tZonm20c2qaXa3LCvWPdY7V9OV48AOINhWaZwhItPlmv+ZefzzX65NypBxjrEZqHBW76OYeEdSLyXUzwgeWdN/MTegaLhNoIBn7vb56fssS3nPsh5BdxSEghWBERD6CCFQ98Rj4kOEEKVtCCF8RgBjW4QQ520P+DGXzHB0U4QhKW0IQeDOEJVbhCFrZwgil0YQxlOEML4gOGNPTgPoRCjDD00IdkUEgB+9ELBCLkEKlgoCY4scRg2MOJT4RiFKU4RSpW0YpXxGIWtVjFdmzRi18EYxjFqMUujtGMZ0RjGp9YRjW20Y1vlGI93AHHL+owKO8IRx71GI4gnq8fzehCQuTwC/8Fj1oBnM3wtCLEd5BgHP1o5CMh4oH/FQgZntJHMjxVj2Z46h3RqM43KCEHJlBCFwjhxBhm4YZGSAQA77gUPUrgqXNQwVPbSIOnnoGH6qCjF7/sBTQQwo9kjIIYdoTIK2M5y0vV8pa5vNQuVaXMSsmSlrb/vBQudclLT1FzUtZsJjYrpc1ocvNSAKDDHdS5Tna2053vhGc85TlPetbTnvS0gwbuuU9+9tOf/6xnHEgAUIIW1KAHXWcbWIBQhjbUofBMww4eys9TJgYW0sBoRjW6UY521KMfBWlIRTpSkpK0FyVFaUpVulKWjjQav2hpTGU6U5pm9BkwrWlOdbrTjjojGDxNqSRVNVSiFtWoR0VqUpW6VKY21alPhWpUpTpVqlbVqlfFKmi6AQxtVIoaGQWHofYRDmnYQyHtIMYyzJolfoxDGvRIiDg0isz8kOMYyEiHQt5RjGSoTkDYqwQWSjEpD8hBnQep0zpYsAMAnCMh4NhB/yPsQAa4CggeiwUAH1GJhXXeo0C/YMIhDpECZSDEHFBIRB+6AMuOsaAb/SAHCdoRKQ+8T1H4QAc9GpsQRniiH/uIAy8KpA/HWkCz/eAEKe6UDs/2IxdgQIglJIGQPrziTs3IQkLWQAzaLoMarDWUbh2LEBZ0tR+06EOdjJsQTkjiGWE1VDK0gBAqPMOARdxSL+SQkEDAIlJT6IMcUsDd8O62H7rNaz+OcQb1HvcTbwAEEPqAjzrhYw3W5YcHvoGQ/N1JF/tFiAIjZUdllCAeBR5vPACQYGSMocEJsWM8uoCLLe2DEXvQx281sOF+SEOcWVrGFxISh/4JjwTHu5N4E/9Sgtc615wFWu9DOAEJtkqiDgSKQjUQQow23KkdJHBsI8txKXBYgB0oTkh1ERIIV7z4IXUYbNAs8QZILWIUCGkE9+6EiTTY4g2tZNQyEvGKUUBBE4bShCQAsAhK5PgaLGCFJaAw2wJ5ghIAOEQl4GqHUbwCD1Q4s4B4YQFGU6ISCOkGC0zBiR2Mt077MEYogpFjRrnjF6NghZYNBQxg9sKO3SjFK9SxJWL02rPPUMUofuFX73Sj1714rANdnVVqV9va18Z2trW9bW5329vfBne4xT1ucpfb3OdGd7rVvW52t9vd7J7FDsRRlnr0Qqjvxne+H9KHLMQZIcjIwnERsg3/FmDDLOoAwDD0vXCGnwEAJEBHQoABAG8oBB5ZIHBZEK5whnf83WcYQwqmi5CJVxwj75BbO+iqn3WsPCHvODFC6rEOnFAkHrDcuEPeQemKtKOyDolHzB/CDqEnhB9Eh0g92FFzjzc9P2eoAyo0oNmSI8QNllDI1Q34gmykAQAWkIQ+lEEFAKRAuAnBRhssAIAd2CIhrIgCNr4AgD/0oxx70AAAWPAJpjtkHXtY+xqikfCELKMLAAAAFY4REVtw/fAaOERKHgEExFOBFjDmxAkQvwMaI0QXUUD8GrKRkGs4HAAaaEMlnb763EB9HqElOcURAoZHKAQMVO6HLgCwBV1s/yMVAIBEF5KxjUREeRsi6IM1voEKC5y9FB6wAi6ycQ15YAEKyPCGKSxw6ofsow0vKMY3ZgEFwvcjGRaIhDa6UQkLgPIhr0h8L8DBCxIMIiGLSMY3uKEJABQDIbkQgV8Qh28gBmBACF4Avm2IBjIoAT6yhxf4g20YB2v4hJ9jvQtMDqjrB1uwgK6qun6gPdvDPd07u34gAwvgMXjQAMSygzCgMDybr34oBQAostwDgGlICErQgARTCGgAgIzbBMLjByzYA4WIgydLCPi7PISAP/hyCDuou354hDWAiClwg4RIBxGYLnAAAGrAwC+sDg3EhyzgpQ8MwYS4Pc8DAHNIiP9DmAKFiAJM6Ad78IBD0ChOsAC4mkGho4QdUAhqAIDFcwhYsAACwQbCEwcA0ASNWoQogAj4c7Vx+EGEyAdjIAVKoIQwELINtIBHgAYCaQcAcLuEsIMt6Id5mIEZmzYwZMXWqwOECIYbNMPaQ8MRBAChYwQXSwgsODWEK4EXAMZgHLNSIAGF2ANdRIhwAICKUghNYAGFKAfCuwYAOIFgDEZ+eD8AaK5TBADraocteIFF0IRQWANH7Ad9QAWyI4FDcKxtCESFaIQXGLg6yLsvqMFWxEfW0MDfCoM2+AXZM8FFUAgqsEVcRMZ+4MVVsYA7g4hSYKYQM0eEmEb/cwhWsID/F+wHbSA8bwAAQqoI+OPBaOyfWfCAiEOIRIhIhACHWZiBXFLGXDBG/UmIeGCGPQAAacjHnDSNfewHZQAAQADIPegyhBgHCyhI3jrIhOyHNfgCjFQIh7weAGiyfvgECyCHh2AGAOgkhEAFwtMHIEDCiIA/j7TB9bEEcaIHKEjJhEgFC7iHfZiBIkSId0gBgXSIerAAVdDJvdQMnuSHNkA8k7MFAOiFdsiGNTiBo0SIXFQIpYQGC/iDbqgHdEiGUEAIqEyIdtiBMNgGeAiGdYQIfOgCLMgGekAGJig/BJQEcagHcggG/8pGLIiGeniGHQCxXgAAXriHcfiDEzBHUziG73QYqzXQRYtEBXcYBzzwgOPRBlLwhnqQB1oAAPviy+pcDJ7sh2kEyHooBMQ7gV9IQxs0yMbkvj/KAsTTO9+SwYdECG6Yu69LBKwIBzBAPCgwhvIbItREPCYYRYeAv2VgAcRzA9vSh0RAPPSzBHPEBBJAzzaAr30IBQ+oz9LqB24gO8RjAeuyzg1lDXXYBmbDiHGQwL6LiHDYBp6LiH34hm5wShgDh204B5djQgDoh3rgBoFDCA9FUYSwBxPlQf3Yhm9YOQ8Fh7Xi0CMlN/hD0iVFUiVl0ietTmeD0iml0iq10ivF0izV0i3l0i7FtoAAACH5BAUKABYALFAAzAAJAAkAAAhLAC0IvDfunkCB8AYRWUJkjzsL/cYIqEBRwBd+0VxQ3LjCGSsMFDZWCDBKVwaRFTTIKgdkwkYKRsZZGGUDAYQENzwd1PbnS59sAgMCACH5BAUKABYALGgAvQAJAAkAAAhLAC1YKOepjydzAi3w8hFAQQAfvCyoIyKBQoUKEois2+XhokcPvUIFsOgxQChlKTxeTLEMn5UEHhNYwTfQTJIUT8yUS+hvHLRxCQMCACH5BAUKABYALIAArQAJAAkAAAhKAC0I7Neun0CB8RYNcTLk0TwL/cZgqFCBgoY0/p65oMhxh7VRAThSxODKlQaRFTLgAqdDJAUj5Cw8ksGAwoIYmA46i4OFTjSBAQEAIfkEBQoAFgAsmAC9AAoACQAACFIALVgg52lPqHQCBdr6IUBBACLE/Fko90NChYsQerizMCvDxY8ihlnAJODjRQ2o6hUjYbLCimcW7E1R8NEAln0Cx41ZkgLJmnMJLfgbB61c0IAAACH5BAUKABYALLAAzAAJAAkAAAhKAC0ItOcNn0CB7fT4WNLjUDwL+rAMqEARQxp/yFJQ3MgEmyYBGylmwIUKQ8gKHoR900Fh4wQf6ixQUqIAwoEarg5S29OlUDeBAQEAIfkEBQoAFgAsyADcAAkACQAACEwALVjo9igOJXICLYTSQYDBAB/ALICrMaGCRQg93qHCYLEjCWSYBnS0mGEXMBIjK+y4Zs9KAgoWB4zpZ6FcGicujOhpl9CCOm3vEgYEACH5BAUKABYALOAA6wAJAAkAAAhKAC0IbNctnkCB5dYc2VFkDzwL9awgqEBRgBl/vERQoEhRxjZKBDZyzOArVACOFEkk86ZDZAUIPR5qulGgwQAfwA5qS9TmETmBAQEAIfkEBQoAFgAs+AD7AAkACQAACEoALViQ9sdMonACLTyKkcABgR+8/GnDUaFiBQk94GkSYLHiiWWPCHSs4GGYLxEjl3izZ8UAhYoa2gg8F6cIkx6J5iW0IC/cvYQBAQAh+QQFCgAWACwQAQoBCQAJAAAITAAtWOg3zpo6gQK/fVnCogYddxbiTWFAoUKFAWMszMpQ0WIFGd0OGeho0UMwTQI8WmQBrZsNkg6G1LPgqcaABRh6NEP4jZKeUOwEBgQAIfkEBQoAFgAsKAH7AAkACQAACEsALViAtsfMInECLSSSocABgR/ALFSTQaGCRQhD5lEaYLFjCmiJDnS0KCIZLg8jKyAJN2+KSIsa6PizUK6NERk9Hs1LaEEeN3wJAwIAIfkEBQoAFgAsQAHrAAkACQAACEsALQhc102eQIHhxjjZ4ePQPAvwpiygUKEChjj+WGWoWJECEnGFEnCsSGLZIwIUOc6QZi3GyAdD7Fl4FONAAwFElB2sdqgNpXQCAwIAIfkEBQoAFgAsWAHcAAkACQAACEoALVi4logOpnUCLTyKUYBBgB7OLEyLUaFiBQdD7j0iQMFihRnW/ijwWOFEM1QaSN4g527IAosY4gj89gWJiyKH5CX0d25bvIQBAQAh+QQFCgAWACxwAcwACQAJAAAITAAtCJxHbp9AgeTWGFkyBNM9C/GmJKhQgYKHPhZQZaDI0Ui6PQsocKyQAtohAyMrzLjGzIVIig+G3POnx8WCBwR8IDuYjM6YReMEBgQAIfkEBQoAFgAsiAHcAAkACQAACEoALViYloiOJnYCLRxaYoBBgB7RLDyTUaFihQZT9h0yYLHijm16FnSskCKaJwwja6BbN4SBRQ16/Fno1uVJDh+J6iX0Z25bvIQBAQAh+QQFCgAWACygAcwACQAJAAAITAAtCJT3bZ9AgeLOGFkyRFM+C+2GKKhQgYKIQ/5CYaBAkWKRdnQYdKTIolqfBCMr7OB2bMVIB1P09aPjgsGDAT6aCfRHjM6XReYEBgQAIfkEBQoAFgAsuAG9AAkACQAACEoALVjQRukPK3kCLTzCMUBBhinbLDSTUaFiBQZY+v1BYLHiknBtGlDoOAMaJQEdKxhZR45IA4sY6AicZoUJCyOD5iXc9y3auoQBAQAh+QQFCgAWACzQAa0ACQAJAAAISwAtCNTXTqDBcm18OBniqp+FdlMQVKggYQUlC5owTJxIoce8Ng02Tsyxjc4CkRWYeNt1QqSDKfv0pTnRYIIBH8oE8rN1BssgcQIDAgAh+QQFCgAWACzoAZ4ACQAJAAAISQAtWPA26lEwfAItUNIRoIAIK+EsNJNRoWKFBV0s7FFgsSKScmcadKyQY1siAiONtPv244HFAHQEJpsyg4QTPfIS2rO2jFzCgAAAIfkEBQoAFgAsAAKtAAkACQAACE0ALQjM506gwXFtfDiZMqufBXVTElSoAMGFJwuUAkycSKGHvTMOKGyswORbmwYiNy4RN0tEygoOpvTDN+aEgwkFiDwTuG/WGSyFxgkMCAAh+QQFCgAWACwYAp4ACQAJAAAISwAtWOgWahGwfAL9PbohgAAJK+QsIHNBoYJFBWMs0FlgseORdWMedLTI5NufAyMrFIm3DYhIixr6CCQ2hcWJI3voCbRAj5qxcjsDAgA7\" />"
      ],
      "text/plain": [
       "Plots.AnimatedGif(\"/home/paws/Caminata aleatoria.gif\")"
      ]
     },
     "execution_count": 93,
     "metadata": {},
     "output_type": "execute_result"
    }
   ],
   "source": [
    "animaCaminata(caminataAleatoria(20))"
   ]
  },
  {
   "cell_type": "markdown",
   "id": "888eac81-42dd-436c-b650-aa439a307652",
   "metadata": {},
   "source": [
    "**Ejercicio** Crea una función `caminataAleatoria2D` que\n",
    "* tome como entrada un número de pasos `n` y\n",
    "* devuelva como salida un arreglo con dos subarreglos que tengan `n+1` \"posiciones\" cada uno -uno de posiciones horizontales y otro de posiciones verticales, incluyendo las posiciones iniciales `0` en cada caso-, simulando una caminata aleatoria.\n",
    "Utiliza tu función `aleatorioUniforme` para generar números aleatorios en el intervalo $[-1,1]$ y suma números generados por esta función a las posiciones horizontales y verticales para simular un paso continuo en dos dimensiones."
   ]
  },
  {
   "cell_type": "code",
   "execution_count": 28,
   "id": "e797d8fe-1bd7-49aa-bb7e-c7456f8c4997",
   "metadata": {},
   "outputs": [
    {
     "data": {
      "text/plain": [
       "caminataAleatoria2D (generic function with 1 method)"
      ]
     },
     "execution_count": 28,
     "metadata": {},
     "output_type": "execute_result"
    }
   ],
   "source": [
    "function caminataAleatoria2D(N2)\n",
    "    CX=[] #Aqui se define el primer subarreglo\n",
    "    CY=[] #Aqui se define el segundo subarreglo\n",
    "    push!(CX, 0 )\n",
    "    push!(CY, 0 )\n",
    "    for i in 2:N2+1 #Aquí se van a agegar N2 entradas a los subarreglos, contando el cero.\n",
    "        #Aqui se le suma \"aleatorioUniforme(-1,1)\" al paso anterior que dio la partícula en cada subarreglo.\n",
    "        push!(CX, CX[i-1]+ aleatorioUniforme(-1,1) ) \n",
    "        push!(CY, CY[i-1]+ aleatorioUniforme(-1,1) )\n",
    "    end\n",
    "    return [CX,CY] #Aquí se devulve un arreglo con los dos subarreglos\n",
    "\n",
    "end"
   ]
  },
  {
   "cell_type": "code",
   "execution_count": 132,
   "id": "574442c1-2294-4062-9758-740940bc174b",
   "metadata": {},
   "outputs": [
    {
     "data": {
      "text/plain": [
       "2-element Vector{Vector{Any}}:\n",
       " [0, -0.8958143350681818, -0.7762227606593735, -0.9318809569452033, -0.398812497207665, -0.935261899919948, -0.7169741191165333, -1.32315587559907, -1.409646575665713, -2.3286793796034564  …  -1.78407524761229, -1.1861468239931177, -0.6354949090615345, -0.8340893270296841, -0.13198123364038383, -0.35622233102570755, 0.5583657039663676, 0.4332250609802346, -0.2525275692731366, -0.9605041973081823]\n",
       " [0, -0.05830558885991999, 0.6774497208554764, 0.8942140555866676, 1.6194680125427248, 2.4374807641632157, 3.258097491016787, 3.9076572087340016, 4.586238421390415, 5.551750800306236  …  5.454156710007312, 4.84595604739742, 4.4124177180127155, 5.3968160548248845, 5.959506504829833, 5.815175334684219, 5.923278480176494, 6.86437490987358, 6.178897409507547, 5.636891132791153]"
      ]
     },
     "execution_count": 132,
     "metadata": {},
     "output_type": "execute_result"
    }
   ],
   "source": [
    "caminataAleatoria2D(21)"
   ]
  },
  {
   "cell_type": "markdown",
   "id": "e96bbefd-1d96-4f40-8b5f-1101e993b55a",
   "metadata": {},
   "source": [
    "**Ejercicio** Crea una función `graficaCaminata2D` que\n",
    "\n",
    "* tome como entrada un arreglo con dos subarreglos -que, supondremos, simulan una caminata aleatoria en dos dimensiones- y \n",
    "* devuelva como salida una gráfica bidimensional que muestre la trayectoria de la caminata con una línea punteada.\n",
    "\n",
    "(Sugerencia: Crea un bloque de código con `begin` y `end` para poder hacer todo en una sola celda de Pluto.)\n",
    "\n",
    "Luego, en una celda aparte, define una variable `n3` como un número entero positivo y aplica tu función `graficaCaminata2D` a `caminataAleatoria2D(n3)` para generar gráficas de caminatas aleatorias en dos dimensiones."
   ]
  },
  {
   "cell_type": "code",
   "execution_count": 133,
   "id": "8533773e-4311-4816-b192-2e77ba35d304",
   "metadata": {},
   "outputs": [
    {
     "data": {
      "text/plain": [
       "graficaCaminata2D (generic function with 2 methods)"
      ]
     },
     "execution_count": 133,
     "metadata": {},
     "output_type": "execute_result"
    }
   ],
   "source": [
    "function graficaCaminata2D(T)\n",
    "    #Aquí se definen los subarreglos.\n",
    "    T1=T[1]\n",
    "    T2=T[2]\n",
    "    plot(T1,T2, linewidth = 3, linestyle = :dash)#Aquí se grafica la línea punteada\n",
    "    scatter!([T1[1]],[T2[1]],color=\"blue\")#Aquí se grafica el punto inicial.\n",
    "    scatter!([T1[length(T1)]],[T2[length(T2)]],color=\"red\") #Aquí se grafica el punto final.\n",
    "    xlabel!(\"Posición x\")\n",
    "    ylabel!(\"Posición y\")\n",
    "\n",
    "end"
   ]
  },
  {
   "cell_type": "code",
   "execution_count": 134,
   "id": "573e0783-1366-4595-b19b-2c74cf483883",
   "metadata": {},
   "outputs": [
    {
     "data": {
      "image/svg+xml": [
       "<?xml version=\"1.0\" encoding=\"utf-8\"?>\n",
       "<svg xmlns=\"http://www.w3.org/2000/svg\" xmlns:xlink=\"http://www.w3.org/1999/xlink\" width=\"600\" height=\"400\" viewBox=\"0 0 2400 1600\">\n",
       "<defs>\n",
       "  <clipPath id=\"clip530\">\n",
       "    <rect x=\"0\" y=\"0\" width=\"2400\" height=\"1600\"/>\n",
       "  </clipPath>\n",
       "</defs>\n",
       "<path clip-path=\"url(#clip530)\" d=\"M0 1600 L2400 1600 L2400 0 L0 0  Z\" fill=\"#ffffff\" fill-rule=\"evenodd\" fill-opacity=\"1\"/>\n",
       "<defs>\n",
       "  <clipPath id=\"clip531\">\n",
       "    <rect x=\"480\" y=\"0\" width=\"1681\" height=\"1600\"/>\n",
       "  </clipPath>\n",
       "</defs>\n",
       "<path clip-path=\"url(#clip530)\" d=\"M257.204 1423.18 L2352.76 1423.18 L2352.76 47.2441 L257.204 47.2441  Z\" fill=\"#ffffff\" fill-rule=\"evenodd\" fill-opacity=\"1\"/>\n",
       "<defs>\n",
       "  <clipPath id=\"clip532\">\n",
       "    <rect x=\"257\" y=\"47\" width=\"2097\" height=\"1377\"/>\n",
       "  </clipPath>\n",
       "</defs>\n",
       "<polyline clip-path=\"url(#clip532)\" style=\"stroke:#000000; stroke-linecap:round; stroke-linejoin:round; stroke-width:2; stroke-opacity:0.1; fill:none\" points=\"267.308,1423.18 267.308,47.2441 \"/>\n",
       "<polyline clip-path=\"url(#clip532)\" style=\"stroke:#000000; stroke-linecap:round; stroke-linejoin:round; stroke-width:2; stroke-opacity:0.1; fill:none\" points=\"954.164,1423.18 954.164,47.2441 \"/>\n",
       "<polyline clip-path=\"url(#clip532)\" style=\"stroke:#000000; stroke-linecap:round; stroke-linejoin:round; stroke-width:2; stroke-opacity:0.1; fill:none\" points=\"1641.02,1423.18 1641.02,47.2441 \"/>\n",
       "<polyline clip-path=\"url(#clip532)\" style=\"stroke:#000000; stroke-linecap:round; stroke-linejoin:round; stroke-width:2; stroke-opacity:0.1; fill:none\" points=\"2327.88,1423.18 2327.88,47.2441 \"/>\n",
       "<polyline clip-path=\"url(#clip530)\" style=\"stroke:#000000; stroke-linecap:round; stroke-linejoin:round; stroke-width:4; stroke-opacity:1; fill:none\" points=\"257.204,1423.18 2352.76,1423.18 \"/>\n",
       "<polyline clip-path=\"url(#clip530)\" style=\"stroke:#000000; stroke-linecap:round; stroke-linejoin:round; stroke-width:4; stroke-opacity:1; fill:none\" points=\"267.308,1423.18 267.308,1404.28 \"/>\n",
       "<polyline clip-path=\"url(#clip530)\" style=\"stroke:#000000; stroke-linecap:round; stroke-linejoin:round; stroke-width:4; stroke-opacity:1; fill:none\" points=\"954.164,1423.18 954.164,1404.28 \"/>\n",
       "<polyline clip-path=\"url(#clip530)\" style=\"stroke:#000000; stroke-linecap:round; stroke-linejoin:round; stroke-width:4; stroke-opacity:1; fill:none\" points=\"1641.02,1423.18 1641.02,1404.28 \"/>\n",
       "<polyline clip-path=\"url(#clip530)\" style=\"stroke:#000000; stroke-linecap:round; stroke-linejoin:round; stroke-width:4; stroke-opacity:1; fill:none\" points=\"2327.88,1423.18 2327.88,1404.28 \"/>\n",
       "<path clip-path=\"url(#clip530)\" d=\"M237.251 1468.75 L266.926 1468.75 L266.926 1472.69 L237.251 1472.69 L237.251 1468.75 Z\" fill=\"#000000\" fill-rule=\"nonzero\" fill-opacity=\"1\" /><path clip-path=\"url(#clip530)\" d=\"M281.047 1481.64 L297.366 1481.64 L297.366 1485.58 L275.422 1485.58 L275.422 1481.64 Q278.084 1478.89 282.667 1474.26 Q287.274 1469.61 288.454 1468.27 Q290.699 1465.74 291.579 1464.01 Q292.482 1462.25 292.482 1460.56 Q292.482 1457.8 290.537 1456.07 Q288.616 1454.33 285.514 1454.33 Q283.315 1454.33 280.862 1455.09 Q278.431 1455.86 275.653 1457.41 L275.653 1452.69 Q278.477 1451.55 280.931 1450.97 Q283.385 1450.39 285.422 1450.39 Q290.792 1450.39 293.986 1453.08 Q297.181 1455.77 297.181 1460.26 Q297.181 1462.39 296.371 1464.31 Q295.584 1466.2 293.477 1468.8 Q292.899 1469.47 289.797 1472.69 Q286.695 1475.88 281.047 1481.64 Z\" fill=\"#000000\" fill-rule=\"nonzero\" fill-opacity=\"1\" /><path clip-path=\"url(#clip530)\" d=\"M923.921 1468.75 L953.597 1468.75 L953.597 1472.69 L923.921 1472.69 L923.921 1468.75 Z\" fill=\"#000000\" fill-rule=\"nonzero\" fill-opacity=\"1\" /><path clip-path=\"url(#clip530)\" d=\"M964.5 1481.64 L972.139 1481.64 L972.139 1455.28 L963.828 1456.95 L963.828 1452.69 L972.092 1451.02 L976.768 1451.02 L976.768 1481.64 L984.407 1481.64 L984.407 1485.58 L964.5 1485.58 L964.5 1481.64 Z\" fill=\"#000000\" fill-rule=\"nonzero\" fill-opacity=\"1\" /><path clip-path=\"url(#clip530)\" d=\"M1641.02 1454.1 Q1637.41 1454.1 1635.58 1457.66 Q1633.77 1461.2 1633.77 1468.33 Q1633.77 1475.44 1635.58 1479.01 Q1637.41 1482.55 1641.02 1482.55 Q1644.65 1482.55 1646.46 1479.01 Q1648.29 1475.44 1648.29 1468.33 Q1648.29 1461.2 1646.46 1457.66 Q1644.65 1454.1 1641.02 1454.1 M1641.02 1450.39 Q1646.83 1450.39 1649.89 1455 Q1652.96 1459.58 1652.96 1468.33 Q1652.96 1477.06 1649.89 1481.67 Q1646.83 1486.25 1641.02 1486.25 Q1635.21 1486.25 1632.13 1481.67 Q1629.08 1477.06 1629.08 1468.33 Q1629.08 1459.58 1632.13 1455 Q1635.21 1450.39 1641.02 1450.39 Z\" fill=\"#000000\" fill-rule=\"nonzero\" fill-opacity=\"1\" /><path clip-path=\"url(#clip530)\" d=\"M2318.26 1481.64 L2325.9 1481.64 L2325.9 1455.28 L2317.59 1456.95 L2317.59 1452.69 L2325.85 1451.02 L2330.53 1451.02 L2330.53 1481.64 L2338.16 1481.64 L2338.16 1485.58 L2318.26 1485.58 L2318.26 1481.64 Z\" fill=\"#000000\" fill-rule=\"nonzero\" fill-opacity=\"1\" /><path clip-path=\"url(#clip530)\" d=\"M1153.99 1525.81 L1153.99 1543.66 L1162.07 1543.66 Q1166.56 1543.66 1169.01 1541.34 Q1171.46 1539.02 1171.46 1534.72 Q1171.46 1530.45 1169.01 1528.13 Q1166.56 1525.81 1162.07 1525.81 L1153.99 1525.81 M1147.56 1520.52 L1162.07 1520.52 Q1170.06 1520.52 1174.13 1524.15 Q1178.24 1527.75 1178.24 1534.72 Q1178.24 1541.75 1174.13 1545.35 Q1170.06 1548.95 1162.07 1548.95 L1153.99 1548.95 L1153.99 1568.04 L1147.56 1568.04 L1147.56 1520.52 Z\" fill=\"#000000\" fill-rule=\"nonzero\" fill-opacity=\"1\" /><path clip-path=\"url(#clip530)\" d=\"M1198.1 1536.5 Q1193.39 1536.5 1190.65 1540.19 Q1187.91 1543.85 1187.91 1550.25 Q1187.91 1556.65 1190.62 1560.34 Q1193.36 1564 1198.1 1564 Q1202.78 1564 1205.52 1560.31 Q1208.25 1556.62 1208.25 1550.25 Q1208.25 1543.92 1205.52 1540.23 Q1202.78 1536.5 1198.1 1536.5 M1198.1 1531.54 Q1205.74 1531.54 1210.1 1536.5 Q1214.46 1541.47 1214.46 1550.25 Q1214.46 1559 1210.1 1564 Q1205.74 1568.97 1198.1 1568.97 Q1190.43 1568.97 1186.07 1564 Q1181.74 1559 1181.74 1550.25 Q1181.74 1541.47 1186.07 1536.5 Q1190.43 1531.54 1198.1 1531.54 Z\" fill=\"#000000\" fill-rule=\"nonzero\" fill-opacity=\"1\" /><path clip-path=\"url(#clip530)\" d=\"M1246.89 1533.45 L1246.89 1538.98 Q1244.41 1537.71 1241.74 1537.07 Q1239.06 1536.44 1236.2 1536.44 Q1231.84 1536.44 1229.64 1537.77 Q1227.48 1539.11 1227.48 1541.79 Q1227.48 1543.82 1229.04 1545 Q1230.6 1546.15 1235.31 1547.2 L1237.31 1547.64 Q1243.55 1548.98 1246.16 1551.43 Q1248.8 1553.85 1248.8 1558.21 Q1248.8 1563.17 1244.86 1566.07 Q1240.94 1568.97 1234.07 1568.97 Q1231.2 1568.97 1228.08 1568.39 Q1224.99 1567.85 1221.56 1566.74 L1221.56 1560.69 Q1224.8 1562.38 1227.95 1563.24 Q1231.11 1564.07 1234.19 1564.07 Q1238.33 1564.07 1240.56 1562.66 Q1242.79 1561.23 1242.79 1558.65 Q1242.79 1556.27 1241.16 1554.99 Q1239.57 1553.72 1234.13 1552.54 L1232.09 1552.07 Q1226.65 1550.92 1224.23 1548.56 Q1221.81 1546.18 1221.81 1542.04 Q1221.81 1537.01 1225.38 1534.27 Q1228.94 1531.54 1235.5 1531.54 Q1238.74 1531.54 1241.61 1532.01 Q1244.47 1532.49 1246.89 1533.45 Z\" fill=\"#000000\" fill-rule=\"nonzero\" fill-opacity=\"1\" /><path clip-path=\"url(#clip530)\" d=\"M1258.13 1532.4 L1263.98 1532.4 L1263.98 1568.04 L1258.13 1568.04 L1258.13 1532.4 M1258.13 1518.52 L1263.98 1518.52 L1263.98 1525.93 L1258.13 1525.93 L1258.13 1518.52 Z\" fill=\"#000000\" fill-rule=\"nonzero\" fill-opacity=\"1\" /><path clip-path=\"url(#clip530)\" d=\"M1301.89 1533.76 L1301.89 1539.24 Q1299.41 1537.87 1296.9 1537.2 Q1294.41 1536.5 1291.87 1536.5 Q1286.17 1536.5 1283.02 1540.13 Q1279.87 1543.73 1279.87 1550.25 Q1279.87 1556.78 1283.02 1560.4 Q1286.17 1564 1291.87 1564 Q1294.41 1564 1296.9 1563.33 Q1299.41 1562.63 1301.89 1561.26 L1301.89 1566.68 Q1299.44 1567.82 1296.8 1568.39 Q1294.19 1568.97 1291.23 1568.97 Q1283.18 1568.97 1278.43 1563.91 Q1273.69 1558.85 1273.69 1550.25 Q1273.69 1541.53 1278.47 1536.53 Q1283.27 1531.54 1291.61 1531.54 Q1294.32 1531.54 1296.9 1532.11 Q1299.47 1532.65 1301.89 1533.76 Z\" fill=\"#000000\" fill-rule=\"nonzero\" fill-opacity=\"1\" /><path clip-path=\"url(#clip530)\" d=\"M1312.08 1532.4 L1317.93 1532.4 L1317.93 1568.04 L1312.08 1568.04 L1312.08 1532.4 M1312.08 1518.52 L1317.93 1518.52 L1317.93 1525.93 L1312.08 1525.93 L1312.08 1518.52 Z\" fill=\"#000000\" fill-rule=\"nonzero\" fill-opacity=\"1\" /><path clip-path=\"url(#clip530)\" d=\"M1344 1536.5 Q1339.29 1536.5 1336.55 1540.19 Q1333.82 1543.85 1333.82 1550.25 Q1333.82 1556.65 1336.52 1560.34 Q1339.26 1564 1344 1564 Q1348.68 1564 1351.42 1560.31 Q1354.16 1556.62 1354.16 1550.25 Q1354.16 1543.92 1351.42 1540.23 Q1348.68 1536.5 1344 1536.5 M1344 1531.54 Q1351.64 1531.54 1356 1536.5 Q1360.36 1541.47 1360.36 1550.25 Q1360.36 1559 1356 1564 Q1351.64 1568.97 1344 1568.97 Q1336.33 1568.97 1331.97 1564 Q1327.64 1559 1327.64 1550.25 Q1327.64 1541.47 1331.97 1536.5 Q1336.33 1531.54 1344 1531.54 M1348.43 1515.91 L1354.76 1515.91 L1344.38 1527.88 L1339.51 1527.88 L1348.43 1515.91 Z\" fill=\"#000000\" fill-rule=\"nonzero\" fill-opacity=\"1\" /><path clip-path=\"url(#clip530)\" d=\"M1399.7 1546.53 L1399.7 1568.04 L1393.85 1568.04 L1393.85 1546.72 Q1393.85 1541.66 1391.87 1539.14 Q1389.9 1536.63 1385.95 1536.63 Q1381.21 1536.63 1378.47 1539.65 Q1375.73 1542.68 1375.73 1547.9 L1375.73 1568.04 L1369.85 1568.04 L1369.85 1532.4 L1375.73 1532.4 L1375.73 1537.93 Q1377.84 1534.72 1380.67 1533.13 Q1383.53 1531.54 1387.26 1531.54 Q1393.4 1531.54 1396.55 1535.36 Q1399.7 1539.14 1399.7 1546.53 Z\" fill=\"#000000\" fill-rule=\"nonzero\" fill-opacity=\"1\" /><path clip-path=\"url(#clip530)\" d=\"M1461.74 1532.4 L1448.84 1549.74 L1462.4 1568.04 L1455.5 1568.04 L1445.12 1554.04 L1434.74 1568.04 L1427.84 1568.04 L1441.68 1549.39 L1429.02 1532.4 L1435.92 1532.4 L1445.38 1545.1 L1454.83 1532.4 L1461.74 1532.4 Z\" fill=\"#000000\" fill-rule=\"nonzero\" fill-opacity=\"1\" /><polyline clip-path=\"url(#clip532)\" style=\"stroke:#000000; stroke-linecap:round; stroke-linejoin:round; stroke-width:2; stroke-opacity:0.1; fill:none\" points=\"257.204,1330.52 2352.76,1330.52 \"/>\n",
       "<polyline clip-path=\"url(#clip532)\" style=\"stroke:#000000; stroke-linecap:round; stroke-linejoin:round; stroke-width:2; stroke-opacity:0.1; fill:none\" points=\"257.204,1138.3 2352.76,1138.3 \"/>\n",
       "<polyline clip-path=\"url(#clip532)\" style=\"stroke:#000000; stroke-linecap:round; stroke-linejoin:round; stroke-width:2; stroke-opacity:0.1; fill:none\" points=\"257.204,946.087 2352.76,946.087 \"/>\n",
       "<polyline clip-path=\"url(#clip532)\" style=\"stroke:#000000; stroke-linecap:round; stroke-linejoin:round; stroke-width:2; stroke-opacity:0.1; fill:none\" points=\"257.204,753.872 2352.76,753.872 \"/>\n",
       "<polyline clip-path=\"url(#clip532)\" style=\"stroke:#000000; stroke-linecap:round; stroke-linejoin:round; stroke-width:2; stroke-opacity:0.1; fill:none\" points=\"257.204,561.657 2352.76,561.657 \"/>\n",
       "<polyline clip-path=\"url(#clip532)\" style=\"stroke:#000000; stroke-linecap:round; stroke-linejoin:round; stroke-width:2; stroke-opacity:0.1; fill:none\" points=\"257.204,369.443 2352.76,369.443 \"/>\n",
       "<polyline clip-path=\"url(#clip532)\" style=\"stroke:#000000; stroke-linecap:round; stroke-linejoin:round; stroke-width:2; stroke-opacity:0.1; fill:none\" points=\"257.204,177.228 2352.76,177.228 \"/>\n",
       "<polyline clip-path=\"url(#clip530)\" style=\"stroke:#000000; stroke-linecap:round; stroke-linejoin:round; stroke-width:4; stroke-opacity:1; fill:none\" points=\"257.204,1423.18 257.204,47.2441 \"/>\n",
       "<polyline clip-path=\"url(#clip530)\" style=\"stroke:#000000; stroke-linecap:round; stroke-linejoin:round; stroke-width:4; stroke-opacity:1; fill:none\" points=\"257.204,1330.52 276.102,1330.52 \"/>\n",
       "<polyline clip-path=\"url(#clip530)\" style=\"stroke:#000000; stroke-linecap:round; stroke-linejoin:round; stroke-width:4; stroke-opacity:1; fill:none\" points=\"257.204,1138.3 276.102,1138.3 \"/>\n",
       "<polyline clip-path=\"url(#clip530)\" style=\"stroke:#000000; stroke-linecap:round; stroke-linejoin:round; stroke-width:4; stroke-opacity:1; fill:none\" points=\"257.204,946.087 276.102,946.087 \"/>\n",
       "<polyline clip-path=\"url(#clip530)\" style=\"stroke:#000000; stroke-linecap:round; stroke-linejoin:round; stroke-width:4; stroke-opacity:1; fill:none\" points=\"257.204,753.872 276.102,753.872 \"/>\n",
       "<polyline clip-path=\"url(#clip530)\" style=\"stroke:#000000; stroke-linecap:round; stroke-linejoin:round; stroke-width:4; stroke-opacity:1; fill:none\" points=\"257.204,561.657 276.102,561.657 \"/>\n",
       "<polyline clip-path=\"url(#clip530)\" style=\"stroke:#000000; stroke-linecap:round; stroke-linejoin:round; stroke-width:4; stroke-opacity:1; fill:none\" points=\"257.204,369.443 276.102,369.443 \"/>\n",
       "<polyline clip-path=\"url(#clip530)\" style=\"stroke:#000000; stroke-linecap:round; stroke-linejoin:round; stroke-width:4; stroke-opacity:1; fill:none\" points=\"257.204,177.228 276.102,177.228 \"/>\n",
       "<path clip-path=\"url(#clip530)\" d=\"M115.256 1330.97 L144.931 1330.97 L144.931 1334.9 L115.256 1334.9 L115.256 1330.97 Z\" fill=\"#000000\" fill-rule=\"nonzero\" fill-opacity=\"1\" /><path clip-path=\"url(#clip530)\" d=\"M159.052 1343.86 L175.371 1343.86 L175.371 1347.8 L153.427 1347.8 L153.427 1343.86 Q156.089 1341.11 160.672 1336.48 Q165.278 1331.82 166.459 1330.48 Q168.704 1327.96 169.584 1326.22 Q170.487 1324.46 170.487 1322.77 Q170.487 1320.02 168.542 1318.28 Q166.621 1316.55 163.519 1316.55 Q161.32 1316.55 158.866 1317.31 Q156.436 1318.07 153.658 1319.63 L153.658 1314.9 Q156.482 1313.77 158.936 1313.19 Q161.39 1312.61 163.427 1312.61 Q168.797 1312.61 171.991 1315.3 Q175.186 1317.98 175.186 1322.47 Q175.186 1324.6 174.376 1326.52 Q173.589 1328.42 171.482 1331.01 Q170.903 1331.69 167.802 1334.9 Q164.7 1338.1 159.052 1343.86 Z\" fill=\"#000000\" fill-rule=\"nonzero\" fill-opacity=\"1\" /><path clip-path=\"url(#clip530)\" d=\"M185.186 1341.92 L190.07 1341.92 L190.07 1347.8 L185.186 1347.8 L185.186 1341.92 Z\" fill=\"#000000\" fill-rule=\"nonzero\" fill-opacity=\"1\" /><path clip-path=\"url(#clip530)\" d=\"M200.301 1313.24 L218.658 1313.24 L218.658 1317.17 L204.584 1317.17 L204.584 1325.64 Q205.602 1325.3 206.621 1325.13 Q207.639 1324.95 208.658 1324.95 Q214.445 1324.95 217.824 1328.12 Q221.204 1331.29 221.204 1336.71 Q221.204 1342.29 217.732 1345.39 Q214.26 1348.47 207.94 1348.47 Q205.764 1348.47 203.496 1348.1 Q201.25 1347.73 198.843 1346.99 L198.843 1342.29 Q200.926 1343.42 203.149 1343.98 Q205.371 1344.53 207.848 1344.53 Q211.852 1344.53 214.19 1342.43 Q216.528 1340.32 216.528 1336.71 Q216.528 1333.1 214.19 1330.99 Q211.852 1328.88 207.848 1328.88 Q205.973 1328.88 204.098 1329.3 Q202.246 1329.72 200.301 1330.6 L200.301 1313.24 Z\" fill=\"#000000\" fill-rule=\"nonzero\" fill-opacity=\"1\" /><path clip-path=\"url(#clip530)\" d=\"M114.26 1138.75 L143.936 1138.75 L143.936 1142.69 L114.26 1142.69 L114.26 1138.75 Z\" fill=\"#000000\" fill-rule=\"nonzero\" fill-opacity=\"1\" /><path clip-path=\"url(#clip530)\" d=\"M158.056 1151.65 L174.376 1151.65 L174.376 1155.58 L152.431 1155.58 L152.431 1151.65 Q155.093 1148.89 159.677 1144.26 Q164.283 1139.61 165.464 1138.27 Q167.709 1135.74 168.589 1134.01 Q169.491 1132.25 169.491 1130.56 Q169.491 1127.8 167.547 1126.07 Q165.626 1124.33 162.524 1124.33 Q160.325 1124.33 157.871 1125.1 Q155.44 1125.86 152.663 1127.41 L152.663 1122.69 Q155.487 1121.55 157.94 1120.98 Q160.394 1120.4 162.431 1120.4 Q167.802 1120.4 170.996 1123.08 Q174.19 1125.77 174.19 1130.26 Q174.19 1132.39 173.38 1134.31 Q172.593 1136.21 170.487 1138.8 Q169.908 1139.47 166.806 1142.69 Q163.704 1145.88 158.056 1151.65 Z\" fill=\"#000000\" fill-rule=\"nonzero\" fill-opacity=\"1\" /><path clip-path=\"url(#clip530)\" d=\"M184.19 1149.7 L189.075 1149.7 L189.075 1155.58 L184.19 1155.58 L184.19 1149.7 Z\" fill=\"#000000\" fill-rule=\"nonzero\" fill-opacity=\"1\" /><path clip-path=\"url(#clip530)\" d=\"M209.26 1124.1 Q205.649 1124.1 203.82 1127.67 Q202.014 1131.21 202.014 1138.34 Q202.014 1145.44 203.82 1149.01 Q205.649 1152.55 209.26 1152.55 Q212.894 1152.55 214.699 1149.01 Q216.528 1145.44 216.528 1138.34 Q216.528 1131.21 214.699 1127.67 Q212.894 1124.1 209.26 1124.1 M209.26 1120.4 Q215.07 1120.4 218.125 1125 Q221.204 1129.59 221.204 1138.34 Q221.204 1147.06 218.125 1151.67 Q215.07 1156.25 209.26 1156.25 Q203.449 1156.25 200.371 1151.67 Q197.315 1147.06 197.315 1138.34 Q197.315 1129.59 200.371 1125 Q203.449 1120.4 209.26 1120.4 Z\" fill=\"#000000\" fill-rule=\"nonzero\" fill-opacity=\"1\" /><path clip-path=\"url(#clip530)\" d=\"M115.256 946.538 L144.931 946.538 L144.931 950.474 L115.256 950.474 L115.256 946.538 Z\" fill=\"#000000\" fill-rule=\"nonzero\" fill-opacity=\"1\" /><path clip-path=\"url(#clip530)\" d=\"M155.834 959.432 L163.473 959.432 L163.473 933.066 L155.163 934.733 L155.163 930.474 L163.427 928.807 L168.102 928.807 L168.102 959.432 L175.741 959.432 L175.741 963.367 L155.834 963.367 L155.834 959.432 Z\" fill=\"#000000\" fill-rule=\"nonzero\" fill-opacity=\"1\" /><path clip-path=\"url(#clip530)\" d=\"M185.186 957.487 L190.07 957.487 L190.07 963.367 L185.186 963.367 L185.186 957.487 Z\" fill=\"#000000\" fill-rule=\"nonzero\" fill-opacity=\"1\" /><path clip-path=\"url(#clip530)\" d=\"M200.301 928.807 L218.658 928.807 L218.658 932.742 L204.584 932.742 L204.584 941.214 Q205.602 940.867 206.621 940.705 Q207.639 940.52 208.658 940.52 Q214.445 940.52 217.824 943.691 Q221.204 946.862 221.204 952.279 Q221.204 957.858 217.732 960.96 Q214.26 964.038 207.94 964.038 Q205.764 964.038 203.496 963.668 Q201.25 963.298 198.843 962.557 L198.843 957.858 Q200.926 958.992 203.149 959.548 Q205.371 960.103 207.848 960.103 Q211.852 960.103 214.19 957.997 Q216.528 955.89 216.528 952.279 Q216.528 948.668 214.19 946.562 Q211.852 944.455 207.848 944.455 Q205.973 944.455 204.098 944.872 Q202.246 945.288 200.301 946.168 L200.301 928.807 Z\" fill=\"#000000\" fill-rule=\"nonzero\" fill-opacity=\"1\" /><path clip-path=\"url(#clip530)\" d=\"M114.26 754.324 L143.936 754.324 L143.936 758.259 L114.26 758.259 L114.26 754.324 Z\" fill=\"#000000\" fill-rule=\"nonzero\" fill-opacity=\"1\" /><path clip-path=\"url(#clip530)\" d=\"M154.839 767.217 L162.477 767.217 L162.477 740.851 L154.167 742.518 L154.167 738.259 L162.431 736.592 L167.107 736.592 L167.107 767.217 L174.746 767.217 L174.746 771.152 L154.839 771.152 L154.839 767.217 Z\" fill=\"#000000\" fill-rule=\"nonzero\" fill-opacity=\"1\" /><path clip-path=\"url(#clip530)\" d=\"M184.19 765.273 L189.075 765.273 L189.075 771.152 L184.19 771.152 L184.19 765.273 Z\" fill=\"#000000\" fill-rule=\"nonzero\" fill-opacity=\"1\" /><path clip-path=\"url(#clip530)\" d=\"M209.26 739.671 Q205.649 739.671 203.82 743.236 Q202.014 746.777 202.014 753.907 Q202.014 761.013 203.82 764.578 Q205.649 768.12 209.26 768.12 Q212.894 768.12 214.699 764.578 Q216.528 761.013 216.528 753.907 Q216.528 746.777 214.699 743.236 Q212.894 739.671 209.26 739.671 M209.26 735.967 Q215.07 735.967 218.125 740.574 Q221.204 745.157 221.204 753.907 Q221.204 762.634 218.125 767.24 Q215.07 771.824 209.26 771.824 Q203.449 771.824 200.371 767.24 Q197.315 762.634 197.315 753.907 Q197.315 745.157 200.371 740.574 Q203.449 735.967 209.26 735.967 Z\" fill=\"#000000\" fill-rule=\"nonzero\" fill-opacity=\"1\" /><path clip-path=\"url(#clip530)\" d=\"M115.256 562.109 L144.931 562.109 L144.931 566.044 L115.256 566.044 L115.256 562.109 Z\" fill=\"#000000\" fill-rule=\"nonzero\" fill-opacity=\"1\" /><path clip-path=\"url(#clip530)\" d=\"M165.024 547.456 Q161.413 547.456 159.584 551.021 Q157.778 554.563 157.778 561.692 Q157.778 568.799 159.584 572.363 Q161.413 575.905 165.024 575.905 Q168.658 575.905 170.464 572.363 Q172.292 568.799 172.292 561.692 Q172.292 554.563 170.464 551.021 Q168.658 547.456 165.024 547.456 M165.024 543.752 Q170.834 543.752 173.889 548.359 Q176.968 552.942 176.968 561.692 Q176.968 570.419 173.889 575.025 Q170.834 579.609 165.024 579.609 Q159.214 579.609 156.135 575.025 Q153.079 570.419 153.079 561.692 Q153.079 552.942 156.135 548.359 Q159.214 543.752 165.024 543.752 Z\" fill=\"#000000\" fill-rule=\"nonzero\" fill-opacity=\"1\" /><path clip-path=\"url(#clip530)\" d=\"M185.186 573.058 L190.07 573.058 L190.07 578.937 L185.186 578.937 L185.186 573.058 Z\" fill=\"#000000\" fill-rule=\"nonzero\" fill-opacity=\"1\" /><path clip-path=\"url(#clip530)\" d=\"M200.301 544.377 L218.658 544.377 L218.658 548.313 L204.584 548.313 L204.584 556.785 Q205.602 556.438 206.621 556.276 Q207.639 556.09 208.658 556.09 Q214.445 556.09 217.824 559.262 Q221.204 562.433 221.204 567.85 Q221.204 573.428 217.732 576.53 Q214.26 579.609 207.94 579.609 Q205.764 579.609 203.496 579.238 Q201.25 578.868 198.843 578.127 L198.843 573.428 Q200.926 574.562 203.149 575.118 Q205.371 575.674 207.848 575.674 Q211.852 575.674 214.19 573.567 Q216.528 571.461 216.528 567.85 Q216.528 564.238 214.19 562.132 Q211.852 560.025 207.848 560.025 Q205.973 560.025 204.098 560.442 Q202.246 560.859 200.301 561.738 L200.301 544.377 Z\" fill=\"#000000\" fill-rule=\"nonzero\" fill-opacity=\"1\" /><path clip-path=\"url(#clip530)\" d=\"M164.028 355.241 Q160.417 355.241 158.589 358.806 Q156.783 362.348 156.783 369.477 Q156.783 376.584 158.589 380.149 Q160.417 383.69 164.028 383.69 Q167.663 383.69 169.468 380.149 Q171.297 376.584 171.297 369.477 Q171.297 362.348 169.468 358.806 Q167.663 355.241 164.028 355.241 M164.028 351.538 Q169.839 351.538 172.894 356.144 Q175.973 360.727 175.973 369.477 Q175.973 378.204 172.894 382.811 Q169.839 387.394 164.028 387.394 Q158.218 387.394 155.14 382.811 Q152.084 378.204 152.084 369.477 Q152.084 360.727 155.14 356.144 Q158.218 351.538 164.028 351.538 Z\" fill=\"#000000\" fill-rule=\"nonzero\" fill-opacity=\"1\" /><path clip-path=\"url(#clip530)\" d=\"M184.19 380.843 L189.075 380.843 L189.075 386.723 L184.19 386.723 L184.19 380.843 Z\" fill=\"#000000\" fill-rule=\"nonzero\" fill-opacity=\"1\" /><path clip-path=\"url(#clip530)\" d=\"M209.26 355.241 Q205.649 355.241 203.82 358.806 Q202.014 362.348 202.014 369.477 Q202.014 376.584 203.82 380.149 Q205.649 383.69 209.26 383.69 Q212.894 383.69 214.699 380.149 Q216.528 376.584 216.528 369.477 Q216.528 362.348 214.699 358.806 Q212.894 355.241 209.26 355.241 M209.26 351.538 Q215.07 351.538 218.125 356.144 Q221.204 360.727 221.204 369.477 Q221.204 378.204 218.125 382.811 Q215.07 387.394 209.26 387.394 Q203.449 387.394 200.371 382.811 Q197.315 378.204 197.315 369.477 Q197.315 360.727 200.371 356.144 Q203.449 351.538 209.26 351.538 Z\" fill=\"#000000\" fill-rule=\"nonzero\" fill-opacity=\"1\" /><path clip-path=\"url(#clip530)\" d=\"M165.024 163.027 Q161.413 163.027 159.584 166.591 Q157.778 170.133 157.778 177.263 Q157.778 184.369 159.584 187.934 Q161.413 191.475 165.024 191.475 Q168.658 191.475 170.464 187.934 Q172.292 184.369 172.292 177.263 Q172.292 170.133 170.464 166.591 Q168.658 163.027 165.024 163.027 M165.024 159.323 Q170.834 159.323 173.889 163.929 Q176.968 168.513 176.968 177.263 Q176.968 185.989 173.889 190.596 Q170.834 195.179 165.024 195.179 Q159.214 195.179 156.135 190.596 Q153.079 185.989 153.079 177.263 Q153.079 168.513 156.135 163.929 Q159.214 159.323 165.024 159.323 Z\" fill=\"#000000\" fill-rule=\"nonzero\" fill-opacity=\"1\" /><path clip-path=\"url(#clip530)\" d=\"M185.186 188.628 L190.07 188.628 L190.07 194.508 L185.186 194.508 L185.186 188.628 Z\" fill=\"#000000\" fill-rule=\"nonzero\" fill-opacity=\"1\" /><path clip-path=\"url(#clip530)\" d=\"M200.301 159.948 L218.658 159.948 L218.658 163.883 L204.584 163.883 L204.584 172.355 Q205.602 172.008 206.621 171.846 Q207.639 171.661 208.658 171.661 Q214.445 171.661 217.824 174.832 Q221.204 178.003 221.204 183.42 Q221.204 188.999 217.732 192.1 Q214.26 195.179 207.94 195.179 Q205.764 195.179 203.496 194.809 Q201.25 194.438 198.843 193.698 L198.843 188.999 Q200.926 190.133 203.149 190.688 Q205.371 191.244 207.848 191.244 Q211.852 191.244 214.19 189.137 Q216.528 187.031 216.528 183.42 Q216.528 179.809 214.19 177.702 Q211.852 175.596 207.848 175.596 Q205.973 175.596 204.098 176.013 Q202.246 176.429 200.301 177.309 L200.301 159.948 Z\" fill=\"#000000\" fill-rule=\"nonzero\" fill-opacity=\"1\" /><path clip-path=\"url(#clip530)\" d=\"M21.7677 886.302 L39.6235 886.302 L39.6235 878.218 Q39.6235 873.73 37.3 871.279 Q34.9765 868.828 30.6797 868.828 Q26.4147 868.828 24.0912 871.279 Q21.7677 873.73 21.7677 878.218 L21.7677 886.302 M16.4842 892.731 L16.4842 878.218 Q16.4842 870.229 20.1126 866.155 Q23.7092 862.049 30.6797 862.049 Q37.7138 862.049 41.3104 866.155 Q44.907 870.229 44.907 878.218 L44.907 886.302 L64.0042 886.302 L64.0042 892.731 L16.4842 892.731 Z\" fill=\"#000000\" fill-rule=\"nonzero\" fill-opacity=\"1\" /><path clip-path=\"url(#clip530)\" d=\"M32.4621 842.188 Q32.4621 846.898 36.1542 849.636 Q39.8145 852.373 46.212 852.373 Q52.6095 852.373 56.3017 849.667 Q59.9619 846.93 59.9619 842.188 Q59.9619 837.509 56.2698 834.772 Q52.5777 832.034 46.212 832.034 Q39.8781 832.034 36.186 834.772 Q32.4621 837.509 32.4621 842.188 M27.4968 842.188 Q27.4968 834.549 32.4621 830.188 Q37.4273 825.828 46.212 825.828 Q54.9649 825.828 59.9619 830.188 Q64.9272 834.549 64.9272 842.188 Q64.9272 849.858 59.9619 854.219 Q54.9649 858.548 46.212 858.548 Q37.4273 858.548 32.4621 854.219 Q27.4968 849.858 27.4968 842.188 Z\" fill=\"#000000\" fill-rule=\"nonzero\" fill-opacity=\"1\" /><path clip-path=\"url(#clip530)\" d=\"M29.4065 793.395 L34.9447 793.395 Q33.6716 795.877 33.035 798.551 Q32.3984 801.224 32.3984 804.089 Q32.3984 808.449 33.7352 810.646 Q35.072 812.81 37.7456 812.81 Q39.7826 812.81 40.9603 811.25 Q42.1061 809.691 43.1565 804.98 L43.6021 802.975 Q44.9389 796.737 47.3897 794.127 Q49.8086 791.485 54.1691 791.485 Q59.1344 791.485 62.0308 795.432 Q64.9272 799.346 64.9272 806.221 Q64.9272 809.086 64.3543 812.205 Q63.8132 815.293 62.6992 818.73 L56.6518 818.73 Q58.3387 815.484 59.198 812.333 Q60.0256 809.181 60.0256 806.094 Q60.0256 801.956 58.6251 799.728 Q57.1929 797.5 54.6147 797.5 Q52.2276 797.5 50.9545 799.124 Q49.6813 800.715 48.5037 806.158 L48.0262 808.195 Q46.8804 813.637 44.5251 816.056 Q42.138 818.475 38.0002 818.475 Q32.9713 818.475 30.2341 814.911 Q27.4968 811.346 27.4968 804.789 Q27.4968 801.543 27.9743 798.678 Q28.4517 795.813 29.4065 793.395 Z\" fill=\"#000000\" fill-rule=\"nonzero\" fill-opacity=\"1\" /><path clip-path=\"url(#clip530)\" d=\"M28.3562 782.159 L28.3562 776.303 L64.0042 776.303 L64.0042 782.159 L28.3562 782.159 M14.479 782.159 L14.479 776.303 L21.895 776.303 L21.895 782.159 L14.479 782.159 Z\" fill=\"#000000\" fill-rule=\"nonzero\" fill-opacity=\"1\" /><path clip-path=\"url(#clip530)\" d=\"M29.7248 738.395 L35.1993 738.395 Q33.8307 740.877 33.1623 743.392 Q32.4621 745.875 32.4621 748.421 Q32.4621 754.118 36.0905 757.269 Q39.6872 760.42 46.212 760.42 Q52.7369 760.42 56.3653 757.269 Q59.9619 754.118 59.9619 748.421 Q59.9619 745.875 59.2935 743.392 Q58.5933 740.877 57.2247 738.395 L62.6355 738.395 Q63.7814 740.846 64.3543 743.487 Q64.9272 746.097 64.9272 749.057 Q64.9272 757.11 59.8664 761.852 Q54.8057 766.595 46.212 766.595 Q37.491 766.595 32.4939 761.821 Q27.4968 757.015 27.4968 748.675 Q27.4968 745.97 28.0697 743.392 Q28.6108 740.814 29.7248 738.395 Z\" fill=\"#000000\" fill-rule=\"nonzero\" fill-opacity=\"1\" /><path clip-path=\"url(#clip530)\" d=\"M28.3562 728.21 L28.3562 722.353 L64.0042 722.353 L64.0042 728.21 L28.3562 728.21 M14.479 728.21 L14.479 722.353 L21.895 722.353 L21.895 728.21 L14.479 728.21 Z\" fill=\"#000000\" fill-rule=\"nonzero\" fill-opacity=\"1\" /><path clip-path=\"url(#clip530)\" d=\"M32.4621 696.286 Q32.4621 700.996 36.1542 703.734 Q39.8145 706.471 46.212 706.471 Q52.6095 706.471 56.3017 703.765 Q59.9619 701.028 59.9619 696.286 Q59.9619 691.607 56.2698 688.87 Q52.5777 686.132 46.212 686.132 Q39.8781 686.132 36.186 688.87 Q32.4621 691.607 32.4621 696.286 M27.4968 696.286 Q27.4968 688.647 32.4621 684.286 Q37.4273 679.926 46.212 679.926 Q54.9649 679.926 59.9619 684.286 Q64.9272 688.647 64.9272 696.286 Q64.9272 703.956 59.9619 708.317 Q54.9649 712.646 46.212 712.646 Q37.4273 712.646 32.4621 708.317 Q27.4968 703.956 27.4968 696.286 M11.869 691.862 L11.869 685.528 L23.8365 695.904 L23.8365 700.773 L11.869 691.862 Z\" fill=\"#000000\" fill-rule=\"nonzero\" fill-opacity=\"1\" /><path clip-path=\"url(#clip530)\" d=\"M42.4881 640.586 L64.0042 640.586 L64.0042 646.442 L42.679 646.442 Q37.6183 646.442 35.1038 648.416 Q32.5894 650.389 32.5894 654.336 Q32.5894 659.078 35.6131 661.815 Q38.6368 664.553 43.8567 664.553 L64.0042 664.553 L64.0042 670.441 L28.3562 670.441 L28.3562 664.553 L33.8944 664.553 Q30.6797 662.452 29.0883 659.619 Q27.4968 656.755 27.4968 653.031 Q27.4968 646.888 31.3163 643.737 Q35.1038 640.586 42.4881 640.586 Z\" fill=\"#000000\" fill-rule=\"nonzero\" fill-opacity=\"1\" /><path clip-path=\"url(#clip530)\" d=\"M67.3143 593.352 Q73.68 595.835 75.6216 598.19 Q77.5631 600.545 77.5631 604.492 L77.5631 609.171 L72.6615 609.171 L72.6615 605.733 Q72.6615 603.315 71.5157 601.978 Q70.3699 600.641 66.1048 599.018 L63.4312 597.967 L28.3562 612.386 L28.3562 606.179 L56.238 595.039 L28.3562 583.899 L28.3562 577.693 L67.3143 593.352 Z\" fill=\"#000000\" fill-rule=\"nonzero\" fill-opacity=\"1\" /><polyline clip-path=\"url(#clip532)\" style=\"stroke:#009af9; stroke-linecap:round; stroke-linejoin:round; stroke-width:12; stroke-opacity:1; fill:none\" stroke-dasharray=\"48, 30\" points=\"1641.02,369.443 2293.45,86.1857 1655.79,333.481 1104.72,607.332 1409.75,319.109 1056.99,659.961 927.431,838.049 993.573,719.875 1253.41,844.035 1420.24,947.102 1196.12,710.903 1219.07,841.138 1003.96,866.671 812.577,715.324 1116.62,602.059 1698.86,479.162 1359.72,374.289 1629.35,731.619 1829.69,1013.71 1550.22,988.488 1297.99,802.666 1344.71,1110.26 1113.01,1314.62 1591.24,1384.24 1529.85,1024.22 2018.71,1247.39 1788.36,1245.88 1218.26,1048.57 985.162,1376.67 316.512,1235.56 369.546,1338.59 \"/>\n",
       "<circle clip-path=\"url(#clip532)\" cx=\"1641.02\" cy=\"369.443\" r=\"14.4\" fill=\"#0000ff\" fill-rule=\"evenodd\" fill-opacity=\"1\" stroke=\"#000000\" stroke-opacity=\"1\" stroke-width=\"3.2\"/>\n",
       "<circle clip-path=\"url(#clip532)\" cx=\"369.546\" cy=\"1338.59\" r=\"14.4\" fill=\"#ff0000\" fill-rule=\"evenodd\" fill-opacity=\"1\" stroke=\"#000000\" stroke-opacity=\"1\" stroke-width=\"3.2\"/>\n",
       "<path clip-path=\"url(#clip530)\" d=\"M327.056 300.469 L589.62 300.469 L589.62 93.1086 L327.056 93.1086  Z\" fill=\"#ffffff\" fill-rule=\"evenodd\" fill-opacity=\"1\"/>\n",
       "<polyline clip-path=\"url(#clip530)\" style=\"stroke:#000000; stroke-linecap:round; stroke-linejoin:round; stroke-width:4; stroke-opacity:1; fill:none\" points=\"327.056,300.469 589.62,300.469 589.62,93.1086 327.056,93.1086 327.056,300.469 \"/>\n",
       "<polyline clip-path=\"url(#clip530)\" style=\"stroke:#009af9; stroke-linecap:round; stroke-linejoin:round; stroke-width:12; stroke-opacity:1; fill:none\" stroke-dasharray=\"48, 30\" points=\"350.34,144.949 490.043,144.949 \"/>\n",
       "<path clip-path=\"url(#clip530)\" d=\"M527.17 164.636 Q525.364 169.266 523.651 170.678 Q521.938 172.09 519.068 172.09 L515.665 172.09 L515.665 168.525 L518.165 168.525 Q519.924 168.525 520.896 167.692 Q521.869 166.858 523.049 163.756 L523.813 161.812 L513.327 136.303 L517.841 136.303 L525.943 156.581 L534.045 136.303 L538.558 136.303 L527.17 164.636 Z\" fill=\"#000000\" fill-rule=\"nonzero\" fill-opacity=\"1\" /><path clip-path=\"url(#clip530)\" d=\"M545.85 158.293 L553.489 158.293 L553.489 131.928 L545.179 133.595 L545.179 129.335 L553.443 127.669 L558.118 127.669 L558.118 158.293 L565.757 158.293 L565.757 162.229 L545.85 162.229 L545.85 158.293 Z\" fill=\"#000000\" fill-rule=\"nonzero\" fill-opacity=\"1\" /><circle clip-path=\"url(#clip530)\" cx=\"420.191\" cy=\"196.789\" r=\"20.48\" fill=\"#0000ff\" fill-rule=\"evenodd\" fill-opacity=\"1\" stroke=\"#000000\" stroke-opacity=\"1\" stroke-width=\"4.55111\"/>\n",
       "<path clip-path=\"url(#clip530)\" d=\"M527.17 216.476 Q525.364 221.106 523.651 222.518 Q521.938 223.93 519.068 223.93 L515.665 223.93 L515.665 220.365 L518.165 220.365 Q519.924 220.365 520.896 219.532 Q521.869 218.698 523.049 215.596 L523.813 213.652 L513.327 188.143 L517.841 188.143 L525.943 208.421 L534.045 188.143 L538.558 188.143 L527.17 216.476 Z\" fill=\"#000000\" fill-rule=\"nonzero\" fill-opacity=\"1\" /><path clip-path=\"url(#clip530)\" d=\"M549.068 210.133 L565.387 210.133 L565.387 214.069 L543.443 214.069 L543.443 210.133 Q546.105 207.379 550.688 202.749 Q555.294 198.096 556.475 196.754 Q558.72 194.231 559.6 192.495 Q560.503 190.735 560.503 189.046 Q560.503 186.291 558.558 184.555 Q556.637 182.819 553.535 182.819 Q551.336 182.819 548.882 183.583 Q546.452 184.347 543.674 185.897 L543.674 181.175 Q546.498 180.041 548.952 179.462 Q551.406 178.884 553.443 178.884 Q558.813 178.884 562.007 181.569 Q565.202 184.254 565.202 188.745 Q565.202 190.874 564.392 192.796 Q563.605 194.694 561.498 197.286 Q560.919 197.958 557.818 201.175 Q554.716 204.37 549.068 210.133 Z\" fill=\"#000000\" fill-rule=\"nonzero\" fill-opacity=\"1\" /><circle clip-path=\"url(#clip530)\" cx=\"420.191\" cy=\"248.629\" r=\"20.48\" fill=\"#ff0000\" fill-rule=\"evenodd\" fill-opacity=\"1\" stroke=\"#000000\" stroke-opacity=\"1\" stroke-width=\"4.55111\"/>\n",
       "<path clip-path=\"url(#clip530)\" d=\"M527.17 268.316 Q525.364 272.946 523.651 274.358 Q521.938 275.77 519.068 275.77 L515.665 275.77 L515.665 272.205 L518.165 272.205 Q519.924 272.205 520.896 271.372 Q521.869 270.538 523.049 267.436 L523.813 265.492 L513.327 239.983 L517.841 239.983 L525.943 260.261 L534.045 239.983 L538.558 239.983 L527.17 268.316 Z\" fill=\"#000000\" fill-rule=\"nonzero\" fill-opacity=\"1\" /><path clip-path=\"url(#clip530)\" d=\"M559.206 247.274 Q562.563 247.992 564.438 250.261 Q566.336 252.529 566.336 255.862 Q566.336 260.978 562.818 263.779 Q559.299 266.58 552.818 266.58 Q550.642 266.58 548.327 266.14 Q546.035 265.723 543.582 264.867 L543.582 260.353 Q545.526 261.487 547.841 262.066 Q550.156 262.645 552.679 262.645 Q557.077 262.645 559.368 260.909 Q561.683 259.173 561.683 255.862 Q561.683 252.807 559.53 251.094 Q557.401 249.358 553.581 249.358 L549.554 249.358 L549.554 245.515 L553.767 245.515 Q557.216 245.515 559.044 244.149 Q560.873 242.761 560.873 240.168 Q560.873 237.506 558.975 236.094 Q557.1 234.659 553.581 234.659 Q551.66 234.659 549.461 235.075 Q547.262 235.492 544.623 236.372 L544.623 232.205 Q547.285 231.464 549.6 231.094 Q551.938 230.724 553.998 230.724 Q559.322 230.724 562.424 233.154 Q565.526 235.562 565.526 239.682 Q565.526 242.552 563.882 244.543 Q562.239 246.511 559.206 247.274 Z\" fill=\"#000000\" fill-rule=\"nonzero\" fill-opacity=\"1\" /></svg>\n"
      ]
     },
     "execution_count": 134,
     "metadata": {},
     "output_type": "execute_result"
    }
   ],
   "source": [
    "Ar=caminataAleatoria2D(30)\n",
    "graficaCaminata2D(Ar)"
   ]
  },
  {
   "cell_type": "markdown",
   "id": "98fec92e-fddb-4350-b4af-15b80bdf0aa1",
   "metadata": {},
   "source": [
    "**Ejercicio** Crea una función `graficaCaminata2D!` que sea una versión modificadora de la función anterior. Luego, genera una gráfica con 5 caminatas aleatorias en dos dimensiones (espaciales)."
   ]
  },
  {
   "cell_type": "code",
   "execution_count": 55,
   "id": "35d2910d-921d-4ece-ac68-e5e1fc845ff1",
   "metadata": {},
   "outputs": [
    {
     "data": {
      "text/plain": [
       "graficaCaminata2D! (generic function with 1 method)"
      ]
     },
     "execution_count": 55,
     "metadata": {},
     "output_type": "execute_result"
    }
   ],
   "source": [
    "function graficaCaminata2D!(T1,T2,T3,T4,T5)\n",
    "#Aquí se grafican los subarreglos de las distintas caminatas aleatorias.\n",
    "    plot(T1[1],T1[2], linewidth = 3, linestyle = :dash)\n",
    "    plot!(T2[1],T2[2], linewidth = 3, linestyle = :dash)\n",
    "    plot!(T3[1],T3[2], linewidth = 3, linestyle = :dash)\n",
    "    plot!(T4[1],T4[2], linewidth = 3, linestyle = :dash)\n",
    "    plot!(T5[1],T5[2], linewidth = 3, linestyle = :dash)\n",
    "\n",
    "    xlabel!(\"Posición x\")\n",
    "    ylabel!(\"Posición y\")\n",
    "\n",
    "end"
   ]
  },
  {
   "cell_type": "code",
   "execution_count": 56,
   "id": "eb2faf95-da32-4d37-946c-eae1bff24206",
   "metadata": {},
   "outputs": [
    {
     "data": {
      "image/svg+xml": [
       "<?xml version=\"1.0\" encoding=\"utf-8\"?>\n",
       "<svg xmlns=\"http://www.w3.org/2000/svg\" xmlns:xlink=\"http://www.w3.org/1999/xlink\" width=\"600\" height=\"400\" viewBox=\"0 0 2400 1600\">\n",
       "<defs>\n",
       "  <clipPath id=\"clip360\">\n",
       "    <rect x=\"0\" y=\"0\" width=\"2400\" height=\"1600\"/>\n",
       "  </clipPath>\n",
       "</defs>\n",
       "<path clip-path=\"url(#clip360)\" d=\"M0 1600 L2400 1600 L2400 0 L0 0  Z\" fill=\"#ffffff\" fill-rule=\"evenodd\" fill-opacity=\"1\"/>\n",
       "<defs>\n",
       "  <clipPath id=\"clip361\">\n",
       "    <rect x=\"480\" y=\"0\" width=\"1681\" height=\"1600\"/>\n",
       "  </clipPath>\n",
       "</defs>\n",
       "<path clip-path=\"url(#clip360)\" d=\"M212.459 1423.18 L2352.76 1423.18 L2352.76 47.2441 L212.459 47.2441  Z\" fill=\"#ffffff\" fill-rule=\"evenodd\" fill-opacity=\"1\"/>\n",
       "<defs>\n",
       "  <clipPath id=\"clip362\">\n",
       "    <rect x=\"212\" y=\"47\" width=\"2141\" height=\"1377\"/>\n",
       "  </clipPath>\n",
       "</defs>\n",
       "<polyline clip-path=\"url(#clip362)\" style=\"stroke:#000000; stroke-linecap:round; stroke-linejoin:round; stroke-width:2; stroke-opacity:0.1; fill:none\" points=\"343.111,1423.18 343.111,47.2441 \"/>\n",
       "<polyline clip-path=\"url(#clip362)\" style=\"stroke:#000000; stroke-linecap:round; stroke-linejoin:round; stroke-width:2; stroke-opacity:0.1; fill:none\" points=\"854.906,1423.18 854.906,47.2441 \"/>\n",
       "<polyline clip-path=\"url(#clip362)\" style=\"stroke:#000000; stroke-linecap:round; stroke-linejoin:round; stroke-width:2; stroke-opacity:0.1; fill:none\" points=\"1366.7,1423.18 1366.7,47.2441 \"/>\n",
       "<polyline clip-path=\"url(#clip362)\" style=\"stroke:#000000; stroke-linecap:round; stroke-linejoin:round; stroke-width:2; stroke-opacity:0.1; fill:none\" points=\"1878.49,1423.18 1878.49,47.2441 \"/>\n",
       "<polyline clip-path=\"url(#clip360)\" style=\"stroke:#000000; stroke-linecap:round; stroke-linejoin:round; stroke-width:4; stroke-opacity:1; fill:none\" points=\"212.459,1423.18 2352.76,1423.18 \"/>\n",
       "<polyline clip-path=\"url(#clip360)\" style=\"stroke:#000000; stroke-linecap:round; stroke-linejoin:round; stroke-width:4; stroke-opacity:1; fill:none\" points=\"343.111,1423.18 343.111,1404.28 \"/>\n",
       "<polyline clip-path=\"url(#clip360)\" style=\"stroke:#000000; stroke-linecap:round; stroke-linejoin:round; stroke-width:4; stroke-opacity:1; fill:none\" points=\"854.906,1423.18 854.906,1404.28 \"/>\n",
       "<polyline clip-path=\"url(#clip360)\" style=\"stroke:#000000; stroke-linecap:round; stroke-linejoin:round; stroke-width:4; stroke-opacity:1; fill:none\" points=\"1366.7,1423.18 1366.7,1404.28 \"/>\n",
       "<polyline clip-path=\"url(#clip360)\" style=\"stroke:#000000; stroke-linecap:round; stroke-linejoin:round; stroke-width:4; stroke-opacity:1; fill:none\" points=\"1878.49,1423.18 1878.49,1404.28 \"/>\n",
       "<path clip-path=\"url(#clip360)\" d=\"M312.012 1468.75 L341.687 1468.75 L341.687 1472.69 L312.012 1472.69 L312.012 1468.75 Z\" fill=\"#000000\" fill-rule=\"nonzero\" fill-opacity=\"1\" /><path clip-path=\"url(#clip360)\" d=\"M364.627 1455.09 L352.822 1473.54 L364.627 1473.54 L364.627 1455.09 M363.4 1451.02 L369.28 1451.02 L369.28 1473.54 L374.21 1473.54 L374.21 1477.43 L369.28 1477.43 L369.28 1485.58 L364.627 1485.58 L364.627 1477.43 L349.025 1477.43 L349.025 1472.92 L363.4 1451.02 Z\" fill=\"#000000\" fill-rule=\"nonzero\" fill-opacity=\"1\" /><path clip-path=\"url(#clip360)\" d=\"M824.848 1468.75 L854.524 1468.75 L854.524 1472.69 L824.848 1472.69 L824.848 1468.75 Z\" fill=\"#000000\" fill-rule=\"nonzero\" fill-opacity=\"1\" /><path clip-path=\"url(#clip360)\" d=\"M868.644 1481.64 L884.963 1481.64 L884.963 1485.58 L863.019 1485.58 L863.019 1481.64 Q865.681 1478.89 870.264 1474.26 Q874.871 1469.61 876.051 1468.27 Q878.297 1465.74 879.176 1464.01 Q880.079 1462.25 880.079 1460.56 Q880.079 1457.8 878.135 1456.07 Q876.213 1454.33 873.111 1454.33 Q870.912 1454.33 868.459 1455.09 Q866.028 1455.86 863.25 1457.41 L863.25 1452.69 Q866.074 1451.55 868.528 1450.97 Q870.982 1450.39 873.019 1450.39 Q878.389 1450.39 881.584 1453.08 Q884.778 1455.77 884.778 1460.26 Q884.778 1462.39 883.968 1464.31 Q883.181 1466.2 881.074 1468.8 Q880.496 1469.47 877.394 1472.69 Q874.292 1475.88 868.644 1481.64 Z\" fill=\"#000000\" fill-rule=\"nonzero\" fill-opacity=\"1\" /><path clip-path=\"url(#clip360)\" d=\"M1366.7 1454.1 Q1363.09 1454.1 1361.26 1457.66 Q1359.45 1461.2 1359.45 1468.33 Q1359.45 1475.44 1361.26 1479.01 Q1363.09 1482.55 1366.7 1482.55 Q1370.33 1482.55 1372.14 1479.01 Q1373.97 1475.44 1373.97 1468.33 Q1373.97 1461.2 1372.14 1457.66 Q1370.33 1454.1 1366.7 1454.1 M1366.7 1450.39 Q1372.51 1450.39 1375.57 1455 Q1378.64 1459.58 1378.64 1468.33 Q1378.64 1477.06 1375.57 1481.67 Q1372.51 1486.25 1366.7 1486.25 Q1360.89 1486.25 1357.81 1481.67 Q1354.76 1477.06 1354.76 1468.33 Q1354.76 1459.58 1357.81 1455 Q1360.89 1450.39 1366.7 1450.39 Z\" fill=\"#000000\" fill-rule=\"nonzero\" fill-opacity=\"1\" /><path clip-path=\"url(#clip360)\" d=\"M1873.15 1481.64 L1889.47 1481.64 L1889.47 1485.58 L1867.52 1485.58 L1867.52 1481.64 Q1870.18 1478.89 1874.77 1474.26 Q1879.37 1469.61 1880.55 1468.27 Q1882.8 1465.74 1883.68 1464.01 Q1884.58 1462.25 1884.58 1460.56 Q1884.58 1457.8 1882.64 1456.07 Q1880.72 1454.33 1877.62 1454.33 Q1875.42 1454.33 1872.96 1455.09 Q1870.53 1455.86 1867.75 1457.41 L1867.75 1452.69 Q1870.58 1451.55 1873.03 1450.97 Q1875.49 1450.39 1877.52 1450.39 Q1882.89 1450.39 1886.09 1453.08 Q1889.28 1455.77 1889.28 1460.26 Q1889.28 1462.39 1888.47 1464.31 Q1887.68 1466.2 1885.58 1468.8 Q1885 1469.47 1881.9 1472.69 Q1878.8 1475.88 1873.15 1481.64 Z\" fill=\"#000000\" fill-rule=\"nonzero\" fill-opacity=\"1\" /><path clip-path=\"url(#clip360)\" d=\"M1131.61 1525.81 L1131.61 1543.66 L1139.7 1543.66 Q1144.19 1543.66 1146.64 1541.34 Q1149.09 1539.02 1149.09 1534.72 Q1149.09 1530.45 1146.64 1528.13 Q1144.19 1525.81 1139.7 1525.81 L1131.61 1525.81 M1125.18 1520.52 L1139.7 1520.52 Q1147.69 1520.52 1151.76 1524.15 Q1155.87 1527.75 1155.87 1534.72 Q1155.87 1541.75 1151.76 1545.35 Q1147.69 1548.95 1139.7 1548.95 L1131.61 1548.95 L1131.61 1568.04 L1125.18 1568.04 L1125.18 1520.52 Z\" fill=\"#000000\" fill-rule=\"nonzero\" fill-opacity=\"1\" /><path clip-path=\"url(#clip360)\" d=\"M1175.73 1536.5 Q1171.02 1536.5 1168.28 1540.19 Q1165.54 1543.85 1165.54 1550.25 Q1165.54 1556.65 1168.25 1560.34 Q1170.98 1564 1175.73 1564 Q1180.41 1564 1183.14 1560.31 Q1185.88 1556.62 1185.88 1550.25 Q1185.88 1543.92 1183.14 1540.23 Q1180.41 1536.5 1175.73 1536.5 M1175.73 1531.54 Q1183.37 1531.54 1187.73 1536.5 Q1192.09 1541.47 1192.09 1550.25 Q1192.09 1559 1187.73 1564 Q1183.37 1568.97 1175.73 1568.97 Q1168.06 1568.97 1163.7 1564 Q1159.37 1559 1159.37 1550.25 Q1159.37 1541.47 1163.7 1536.5 Q1168.06 1531.54 1175.73 1531.54 Z\" fill=\"#000000\" fill-rule=\"nonzero\" fill-opacity=\"1\" /><path clip-path=\"url(#clip360)\" d=\"M1224.52 1533.45 L1224.52 1538.98 Q1222.04 1537.71 1219.36 1537.07 Q1216.69 1536.44 1213.83 1536.44 Q1209.47 1536.44 1207.27 1537.77 Q1205.1 1539.11 1205.1 1541.79 Q1205.1 1543.82 1206.66 1545 Q1208.22 1546.15 1212.93 1547.2 L1214.94 1547.64 Q1221.18 1548.98 1223.79 1551.43 Q1226.43 1553.85 1226.43 1558.21 Q1226.43 1563.17 1222.48 1566.07 Q1218.57 1568.97 1211.69 1568.97 Q1208.83 1568.97 1205.71 1568.39 Q1202.62 1567.85 1199.18 1566.74 L1199.18 1560.69 Q1202.43 1562.38 1205.58 1563.24 Q1208.73 1564.07 1211.82 1564.07 Q1215.96 1564.07 1218.19 1562.66 Q1220.41 1561.23 1220.41 1558.65 Q1220.41 1556.27 1218.79 1554.99 Q1217.2 1553.72 1211.76 1552.54 L1209.72 1552.07 Q1204.28 1550.92 1201.86 1548.56 Q1199.44 1546.18 1199.44 1542.04 Q1199.44 1537.01 1203 1534.27 Q1206.57 1531.54 1213.13 1531.54 Q1216.37 1531.54 1219.24 1532.01 Q1222.1 1532.49 1224.52 1533.45 Z\" fill=\"#000000\" fill-rule=\"nonzero\" fill-opacity=\"1\" /><path clip-path=\"url(#clip360)\" d=\"M1235.76 1532.4 L1241.61 1532.4 L1241.61 1568.04 L1235.76 1568.04 L1235.76 1532.4 M1235.76 1518.52 L1241.61 1518.52 L1241.61 1525.93 L1235.76 1525.93 L1235.76 1518.52 Z\" fill=\"#000000\" fill-rule=\"nonzero\" fill-opacity=\"1\" /><path clip-path=\"url(#clip360)\" d=\"M1279.52 1533.76 L1279.52 1539.24 Q1277.04 1537.87 1274.52 1537.2 Q1272.04 1536.5 1269.49 1536.5 Q1263.8 1536.5 1260.65 1540.13 Q1257.49 1543.73 1257.49 1550.25 Q1257.49 1556.78 1260.65 1560.4 Q1263.8 1564 1269.49 1564 Q1272.04 1564 1274.52 1563.33 Q1277.04 1562.63 1279.52 1561.26 L1279.52 1566.68 Q1277.07 1567.82 1274.43 1568.39 Q1271.82 1568.97 1268.86 1568.97 Q1260.8 1568.97 1256.06 1563.91 Q1251.32 1558.85 1251.32 1550.25 Q1251.32 1541.53 1256.09 1536.53 Q1260.9 1531.54 1269.24 1531.54 Q1271.94 1531.54 1274.52 1532.11 Q1277.1 1532.65 1279.52 1533.76 Z\" fill=\"#000000\" fill-rule=\"nonzero\" fill-opacity=\"1\" /><path clip-path=\"url(#clip360)\" d=\"M1289.71 1532.4 L1295.56 1532.4 L1295.56 1568.04 L1289.71 1568.04 L1289.71 1532.4 M1289.71 1518.52 L1295.56 1518.52 L1295.56 1525.93 L1289.71 1525.93 L1289.71 1518.52 Z\" fill=\"#000000\" fill-rule=\"nonzero\" fill-opacity=\"1\" /><path clip-path=\"url(#clip360)\" d=\"M1321.63 1536.5 Q1316.92 1536.5 1314.18 1540.19 Q1311.44 1543.85 1311.44 1550.25 Q1311.44 1556.65 1314.15 1560.34 Q1316.89 1564 1321.63 1564 Q1326.31 1564 1329.05 1560.31 Q1331.78 1556.62 1331.78 1550.25 Q1331.78 1543.92 1329.05 1540.23 Q1326.31 1536.5 1321.63 1536.5 M1321.63 1531.54 Q1329.27 1531.54 1333.63 1536.5 Q1337.99 1541.47 1337.99 1550.25 Q1337.99 1559 1333.63 1564 Q1329.27 1568.97 1321.63 1568.97 Q1313.96 1568.97 1309.6 1564 Q1305.27 1559 1305.27 1550.25 Q1305.27 1541.47 1309.6 1536.5 Q1313.96 1531.54 1321.63 1531.54 M1326.05 1515.91 L1332.39 1515.91 L1322.01 1527.88 L1317.14 1527.88 L1326.05 1515.91 Z\" fill=\"#000000\" fill-rule=\"nonzero\" fill-opacity=\"1\" /><path clip-path=\"url(#clip360)\" d=\"M1377.33 1546.53 L1377.33 1568.04 L1371.47 1568.04 L1371.47 1546.72 Q1371.47 1541.66 1369.5 1539.14 Q1367.53 1536.63 1363.58 1536.63 Q1358.84 1536.63 1356.1 1539.65 Q1353.36 1542.68 1353.36 1547.9 L1353.36 1568.04 L1347.47 1568.04 L1347.47 1532.4 L1353.36 1532.4 L1353.36 1537.93 Q1355.46 1534.72 1358.3 1533.13 Q1361.16 1531.54 1364.88 1531.54 Q1371.03 1531.54 1374.18 1535.36 Q1377.33 1539.14 1377.33 1546.53 Z\" fill=\"#000000\" fill-rule=\"nonzero\" fill-opacity=\"1\" /><path clip-path=\"url(#clip360)\" d=\"M1439.36 1532.4 L1426.47 1549.74 L1440.03 1568.04 L1433.12 1568.04 L1422.75 1554.04 L1412.37 1568.04 L1405.47 1568.04 L1419.31 1549.39 L1406.64 1532.4 L1413.55 1532.4 L1423 1545.1 L1432.46 1532.4 L1439.36 1532.4 Z\" fill=\"#000000\" fill-rule=\"nonzero\" fill-opacity=\"1\" /><polyline clip-path=\"url(#clip362)\" style=\"stroke:#000000; stroke-linecap:round; stroke-linejoin:round; stroke-width:2; stroke-opacity:0.1; fill:none\" points=\"212.459,1174.3 2352.76,1174.3 \"/>\n",
       "<polyline clip-path=\"url(#clip362)\" style=\"stroke:#000000; stroke-linecap:round; stroke-linejoin:round; stroke-width:2; stroke-opacity:0.1; fill:none\" points=\"212.459,880.5 2352.76,880.5 \"/>\n",
       "<polyline clip-path=\"url(#clip362)\" style=\"stroke:#000000; stroke-linecap:round; stroke-linejoin:round; stroke-width:2; stroke-opacity:0.1; fill:none\" points=\"212.459,586.703 2352.76,586.703 \"/>\n",
       "<polyline clip-path=\"url(#clip362)\" style=\"stroke:#000000; stroke-linecap:round; stroke-linejoin:round; stroke-width:2; stroke-opacity:0.1; fill:none\" points=\"212.459,292.905 2352.76,292.905 \"/>\n",
       "<polyline clip-path=\"url(#clip360)\" style=\"stroke:#000000; stroke-linecap:round; stroke-linejoin:round; stroke-width:4; stroke-opacity:1; fill:none\" points=\"212.459,1423.18 212.459,47.2441 \"/>\n",
       "<polyline clip-path=\"url(#clip360)\" style=\"stroke:#000000; stroke-linecap:round; stroke-linejoin:round; stroke-width:4; stroke-opacity:1; fill:none\" points=\"212.459,1174.3 231.357,1174.3 \"/>\n",
       "<polyline clip-path=\"url(#clip360)\" style=\"stroke:#000000; stroke-linecap:round; stroke-linejoin:round; stroke-width:4; stroke-opacity:1; fill:none\" points=\"212.459,880.5 231.357,880.5 \"/>\n",
       "<polyline clip-path=\"url(#clip360)\" style=\"stroke:#000000; stroke-linecap:round; stroke-linejoin:round; stroke-width:4; stroke-opacity:1; fill:none\" points=\"212.459,586.703 231.357,586.703 \"/>\n",
       "<polyline clip-path=\"url(#clip360)\" style=\"stroke:#000000; stroke-linecap:round; stroke-linejoin:round; stroke-width:4; stroke-opacity:1; fill:none\" points=\"212.459,292.905 231.357,292.905 \"/>\n",
       "<path clip-path=\"url(#clip360)\" d=\"M114.26 1174.75 L143.936 1174.75 L143.936 1178.68 L114.26 1178.68 L114.26 1174.75 Z\" fill=\"#000000\" fill-rule=\"nonzero\" fill-opacity=\"1\" /><path clip-path=\"url(#clip360)\" d=\"M166.876 1161.09 L155.07 1179.54 L166.876 1179.54 L166.876 1161.09 M165.649 1157.02 L171.528 1157.02 L171.528 1179.54 L176.459 1179.54 L176.459 1183.43 L171.528 1183.43 L171.528 1191.58 L166.876 1191.58 L166.876 1183.43 L151.274 1183.43 L151.274 1178.92 L165.649 1157.02 Z\" fill=\"#000000\" fill-rule=\"nonzero\" fill-opacity=\"1\" /><path clip-path=\"url(#clip360)\" d=\"M116.343 880.951 L146.019 880.951 L146.019 884.887 L116.343 884.887 L116.343 880.951 Z\" fill=\"#000000\" fill-rule=\"nonzero\" fill-opacity=\"1\" /><path clip-path=\"url(#clip360)\" d=\"M160.14 893.845 L176.459 893.845 L176.459 897.78 L154.515 897.78 L154.515 893.845 Q157.177 891.09 161.76 886.461 Q166.366 881.808 167.547 880.465 Q169.792 877.942 170.672 876.206 Q171.575 874.447 171.575 872.757 Q171.575 870.002 169.63 868.266 Q167.709 866.53 164.607 866.53 Q162.408 866.53 159.954 867.294 Q157.524 868.058 154.746 869.609 L154.746 864.887 Q157.57 863.752 160.024 863.174 Q162.477 862.595 164.515 862.595 Q169.885 862.595 173.079 865.28 Q176.274 867.965 176.274 872.456 Q176.274 874.586 175.464 876.507 Q174.677 878.405 172.57 880.998 Q171.991 881.669 168.889 884.887 Q165.788 888.081 160.14 893.845 Z\" fill=\"#000000\" fill-rule=\"nonzero\" fill-opacity=\"1\" /><path clip-path=\"url(#clip360)\" d=\"M164.515 572.501 Q160.903 572.501 159.075 576.066 Q157.269 579.608 157.269 586.737 Q157.269 593.844 159.075 597.409 Q160.903 600.95 164.515 600.95 Q168.149 600.95 169.954 597.409 Q171.783 593.844 171.783 586.737 Q171.783 579.608 169.954 576.066 Q168.149 572.501 164.515 572.501 M164.515 568.798 Q170.325 568.798 173.38 573.404 Q176.459 577.987 176.459 586.737 Q176.459 595.464 173.38 600.071 Q170.325 604.654 164.515 604.654 Q158.704 604.654 155.626 600.071 Q152.57 595.464 152.57 586.737 Q152.57 577.987 155.626 573.404 Q158.704 568.798 164.515 568.798 Z\" fill=\"#000000\" fill-rule=\"nonzero\" fill-opacity=\"1\" /><path clip-path=\"url(#clip360)\" d=\"M160.14 306.25 L176.459 306.25 L176.459 310.185 L154.515 310.185 L154.515 306.25 Q157.177 303.495 161.76 298.866 Q166.366 294.213 167.547 292.87 Q169.792 290.347 170.672 288.611 Q171.575 286.852 171.575 285.162 Q171.575 282.407 169.63 280.671 Q167.709 278.935 164.607 278.935 Q162.408 278.935 159.954 279.699 Q157.524 280.463 154.746 282.014 L154.746 277.292 Q157.57 276.157 160.024 275.579 Q162.477 275 164.515 275 Q169.885 275 173.079 277.685 Q176.274 280.37 176.274 284.861 Q176.274 286.991 175.464 288.912 Q174.677 290.81 172.57 293.403 Q171.991 294.074 168.889 297.292 Q165.788 300.486 160.14 306.25 Z\" fill=\"#000000\" fill-rule=\"nonzero\" fill-opacity=\"1\" /><path clip-path=\"url(#clip360)\" d=\"M21.7677 886.302 L39.6235 886.302 L39.6235 878.218 Q39.6235 873.73 37.3 871.279 Q34.9765 868.828 30.6797 868.828 Q26.4147 868.828 24.0912 871.279 Q21.7677 873.73 21.7677 878.218 L21.7677 886.302 M16.4842 892.731 L16.4842 878.218 Q16.4842 870.229 20.1126 866.155 Q23.7092 862.049 30.6797 862.049 Q37.7138 862.049 41.3104 866.155 Q44.907 870.229 44.907 878.218 L44.907 886.302 L64.0042 886.302 L64.0042 892.731 L16.4842 892.731 Z\" fill=\"#000000\" fill-rule=\"nonzero\" fill-opacity=\"1\" /><path clip-path=\"url(#clip360)\" d=\"M32.4621 842.188 Q32.4621 846.898 36.1542 849.636 Q39.8145 852.373 46.212 852.373 Q52.6095 852.373 56.3017 849.667 Q59.9619 846.93 59.9619 842.188 Q59.9619 837.509 56.2698 834.772 Q52.5777 832.034 46.212 832.034 Q39.8781 832.034 36.186 834.772 Q32.4621 837.509 32.4621 842.188 M27.4968 842.188 Q27.4968 834.549 32.4621 830.188 Q37.4273 825.828 46.212 825.828 Q54.9649 825.828 59.9619 830.188 Q64.9272 834.549 64.9272 842.188 Q64.9272 849.858 59.9619 854.219 Q54.9649 858.548 46.212 858.548 Q37.4273 858.548 32.4621 854.219 Q27.4968 849.858 27.4968 842.188 Z\" fill=\"#000000\" fill-rule=\"nonzero\" fill-opacity=\"1\" /><path clip-path=\"url(#clip360)\" d=\"M29.4065 793.395 L34.9447 793.395 Q33.6716 795.877 33.035 798.551 Q32.3984 801.224 32.3984 804.089 Q32.3984 808.449 33.7352 810.646 Q35.072 812.81 37.7456 812.81 Q39.7826 812.81 40.9603 811.25 Q42.1061 809.691 43.1565 804.98 L43.6021 802.975 Q44.9389 796.737 47.3897 794.127 Q49.8086 791.485 54.1691 791.485 Q59.1344 791.485 62.0308 795.432 Q64.9272 799.346 64.9272 806.221 Q64.9272 809.086 64.3543 812.205 Q63.8132 815.293 62.6992 818.73 L56.6518 818.73 Q58.3387 815.484 59.198 812.333 Q60.0256 809.181 60.0256 806.094 Q60.0256 801.956 58.6251 799.728 Q57.1929 797.5 54.6147 797.5 Q52.2276 797.5 50.9545 799.124 Q49.6813 800.715 48.5037 806.158 L48.0262 808.195 Q46.8804 813.637 44.5251 816.056 Q42.138 818.475 38.0002 818.475 Q32.9713 818.475 30.2341 814.911 Q27.4968 811.346 27.4968 804.789 Q27.4968 801.543 27.9743 798.678 Q28.4517 795.813 29.4065 793.395 Z\" fill=\"#000000\" fill-rule=\"nonzero\" fill-opacity=\"1\" /><path clip-path=\"url(#clip360)\" d=\"M28.3562 782.159 L28.3562 776.303 L64.0042 776.303 L64.0042 782.159 L28.3562 782.159 M14.479 782.159 L14.479 776.303 L21.895 776.303 L21.895 782.159 L14.479 782.159 Z\" fill=\"#000000\" fill-rule=\"nonzero\" fill-opacity=\"1\" /><path clip-path=\"url(#clip360)\" d=\"M29.7248 738.395 L35.1993 738.395 Q33.8307 740.877 33.1623 743.392 Q32.4621 745.875 32.4621 748.421 Q32.4621 754.118 36.0905 757.269 Q39.6872 760.42 46.212 760.42 Q52.7369 760.42 56.3653 757.269 Q59.9619 754.118 59.9619 748.421 Q59.9619 745.875 59.2935 743.392 Q58.5933 740.877 57.2247 738.395 L62.6355 738.395 Q63.7814 740.846 64.3543 743.487 Q64.9272 746.097 64.9272 749.057 Q64.9272 757.11 59.8664 761.852 Q54.8057 766.595 46.212 766.595 Q37.491 766.595 32.4939 761.821 Q27.4968 757.015 27.4968 748.675 Q27.4968 745.97 28.0697 743.392 Q28.6108 740.814 29.7248 738.395 Z\" fill=\"#000000\" fill-rule=\"nonzero\" fill-opacity=\"1\" /><path clip-path=\"url(#clip360)\" d=\"M28.3562 728.21 L28.3562 722.353 L64.0042 722.353 L64.0042 728.21 L28.3562 728.21 M14.479 728.21 L14.479 722.353 L21.895 722.353 L21.895 728.21 L14.479 728.21 Z\" fill=\"#000000\" fill-rule=\"nonzero\" fill-opacity=\"1\" /><path clip-path=\"url(#clip360)\" d=\"M32.4621 696.286 Q32.4621 700.996 36.1542 703.734 Q39.8145 706.471 46.212 706.471 Q52.6095 706.471 56.3017 703.765 Q59.9619 701.028 59.9619 696.286 Q59.9619 691.607 56.2698 688.87 Q52.5777 686.132 46.212 686.132 Q39.8781 686.132 36.186 688.87 Q32.4621 691.607 32.4621 696.286 M27.4968 696.286 Q27.4968 688.647 32.4621 684.286 Q37.4273 679.926 46.212 679.926 Q54.9649 679.926 59.9619 684.286 Q64.9272 688.647 64.9272 696.286 Q64.9272 703.956 59.9619 708.317 Q54.9649 712.646 46.212 712.646 Q37.4273 712.646 32.4621 708.317 Q27.4968 703.956 27.4968 696.286 M11.869 691.862 L11.869 685.528 L23.8365 695.904 L23.8365 700.773 L11.869 691.862 Z\" fill=\"#000000\" fill-rule=\"nonzero\" fill-opacity=\"1\" /><path clip-path=\"url(#clip360)\" d=\"M42.4881 640.586 L64.0042 640.586 L64.0042 646.442 L42.679 646.442 Q37.6183 646.442 35.1038 648.416 Q32.5894 650.389 32.5894 654.336 Q32.5894 659.078 35.6131 661.815 Q38.6368 664.553 43.8567 664.553 L64.0042 664.553 L64.0042 670.441 L28.3562 670.441 L28.3562 664.553 L33.8944 664.553 Q30.6797 662.452 29.0883 659.619 Q27.4968 656.755 27.4968 653.031 Q27.4968 646.888 31.3163 643.737 Q35.1038 640.586 42.4881 640.586 Z\" fill=\"#000000\" fill-rule=\"nonzero\" fill-opacity=\"1\" /><path clip-path=\"url(#clip360)\" d=\"M67.3143 593.352 Q73.68 595.835 75.6216 598.19 Q77.5631 600.545 77.5631 604.492 L77.5631 609.171 L72.6615 609.171 L72.6615 605.733 Q72.6615 603.315 71.5157 601.978 Q70.3699 600.641 66.1048 599.018 L63.4312 597.967 L28.3562 612.386 L28.3562 606.179 L56.238 595.039 L28.3562 583.899 L28.3562 577.693 L67.3143 593.352 Z\" fill=\"#000000\" fill-rule=\"nonzero\" fill-opacity=\"1\" /><polyline clip-path=\"url(#clip362)\" style=\"stroke:#009af9; stroke-linecap:round; stroke-linejoin:round; stroke-width:12; stroke-opacity:1; fill:none\" stroke-dasharray=\"48, 30\" points=\"1366.7,586.703 1316.99,441.376 1232.9,578.874 1352.87,514.506 1575.44,474.806 1468,444.166 1270.53,474.282 1266.19,470.367 1427.94,366.664 1319.75,231.574 1271.2,207.386 1293.71,324.997 1526.18,288.424 1434.05,156.075 1513.67,292.128 1660.53,195.344 1591.51,290.047 1843.34,362.701 1746.79,501.11 1924.25,526.665 2153.54,634.194 2271.22,677.136 2137.66,759.852 2279.89,782.646 2264.74,642.612 2063.07,611.519 2292.18,704.204 2100.17,802.754 2118.52,784.529 2001.29,663.792 2217.67,749.527 \"/>\n",
       "<polyline clip-path=\"url(#clip362)\" style=\"stroke:#e26f46; stroke-linecap:round; stroke-linejoin:round; stroke-width:12; stroke-opacity:1; fill:none\" stroke-dasharray=\"48, 30\" points=\"1366.7,586.703 1351.75,488.216 1513.71,495.477 1401.59,388.287 1602.77,403.993 1398.36,305.768 1409.66,341.351 1317.81,249.652 1543.94,363.724 1321.48,330.163 1156.32,232.146 1365.2,125.951 1466.8,107.958 1447.19,250.363 1472.15,290.991 1312.87,245.345 1473.14,291.537 1381.68,157.386 1453.12,176.959 1270.31,311.226 1110.42,413.341 1130.2,367.68 1030.94,453.506 1039.92,497.619 1042.99,458.78 1251.13,569.808 1322.51,563.496 1206.79,567.061 1325.32,472.991 1381.6,533.843 1633.49,665.779 \"/>\n",
       "<polyline clip-path=\"url(#clip362)\" style=\"stroke:#3da44d; stroke-linecap:round; stroke-linejoin:round; stroke-width:12; stroke-opacity:1; fill:none\" stroke-dasharray=\"48, 30\" points=\"1366.7,586.703 1525.64,591.446 1635.95,615.395 1445.07,470.816 1651.78,456.135 1800.16,323.163 1788.71,195.069 1941.6,308.719 1884.46,432.095 1920.88,288.689 1748.56,197.845 1614.53,136.062 1675.1,175.181 1667.95,139.038 1801.22,120.173 2039.72,184.932 1790.64,86.1857 1654.6,164.357 1536.63,181.91 1323.47,241.246 1263.5,364.108 1387.86,336.553 1553.49,243.377 1585.65,265.788 1427.16,266.135 1396.15,208.807 1253.75,286.959 1343.15,236.528 1168.32,119.302 1088.69,184.369 1152.88,301.784 \"/>\n",
       "<polyline clip-path=\"url(#clip362)\" style=\"stroke:#c271d2; stroke-linecap:round; stroke-linejoin:round; stroke-width:12; stroke-opacity:1; fill:none\" stroke-dasharray=\"48, 30\" points=\"1366.7,586.703 1573.21,720.982 1569.25,616.794 1461.71,584.118 1444.4,723.563 1323.24,598.667 1484.83,534.368 1301.36,673.516 1186.99,759.06 1078.98,815.908 869.614,877.37 896.678,747.936 1142.16,874.656 969.468,913.701 809.486,1014.15 584.868,1131.87 688.739,1079.66 922.605,1127.18 1090.07,1132.22 1321.61,1260.93 1111.28,1376.33 1324.42,1250.69 1449.87,1245.85 1590.55,1212.32 1422.22,1263.02 1169.08,1384.24 1140.21,1379.74 1271.62,1362.23 1279.43,1278.51 1531.04,1156.28 1445.8,1099.86 \"/>\n",
       "<polyline clip-path=\"url(#clip362)\" style=\"stroke:#ac8d18; stroke-linecap:round; stroke-linejoin:round; stroke-width:12; stroke-opacity:1; fill:none\" stroke-dasharray=\"48, 30\" points=\"1366.7,586.703 1503.32,453.667 1748.41,536.626 1834.22,471.151 1656.06,551.529 1725.89,622.352 1542.36,565.238 1439.3,633.664 1676.69,770.096 1436.47,818.461 1413.35,865.413 1233.18,774.508 1113.54,735.685 949.91,750.101 763.142,747.759 772.004,807.402 611.544,665.544 704.842,675.782 476.763,739.411 666.244,801.325 653.211,679.711 656.426,693.082 475.105,642.482 398.195,702.871 651.292,651.712 484.691,613.047 273.033,595.448 427.127,584.783 312.311,595.199 341.986,685.736 408.825,705.724 \"/>\n",
       "<path clip-path=\"url(#clip360)\" d=\"M283.802 404.149 L551.975 404.149 L551.975 93.1086 L283.802 93.1086  Z\" fill=\"#ffffff\" fill-rule=\"evenodd\" fill-opacity=\"1\"/>\n",
       "<polyline clip-path=\"url(#clip360)\" style=\"stroke:#000000; stroke-linecap:round; stroke-linejoin:round; stroke-width:4; stroke-opacity:1; fill:none\" points=\"283.802,404.149 551.975,404.149 551.975,93.1086 283.802,93.1086 283.802,404.149 \"/>\n",
       "<polyline clip-path=\"url(#clip360)\" style=\"stroke:#009af9; stroke-linecap:round; stroke-linejoin:round; stroke-width:12; stroke-opacity:1; fill:none\" stroke-dasharray=\"48, 30\" points=\"307.583,144.949 450.27,144.949 \"/>\n",
       "<path clip-path=\"url(#clip360)\" d=\"M487.893 164.636 Q486.088 169.266 484.375 170.678 Q482.662 172.09 479.791 172.09 L476.389 172.09 L476.389 168.525 L478.889 168.525 Q480.648 168.525 481.62 167.692 Q482.592 166.858 483.773 163.756 L484.537 161.812 L474.051 136.303 L478.565 136.303 L486.666 156.581 L494.768 136.303 L499.282 136.303 L487.893 164.636 Z\" fill=\"#000000\" fill-rule=\"nonzero\" fill-opacity=\"1\" /><path clip-path=\"url(#clip360)\" d=\"M506.574 158.293 L514.213 158.293 L514.213 131.928 L505.902 133.595 L505.902 129.335 L514.166 127.669 L518.842 127.669 L518.842 158.293 L526.481 158.293 L526.481 162.229 L506.574 162.229 L506.574 158.293 Z\" fill=\"#000000\" fill-rule=\"nonzero\" fill-opacity=\"1\" /><polyline clip-path=\"url(#clip360)\" style=\"stroke:#e26f46; stroke-linecap:round; stroke-linejoin:round; stroke-width:12; stroke-opacity:1; fill:none\" stroke-dasharray=\"48, 30\" points=\"307.583,196.789 450.27,196.789 \"/>\n",
       "<path clip-path=\"url(#clip360)\" d=\"M487.893 216.476 Q486.088 221.106 484.375 222.518 Q482.662 223.93 479.791 223.93 L476.389 223.93 L476.389 220.365 L478.889 220.365 Q480.648 220.365 481.62 219.532 Q482.592 218.698 483.773 215.596 L484.537 213.652 L474.051 188.143 L478.565 188.143 L486.666 208.421 L494.768 188.143 L499.282 188.143 L487.893 216.476 Z\" fill=\"#000000\" fill-rule=\"nonzero\" fill-opacity=\"1\" /><path clip-path=\"url(#clip360)\" d=\"M509.791 210.133 L526.111 210.133 L526.111 214.069 L504.166 214.069 L504.166 210.133 Q506.828 207.379 511.412 202.749 Q516.018 198.096 517.199 196.754 Q519.444 194.231 520.324 192.495 Q521.226 190.735 521.226 189.046 Q521.226 186.291 519.282 184.555 Q517.361 182.819 514.259 182.819 Q512.06 182.819 509.606 183.583 Q507.176 184.347 504.398 185.897 L504.398 181.175 Q507.222 180.041 509.676 179.462 Q512.129 178.884 514.166 178.884 Q519.537 178.884 522.731 181.569 Q525.925 184.254 525.925 188.745 Q525.925 190.874 525.115 192.796 Q524.328 194.694 522.222 197.286 Q521.643 197.958 518.541 201.175 Q515.439 204.37 509.791 210.133 Z\" fill=\"#000000\" fill-rule=\"nonzero\" fill-opacity=\"1\" /><polyline clip-path=\"url(#clip360)\" style=\"stroke:#3da44d; stroke-linecap:round; stroke-linejoin:round; stroke-width:12; stroke-opacity:1; fill:none\" stroke-dasharray=\"48, 30\" points=\"307.583,248.629 450.27,248.629 \"/>\n",
       "<path clip-path=\"url(#clip360)\" d=\"M487.893 268.316 Q486.088 272.946 484.375 274.358 Q482.662 275.77 479.791 275.77 L476.389 275.77 L476.389 272.205 L478.889 272.205 Q480.648 272.205 481.62 271.372 Q482.592 270.538 483.773 267.436 L484.537 265.492 L474.051 239.983 L478.565 239.983 L486.666 260.261 L494.768 239.983 L499.282 239.983 L487.893 268.316 Z\" fill=\"#000000\" fill-rule=\"nonzero\" fill-opacity=\"1\" /><path clip-path=\"url(#clip360)\" d=\"M519.93 247.274 Q523.287 247.992 525.162 250.261 Q527.06 252.529 527.06 255.862 Q527.06 260.978 523.541 263.779 Q520.023 266.58 513.541 266.58 Q511.365 266.58 509.051 266.14 Q506.759 265.723 504.305 264.867 L504.305 260.353 Q506.25 261.487 508.564 262.066 Q510.879 262.645 513.402 262.645 Q517.801 262.645 520.092 260.909 Q522.407 259.173 522.407 255.862 Q522.407 252.807 520.254 251.094 Q518.125 249.358 514.305 249.358 L510.277 249.358 L510.277 245.515 L514.49 245.515 Q517.939 245.515 519.768 244.149 Q521.597 242.761 521.597 240.168 Q521.597 237.506 519.699 236.094 Q517.824 234.659 514.305 234.659 Q512.384 234.659 510.185 235.075 Q507.986 235.492 505.347 236.372 L505.347 232.205 Q508.009 231.464 510.324 231.094 Q512.662 230.724 514.722 230.724 Q520.046 230.724 523.148 233.154 Q526.25 235.562 526.25 239.682 Q526.25 242.552 524.606 244.543 Q522.963 246.511 519.93 247.274 Z\" fill=\"#000000\" fill-rule=\"nonzero\" fill-opacity=\"1\" /><polyline clip-path=\"url(#clip360)\" style=\"stroke:#c271d2; stroke-linecap:round; stroke-linejoin:round; stroke-width:12; stroke-opacity:1; fill:none\" stroke-dasharray=\"48, 30\" points=\"307.583,300.469 450.27,300.469 \"/>\n",
       "<path clip-path=\"url(#clip360)\" d=\"M487.893 320.156 Q486.088 324.786 484.375 326.198 Q482.662 327.61 479.791 327.61 L476.389 327.61 L476.389 324.045 L478.889 324.045 Q480.648 324.045 481.62 323.212 Q482.592 322.378 483.773 319.276 L484.537 317.332 L474.051 291.823 L478.565 291.823 L486.666 312.101 L494.768 291.823 L499.282 291.823 L487.893 320.156 Z\" fill=\"#000000\" fill-rule=\"nonzero\" fill-opacity=\"1\" /><path clip-path=\"url(#clip360)\" d=\"M518.611 287.263 L506.805 305.712 L518.611 305.712 L518.611 287.263 M517.384 283.189 L523.263 283.189 L523.263 305.712 L528.194 305.712 L528.194 309.601 L523.263 309.601 L523.263 317.749 L518.611 317.749 L518.611 309.601 L503.009 309.601 L503.009 305.087 L517.384 283.189 Z\" fill=\"#000000\" fill-rule=\"nonzero\" fill-opacity=\"1\" /><polyline clip-path=\"url(#clip360)\" style=\"stroke:#ac8d18; stroke-linecap:round; stroke-linejoin:round; stroke-width:12; stroke-opacity:1; fill:none\" stroke-dasharray=\"48, 30\" points=\"307.583,352.309 450.27,352.309 \"/>\n",
       "<path clip-path=\"url(#clip360)\" d=\"M487.893 371.996 Q486.088 376.626 484.375 378.038 Q482.662 379.45 479.791 379.45 L476.389 379.45 L476.389 375.885 L478.889 375.885 Q480.648 375.885 481.62 375.052 Q482.592 374.218 483.773 371.116 L484.537 369.172 L474.051 343.663 L478.565 343.663 L486.666 363.941 L494.768 343.663 L499.282 343.663 L487.893 371.996 Z\" fill=\"#000000\" fill-rule=\"nonzero\" fill-opacity=\"1\" /><path clip-path=\"url(#clip360)\" d=\"M505.81 335.029 L524.166 335.029 L524.166 338.964 L510.092 338.964 L510.092 347.436 Q511.111 347.089 512.129 346.927 Q513.148 346.742 514.166 346.742 Q519.953 346.742 523.333 349.913 Q526.713 353.084 526.713 358.501 Q526.713 364.079 523.24 367.181 Q519.768 370.26 513.449 370.26 Q511.273 370.26 509.004 369.89 Q506.759 369.519 504.352 368.778 L504.352 364.079 Q506.435 365.214 508.657 365.769 Q510.879 366.325 513.356 366.325 Q517.361 366.325 519.699 364.218 Q522.037 362.112 522.037 358.501 Q522.037 354.89 519.699 352.783 Q517.361 350.677 513.356 350.677 Q511.481 350.677 509.606 351.093 Q507.754 351.51 505.81 352.39 L505.81 335.029 Z\" fill=\"#000000\" fill-rule=\"nonzero\" fill-opacity=\"1\" /></svg>\n"
      ]
     },
     "execution_count": 56,
     "metadata": {},
     "output_type": "execute_result"
    }
   ],
   "source": [
    "begin   \n",
    "    A=caminataAleatoria2D(30)\n",
    "    B=caminataAleatoria2D(30)\n",
    "    C=caminataAleatoria2D(30)\n",
    "    D=caminataAleatoria2D(30)\n",
    "    E=caminataAleatoria2D(30)\n",
    "    graficaCaminata2D!(A,B,C,D,E)\n",
    "end"
   ]
  },
  {
   "cell_type": "markdown",
   "id": "e0a45848-31e7-4a93-b71f-25c7c18bfd63",
   "metadata": {},
   "source": [
    "**Ejercicio** Crea una función `animaCaminata2D` que\n",
    "* tome como entrada un arreglo con dos subarreglos -que, supondremos, simulan una caminata aleatoria en dos dimensiones- y \n",
    "* devuelva como salida una *animación* de la caminata. (Sugerencia: Usa tu función `graficaCaminata2D`.)"
   ]
  },
  {
   "cell_type": "code",
   "execution_count": 135,
   "id": "db12d36c-6a10-4e54-9296-cdeab3565b5a",
   "metadata": {},
   "outputs": [
    {
     "data": {
      "text/plain": [
       "2-element Vector{Vector{Any}}:\n",
       " [0, 0.875070562837277, 1.3835079961084402, 0.8452881357422328, 0.5745228483953724, 0.06055486014273104, 0.799141336612009, 1.2461190190240778, 0.6436356872684643, 1.524317964770385  …  -0.4177770072064131, -1.1413524043729686, -1.3027644842869708, -1.8201845352861277, -2.323671975530254, -1.401346725430888, -1.4216003137737923, -1.9553779226791537, -2.4260716173909698, -3.185290632960859]\n",
       " [0, 0.4449210405013415, 0.1652071291247279, -0.03253677530117627, -0.8264413400796189, -0.884066104765203, -1.8647250152976782, -2.4133955917480665, -2.7670464414826457, -3.438187112816258  …  -4.058319487839149, -4.575685731747837, -3.6418327308029523, -4.031826360021935, -3.4510873067040033, -3.4550797235713544, -4.091912377739008, -3.175746167673503, -3.1995768132515834, -2.406073251567683]"
      ]
     },
     "execution_count": 135,
     "metadata": {},
     "output_type": "execute_result"
    }
   ],
   "source": [
    "W=caminataAleatoria2D(50)"
   ]
  },
  {
   "cell_type": "code",
   "execution_count": 80,
   "id": "5d74dd2e-29cc-4625-b4c7-77b3ad86e146",
   "metadata": {},
   "outputs": [
    {
     "data": {
      "text/plain": [
       "NuMayMen (generic function with 1 method)"
      ]
     },
     "execution_count": 80,
     "metadata": {},
     "output_type": "execute_result"
    }
   ],
   "source": [
    "function NuMayMen(A1) #Aquí se define una función que devuelve el número mayor y el número menor de una arreglo. \n",
    "Numay=0 \n",
    "Numen=0\n",
    "\n",
    "for i in 1:length(A1)#Aquí se recorren todas las entradas del arreglo\n",
    "    if  Numay<A1[i] #Si se cumple esta condición, queremos que el nuevo Numay sea A1[i]\n",
    "        Numay=A1[i]  \n",
    "    end\n",
    "    if  Numen>A1[i]#Si se cumple esta condición, queremos que el nuevo Numen sea A1[i]\n",
    "        Numen=A1[i]  \n",
    "    end\n",
    "end\n",
    "    return[Numay, Numen]\n",
    "end\n"
   ]
  },
  {
   "cell_type": "code",
   "execution_count": 118,
   "id": "f09c723e-fc29-499c-9aa8-80b34952dad2",
   "metadata": {},
   "outputs": [
    {
     "data": {
      "text/plain": [
       "2-element Vector{Float64}:\n",
       "  3.7050594655896836\n",
       " -1.939194131432131"
      ]
     },
     "execution_count": 118,
     "metadata": {},
     "output_type": "execute_result"
    }
   ],
   "source": [
    "NuMayMen(w1)"
   ]
  },
  {
   "cell_type": "code",
   "execution_count": 114,
   "id": "86f63089-fad3-4337-801d-b28c6a3956d0",
   "metadata": {},
   "outputs": [
    {
     "data": {
      "text/plain": [
       "animaCaminata2D (generic function with 1 method)"
      ]
     },
     "execution_count": 114,
     "metadata": {},
     "output_type": "execute_result"
    }
   ],
   "source": [
    "function animaCaminata2D(T)\n",
    "#Aquí se definen los subarreglos\n",
    "    T1=T[1]\n",
    "    T2=T[2]\n",
    "#Aquí se calculan los números mayores y menores de cada arreglo para fijar los ejes de la grafica y que \n",
    "#se puedan ver todos los puntos.\n",
    "    May1=NuMayMen(T1)[1]\n",
    "    Men1=NuMayMen(T1)[2]\n",
    "    May2=NuMayMen(T2)[1]\n",
    "    Men2=NuMayMen(T2)[2]\n",
    "\n",
    "#Aquí se calcula la dimensión de los subarreglos.\n",
    "NP=length(T1)\n",
    "#Aquí se guardaran parcialmente los elementos de los subarreglos.\n",
    "List=[] \n",
    "NumPa=[]\n",
    "\n",
    "\n",
    "anima = @animate for t in 1:NP # Por cada t ∈ 0:0.1:2π,\n",
    "    #Aquí se agregan las primeras t entrdas a los subarreglos para ser graficados.\n",
    "    push!(List, T1[t] )\n",
    "    push!(NumPa, T2[t] )                               \n",
    "    #Aquí se grafica la partícula\n",
    "    plot( List , NumPa,legend = false, title = \"Caminata aleatoria en 2D\", linewidth = 1, linestyle = :dash) #Aquí se grafica la línea punteada\n",
    "    scatter!([T1[t]],[T2[t]],color=\"blue\")#Aquí se grafica la partícula para distinguir en que posición va.\n",
    "  xlabel!(\"Posición x\")\n",
    "  ylabel!(\"Posición y\")\n",
    "#Aquí se fijan los ejes con los números mayores y menores de los subarreglos.\n",
    "  xlims!(Men1-0.5,May1+0.5) \n",
    "  ylims!(Men2-0.5,May2+0.5)\n",
    "\n",
    "  end\n",
    "\n",
    "gif(anima, \"Caminata aleatoria en 2D.gif\", fps = 5)\n",
    "end"
   ]
  },
  {
   "cell_type": "code",
   "execution_count": 131,
   "id": "620ed866-b874-4d4c-811e-47f8ad08711f",
   "metadata": {},
   "outputs": [
    {
     "name": "stderr",
     "output_type": "stream",
     "text": [
      "\u001b[36m\u001b[1m[ \u001b[22m\u001b[39m\u001b[36m\u001b[1mInfo: \u001b[22m\u001b[39mSaved animation to /home/paws/Caminata aleatoria en 2D.gif\n"
     ]
    },
    {
     "data": {
      "text/html": [
       "<img src=\"data:image/gif;base64,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\" />"
      ],
      "text/plain": [
       "Plots.AnimatedGif(\"/home/paws/Caminata aleatoria en 2D.gif\")"
      ]
     },
     "execution_count": 131,
     "metadata": {},
     "output_type": "execute_result"
    }
   ],
   "source": [
    "animaCaminata2D(W)"
   ]
  },
  {
   "cell_type": "markdown",
   "id": "738009d4-c53b-4166-bd42-c6901a8391d7",
   "metadata": {},
   "source": [
    "**Ejercicio** ¡Haz una caminata aleatoria en tres dimensiones espaciales y grafícala! (Así se modelan, por ejemplo, las partículas en un gas)."
   ]
  },
  {
   "cell_type": "code",
   "execution_count": 120,
   "id": "1fcbc5d7-1378-412d-8096-87b6714c8e9d",
   "metadata": {},
   "outputs": [
    {
     "data": {
      "text/plain": [
       "caminataAleatoria3D (generic function with 1 method)"
      ]
     },
     "execution_count": 120,
     "metadata": {},
     "output_type": "execute_result"
    }
   ],
   "source": [
    "function caminataAleatoria3D(N2)\n",
    "    #Aqui se define los tres primeros subarreglos\n",
    "    CX=[]\n",
    "    CY=[]\n",
    "    CZ=[]\n",
    "    #Aqui se pone que la particula inicia en el origen.\n",
    "    push!(CX, 0 )\n",
    "    push!(CY, 0 )\n",
    "    push!(CZ, 0 )\n",
    "    for i in 2:N2+1 #Aquí se van a agegar N2 entradas a los subarreglos, contando el cero.\n",
    "        #Aqui se le suma \"aleatorioUniforme(-1,1)\" al paso anterior que dio la partícula en cada subarreglo.\n",
    "        push!(CX, CX[i-1]+ aleatorioUniforme(-1,1) )\n",
    "        push!(CY, CY[i-1]+ aleatorioUniforme(-1,1) )\n",
    "        push!(CZ, CZ[i-1]+ aleatorioUniforme(-1,1) )\n",
    "    end\n",
    "    return [CX,CY,CZ]\n",
    "\n",
    "end"
   ]
  },
  {
   "cell_type": "code",
   "execution_count": 126,
   "id": "6face442-fe38-4c28-9f85-5258d173c886",
   "metadata": {},
   "outputs": [
    {
     "data": {
      "text/plain": [
       "3-element Vector{Vector{Any}}:\n",
       " [0, 0.7612754490999643, 0.5987836912721973, 1.4324927958699456, 0.7184689471667041, 0.8483729965696158, 0.9961305162383389, 1.8569725529061945, 1.3355939742532439, 0.9770720564361557  …  -5.876280530520593, -5.631508041368803, -5.40171871730385, -4.440232627663299, -4.95290849614265, -4.648925574917001, -4.39136353863265, -5.155932353596449, -4.48028219299265, -4.739899434740148]\n",
       " [0, -0.5899624176050786, -0.2800923701567415, -0.9335982236410285, -0.3617854666300653, -1.3424680860385396, -1.1478341683998696, -2.055982096091249, -2.783097045105249, -2.012831570615049  …  -0.2554608354960102, -0.8601895026047215, -1.340730678479658, -2.0070944510478013, -2.8959261497688855, -3.069940513386805, -3.3569045953289294, -3.807202602490059, -3.2723774470192373, -3.2739061884667775]\n",
       " [0, 0.8960219413089456, 1.670908947128991, 1.2702596922936409, 1.2134862838933207, 1.0799442290002497, 1.3158422453884067, 1.3777076214641037, 1.4923573243493256, 0.9441212606279519  …  2.628314506956615, 2.272343019742252, 2.581944652166711, 1.9389616917695165, 1.614419677108739, 2.1992368055569704, 1.5524850158596064, 1.3472601159912008, 0.4997291550455947, 0.8203243918890051]"
      ]
     },
     "execution_count": 126,
     "metadata": {},
     "output_type": "execute_result"
    }
   ],
   "source": [
    "XYZ=caminataAleatoria3D(50)"
   ]
  },
  {
   "cell_type": "code",
   "execution_count": 128,
   "id": "13fb5251-0558-46df-a183-b3a638004fc5",
   "metadata": {},
   "outputs": [
    {
     "data": {
      "text/plain": [
       "graficaCaminata3D (generic function with 1 method)"
      ]
     },
     "execution_count": 128,
     "metadata": {},
     "output_type": "execute_result"
    }
   ],
   "source": [
    "function graficaCaminata3D(T1,T2,T3)\n",
    "    \n",
    "    plot(T1,T2, T3, linewidth = 1, linestyle = :dash) #Aquí se grafica la línea punteada.\n",
    "    scatter!([T1[1]],[T2[1]],[T3[1]],color=\"blue\") #Aquí se grafica el punto inicial.\n",
    "    scatter!([T1[length(T1)]],[T2[length(T2)]],[T3[length(T3)]],color=\"red\") #Aquí se grafica el punto final.\n",
    "    xlabel!(\"Posición x\")\n",
    "    ylabel!(\"Posición y\")\n",
    "    zlabel!(\"Posición z\")\n",
    "\n",
    "end"
   ]
  },
  {
   "cell_type": "code",
   "execution_count": 129,
   "id": "b78c1ff0-c006-4400-8953-cc85c4f1e1fa",
   "metadata": {},
   "outputs": [
    {
     "data": {
      "image/svg+xml": [
       "<?xml version=\"1.0\" encoding=\"utf-8\"?>\n",
       "<svg xmlns=\"http://www.w3.org/2000/svg\" xmlns:xlink=\"http://www.w3.org/1999/xlink\" width=\"600\" height=\"400\" viewBox=\"0 0 2400 1600\">\n",
       "<defs>\n",
       "  <clipPath id=\"clip670\">\n",
       "    <rect x=\"0\" y=\"0\" width=\"2400\" height=\"1600\"/>\n",
       "  </clipPath>\n",
       "</defs>\n",
       "<path clip-path=\"url(#clip670)\" d=\"M0 1600 L2400 1600 L2400 0 L0 0  Z\" fill=\"#ffffff\" fill-rule=\"evenodd\" fill-opacity=\"1\"/>\n",
       "<defs>\n",
       "  <clipPath id=\"clip671\">\n",
       "    <rect x=\"480\" y=\"0\" width=\"1681\" height=\"1600\"/>\n",
       "  </clipPath>\n",
       "</defs>\n",
       "<defs>\n",
       "  <clipPath id=\"clip672\">\n",
       "    <rect x=\"210\" y=\"47\" width=\"2143\" height=\"1377\"/>\n",
       "  </clipPath>\n",
       "</defs>\n",
       "<path clip-path=\"url(#clip672)\" d=\"M1741.9 295.274 L1741.9 -0.640544 L1828.23 -148.598 L1977.77 -63.1746 L1977.77 232.74 L1891.44 380.697 L1741.9 295.274  Z\" fill=\"#ffffff\" fill-rule=\"evenodd\" fill-opacity=\"1\"/>\n",
       "<polyline clip-path=\"url(#clip672)\" style=\"stroke:#000000; stroke-linecap:round; stroke-linejoin:round; stroke-width:2; stroke-opacity:0.1; fill:none\" points=\"820.203,1175.28 1217.4,831.297 1217.4,143.329 \"/>\n",
       "<polyline clip-path=\"url(#clip672)\" style=\"stroke:#000000; stroke-linecap:round; stroke-linejoin:round; stroke-width:2; stroke-opacity:0.1; fill:none\" points=\"969.742,1218.45 1366.94,874.465 1366.94,186.498 \"/>\n",
       "<polyline clip-path=\"url(#clip672)\" style=\"stroke:#000000; stroke-linecap:round; stroke-linejoin:round; stroke-width:2; stroke-opacity:0.1; fill:none\" points=\"1119.28,1261.62 1516.48,917.634 1516.48,229.666 \"/>\n",
       "<polyline clip-path=\"url(#clip672)\" style=\"stroke:#000000; stroke-linecap:round; stroke-linejoin:round; stroke-width:2; stroke-opacity:0.1; fill:none\" points=\"1268.82,1304.79 1666.02,960.802 1666.02,272.834 \"/>\n",
       "<polyline clip-path=\"url(#clip672)\" style=\"stroke:#000000; stroke-linecap:round; stroke-linejoin:round; stroke-width:2; stroke-opacity:0.1; fill:none\" points=\"1418.36,1347.95 1815.56,1003.97 1815.56,316.002 \"/>\n",
       "<polyline clip-path=\"url(#clip670)\" style=\"stroke:#000000; stroke-linecap:round; stroke-linejoin:round; stroke-width:4; stroke-opacity:1; fill:none\" points=\"739.168,1151.89 1427.14,1350.49 \"/>\n",
       "<polyline clip-path=\"url(#clip670)\" style=\"stroke:#000000; stroke-linecap:round; stroke-linejoin:round; stroke-width:4; stroke-opacity:1; fill:none\" points=\"820.203,1175.28 824.97,1171.15 \"/>\n",
       "<polyline clip-path=\"url(#clip670)\" style=\"stroke:#000000; stroke-linecap:round; stroke-linejoin:round; stroke-width:4; stroke-opacity:1; fill:none\" points=\"969.742,1218.45 974.509,1214.32 \"/>\n",
       "<polyline clip-path=\"url(#clip670)\" style=\"stroke:#000000; stroke-linecap:round; stroke-linejoin:round; stroke-width:4; stroke-opacity:1; fill:none\" points=\"1119.28,1261.62 1124.05,1257.49 \"/>\n",
       "<polyline clip-path=\"url(#clip670)\" style=\"stroke:#000000; stroke-linecap:round; stroke-linejoin:round; stroke-width:4; stroke-opacity:1; fill:none\" points=\"1268.82,1304.79 1273.59,1300.66 \"/>\n",
       "<polyline clip-path=\"url(#clip670)\" style=\"stroke:#000000; stroke-linecap:round; stroke-linejoin:round; stroke-width:4; stroke-opacity:1; fill:none\" points=\"1418.36,1347.95 1423.13,1343.83 \"/>\n",
       "<path clip-path=\"url(#clip670)\" d=\"M744.043 1200.74 L773.719 1200.74 L773.719 1204.68 L744.043 1204.68 L744.043 1200.74 Z\" fill=\"#000000\" fill-rule=\"nonzero\" fill-opacity=\"1\" /><path clip-path=\"url(#clip670)\" d=\"M794.39 1198.43 Q791.242 1198.43 789.39 1200.58 Q787.562 1202.73 787.562 1206.48 Q787.562 1210.21 789.39 1212.38 Q791.242 1214.54 794.39 1214.54 Q797.538 1214.54 799.367 1212.38 Q801.219 1210.21 801.219 1206.48 Q801.219 1202.73 799.367 1200.58 Q797.538 1198.43 794.39 1198.43 M803.673 1183.77 L803.673 1188.03 Q801.913 1187.2 800.108 1186.76 Q798.325 1186.32 796.566 1186.32 Q791.936 1186.32 789.483 1189.44 Q787.052 1192.57 786.705 1198.89 Q788.071 1196.87 790.131 1195.81 Q792.191 1194.72 794.668 1194.72 Q799.876 1194.72 802.886 1197.89 Q805.918 1201.04 805.918 1206.48 Q805.918 1211.8 802.77 1215.02 Q799.622 1218.24 794.39 1218.24 Q788.395 1218.24 785.224 1213.66 Q782.052 1209.05 782.052 1200.32 Q782.052 1192.13 785.941 1187.27 Q789.83 1182.38 796.381 1182.38 Q798.14 1182.38 799.923 1182.73 Q801.728 1183.08 803.673 1183.77 Z\" fill=\"#000000\" fill-rule=\"nonzero\" fill-opacity=\"1\" /><path clip-path=\"url(#clip670)\" d=\"M893.258 1243.91 L922.934 1243.91 L922.934 1247.84 L893.258 1247.84 L893.258 1243.91 Z\" fill=\"#000000\" fill-rule=\"nonzero\" fill-opacity=\"1\" /><path clip-path=\"url(#clip670)\" d=\"M945.874 1230.25 L934.068 1248.7 L945.874 1248.7 L945.874 1230.25 M944.647 1226.18 L950.526 1226.18 L950.526 1248.7 L955.457 1248.7 L955.457 1252.59 L950.526 1252.59 L950.526 1260.74 L945.874 1260.74 L945.874 1252.59 L930.272 1252.59 L930.272 1248.07 L944.647 1226.18 Z\" fill=\"#000000\" fill-rule=\"nonzero\" fill-opacity=\"1\" /><path clip-path=\"url(#clip670)\" d=\"M1044.88 1287.08 L1074.56 1287.08 L1074.56 1291.01 L1044.88 1291.01 L1044.88 1287.08 Z\" fill=\"#000000\" fill-rule=\"nonzero\" fill-opacity=\"1\" /><path clip-path=\"url(#clip670)\" d=\"M1088.68 1299.97 L1105 1299.97 L1105 1303.9 L1083.05 1303.9 L1083.05 1299.97 Q1085.71 1297.22 1090.3 1292.59 Q1094.9 1287.93 1096.08 1286.59 Q1098.33 1284.07 1099.21 1282.33 Q1100.11 1280.57 1100.11 1278.88 Q1100.11 1276.13 1098.17 1274.39 Q1096.25 1272.66 1093.14 1272.66 Q1090.94 1272.66 1088.49 1273.42 Q1086.06 1274.18 1083.28 1275.73 L1083.28 1271.01 Q1086.11 1269.88 1088.56 1269.3 Q1091.01 1268.72 1093.05 1268.72 Q1098.42 1268.72 1101.62 1271.41 Q1104.81 1274.09 1104.81 1278.58 Q1104.81 1280.71 1104 1282.63 Q1103.21 1284.53 1101.11 1287.12 Q1100.53 1287.79 1097.43 1291.01 Q1094.32 1294.21 1088.68 1299.97 Z\" fill=\"#000000\" fill-rule=\"nonzero\" fill-opacity=\"1\" /><path clip-path=\"url(#clip670)\" d=\"M1242.59 1315.59 Q1238.98 1315.59 1237.15 1319.16 Q1235.34 1322.7 1235.34 1329.83 Q1235.34 1336.93 1237.15 1340.5 Q1238.98 1344.04 1242.59 1344.04 Q1246.22 1344.04 1248.03 1340.5 Q1249.86 1336.93 1249.86 1329.83 Q1249.86 1322.7 1248.03 1319.16 Q1246.22 1315.59 1242.59 1315.59 M1242.59 1311.89 Q1248.4 1311.89 1251.46 1316.49 Q1254.53 1321.08 1254.53 1329.83 Q1254.53 1338.55 1251.46 1343.16 Q1248.4 1347.74 1242.59 1347.74 Q1236.78 1347.74 1233.7 1343.16 Q1230.65 1338.55 1230.65 1329.83 Q1230.65 1321.08 1233.7 1316.49 Q1236.78 1311.89 1242.59 1311.89 Z\" fill=\"#000000\" fill-rule=\"nonzero\" fill-opacity=\"1\" /><path clip-path=\"url(#clip670)\" d=\"M1387.75 1386.31 L1404.07 1386.31 L1404.07 1390.24 L1382.13 1390.24 L1382.13 1386.31 Q1384.79 1383.55 1389.37 1378.92 Q1393.98 1374.27 1395.16 1372.93 Q1397.41 1370.4 1398.29 1368.67 Q1399.19 1366.91 1399.19 1365.22 Q1399.19 1362.46 1397.24 1360.73 Q1395.32 1358.99 1392.22 1358.99 Q1390.02 1358.99 1387.57 1359.76 Q1385.14 1360.52 1382.36 1362.07 L1382.36 1357.35 Q1385.18 1356.21 1387.64 1355.63 Q1390.09 1355.06 1392.13 1355.06 Q1397.5 1355.06 1400.69 1357.74 Q1403.89 1360.43 1403.89 1364.92 Q1403.89 1367.05 1403.08 1368.97 Q1402.29 1370.87 1400.18 1373.46 Q1399.61 1374.13 1396.5 1377.35 Q1393.4 1380.54 1387.75 1386.31 Z\" fill=\"#000000\" fill-rule=\"nonzero\" fill-opacity=\"1\" /><path clip-path=\"url(#clip670)\" d=\"M809.037 1389.1 L809.037 1406.95 L817.122 1406.95 Q821.609 1406.95 824.06 1404.63 Q826.511 1402.3 826.511 1398.01 Q826.511 1393.74 824.06 1391.42 Q821.609 1389.1 817.122 1389.1 L809.037 1389.1 M802.608 1383.81 L817.122 1383.81 Q825.111 1383.81 829.185 1387.44 Q833.29 1391.04 833.29 1398.01 Q833.29 1405.04 829.185 1408.64 Q825.111 1412.23 817.122 1412.23 L809.037 1412.23 L809.037 1431.33 L802.608 1431.33 L802.608 1383.81 Z\" fill=\"#000000\" fill-rule=\"nonzero\" fill-opacity=\"1\" /><path clip-path=\"url(#clip670)\" d=\"M853.151 1399.79 Q848.441 1399.79 845.704 1403.48 Q842.966 1407.14 842.966 1413.54 Q842.966 1419.94 845.672 1423.63 Q848.409 1427.29 853.151 1427.29 Q857.83 1427.29 860.568 1423.6 Q863.305 1419.91 863.305 1413.54 Q863.305 1407.21 860.568 1403.51 Q857.83 1399.79 853.151 1399.79 M853.151 1394.82 Q860.79 1394.82 865.151 1399.79 Q869.511 1404.76 869.511 1413.54 Q869.511 1422.29 865.151 1427.29 Q860.79 1432.25 853.151 1432.25 Q845.481 1432.25 841.12 1427.29 Q836.792 1422.29 836.792 1413.54 Q836.792 1404.76 841.12 1399.79 Q845.481 1394.82 853.151 1394.82 Z\" fill=\"#000000\" fill-rule=\"nonzero\" fill-opacity=\"1\" /><path clip-path=\"url(#clip670)\" d=\"M901.945 1396.73 L901.945 1402.27 Q899.462 1401 896.788 1400.36 Q894.115 1399.73 891.25 1399.73 Q886.89 1399.73 884.694 1401.06 Q882.529 1402.4 882.529 1405.07 Q882.529 1407.11 884.089 1408.29 Q885.648 1409.43 890.359 1410.48 L892.364 1410.93 Q898.603 1412.27 901.213 1414.72 Q903.854 1417.14 903.854 1421.5 Q903.854 1426.46 899.908 1429.36 Q895.993 1432.25 889.118 1432.25 Q886.253 1432.25 883.134 1431.68 Q880.047 1431.14 876.609 1430.03 L876.609 1423.98 Q879.856 1425.67 883.007 1426.53 Q886.158 1427.35 889.245 1427.35 Q893.383 1427.35 895.611 1425.95 Q897.839 1424.52 897.839 1421.94 Q897.839 1419.56 896.215 1418.28 Q894.624 1417.01 889.181 1415.83 L887.144 1415.35 Q881.702 1414.21 879.283 1411.85 Q876.864 1409.47 876.864 1405.33 Q876.864 1400.3 880.429 1397.56 Q883.993 1394.82 890.55 1394.82 Q893.797 1394.82 896.661 1395.3 Q899.526 1395.78 901.945 1396.73 Z\" fill=\"#000000\" fill-rule=\"nonzero\" fill-opacity=\"1\" /><path clip-path=\"url(#clip670)\" d=\"M913.18 1395.68 L919.037 1395.68 L919.037 1431.33 L913.18 1431.33 L913.18 1395.68 M913.18 1381.81 L919.037 1381.81 L919.037 1389.22 L913.18 1389.22 L913.18 1381.81 Z\" fill=\"#000000\" fill-rule=\"nonzero\" fill-opacity=\"1\" /><path clip-path=\"url(#clip670)\" d=\"M956.944 1397.05 L956.944 1402.53 Q954.462 1401.16 951.947 1400.49 Q949.465 1399.79 946.918 1399.79 Q941.221 1399.79 938.07 1403.42 Q934.919 1407.01 934.919 1413.54 Q934.919 1420.06 938.07 1423.69 Q941.221 1427.29 946.918 1427.29 Q949.465 1427.29 951.947 1426.62 Q954.462 1425.92 956.944 1424.55 L956.944 1429.96 Q954.494 1431.11 951.852 1431.68 Q949.242 1432.25 946.282 1432.25 Q938.229 1432.25 933.487 1427.19 Q928.744 1422.13 928.744 1413.54 Q928.744 1404.82 933.519 1399.82 Q938.325 1394.82 946.664 1394.82 Q949.369 1394.82 951.947 1395.4 Q954.525 1395.94 956.944 1397.05 Z\" fill=\"#000000\" fill-rule=\"nonzero\" fill-opacity=\"1\" /><path clip-path=\"url(#clip670)\" d=\"M967.129 1395.68 L972.986 1395.68 L972.986 1431.33 L967.129 1431.33 L967.129 1395.68 M967.129 1381.81 L972.986 1381.81 L972.986 1389.22 L967.129 1389.22 L967.129 1381.81 Z\" fill=\"#000000\" fill-rule=\"nonzero\" fill-opacity=\"1\" /><path clip-path=\"url(#clip670)\" d=\"M999.053 1399.79 Q994.343 1399.79 991.606 1403.48 Q988.868 1407.14 988.868 1413.54 Q988.868 1419.94 991.574 1423.63 Q994.311 1427.29 999.053 1427.29 Q1003.73 1427.29 1006.47 1423.6 Q1009.21 1419.91 1009.21 1413.54 Q1009.21 1407.21 1006.47 1403.51 Q1003.73 1399.79 999.053 1399.79 M999.053 1394.82 Q1006.69 1394.82 1011.05 1399.79 Q1015.41 1404.76 1015.41 1413.54 Q1015.41 1422.29 1011.05 1427.29 Q1006.69 1432.25 999.053 1432.25 Q991.383 1432.25 987.022 1427.29 Q982.694 1422.29 982.694 1413.54 Q982.694 1404.76 987.022 1399.79 Q991.383 1394.82 999.053 1394.82 M1003.48 1379.2 L1009.81 1379.2 L999.435 1391.16 L994.566 1391.16 L1003.48 1379.2 Z\" fill=\"#000000\" fill-rule=\"nonzero\" fill-opacity=\"1\" /><path clip-path=\"url(#clip670)\" d=\"M1054.75 1409.82 L1054.75 1431.33 L1048.9 1431.33 L1048.9 1410.01 Q1048.9 1404.95 1046.92 1402.43 Q1044.95 1399.92 1041 1399.92 Q1036.26 1399.92 1033.52 1402.94 Q1030.79 1405.96 1030.79 1411.18 L1030.79 1431.33 L1024.9 1431.33 L1024.9 1395.68 L1030.79 1395.68 L1030.79 1401.22 Q1032.89 1398.01 1035.72 1396.42 Q1038.58 1394.82 1042.31 1394.82 Q1048.45 1394.82 1051.6 1398.64 Q1054.75 1402.43 1054.75 1409.82 Z\" fill=\"#000000\" fill-rule=\"nonzero\" fill-opacity=\"1\" /><path clip-path=\"url(#clip670)\" d=\"M1116.79 1395.68 L1103.9 1413.03 L1117.46 1431.33 L1110.55 1431.33 L1100.17 1417.33 L1089.8 1431.33 L1082.89 1431.33 L1096.74 1412.68 L1084.07 1395.68 L1090.97 1395.68 L1100.43 1408.38 L1109.88 1395.68 L1116.79 1395.68 Z\" fill=\"#000000\" fill-rule=\"nonzero\" fill-opacity=\"1\" /><polyline clip-path=\"url(#clip672)\" style=\"stroke:#000000; stroke-linecap:round; stroke-linejoin:round; stroke-width:2; stroke-opacity:0.1; fill:none\" points=\"1462.78,1319.62 774.811,1121.02 774.811,433.052 \"/>\n",
       "<polyline clip-path=\"url(#clip672)\" style=\"stroke:#000000; stroke-linecap:round; stroke-linejoin:round; stroke-width:2; stroke-opacity:0.1; fill:none\" points=\"1548.2,1245.64 860.234,1047.04 860.234,359.074 \"/>\n",
       "<polyline clip-path=\"url(#clip672)\" style=\"stroke:#000000; stroke-linecap:round; stroke-linejoin:round; stroke-width:2; stroke-opacity:0.1; fill:none\" points=\"1633.63,1171.66 945.658,973.063 945.658,285.095 \"/>\n",
       "<polyline clip-path=\"url(#clip672)\" style=\"stroke:#000000; stroke-linecap:round; stroke-linejoin:round; stroke-width:2; stroke-opacity:0.1; fill:none\" points=\"1719.05,1097.68 1031.08,899.084 1031.08,211.116 \"/>\n",
       "<polyline clip-path=\"url(#clip672)\" style=\"stroke:#000000; stroke-linecap:round; stroke-linejoin:round; stroke-width:2; stroke-opacity:0.1; fill:none\" points=\"1804.47,1023.7 1116.5,825.106 1116.5,137.138 \"/>\n",
       "<polyline clip-path=\"url(#clip670)\" style=\"stroke:#000000; stroke-linecap:round; stroke-linejoin:round; stroke-width:4; stroke-opacity:1; fill:none\" points=\"1427.14,1350.49 1824.33,1006.5 \"/>\n",
       "<polyline clip-path=\"url(#clip670)\" style=\"stroke:#000000; stroke-linecap:round; stroke-linejoin:round; stroke-width:4; stroke-opacity:1; fill:none\" points=\"1462.78,1319.62 1454.52,1317.24 \"/>\n",
       "<polyline clip-path=\"url(#clip670)\" style=\"stroke:#000000; stroke-linecap:round; stroke-linejoin:round; stroke-width:4; stroke-opacity:1; fill:none\" points=\"1548.2,1245.64 1539.95,1243.26 \"/>\n",
       "<polyline clip-path=\"url(#clip670)\" style=\"stroke:#000000; stroke-linecap:round; stroke-linejoin:round; stroke-width:4; stroke-opacity:1; fill:none\" points=\"1633.63,1171.66 1625.37,1169.28 \"/>\n",
       "<polyline clip-path=\"url(#clip670)\" style=\"stroke:#000000; stroke-linecap:round; stroke-linejoin:round; stroke-width:4; stroke-opacity:1; fill:none\" points=\"1719.05,1097.68 1710.79,1095.3 \"/>\n",
       "<polyline clip-path=\"url(#clip670)\" style=\"stroke:#000000; stroke-linecap:round; stroke-linejoin:round; stroke-width:4; stroke-opacity:1; fill:none\" points=\"1804.47,1023.7 1796.22,1021.32 \"/>\n",
       "<path clip-path=\"url(#clip670)\" d=\"M1487.65 1334.59 L1517.33 1334.59 L1517.33 1338.52 L1487.65 1338.52 L1487.65 1334.59 Z\" fill=\"#000000\" fill-rule=\"nonzero\" fill-opacity=\"1\" /><path clip-path=\"url(#clip670)\" d=\"M1540.27 1320.93 L1528.46 1339.38 L1540.27 1339.38 L1540.27 1320.93 M1539.04 1316.85 L1544.92 1316.85 L1544.92 1339.38 L1549.85 1339.38 L1549.85 1343.27 L1544.92 1343.27 L1544.92 1351.41 L1540.27 1351.41 L1540.27 1343.27 L1524.67 1343.27 L1524.67 1338.75 L1539.04 1316.85 Z\" fill=\"#000000\" fill-rule=\"nonzero\" fill-opacity=\"1\" /><path clip-path=\"url(#clip670)\" d=\"M1573.08 1260.61 L1602.75 1260.61 L1602.75 1264.54 L1573.08 1264.54 L1573.08 1260.61 Z\" fill=\"#000000\" fill-rule=\"nonzero\" fill-opacity=\"1\" /><path clip-path=\"url(#clip670)\" d=\"M1627.01 1258.8 Q1630.37 1259.52 1632.24 1261.79 Q1634.14 1264.06 1634.14 1267.39 Q1634.14 1272.51 1630.62 1275.31 Q1627.1 1278.11 1620.62 1278.11 Q1618.45 1278.11 1616.13 1277.67 Q1613.84 1277.25 1611.39 1276.39 L1611.39 1271.88 Q1613.33 1273.01 1615.65 1273.59 Q1617.96 1274.17 1620.48 1274.17 Q1624.88 1274.17 1627.17 1272.44 Q1629.49 1270.7 1629.49 1267.39 Q1629.49 1264.33 1627.34 1262.62 Q1625.21 1260.88 1621.39 1260.88 L1617.36 1260.88 L1617.36 1257.04 L1621.57 1257.04 Q1625.02 1257.04 1626.85 1255.68 Q1628.68 1254.29 1628.68 1251.7 Q1628.68 1249.03 1626.78 1247.62 Q1624.91 1246.19 1621.39 1246.19 Q1619.47 1246.19 1617.27 1246.6 Q1615.07 1247.02 1612.43 1247.9 L1612.43 1243.73 Q1615.09 1242.99 1617.41 1242.62 Q1619.74 1242.25 1621.8 1242.25 Q1627.13 1242.25 1630.23 1244.68 Q1633.33 1247.09 1633.33 1251.21 Q1633.33 1254.08 1631.69 1256.07 Q1630.04 1258.04 1627.01 1258.8 Z\" fill=\"#000000\" fill-rule=\"nonzero\" fill-opacity=\"1\" /><path clip-path=\"url(#clip670)\" d=\"M1658.5 1186.63 L1688.18 1186.63 L1688.18 1190.56 L1658.5 1190.56 L1658.5 1186.63 Z\" fill=\"#000000\" fill-rule=\"nonzero\" fill-opacity=\"1\" /><path clip-path=\"url(#clip670)\" d=\"M1702.3 1199.52 L1718.62 1199.52 L1718.62 1203.46 L1696.67 1203.46 L1696.67 1199.52 Q1699.33 1196.77 1703.92 1192.14 Q1708.52 1187.48 1709.7 1186.14 Q1711.95 1183.62 1712.83 1181.88 Q1713.73 1180.12 1713.73 1178.43 Q1713.73 1175.68 1711.79 1173.94 Q1709.87 1172.21 1706.76 1172.21 Q1704.56 1172.21 1702.11 1172.97 Q1699.68 1173.74 1696.9 1175.29 L1696.9 1170.56 Q1699.73 1169.43 1702.18 1168.85 Q1704.63 1168.27 1706.67 1168.27 Q1712.04 1168.27 1715.24 1170.96 Q1718.43 1173.64 1718.43 1178.13 Q1718.43 1180.26 1717.62 1182.18 Q1716.83 1184.08 1714.73 1186.67 Q1714.15 1187.35 1711.05 1190.56 Q1707.94 1193.76 1702.3 1199.52 Z\" fill=\"#000000\" fill-rule=\"nonzero\" fill-opacity=\"1\" /><path clip-path=\"url(#clip670)\" d=\"M1743.92 1112.65 L1773.6 1112.65 L1773.6 1116.59 L1743.92 1116.59 L1743.92 1112.65 Z\" fill=\"#000000\" fill-rule=\"nonzero\" fill-opacity=\"1\" /><path clip-path=\"url(#clip670)\" d=\"M1784.5 1125.54 L1792.14 1125.54 L1792.14 1099.18 L1783.83 1100.84 L1783.83 1096.59 L1792.09 1094.92 L1796.77 1094.92 L1796.77 1125.54 L1804.41 1125.54 L1804.41 1129.48 L1784.5 1129.48 L1784.5 1125.54 Z\" fill=\"#000000\" fill-rule=\"nonzero\" fill-opacity=\"1\" /><path clip-path=\"url(#clip670)\" d=\"M1841.29 1024.02 Q1837.68 1024.02 1835.85 1027.58 Q1834.05 1031.13 1834.05 1038.25 Q1834.05 1045.36 1835.85 1048.93 Q1837.68 1052.47 1841.29 1052.47 Q1844.93 1052.47 1846.73 1048.93 Q1848.56 1045.36 1848.56 1038.25 Q1848.56 1031.13 1846.73 1027.58 Q1844.93 1024.02 1841.29 1024.02 M1841.29 1020.31 Q1847.1 1020.31 1850.16 1024.92 Q1853.24 1029.5 1853.24 1038.25 Q1853.24 1046.98 1850.16 1051.59 Q1847.1 1056.17 1841.29 1056.17 Q1835.48 1056.17 1832.4 1051.59 Q1829.35 1046.98 1829.35 1038.25 Q1829.35 1029.5 1832.4 1024.92 Q1835.48 1020.31 1841.29 1020.31 Z\" fill=\"#000000\" fill-rule=\"nonzero\" fill-opacity=\"1\" /><path clip-path=\"url(#clip670)\" d=\"M1597.76 1316.4 L1597.76 1334.26 L1605.85 1334.26 Q1610.34 1334.26 1612.79 1331.94 Q1615.24 1329.61 1615.24 1325.32 Q1615.24 1321.05 1612.79 1318.73 Q1610.34 1316.4 1605.85 1316.4 L1597.76 1316.4 M1591.34 1311.12 L1605.85 1311.12 Q1613.84 1311.12 1617.91 1314.75 Q1622.02 1318.34 1622.02 1325.32 Q1622.02 1332.35 1617.91 1335.95 Q1613.84 1339.54 1605.85 1339.54 L1597.76 1339.54 L1597.76 1358.64 L1591.34 1358.64 L1591.34 1311.12 Z\" fill=\"#000000\" fill-rule=\"nonzero\" fill-opacity=\"1\" /><path clip-path=\"url(#clip670)\" d=\"M1641.88 1327.1 Q1637.17 1327.1 1634.43 1330.79 Q1631.69 1334.45 1631.69 1340.85 Q1631.69 1347.24 1634.4 1350.94 Q1637.14 1354.6 1641.88 1354.6 Q1646.56 1354.6 1649.3 1350.91 Q1652.03 1347.21 1652.03 1340.85 Q1652.03 1334.51 1649.3 1330.82 Q1646.56 1327.1 1641.88 1327.1 M1641.88 1322.13 Q1649.52 1322.13 1653.88 1327.1 Q1658.24 1332.06 1658.24 1340.85 Q1658.24 1349.6 1653.88 1354.6 Q1649.52 1359.56 1641.88 1359.56 Q1634.21 1359.56 1629.85 1354.6 Q1625.52 1349.6 1625.52 1340.85 Q1625.52 1332.06 1629.85 1327.1 Q1634.21 1322.13 1641.88 1322.13 Z\" fill=\"#000000\" fill-rule=\"nonzero\" fill-opacity=\"1\" /><path clip-path=\"url(#clip670)\" d=\"M1690.67 1324.04 L1690.67 1329.58 Q1688.19 1328.31 1685.52 1327.67 Q1682.84 1327.03 1679.98 1327.03 Q1675.62 1327.03 1673.42 1328.37 Q1671.26 1329.71 1671.26 1332.38 Q1671.26 1334.42 1672.82 1335.6 Q1674.38 1336.74 1679.09 1337.79 L1681.09 1338.24 Q1687.33 1339.57 1689.94 1342.03 Q1692.58 1344.44 1692.58 1348.8 Q1692.58 1353.77 1688.64 1356.67 Q1684.72 1359.56 1677.85 1359.56 Q1674.98 1359.56 1671.86 1358.99 Q1668.77 1358.45 1665.34 1357.33 L1665.34 1351.29 Q1668.58 1352.97 1671.73 1353.83 Q1674.89 1354.66 1677.97 1354.66 Q1682.11 1354.66 1684.34 1353.26 Q1686.57 1351.83 1686.57 1349.25 Q1686.57 1346.86 1684.94 1345.59 Q1683.35 1344.32 1677.91 1343.14 L1675.87 1342.66 Q1670.43 1341.52 1668.01 1339.16 Q1665.59 1336.77 1665.59 1332.64 Q1665.59 1327.61 1669.16 1324.87 Q1672.72 1322.13 1679.28 1322.13 Q1682.52 1322.13 1685.39 1322.61 Q1688.25 1323.09 1690.67 1324.04 Z\" fill=\"#000000\" fill-rule=\"nonzero\" fill-opacity=\"1\" /><path clip-path=\"url(#clip670)\" d=\"M1701.91 1322.99 L1707.76 1322.99 L1707.76 1358.64 L1701.91 1358.64 L1701.91 1322.99 M1701.91 1309.11 L1707.76 1309.11 L1707.76 1316.53 L1701.91 1316.53 L1701.91 1309.11 Z\" fill=\"#000000\" fill-rule=\"nonzero\" fill-opacity=\"1\" /><path clip-path=\"url(#clip670)\" d=\"M1745.67 1324.36 L1745.67 1329.83 Q1743.19 1328.47 1740.67 1327.8 Q1738.19 1327.1 1735.65 1327.1 Q1729.95 1327.1 1726.8 1330.73 Q1723.65 1334.32 1723.65 1340.85 Q1723.65 1347.37 1726.8 1351 Q1729.95 1354.6 1735.65 1354.6 Q1738.19 1354.6 1740.67 1353.93 Q1743.19 1353.23 1745.67 1351.86 L1745.67 1357.27 Q1743.22 1358.42 1740.58 1358.99 Q1737.97 1359.56 1735.01 1359.56 Q1726.96 1359.56 1722.21 1354.5 Q1717.47 1349.44 1717.47 1340.85 Q1717.47 1332.13 1722.25 1327.13 Q1727.05 1322.13 1735.39 1322.13 Q1738.1 1322.13 1740.67 1322.71 Q1743.25 1323.25 1745.67 1324.36 Z\" fill=\"#000000\" fill-rule=\"nonzero\" fill-opacity=\"1\" /><path clip-path=\"url(#clip670)\" d=\"M1755.86 1322.99 L1761.71 1322.99 L1761.71 1358.64 L1755.86 1358.64 L1755.86 1322.99 M1755.86 1309.11 L1761.71 1309.11 L1761.71 1316.53 L1755.86 1316.53 L1755.86 1309.11 Z\" fill=\"#000000\" fill-rule=\"nonzero\" fill-opacity=\"1\" /><path clip-path=\"url(#clip670)\" d=\"M1787.78 1327.1 Q1783.07 1327.1 1780.33 1330.79 Q1777.6 1334.45 1777.6 1340.85 Q1777.6 1347.24 1780.3 1350.94 Q1783.04 1354.6 1787.78 1354.6 Q1792.46 1354.6 1795.2 1350.91 Q1797.93 1347.21 1797.93 1340.85 Q1797.93 1334.51 1795.2 1330.82 Q1792.46 1327.1 1787.78 1327.1 M1787.78 1322.13 Q1795.42 1322.13 1799.78 1327.1 Q1804.14 1332.06 1804.14 1340.85 Q1804.14 1349.6 1799.78 1354.6 Q1795.42 1359.56 1787.78 1359.56 Q1780.11 1359.56 1775.75 1354.6 Q1771.42 1349.6 1771.42 1340.85 Q1771.42 1332.06 1775.75 1327.1 Q1780.11 1322.13 1787.78 1322.13 M1792.21 1306.5 L1798.54 1306.5 L1788.16 1318.47 L1783.29 1318.47 L1792.21 1306.5 Z\" fill=\"#000000\" fill-rule=\"nonzero\" fill-opacity=\"1\" /><path clip-path=\"url(#clip670)\" d=\"M1843.48 1337.12 L1843.48 1358.64 L1837.62 1358.64 L1837.62 1337.31 Q1837.62 1332.25 1835.65 1329.74 Q1833.68 1327.22 1829.73 1327.22 Q1824.99 1327.22 1822.25 1330.25 Q1819.51 1333.27 1819.51 1338.49 L1819.51 1358.64 L1813.63 1358.64 L1813.63 1322.99 L1819.51 1322.99 L1819.51 1328.53 Q1821.61 1325.32 1824.45 1323.72 Q1827.31 1322.13 1831.04 1322.13 Q1837.18 1322.13 1840.33 1325.95 Q1843.48 1329.74 1843.48 1337.12 Z\" fill=\"#000000\" fill-rule=\"nonzero\" fill-opacity=\"1\" /><path clip-path=\"url(#clip670)\" d=\"M1890.71 1361.95 Q1888.23 1368.32 1885.88 1370.26 Q1883.52 1372.2 1879.57 1372.2 L1874.9 1372.2 L1874.9 1367.3 L1878.33 1367.3 Q1880.75 1367.3 1882.09 1366.15 Q1883.43 1365.01 1885.05 1360.74 L1886.1 1358.07 L1871.68 1322.99 L1877.89 1322.99 L1889.03 1350.87 L1900.17 1322.99 L1906.37 1322.99 L1890.71 1361.95 Z\" fill=\"#000000\" fill-rule=\"nonzero\" fill-opacity=\"1\" /><polyline clip-path=\"url(#clip672)\" style=\"stroke:#000000; stroke-linecap:round; stroke-linejoin:round; stroke-width:2; stroke-opacity:0.1; fill:none\" points=\"739.168,1022.15 1136.37,678.167 1824.33,876.766 \"/>\n",
       "<polyline clip-path=\"url(#clip672)\" style=\"stroke:#000000; stroke-linecap:round; stroke-linejoin:round; stroke-width:2; stroke-opacity:0.1; fill:none\" points=\"739.168,873.663 1136.37,529.679 1824.33,728.279 \"/>\n",
       "<polyline clip-path=\"url(#clip672)\" style=\"stroke:#000000; stroke-linecap:round; stroke-linejoin:round; stroke-width:2; stroke-opacity:0.1; fill:none\" points=\"739.168,725.176 1136.37,381.192 1824.33,579.791 \"/>\n",
       "<polyline clip-path=\"url(#clip672)\" style=\"stroke:#000000; stroke-linecap:round; stroke-linejoin:round; stroke-width:2; stroke-opacity:0.1; fill:none\" points=\"739.168,576.688 1136.37,232.704 1824.33,431.303 \"/>\n",
       "<polyline clip-path=\"url(#clip670)\" style=\"stroke:#000000; stroke-linecap:round; stroke-linejoin:round; stroke-width:4; stroke-opacity:1; fill:none\" points=\"739.168,1151.89 739.168,463.92 \"/>\n",
       "<polyline clip-path=\"url(#clip670)\" style=\"stroke:#000000; stroke-linecap:round; stroke-linejoin:round; stroke-width:4; stroke-opacity:1; fill:none\" points=\"739.168,1022.15 743.934,1018.02 \"/>\n",
       "<polyline clip-path=\"url(#clip670)\" style=\"stroke:#000000; stroke-linecap:round; stroke-linejoin:round; stroke-width:4; stroke-opacity:1; fill:none\" points=\"739.168,873.663 743.934,869.536 \"/>\n",
       "<polyline clip-path=\"url(#clip670)\" style=\"stroke:#000000; stroke-linecap:round; stroke-linejoin:round; stroke-width:4; stroke-opacity:1; fill:none\" points=\"739.168,725.176 743.934,721.048 \"/>\n",
       "<polyline clip-path=\"url(#clip670)\" style=\"stroke:#000000; stroke-linecap:round; stroke-linejoin:round; stroke-width:4; stroke-opacity:1; fill:none\" points=\"739.168,576.688 743.934,572.56 \"/>\n",
       "<path clip-path=\"url(#clip670)\" d=\"M649.882 1022.6 L679.558 1022.6 L679.558 1026.54 L649.882 1026.54 L649.882 1022.6 Z\" fill=\"#000000\" fill-rule=\"nonzero\" fill-opacity=\"1\" /><path clip-path=\"url(#clip670)\" d=\"M690.46 1035.5 L698.099 1035.5 L698.099 1009.13 L689.789 1010.8 L689.789 1006.54 L698.053 1004.87 L702.729 1004.87 L702.729 1035.5 L710.368 1035.5 L710.368 1039.43 L690.46 1039.43 L690.46 1035.5 Z\" fill=\"#000000\" fill-rule=\"nonzero\" fill-opacity=\"1\" /><path clip-path=\"url(#clip670)\" d=\"M698.423 859.462 Q694.812 859.462 692.984 863.027 Q691.178 866.568 691.178 873.698 Q691.178 880.804 692.984 884.369 Q694.812 887.911 698.423 887.911 Q702.058 887.911 703.863 884.369 Q705.692 880.804 705.692 873.698 Q705.692 866.568 703.863 863.027 Q702.058 859.462 698.423 859.462 M698.423 855.758 Q704.234 855.758 707.289 860.365 Q710.368 864.948 710.368 873.698 Q710.368 882.425 707.289 887.031 Q704.234 891.615 698.423 891.615 Q692.613 891.615 689.535 887.031 Q686.479 882.425 686.479 873.698 Q686.479 864.948 689.535 860.365 Q692.613 855.758 698.423 855.758 Z\" fill=\"#000000\" fill-rule=\"nonzero\" fill-opacity=\"1\" /><path clip-path=\"url(#clip670)\" d=\"M690.46 738.521 L698.099 738.521 L698.099 712.155 L689.789 713.822 L689.789 709.562 L698.053 707.896 L702.729 707.896 L702.729 738.521 L710.368 738.521 L710.368 742.456 L690.46 742.456 L690.46 738.521 Z\" fill=\"#000000\" fill-rule=\"nonzero\" fill-opacity=\"1\" /><path clip-path=\"url(#clip670)\" d=\"M694.048 590.033 L710.368 590.033 L710.368 593.968 L688.423 593.968 L688.423 590.033 Q691.085 587.278 695.669 582.649 Q700.275 577.996 701.456 576.653 Q703.701 574.13 704.581 572.394 Q705.484 570.635 705.484 568.945 Q705.484 566.19 703.539 564.454 Q701.618 562.718 698.516 562.718 Q696.317 562.718 693.863 563.482 Q691.433 564.246 688.655 565.797 L688.655 561.075 Q691.479 559.941 693.933 559.362 Q696.386 558.783 698.423 558.783 Q703.794 558.783 706.988 561.468 Q710.183 564.153 710.183 568.644 Q710.183 570.774 709.372 572.695 Q708.585 574.593 706.479 577.186 Q705.9 577.857 702.798 581.075 Q699.697 584.269 694.048 590.033 Z\" fill=\"#000000\" fill-rule=\"nonzero\" fill-opacity=\"1\" /><path clip-path=\"url(#clip670)\" d=\"M550.19 956.384 L568.045 956.384 L568.045 948.3 Q568.045 943.812 565.722 941.361 Q563.398 938.911 559.102 938.911 Q554.836 938.911 552.513 941.361 Q550.19 943.812 550.19 948.3 L550.19 956.384 M544.906 962.814 L544.906 948.3 Q544.906 940.311 548.534 936.237 Q552.131 932.131 559.102 932.131 Q566.136 932.131 569.732 936.237 Q573.329 940.311 573.329 948.3 L573.329 956.384 L592.426 956.384 L592.426 962.814 L544.906 962.814 Z\" fill=\"#000000\" fill-rule=\"nonzero\" fill-opacity=\"1\" /><path clip-path=\"url(#clip670)\" d=\"M560.884 912.27 Q560.884 916.981 564.576 919.718 Q568.236 922.455 574.634 922.455 Q581.031 922.455 584.723 919.75 Q588.384 917.013 588.384 912.27 Q588.384 907.591 584.692 904.854 Q581 902.117 574.634 902.117 Q568.3 902.117 564.608 904.854 Q560.884 907.591 560.884 912.27 M555.919 912.27 Q555.919 904.631 560.884 900.271 Q565.849 895.91 574.634 895.91 Q583.387 895.91 588.384 900.271 Q593.349 904.631 593.349 912.27 Q593.349 919.941 588.384 924.301 Q583.387 928.63 574.634 928.63 Q565.849 928.63 560.884 924.301 Q555.919 919.941 555.919 912.27 Z\" fill=\"#000000\" fill-rule=\"nonzero\" fill-opacity=\"1\" /><path clip-path=\"url(#clip670)\" d=\"M557.828 863.477 L563.367 863.477 Q562.093 865.96 561.457 868.633 Q560.82 871.307 560.82 874.171 Q560.82 878.532 562.157 880.728 Q563.494 882.892 566.167 882.892 Q568.204 882.892 569.382 881.333 Q570.528 879.773 571.578 875.063 L572.024 873.057 Q573.361 866.819 575.811 864.209 Q578.23 861.567 582.591 861.567 Q587.556 861.567 590.453 865.514 Q593.349 869.429 593.349 876.304 Q593.349 879.168 592.776 882.288 Q592.235 885.375 591.121 888.812 L585.074 888.812 Q586.761 885.566 587.62 882.415 Q588.447 879.264 588.447 876.177 Q588.447 872.039 587.047 869.811 Q585.615 867.583 583.037 867.583 Q580.649 867.583 579.376 869.206 Q578.103 870.798 576.925 876.24 L576.448 878.277 Q575.302 883.72 572.947 886.139 Q570.56 888.558 566.422 888.558 Q561.393 888.558 558.656 884.993 Q555.919 881.428 555.919 874.872 Q555.919 871.625 556.396 868.76 Q556.874 865.896 557.828 863.477 Z\" fill=\"#000000\" fill-rule=\"nonzero\" fill-opacity=\"1\" /><path clip-path=\"url(#clip670)\" d=\"M556.778 852.241 L556.778 846.385 L592.426 846.385 L592.426 852.241 L556.778 852.241 M542.901 852.241 L542.901 846.385 L550.317 846.385 L550.317 852.241 L542.901 852.241 Z\" fill=\"#000000\" fill-rule=\"nonzero\" fill-opacity=\"1\" /><path clip-path=\"url(#clip670)\" d=\"M558.147 808.477 L563.621 808.477 Q562.253 810.96 561.584 813.474 Q560.884 815.957 560.884 818.503 Q560.884 824.201 564.512 827.352 Q568.109 830.503 574.634 830.503 Q581.159 830.503 584.787 827.352 Q588.384 824.201 588.384 818.503 Q588.384 815.957 587.715 813.474 Q587.015 810.96 585.647 808.477 L591.057 808.477 Q592.203 810.928 592.776 813.57 Q593.349 816.18 593.349 819.14 Q593.349 827.192 588.288 831.935 Q583.228 836.677 574.634 836.677 Q565.913 836.677 560.916 831.903 Q555.919 827.097 555.919 818.758 Q555.919 816.052 556.492 813.474 Q557.033 810.896 558.147 808.477 Z\" fill=\"#000000\" fill-rule=\"nonzero\" fill-opacity=\"1\" /><path clip-path=\"url(#clip670)\" d=\"M556.778 798.292 L556.778 792.436 L592.426 792.436 L592.426 798.292 L556.778 798.292 M542.901 798.292 L542.901 792.436 L550.317 792.436 L550.317 798.292 L542.901 798.292 Z\" fill=\"#000000\" fill-rule=\"nonzero\" fill-opacity=\"1\" /><path clip-path=\"url(#clip670)\" d=\"M560.884 766.368 Q560.884 771.079 564.576 773.816 Q568.236 776.553 574.634 776.553 Q581.031 776.553 584.723 773.848 Q588.384 771.111 588.384 766.368 Q588.384 761.689 584.692 758.952 Q581 756.215 574.634 756.215 Q568.3 756.215 564.608 758.952 Q560.884 761.689 560.884 766.368 M555.919 766.368 Q555.919 758.729 560.884 754.369 Q565.849 750.008 574.634 750.008 Q583.387 750.008 588.384 754.369 Q593.349 758.729 593.349 766.368 Q593.349 774.039 588.384 778.399 Q583.387 782.728 574.634 782.728 Q565.849 782.728 560.884 778.399 Q555.919 774.039 555.919 766.368 M540.291 761.944 L540.291 755.61 L552.258 765.986 L552.258 770.856 L540.291 761.944 Z\" fill=\"#000000\" fill-rule=\"nonzero\" fill-opacity=\"1\" /><path clip-path=\"url(#clip670)\" d=\"M570.91 710.668 L592.426 710.668 L592.426 716.525 L571.101 716.525 Q566.04 716.525 563.526 718.498 Q561.011 720.471 561.011 724.418 Q561.011 729.161 564.035 731.898 Q567.059 734.635 572.279 734.635 L592.426 734.635 L592.426 740.523 L556.778 740.523 L556.778 734.635 L562.316 734.635 Q559.102 732.534 557.51 729.702 Q555.919 726.837 555.919 723.113 Q555.919 716.97 559.738 713.819 Q563.526 710.668 570.91 710.668 Z\" fill=\"#000000\" fill-rule=\"nonzero\" fill-opacity=\"1\" /><path clip-path=\"url(#clip670)\" d=\"M556.778 680.813 L556.778 652.995 L562.125 652.995 L587.747 675.02 L587.747 652.995 L592.426 652.995 L592.426 681.609 L587.079 681.609 L561.457 659.583 L561.457 680.813 L556.778 680.813 Z\" fill=\"#000000\" fill-rule=\"nonzero\" fill-opacity=\"1\" /><polyline clip-path=\"url(#clip672)\" style=\"stroke:#009af9; stroke-linecap:round; stroke-linejoin:round; stroke-width:4; stroke-opacity:1; fill:none\" stroke-dasharray=\"16, 10\" points=\"1646.16,699.778 1652.68,626.806 1667,485.314 1673.51,611.146 1668.97,561.862 1594.91,657.045 1622.58,610.808 1609.37,687.385 1508.28,712.899 1547.27,729.584 1498.01,840.86 1432.06,722.969 1396.74,876.791 1272.87,1061.7 1303.9,918.293 1291.46,818.661 1209.43,838.666 1284.21,786.324 1207.98,830.068 1123.04,900.768 1097.11,970.595 1092.55,796.163 1027.64,755.117 1081.83,644.241 1101.46,666.041 1233.28,575.762 1168.74,538.415 1167.68,570.792 1276.39,626.013 1311.47,566.873 1244.85,724.329 1209.85,882.139 1164.5,906.27 1170.16,755.512 1120.41,621.782 1203.63,475.204 1162.02,573.727 1096.96,544.119 1091,375.985 1201.19,235.066 1198.05,335.59 1184.97,201.571 1151.61,304.448 1127.74,298.986 1142.71,464.51 1028.45,567.389 1036.31,499.986 1031.06,622.809 935.427,670.092 1031.63,770.958 1012.09,717.863 \"/>\n",
       "<circle clip-path=\"url(#clip672)\" cx=\"1646.16\" cy=\"699.778\" r=\"14.4\" fill=\"#0000ff\" fill-rule=\"evenodd\" fill-opacity=\"1\" stroke=\"#000000\" stroke-opacity=\"1\" stroke-width=\"3.2\"/>\n",
       "<circle clip-path=\"url(#clip672)\" cx=\"1012.09\" cy=\"717.863\" r=\"14.4\" fill=\"#ff0000\" fill-rule=\"evenodd\" fill-opacity=\"1\" stroke=\"#000000\" stroke-opacity=\"1\" stroke-width=\"3.2\"/>\n",
       "<path clip-path=\"url(#clip670)\" d=\"M282.146 1377.32 L549.356 1377.32 L549.356 1169.96 L282.146 1169.96  Z\" fill=\"#ffffff\" fill-rule=\"evenodd\" fill-opacity=\"1\"/>\n",
       "<polyline clip-path=\"url(#clip670)\" style=\"stroke:#000000; stroke-linecap:round; stroke-linejoin:round; stroke-width:4; stroke-opacity:1; fill:none\" points=\"282.146,1377.32 549.356,1377.32 549.356,1169.96 282.146,1169.96 282.146,1377.32 \"/>\n",
       "<polyline clip-path=\"url(#clip670)\" style=\"stroke:#009af9; stroke-linecap:round; stroke-linejoin:round; stroke-width:4; stroke-opacity:1; fill:none\" stroke-dasharray=\"16, 10\" points=\"305.946,1221.8 448.747,1221.8 \"/>\n",
       "<path clip-path=\"url(#clip670)\" d=\"M486.39 1241.48 Q484.584 1246.11 482.871 1247.52 Q481.158 1248.94 478.288 1248.94 L474.885 1248.94 L474.885 1245.37 L477.385 1245.37 Q479.144 1245.37 480.117 1244.54 Q481.089 1243.7 482.269 1240.6 L483.033 1238.66 L472.547 1213.15 L477.061 1213.15 L485.163 1233.43 L493.265 1213.15 L497.779 1213.15 L486.39 1241.48 Z\" fill=\"#000000\" fill-rule=\"nonzero\" fill-opacity=\"1\" /><path clip-path=\"url(#clip670)\" d=\"M505.07 1235.14 L512.709 1235.14 L512.709 1208.77 L504.399 1210.44 L504.399 1206.18 L512.663 1204.52 L517.339 1204.52 L517.339 1235.14 L524.977 1235.14 L524.977 1239.08 L505.07 1239.08 L505.07 1235.14 Z\" fill=\"#000000\" fill-rule=\"nonzero\" fill-opacity=\"1\" /><circle clip-path=\"url(#clip670)\" cx=\"377.347\" cy=\"1273.64\" r=\"20.48\" fill=\"#0000ff\" fill-rule=\"evenodd\" fill-opacity=\"1\" stroke=\"#000000\" stroke-opacity=\"1\" stroke-width=\"4.55111\"/>\n",
       "<path clip-path=\"url(#clip670)\" d=\"M486.39 1293.32 Q484.584 1297.95 482.871 1299.36 Q481.158 1300.78 478.288 1300.78 L474.885 1300.78 L474.885 1297.21 L477.385 1297.21 Q479.144 1297.21 480.117 1296.38 Q481.089 1295.54 482.269 1292.44 L483.033 1290.5 L472.547 1264.99 L477.061 1264.99 L485.163 1285.27 L493.265 1264.99 L497.779 1264.99 L486.39 1293.32 Z\" fill=\"#000000\" fill-rule=\"nonzero\" fill-opacity=\"1\" /><path clip-path=\"url(#clip670)\" d=\"M508.288 1286.98 L524.607 1286.98 L524.607 1290.92 L502.663 1290.92 L502.663 1286.98 Q505.325 1284.23 509.908 1279.6 Q514.515 1274.94 515.695 1273.6 Q517.94 1271.08 518.82 1269.34 Q519.723 1267.58 519.723 1265.89 Q519.723 1263.14 517.778 1261.4 Q515.857 1259.67 512.755 1259.67 Q510.556 1259.67 508.103 1260.43 Q505.672 1261.19 502.894 1262.74 L502.894 1258.02 Q505.718 1256.89 508.172 1256.31 Q510.626 1255.73 512.663 1255.73 Q518.033 1255.73 521.227 1258.42 Q524.422 1261.1 524.422 1265.59 Q524.422 1267.72 523.612 1269.64 Q522.825 1271.54 520.718 1274.13 Q520.139 1274.8 517.038 1278.02 Q513.936 1281.22 508.288 1286.98 Z\" fill=\"#000000\" fill-rule=\"nonzero\" fill-opacity=\"1\" /><circle clip-path=\"url(#clip670)\" cx=\"377.347\" cy=\"1325.48\" r=\"20.48\" fill=\"#ff0000\" fill-rule=\"evenodd\" fill-opacity=\"1\" stroke=\"#000000\" stroke-opacity=\"1\" stroke-width=\"4.55111\"/>\n",
       "<path clip-path=\"url(#clip670)\" d=\"M486.39 1345.16 Q484.584 1349.79 482.871 1351.2 Q481.158 1352.62 478.288 1352.62 L474.885 1352.62 L474.885 1349.05 L477.385 1349.05 Q479.144 1349.05 480.117 1348.22 Q481.089 1347.38 482.269 1344.28 L483.033 1342.34 L472.547 1316.83 L477.061 1316.83 L485.163 1337.11 L493.265 1316.83 L497.779 1316.83 L486.39 1345.16 Z\" fill=\"#000000\" fill-rule=\"nonzero\" fill-opacity=\"1\" /><path clip-path=\"url(#clip670)\" d=\"M518.427 1324.12 Q521.783 1324.84 523.658 1327.11 Q525.556 1329.38 525.556 1332.71 Q525.556 1337.82 522.038 1340.63 Q518.519 1343.43 512.038 1343.43 Q509.862 1343.43 507.547 1342.99 Q505.255 1342.57 502.802 1341.71 L502.802 1337.2 Q504.746 1338.33 507.061 1338.91 Q509.376 1339.49 511.899 1339.49 Q516.297 1339.49 518.589 1337.76 Q520.903 1336.02 520.903 1332.71 Q520.903 1329.65 518.751 1327.94 Q516.621 1326.2 512.802 1326.2 L508.774 1326.2 L508.774 1322.36 L512.987 1322.36 Q516.436 1322.36 518.265 1321 Q520.093 1319.61 520.093 1317.01 Q520.093 1314.35 518.195 1312.94 Q516.32 1311.51 512.802 1311.51 Q510.88 1311.51 508.681 1311.92 Q506.482 1312.34 503.843 1313.22 L503.843 1309.05 Q506.505 1308.31 508.82 1307.94 Q511.158 1307.57 513.218 1307.57 Q518.542 1307.57 521.644 1310 Q524.746 1312.41 524.746 1316.53 Q524.746 1319.4 523.102 1321.39 Q521.459 1323.36 518.427 1324.12 Z\" fill=\"#000000\" fill-rule=\"nonzero\" fill-opacity=\"1\" /></svg>\n"
      ]
     },
     "execution_count": 129,
     "metadata": {},
     "output_type": "execute_result"
    }
   ],
   "source": [
    "graficaCaminata3D(XYZ[1],XYZ[2],XYZ[3])"
   ]
  },
  {
   "cell_type": "markdown",
   "id": "f7d4c256-127c-4f79-962a-47b1e7819e4c",
   "metadata": {},
   "source": [
    "# FIN"
   ]
  }
 ],
 "metadata": {
  "kernelspec": {
   "display_name": "Julia 1.8.5",
   "language": "julia",
   "name": "julia-1.8"
  },
  "language_info": {
   "file_extension": ".jl",
   "mimetype": "application/julia",
   "name": "julia",
   "version": "1.8.5"
  }
 },
 "nbformat": 4,
 "nbformat_minor": 5
}
