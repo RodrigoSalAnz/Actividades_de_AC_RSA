{
 "cells": [
  {
   "cell_type": "markdown",
   "id": "95b518e4",
   "metadata": {},
   "source": [
    "# Solución de sistemas lineales de ecuaciones algebráicas\n",
    "\n",
    "## Motivación\n",
    "\n",
    "Los sistemas lineales de ecuaciones algebráicas son útiles para modelar muchos problemas científicos tales como el balanceo de ecuaciones químicas, el cálculo de corrientes en circuitos electrónicos, además de tener muchísimas aplicaciones dentro de la computación y las mismas matemáticas. Por ello, es de gran utilidad saber cómo se pueden implementar métodos numéricos que resuelvan este tipo de sistemas."
   ]
  },
  {
   "cell_type": "markdown",
   "id": "bef591a1",
   "metadata": {},
   "source": [
    "## Sistemas lineales de ecuaciones algebráicas\n",
    "\n",
    "Un _sistema de ecuaciones_ es un grupo de ecuaciones que deben cumplirse simultáneamente. En general, podemos expresar un sistema de $m$ ecuaciones y $n$ incógnitas como\n",
    "\n",
    "$$f_1(x_1,x_2,\\dots,x_n) = 0,$$\n",
    "\n",
    "$$f_2(x_1,x_2,\\dots,x_n) = 0,$$\n",
    "\n",
    "$$\\vdots$$\n",
    "\n",
    "$$f_m(x_1,x_2,\\dots,x_n) = 0,$$\n",
    "\n",
    "donde $f_j$ es una función arbitraria, con $1\\leq j\\leq m$. Una _solución_ al sistema es una $n$-tupla de valores $(x_1,x_2,\\dots,x_n)$ para los cuales todas las ecuaciones del sistema se verifican. Un _sistema de ecuaciones algebráicas_ es aquel donde todas las funciones $f_j$ son **polinomios** en las variables $x_1,x_2,\\dots,x_n$; más aún, un sistema de este tipo es _lineal_ si en todas las ecuaciones del sistema las incógnitas $x_1,x_2,\\dots,x_n$ **no aparecen elevadas a una potencia mayor que uno** y **tampoco aparecen productos entre las diferentes incógnitas**.\n",
    "\n",
    "En este _notebook_ veremos un método para solucionar sistemas lineales de ecuaciones algebráicas de $n$ ecuaciones y $n$ variables, donde todas las ecuaciones son _linealmente independientes_. En general, este tipo de sistemas se pueden escribir de la siguiente forma (verifica que cumpla las definiciones anteriores):\n",
    "\n",
    "$$ a_{11}x_1 + a_{12}x_2 + \\dots + a_{1n}x_n = b_1, $$\n",
    "\n",
    "$$ a_{21}x_1 + a_{22}x_2 + \\dots + a_{2n}x_n = b_2, $$\n",
    "\n",
    "$$ \\vdots $$\n",
    "\n",
    "$$ a_{n1}x_1 + a_{n2}x_2 + \\dots + a_{nn}x_n = b_n. $$\n",
    "\n",
    "### Operaciones elementales\n",
    "\n",
    "Existen tres \"operaciones elementales\" que le podemos aplicar a este sistema **sin cambiar su conjunto de soluciones**:\n",
    "1. multiplicar una ecuación (de ambos lados) por una constante no nula;\n",
    "1. sumarle a una ecuación alguna de las otras ecuaciones multiplicada por una constante arbitraria;\n",
    "1. intercambiar dos ecuaciones de lugar.\n",
    "\n",
    "El hecho de que la operación 1 no cambie al conjunto de soluciones del sistema se sigue de que, para todo $1\\leq i\\leq n$, si $c\\neq0$, entonces\n",
    "\n",
    "$$c(a_{i1}x_1 + a_{i2}x_2 + \\dots + a_{in}x_n - b_i) = 0 \\iff a_{i1}x_1 + a_{i2}x_2 + \\dots + a_{in}x_n - b_i = 0.$$\n",
    "\n",
    "Similarmente, el hecho de que la operación 2 no cambie al conjunto de soluciones del _sistema_ se sigue de que, para cualesquiera $1\\leq i,j\\leq n$ y para cualquier constante arbitraria $c'$,\n",
    "\n",
    "\\begin{align}\n",
    "    (a_{i1}x_1 + a_{i2}x_2 + \\dots + a_{in}x_n - b_i) = 0 \\ &\\land \\ (a_{j1}x_1 + a_{j2}x_2 + \\dots + a_{jn}x_n - b_j) = 0 \\\\\n",
    "    &\\iff \\\\\n",
    "    (a_{i1}x_1 + a_{i2}x_2 + \\dots + a_{in}x_n - b_i) \\ &+ \\ c'(a_{j1}x_1 + a_{j2}x_2 + \\dots + a_{jn}x_n - b_j) = 0.\n",
    "\\end{align}\n",
    "\n",
    "En efecto: La primera implicación es directa, mientras que la otra se sigue de que las ecuaciones son linealmente dependientes. Por último, es claro por qué la operación 3 no cambia el conjunto de soluciones pues, después de aplicarla, las ecuaciones del sistema siguen siendo las mismas."
   ]
  },
  {
   "cell_type": "markdown",
   "id": "507ffad4",
   "metadata": {},
   "source": [
    "## Método de eliminación Gaussiana\n",
    "\n",
    "A continuación, veremos un algoritmo que aprovecha las operaciones elementales descritas anteriormente para obtener una solución a un sistema lineal de ecuaciones algebráicas.\n",
    "\n",
    "### Retropropagación\n",
    "\n",
    "Supongamos que, a través de operaciones elementales, podemos transformar el sistema lineal de ecuaciones algebráicas anterior en uno de la forma\n",
    "\n",
    "\\begin{align*}\n",
    "    a'_{11}x_1 \\ + \\ a'_{12}x_2 \\ + \\dots + \\ a'_{1n-1}x_{n-1} \\ + \\ a'_{1n}x_n &= b'_1, \\\\\n",
    "    0 \\ + a'_{22}x_2 + \\dots + a'_{1n-1}x_{n-1} \\ + \\ a'_{1n}x_n &= b'_2, \\\\\n",
    "    & \\ \\vdots \\\\\n",
    "    0 + 0 + \\dots + a'_{n-1,n-1} x_{n-1} + a'_{n-1n}x_n &= b'_{n-1}, \\\\\n",
    "    0 \\ + \\ 0 \\ + \\ \\dots \\ + \\ \\ 0 \\ \\ + \\ \\ \\ a'_{nn}x_n &= b'_n,\n",
    "\\end{align*}\n",
    "\n",
    "con $a'_{ii}\\neq0$ para $1\\leq 1\\leq n$ (en la sección **Reducción** explicaremos por qué es posible lograr esto). Observemos que la última ecuación tiene sólo una incógnita, que podemos despejar para obtener\n",
    "\n",
    "$$x_n = \\frac{b'_n}{a'_{nn}}.$$\n",
    "\n",
    "**Ejercicio** Despeja a $x_{n-1}$ de la penúltima ecuación y sustituye en valor de $x_n$."
   ]
  },
  {
   "cell_type": "markdown",
   "id": "52791650",
   "metadata": {},
   "source": [
    "$$a'_{n-1,n-1}x_{n-1}+a'_{n-1,n}x_n=b'_{n-1} \\iff x_{n-1}=(b'_{n-1}-a'_{n-1,n}x_n)/a'_{n-1,n-1}$$\n",
    "Como $x_n=b'_{n}/a'_{n,n}$\n",
    "$$\\iff x_{n-1}=(b'_{n-1}-a'_{n-1,n}(b'_{n}/a'_{n,n}))/a'_{n-1,n-1} $$"
   ]
  },
  {
   "cell_type": "markdown",
   "id": "2d2a55c4",
   "metadata": {},
   "source": [
    "Iterativamente, por cada ecuación que solucionamos, podemos sustituir todos los valores obtenidos hasta el momento en la ecuación _anterior_ para solucionarla también, hasta haber encontrado valores $(x_1,x_2,\\dots,x_n)$ que solucionen todo el sistema. A este procedimiento se le conoce como _retropropagación_.\n",
    "\n",
    "**Ejercicio** Da una fórmula general para el valor de $x_i$, con $1\\leq i<n$, en términos de los $x_j$ para $i < j \\leq n$."
   ]
  },
  {
   "cell_type": "markdown",
   "id": "07ebfddf",
   "metadata": {},
   "source": [
    "$$ a_{ii}x_i + a_{i,i+1}x_{i+1}+ \\dots  + a_{in}x_n  = b_i \\iff x_i=(b_i -a_{i,i+1}x_{i+1}- \\dots  - a_{in}x_n)/a_{ii} $$\n"
   ]
  },
  {
   "cell_type": "markdown",
   "id": "a0407b0e",
   "metadata": {},
   "source": [
    "**Nota** Lo que nos asegura que los coeficientes $a_{ii}$ con $1\\leq i\\leq n$ son distintos de cero y, por lo tanto, que nuestras soluciones para $x_n, x_{n-1},\\dots,x_1$ están bien definidas es que las ecuaciones del sistema sean linealmente independientes. Esto es equivalente a que la matriz cuadrada tenga un determinante distinto de cero. A este tipo de matrices se les llama _matrices no singulares_."
   ]
  },
  {
   "cell_type": "markdown",
   "id": "70c87c91",
   "metadata": {},
   "source": [
    "### Reducción\n",
    "\n",
    "Al proceso de tomar un sistema lineal de $n$ ecuaciones algebráicas y $n$ incógnitas\n",
    "\n",
    "$$ a_{11}x_1 + a_{12}x_2 + \\dots + a_{1n}x_n = b_1, $$\n",
    "\n",
    "$$ a_{21}x_1 + a_{22}x_2 + \\dots + a_{2n}x_n = b_2, $$\n",
    "\n",
    "$$ \\vdots $$\n",
    "\n",
    "$$ a_{n1}x_1 + a_{n2}x_2 + \\dots + a_{nn}x_n = b_n, $$\n",
    "\n",
    "y transformarlo a través de operaciones elementales en uno de la forma\n",
    "\n",
    "\\begin{align*}\n",
    "    a'_{11}x_1 \\ + \\ a'_{12}x_2 \\ + \\dots + \\ a'_{1n-1}x_{n-1} \\ + \\ a'_{1n}x_n &= b'_1, \\\\\n",
    "    0 \\ + a'_{22}x_2 + \\dots + a'_{1n-1}x_{n-1} \\ + \\ a'_{1n}x_n &= b'_2, \\\\\n",
    "    & \\ \\vdots \\\\\n",
    "    0 + 0 + \\dots + a'_{n-1,n-1} x_{n-1} + a'_{n-1n}x_n &= b'_{n-1}, \\\\\n",
    "    0 \\ + \\ 0 \\ + \\ \\dots \\ + \\ \\ 0 \\ \\ + \\ \\ \\ a'_{nn}x_n &= b'_n.\n",
    "\\end{align*}\n",
    "\n",
    "se le conoce como _reducción_, y esto último se conoce como la _forma reducida_ del sistema. Una _transformación elemental_ es la transformación de una ecuación del sistema en otra a través de operaciones elementales.\n",
    "\n",
    "Sea $E_i$ la $i$-ésima ecuación del sistema no reducido. Si $E_1$ tiene un coeficiente $a_{11}$ distinto de cero, definimos\n",
    "\n",
    "$$ E_1 =: E'_1; \\quad (1) $$\n",
    "\n",
    "de lo contrario, primero intercambiemos a $E_1$ por alguna ecuación $E_j$ con el coeficiente $a_{j1}$ de $x_1$ distinto de cero\n",
    "\n",
    "$$E_1 \\leftrightarrow E_j$$\n",
    "\n",
    "y después definimos a $E_1'$ usando la ecuación (1). En ambos casos, redefinamos sus coeficientes como $a'_{11}:= a_{j1}, a'_{12}:= a_{j2},\\dots, b'_1:=b_j$, obteniendo la ecuación\n",
    "\n",
    "$$E'_1: a'_{11}x_1 + a'_{12}x_2 + ... + a'_{1n} x_n = b'_1,$$\n",
    "\n",
    "con $a'_{11}\\neq0$.\n",
    "\n",
    "Ahora, observemos que, si $E_2$ tiene un coeficiente $a_{22}$ distinto de cero, entonces al aplicar la transformación elemental\n",
    "\n",
    "$$E_2 \\to E_2 - \\frac{a_{21}}{a'_{11}} E_1' =: E'_2 \\quad (2)$$\n",
    "\n",
    "la ecuación resultante $E'_2$ tendrá un coeficiente nulo en $x_1$ y no nulo en $x_2$ (Escríbela a mano y verifícalo); en cambio, si $a_{22} = 0$, primero debemos intercambiar a $E_2$ por alguna ecuación $E_k$ con el coeficiente $a_{k2}$ de $x_2$ distinto de cero\n",
    "\n",
    "$$ E_2 \\leftrightarrow E_k $$\n",
    "\n",
    "y después definir a $E'_2$ con la ecuación (2) para que la ecuación resultante tenga un coeficiente nulo en $x_1$ y no nulo en $x_2$. En ambos casos, definimos a los coeficientes de la ecuación $E'_2$, obteniendo\n",
    "\n",
    "$$E'_2: a'_{21}x_1 + a'_{22}x_2 + ... + a'_{2n} x_n = b'_2,$$\n",
    "\n",
    "con $a'_{21}=0$ y $a'_{22}\\neq0$.\n",
    "\n",
    "Luego, si $E_3$ tiene un coeficiente $a_{33}$ distinto de cero, entonces al aplicar la transformación elemental\n",
    "\n",
    "$$ E_3 \\to E_3 - \\frac{a_{31}}{a'_{11}} E_1' - \\frac{a_{32}}{a'_{22}} E_2' =: E'_3 \\quad (3) $$\n",
    "\n",
    "la ecuación resultante $E'_3$ tendrá coeficientes nulos en $x_1$ y $x_2$, y un coeficiente no nulo en $x_3$; en cambio, si $a_{33} = 0$, primero debemos intercambiar a $E_3$ por alguna ecuación $E_m$ con el coeficiente $a_{l3}$ de $x_3$ distinto de cero\n",
    "\n",
    "$$ E_3 \\leftrightarrow E_l $$\n",
    "\n",
    "y después definir\n",
    "\n",
    "y después definir a $E'_3$ con la ecuación (3) para que la ecuación resultante tenga un coeficiente nulo en $x_1$ y $x_2$, y no nulo en $x_3$. En ambos casos, definimos a los coeficientes de la ecuación $E'_3$, obteniendo\n",
    "\n",
    "$$E'_3: a'_{31}x_1 + a'_{32}x_2 + ... + a'_{3n} x_n = b'_3,$$\n",
    "\n",
    "con $a'_{31}=a'_{32}=0$ y $a'_{33}\\neq0$. (¿Observas un patrón? En serio, es muy importante que escribas al menos estos dos primeros pasos a mano, para que realmente lo _observes_.).\n",
    "\n",
    "Podemos seguir aplicando el mismo procedimiento iterativamente hasta haber obtenido ecuaciones $E'_1, E'_2, \\dots, E'_n$, las cuales forman un sistema _reducido_ al cual le podemos aplicar _retropropagación_.\n",
    "\n",
    "**Nota** La razón por la que **debe existir** una ecuación $E_j$ con coeficiente $a_{j1}\\neq0$ con el cual podamos definir a $E'_1$ y empezar el proceso de reducción es que, de lo contrario, ¡el sistema tendría $n-1$ incógnitas en vez de $n$!\n",
    "\n",
    "Observemos que las transformaciones elementales **no afectan a las incógnitas** $x_1,x_2\\dots,x_n$, sino que **sólo afectan a los coeficientes** $a_{ij}, b_i$, con $1\\leq i,j\\leq n$. Por lo tanto, podemos hacer reducción _sólo considerando a los coeficientes del sistema_. Similarmente, notemos que, para hacer retropropagación, _sólo necesitamos a los coeficientes del sistema reducido_. Esto nos lleva desechar los sistemas en favor de una representación más sencilla de visualizar y de implementar en código."
   ]
  },
  {
   "cell_type": "markdown",
   "id": "0cf2ebb0",
   "metadata": {},
   "source": [
    "### Representación matricial\n",
    "\n",
    "\n",
    "Consideremos, nuevamente, un sistema lineal de ecuaciones algebráicas\n",
    "\n",
    "$$ a_{11}x_1 + a_{12}x_2 + \\dots + a_{1n}x_n = b_1, $$\n",
    "\n",
    "$$ a_{21}x_1 + a_{22}x_2 + \\dots + a_{2n}x_n = b_2, $$\n",
    "\n",
    "$$ \\vdots $$\n",
    "\n",
    "$$ a_{n1}x_1 + a_{n2}x_2 + \\dots + a_{nn}x_n = b_n. $$\n",
    "\n",
    "Como tal vez sospeches por la notación de los coeficientes, podemos escribir este sistema como una sola ecuación vectorial\n",
    "\n",
    "$$ \\begin{pmatrix} a_{11} &a_{12} &\\dots &a_{1n} \\\\ a_{21} &a_{22} &\\dots &a_{2n} \\\\ \\vdots &\\vdots &\\ddots &\\vdots \\\\ a_{n1} &a_{n2} &\\dots &a_{nn} \\end{pmatrix} \\begin{pmatrix} x_1 \\\\ x_2 \\\\ \\vdots \\\\ x_n \\end{pmatrix} = \\begin{pmatrix} b_1 \\\\ b_2 \\\\ \\vdots \\\\ b_n \\end{pmatrix}; $$\n",
    "\n",
    "o, de forma más sucinta,\n",
    "\n",
    "$$ A \\vec{x} = \\vec{b}. $$\n",
    "\n",
    "Observemos que podemos representar a nuestro sistema de ecuaciones con la matriz aumentada\n",
    "\n",
    "$$ \\big( A\\mid\\vec{b} \\ \\big) = \\begin{pmatrix} a_{11} &a_{12} &\\dots &a_{1n} &\\mid &b_1 \\\\ a_{21} &a_{22} &\\dots &a_{2n} &\\mid &b_2 \\\\ \\vdots &\\vdots &\\ddots &\\vdots &\\mid &\\vdots \\\\ a_{n1} &a_{n2} &\\dots &a_{nn} &\\mid &b_n \\end{pmatrix}. $$\n",
    "\n",
    "De esta forma, cada renglón de la matriz aumentada representa una ecuación de nuestro sistema... ¡y las operaciones elementales que vimos para sistemas lineales de ecuaciones _coinciden completamente_ con operaciones elementales de matrices! (De hecho, de ahí viene el nombre.) Recordando que las transformaciones elementales sólo afectan a los **coeficientes** de un sistema lineal de ecuaciones, entonces podemos aplicarle **reducción** a la matriz aumentada para llevarla a su forma reducida\n",
    "\n",
    "$$ \\begin{pmatrix} a'_{11} &a'_{12} &\\dots &a'_{1n} &\\mid &b'_1 \\\\ 0 &a'_{22} &\\dots &a'_{2n} &\\mid &b'_2 \\\\ \\vdots &\\vdots &\\ddots &\\vdots &\\mid &\\vdots \\\\ 0 &0 &\\dots &a'_{nn} &\\mid &b'_n \\end{pmatrix}. $$\n",
    "\n",
    "Luego, recordando que la retropropagación se puede llevar a cabo sólo con los coeficientes del sistema reducido, ¡podemos utilizar esta matriz reducida para encontrar la solución de nuestro sistema!"
   ]
  },
  {
   "cell_type": "markdown",
   "id": "139f4699",
   "metadata": {},
   "source": [
    "## Implementación\n",
    "\n",
    "Para este punto, ya debes tener motivación para resolver un problema importante y ubicuo, así como un plan de acción respaldado por una teoría sensata. Ahora sí, ¡te toca implementarlo!\n",
    "\n",
    "Como sugerencia general, te recomiendo recordar que puedes crear celdas de Jupyter libremente para experimentar con tu código, probarlo con diferentes parámetros, ver si funciona como esperas, e irlo corrigiendo en caso de que no. Además, si así lo deseas, puedes empezar resolviendo sistemas pequeños (por ejemplo, de dos ecuaciones) y, ya que tengas una noción de los procedimientos y cómo implementarlos, generalizar tu código para que también pueda resolver sistemas más grandes. \n",
    "\n",
    "**Ejercicio** Crea una función `retropropagación` con un argumento `M`, que puedes suponer que es una matriz aumentada de la forma\n",
    "\n",
    "$$ \\begin{pmatrix} a'_{11} &a'_{12} &\\dots &a'_{1n} &\\mid &b'_1 \\\\ 0 &a'_{22} &\\dots &a'_{2n} &\\mid &b'_2 \\\\ \\vdots &\\vdots &\\ddots &\\vdots &\\mid &\\vdots \\\\ 0 &0 &\\dots &a'_{nn} &\\mid &b'_n \\end{pmatrix} $$\n",
    "\n",
    "-es decir, aquella formada por una matriz triangulada superior y un vector $\\vec{b}'$-, que aplique retropropagación a la matriz `M` y devuelva como resultado un arreglo con el vector solución $\\vec{x}$."
   ]
  },
  {
   "cell_type": "code",
   "execution_count": 7,
   "id": "e4825abf",
   "metadata": {},
   "outputs": [
    {
     "data": {
      "text/plain": [
       "retropropagación (generic function with 1 method)"
      ]
     },
     "execution_count": 7,
     "metadata": {},
     "output_type": "execute_result"
    }
   ],
   "source": [
    "\n",
    "function retropropagación(A)\n",
    "n=length(A[:,1]) #Aquí cuento cuantas variables tiene el sistema.\n",
    "x=zeros(1,n) #Aquí defino un vector donde se guardará el valor de las variables, \n",
    "             #no importa los valores de este vector ya que se modificarán, solo importa su dimensión.\n",
    "for i in n-1:-1:1 #Aquí defino un bucle for para que obtenga primero el valor de x[n] luego de x[n-1] y así sucesivamente hasta x[1].\n",
    "    x[n]=A[n,n+1]/A[n,n] #Aquí uso el resultado del profesor. \n",
    "    sum=0 #Aquí voy a guardar el valor de a_{i,i+1}x_{i+1}+...+ a_{in}x_n.\n",
    "    for k in i:n-1 #Aquí voy a realizar la suma de a_{i,i+1}x_{i+1}+...+ a_{in}x_n.\n",
    "        sum=sum+A[i,k+1]*x[k+1]\n",
    "    end\n",
    "    \n",
    "    x[i]=(A[i,n+1]-sum)/A[i,i] #Aquí calculo el valor de x[i] y lo guardo en el vector \"x\".\n",
    "end\n",
    "    return x\n",
    "end\n"
   ]
  },
  {
   "cell_type": "code",
   "execution_count": 80,
   "id": "ecb4de7b",
   "metadata": {},
   "outputs": [
    {
     "data": {
      "text/plain": [
       "4×5 Matrix{Int64}:\n",
       " 1  -1  0  0  -6\n",
       " 0   1  1  0   3\n",
       " 0   0  1  2   4\n",
       " 0   0  0  1  19"
      ]
     },
     "execution_count": 80,
     "metadata": {},
     "output_type": "execute_result"
    }
   ],
   "source": [
    "\n",
    "B=[ 1 -1 0 0 -6 ; 0 1 1 0 3 ; 0 0 1 2 4; 0 0 0 1 19 ]\n",
    "  "
   ]
  },
  {
   "cell_type": "code",
   "execution_count": 84,
   "id": "d5c50cbf",
   "metadata": {},
   "outputs": [
    {
     "data": {
      "text/plain": [
       "1×4 Matrix{Float64}:\n",
       " 31.0  37.0  -34.0  19.0"
      ]
     },
     "execution_count": 84,
     "metadata": {},
     "output_type": "execute_result"
    }
   ],
   "source": [
    "retropropagación(B)"
   ]
  },
  {
   "cell_type": "markdown",
   "id": "dc0c2af6",
   "metadata": {},
   "source": [
    "Ya hemos implementado un algoritmo capaz de solucionar matrices reducidas. Ahora, implementaremos otro que realice el proceso de reducción de una matriz aumentada. Como este proceso depende de que las entradas que van quedando en la diagonal sean no nulas -para poder dividir entre ellas-, primero implementaremos una función que se asegure de que esto suceda.\n",
    "\n",
    "**Ejercicio** Crea una función `pivote` que tome tres argumentos `M`, `i` y `j`, y revise si la entrada del renglón `i` y columna `j` de la matriz `M` es igual a cero. En caso que sí lo sea, debe buscar la primera entrada distinta de cero entre los siguientes renglones de la misma columna y, al encontrarla, intercambiar el renglón correspondiente a la entrada no nula con el renglón `i`.\n",
    "\n",
    "Sugerencias: Recuerda que puedes aplicar la función `length` a un vector columna de una matriz para obtener la cantidad de renglones de esa matriz. Además, puedes crear una variable temporal para no perder información durante el intercambio de los renglones."
   ]
  },
  {
   "cell_type": "code",
   "execution_count": 6,
   "id": "c59973d0",
   "metadata": {},
   "outputs": [
    {
     "data": {
      "text/plain": [
       "pivote (generic function with 1 method)"
      ]
     },
     "execution_count": 6,
     "metadata": {},
     "output_type": "execute_result"
    }
   ],
   "source": [
    "function pivote(M,i,j)\n",
    "if M[i,j] == 0 #Aquí le pregunto si el término M[i,j] es igual a cero, si no es así, no le hace nada a la matriz.\n",
    "    cont=1\n",
    "    while M[cont+i,j] == 0 #Aquí reviso cada término de la columna j por debajo de la fila i, para encontar un M[k,j] distinto de cero.\n",
    "       cont = cont+1 \n",
    "    end\n",
    "    Des=M[cont+i, :] #Aquí guardo la fila donde está M[k,j] distinto de cero.\n",
    "    Ant=M[i,:] #Aquí guardo la fila donde está M[i,j] igual a cero.\n",
    "    M[i,:]=Des #Aquí los intercambio de lugar\n",
    "    M[cont+i,:]=Ant\n",
    "end\n",
    "end\n",
    "\n",
    "\n"
   ]
  },
  {
   "cell_type": "code",
   "execution_count": 289,
   "id": "e80046a8",
   "metadata": {},
   "outputs": [
    {
     "data": {
      "text/plain": [
       "4×5 Matrix{Int64}:\n",
       " 0  -1  0  0  -6\n",
       " 0   1  1  0   3\n",
       " 2   0  1  2   4\n",
       " 0   0  0  1  19"
      ]
     },
     "execution_count": 289,
     "metadata": {},
     "output_type": "execute_result"
    }
   ],
   "source": [
    "B=[ 0 -1 0 0 -6 ; 0 1 1 0 3 ; 2 0 1 2 4; 0 0 0 1 19 ]\n"
   ]
  },
  {
   "cell_type": "code",
   "execution_count": 290,
   "id": "3c822af6",
   "metadata": {},
   "outputs": [
    {
     "data": {
      "text/plain": [
       "4×5 Matrix{Int64}:\n",
       " 2   0  1  2   4\n",
       " 0   1  1  0   3\n",
       " 0  -1  0  0  -6\n",
       " 0   0  0  1  19"
      ]
     },
     "execution_count": 290,
     "metadata": {},
     "output_type": "execute_result"
    }
   ],
   "source": [
    "pivote(B,1,1)\n",
    "B"
   ]
  },
  {
   "cell_type": "markdown",
   "id": "cb419e2e",
   "metadata": {},
   "source": [
    "**Ejercicio** Crea una función `reducción` que tome un argumento `M`, que puedes suponer que es una matriz aumentada de la forma\n",
    "\n",
    "$$ \\begin{pmatrix} a_{11} &a_{12} &\\dots &a_{1n} &\\mid &b_1 \\\\ a_{21} &a_{22} &\\dots &a_{2n} &\\mid &b_2 \\\\ \\vdots &\\vdots &\\ddots &\\vdots &\\mid &\\vdots \\\\ a_{n1} &a_{n2} &\\dots &a_{nn} &\\mid &b_n \\end{pmatrix} $$\n",
    "\n",
    "que representa un sistema de ecuaciones algebráicas linealmente independientes -y que, por ende, le podemos aplicar reduccion-, que devuelva la matriz reducida correspondiente.\n",
    "\n",
    "Sugerencia: Usa la función `pivote` que creaste anteriormente."
   ]
  },
  {
   "cell_type": "code",
   "execution_count": 5,
   "id": "2d001dfc",
   "metadata": {},
   "outputs": [
    {
     "data": {
      "text/plain": [
       "reducción (generic function with 1 method)"
      ]
     },
     "execution_count": 5,
     "metadata": {},
     "output_type": "execute_result"
    }
   ],
   "source": [
    "function reducción(M)\n",
    "n=length(M[:,1]) #Aquí calculo cuantas variables tiene el sistema.\n",
    "\n",
    "if M[1,1]==0 #Aquí verifico si M[1,1] es igual a cero, si es así, que me cambie por otra ecuación con M[k,1] distinto de cero.\n",
    "    pivote(M,1,1)\n",
    "end\n",
    "M[1,:]=M[1,:]*(1/M[1,1]) #Aquí le multiplico 1/M11 al renglón M1 para que en M'11=1 y sea fácil anular el M(k1) de otras ecuaciones.\n",
    "\n",
    "for i in 2:n #Aquí seleciono un renglón i de la matriz.\n",
    "    \n",
    "    for k in i:n #Aquí voy a volver cero cada término por debajo de M(ii).\n",
    "    M[k,:]=M[k,:]-M[k,i-1]*M[i-1,:] #Como M(i-1,i-1)=1, entonces M'(i,i-1)=M(i,i-1)-M(k,i-1)*M(i-1,i-1)=0.\n",
    "    end                                                  \n",
    "    \n",
    "    if M[i,i]==0 #Aquí verifico si M[i,i] es igual a cero, si es así, que me cambie por otra ecuación con M[k,i] distinto de cero.\n",
    "    pivote(M,i,i)\n",
    "    end\n",
    "    M[i,:]=M[i,:]*(1/M[i,i]) #Aquí le multiplico 1/M(ii) al renglón Mi para volver M'(ii)=1 y sea fácil anular el M(ki) de otras ecuaciones\n",
    "       \n",
    "end\n",
    "    return M\n",
    "end\n"
   ]
  },
  {
   "cell_type": "code",
   "execution_count": 299,
   "id": "93112139",
   "metadata": {},
   "outputs": [
    {
     "data": {
      "text/plain": [
       "4×5 Matrix{Float64}:\n",
       " 16.0  -6.0   4.0  1.0  -36.0\n",
       "  1.0  -8.0   1.0  1.0  -64.0\n",
       " 16.0   2.0  -4.0  1.0   -4.0\n",
       "  9.0   8.0  -3.0  1.0  -64.0"
      ]
     },
     "execution_count": 299,
     "metadata": {},
     "output_type": "execute_result"
    }
   ],
   "source": [
    "M=[16.0 -6.0 4.0 1.0 -36.0; 1.0 -8.0 1.0 1.0 -64.0; 16.0 2.0 -4.0 1.0 -4.0; 9.0 8.0 -3.0 1.0 -64.0]"
   ]
  },
  {
   "cell_type": "code",
   "execution_count": 300,
   "id": "4bfd2a4e",
   "metadata": {},
   "outputs": [
    {
     "data": {
      "text/plain": [
       "4×5 Matrix{Float64}:\n",
       "  1.0  -0.375   0.25        0.0625     -2.25\n",
       " -0.0   1.0    -0.0983607  -0.122951    8.09836\n",
       " -0.0  -0.0     1.0        -0.136364    4.54545\n",
       "  0.0   0.0     0.0         1.0       -92.0"
      ]
     },
     "execution_count": 300,
     "metadata": {},
     "output_type": "execute_result"
    }
   ],
   "source": [
    "reducción(M)"
   ]
  },
  {
   "cell_type": "markdown",
   "id": "725fb2a7",
   "metadata": {},
   "source": [
    "**Ejercicio** Crea una función `solución` con un argumento `M`, que puedes suponer que es una matriz aumentada que representa un sistema de ecuaciones algebráicas linealmente independientes, que integre las funciones `reducción` y `retropropagación` y devuelva un arreglo con el vector solución $\\vec{x}$."
   ]
  },
  {
   "cell_type": "code",
   "execution_count": 21,
   "id": "4fd486e1",
   "metadata": {},
   "outputs": [
    {
     "data": {
      "text/plain": [
       "2×3 Matrix{Float64}:\n",
       " 3.0   2.0  6.0\n",
       " 5.0  10.0  1.0"
      ]
     },
     "execution_count": 21,
     "metadata": {},
     "output_type": "execute_result"
    }
   ],
   "source": [
    "#W=[16.0 -6.0 4.0 1.0 -36.0; 1.0 -8.0 1.0 1.0 -64.0; 16.0 2.0 -4.0 1.0 -4.0; 9.0 8.0 -3.0 1.0 -64.0]\n",
    "W=[3.0 2.0 6.0; 5.0 10.0 1.0]\n",
    "#W=[1.0 0.0625 0.0 0.0625 1.0 0.2 ; -1.0 -0.125 0.0 0.125 1.0 0.0 ; 1.0 0.25 0.0 0.25 1.0 1/3; -1.0 -0.5 0.0 0.5 1.0 0.0 ; 1.0 1.0 1.0 1.0 1.0 1.0 ]"
   ]
  },
  {
   "cell_type": "code",
   "execution_count": 13,
   "id": "d3870ac0",
   "metadata": {},
   "outputs": [
    {
     "data": {
      "text/plain": [
       "solución (generic function with 1 method)"
      ]
     },
     "execution_count": 13,
     "metadata": {},
     "output_type": "execute_result"
    }
   ],
   "source": [
    "#Aquí solo redujo la matriz M y luego la evalúo en retropagación para que me devuelva las soluciones del sistema.\n",
    "function solución(M)\n",
    "    reducción(M)\n",
    "    return retropropagación(M)\n",
    "end"
   ]
  },
  {
   "cell_type": "code",
   "execution_count": 20,
   "id": "11e5771a",
   "metadata": {},
   "outputs": [
    {
     "data": {
      "text/plain": [
       "1×5 Matrix{Float64}:\n",
       " 0.0777778  0.355556  0.133333  0.355556  0.0777778"
      ]
     },
     "execution_count": 20,
     "metadata": {},
     "output_type": "execute_result"
    }
   ],
   "source": [
    "solución(W)"
   ]
  },
  {
   "cell_type": "markdown",
   "id": "462f6ff3",
   "metadata": {},
   "source": [
    "## Cálculo de matrices inversas\n",
    "\n",
    "Una de las características más importantes de las matrices no singulares (esto es, matrices cuadradas con determinante no nulo) es que son invertibles. Es decir que, si $A\\in M_{n\\times n}(\\mathbb{R})$ es tal que $\\text{det}(A)\\neq 0$, entonces existe $C\\in M_{n\\times n}(\\mathbb{R})$ tal que\n",
    "\n",
    "$$ AC = I_{n\\times n} = CA,$$\n",
    "\n",
    "donde $I_{n\\times n}$ es la matriz identidad con $n$ renglones y $n$ columnas. Observemos que, si esto sucede, entonces de la ecuación $AC = I_{n\\times n}$ tenemos que el producto del primer vector columna de $C$ con la matriz $A$ es igual al vector\n",
    "v\n",
    "$$ \\begin{pmatrix} 1 \\\\ 0 \\\\ \\vdots \\\\ 0 \\end{pmatrix}. $$\n",
    "\n",
    "Más generalmente, el producto del $j$-ésimo vector columna de $C$ con la matriz $A$ dará como resultado un vector con $1$ en la $j$-ésima entrada y $0$ en todas las demás.\n",
    "\n",
    "A raíz de esta observación, podemos armar y solucionar $n$ sistemas lineales de ecuaciones distintos y juntar los vectores solución en una matriz, obteniendo así una matriz _inversa por la derecha_ de $A$. Más aún, se puede ver sencillamente con un poquito de álgebra que esta matriz inversa por la derecha debe ser _la_ inversa. En efecto: sea $A\\in M_{n\\times n}(\\mathbb{R})$ una matriz no singular (invertible), $A^{-1}$ su inversa y $C$ una matriz inversa de $A$ por la derecha; entonces\n",
    "\n",
    "$$ \\begin{align*} C &= I_{n\\times n} C \\\\ &= (A^{-1}A)C  \\\\ &= A^{-1}(AC) \\\\ &= A^{-1}I_{n\\times n} \\\\ &= A^{-1}.\\end{align*} $$\n",
    "\n",
    "**Ejercicio** Crea una función `invertir` con un argumento `M`, que puedes suponer que es una matriz cuadrada no singular (invertible), que devuelva la matriz inversa de `M`.\n",
    "\n",
    "Sugerencia: Utiliza la función `solución` que creaste anteriormente."
   ]
  },
  {
   "cell_type": "markdown",
   "id": "022e3570",
   "metadata": {},
   "source": [
    "### solución\n",
    "Para hallar la inversa de la matriz $A$, debemos hallar una matriz $B$ tal que $AB=I_{n\\times n}$, por lo que al plantear el siguiente sistema de ecuaciones:\n",
    "$$ AB= \\begin{pmatrix} a_{11} &a_{12} &\\dots &a_{1n} \\\\ a_{21} &a_{22} &\\dots &a_{2n} \\\\ \\vdots &\\vdots &\\ddots &\\vdots \\\\ a_{n1} &a_{n2} &\\dots &a_{nn} \\end{pmatrix} \\begin{pmatrix} b_{11} &b_{12} &\\dots &b_{1n} \\\\ b_{21} &b_{22} &\\dots &b_{2n} \\\\ \\vdots &\\vdots &\\ddots &\\vdots \\\\ b_{n1} &b_{n2} &\\dots &b_{nn} \\end{pmatrix}= \\begin{pmatrix} 1 &0 &\\dots &0 \\\\ 0 & 1 &\\dots & 0 \\\\ \\vdots &\\vdots &\\ddots &\\vdots \\\\ 0 & 0 &\\dots & 1 \\end{pmatrix} $$\n",
    "\n",
    "Donde los $b_{ij}$ son nuestras incógnitas, y debemos plantear sistema de $n^2$ ecuaciones con $n^2$ variables, por lo que primero obtendremos la matriz ampliada del sistema."
   ]
  },
  {
   "cell_type": "code",
   "execution_count": 402,
   "id": "1672e7f6",
   "metadata": {},
   "outputs": [
    {
     "data": {
      "text/plain": [
       "Matriz_Ec (generic function with 1 method)"
      ]
     },
     "execution_count": 402,
     "metadata": {},
     "output_type": "execute_result"
    }
   ],
   "source": [
    "function Matriz_Ec(V) #Esta es la la función que da la matriz ampliada del sistema para obtener la matriz inversa\n",
    "\n",
    "n=length(V[:,1])*length(V[:,1]) #Aquí calculo cuantas variables tiene el sistema.\n",
    "n0=length(V[:,1])  #Aquí calculo la dimensión de la matriz que le quiero calcular su inversa.\n",
    "MP=zeros(n,n+1) #Aquí se guardará la matriz ampliada del sistema de ecuaciones.\n",
    "\n",
    "function cuenta1n0(i,n0) #Esta es una función que cuenta desde 1,..,n0, ayudará a colocar los coeficientes de la matriz en la matriz ampliada del sistema.\n",
    "    if (i)%n0 != 0\n",
    "        return (i)%n0\n",
    "    else\n",
    "        return n0\n",
    "    end\n",
    "end\n",
    "\n",
    "cont=1 #Esta es el subindice i que ayudará a colocar los V[i,j] en MP[i,k]\n",
    "for i in 1:n\n",
    "    RP=MP[i,:] #Aquí se modificará el renglón i la matriz ampliada del sistema de ecuaciones.\n",
    "    for k in 0:n0-1\n",
    "        RP[cuenta1n0(i,n0)+n0*k]=V[cont,k+1] #Aquí se modificará el renglón i la matriz ampliada del sistema de ecuaciones,\n",
    "                                             #colocando los coeficientes de la matriz V en la matriz ampliada\n",
    "    end\n",
    "    MP[i,:]=RP\n",
    "    \n",
    "    if i%n0==0\n",
    "        cont=cont+1\n",
    "    end \n",
    "end\n",
    "\n",
    "b=MP[:,n+1] #Aqui se reacomodan las entradas de la matriz identidad para que coincidan con los coeficientes de cada ecuación.\n",
    "for i in 0:n0-1\n",
    "b[1+i*(n0+1)]=1\n",
    "end\n",
    "MP[:,n+1]=b\n",
    "\n",
    "return MP\n",
    "end\n",
    "\n"
   ]
  },
  {
   "cell_type": "code",
   "execution_count": 403,
   "id": "519373a9",
   "metadata": {},
   "outputs": [
    {
     "data": {
      "text/plain": [
       "2×2 Matrix{Int64}:\n",
       " 3  5\n",
       " 1  2"
      ]
     },
     "execution_count": 403,
     "metadata": {},
     "output_type": "execute_result"
    }
   ],
   "source": [
    "#Q=[3 2 4; 5 -1 -3; 4 3 1 ]\n",
    "Q=[3 5; 1 2]"
   ]
  },
  {
   "cell_type": "code",
   "execution_count": 404,
   "id": "f21882f7",
   "metadata": {},
   "outputs": [
    {
     "data": {
      "text/plain": [
       "4×5 Matrix{Float64}:\n",
       " 3.0  0.0  5.0  0.0  1.0\n",
       " 0.0  3.0  0.0  5.0  0.0\n",
       " 1.0  0.0  2.0  0.0  0.0\n",
       " 0.0  1.0  0.0  2.0  1.0"
      ]
     },
     "execution_count": 404,
     "metadata": {},
     "output_type": "execute_result"
    }
   ],
   "source": [
    "Matriz_Ec(Q)"
   ]
  },
  {
   "cell_type": "code",
   "execution_count": 395,
   "id": "80dc1dff",
   "metadata": {},
   "outputs": [
    {
     "data": {
      "text/plain": [
       "invertir (generic function with 1 method)"
      ]
     },
     "execution_count": 395,
     "metadata": {},
     "output_type": "execute_result"
    }
   ],
   "source": [
    "function invertir(V)\n",
    "n0=length(V[:,1]) #Aquí calculo la dimensión de la matriz que le quiero calcular su inversa.\n",
    "D=zeros(n0,n0) #Aquí se guardará la matriz inversa\n",
    "count=0\n",
    "for i in 1:n0 #Los dos ciclos for se utilizan para reacomodar los coeficientes de la matriz inversa en una matriz de la misma\n",
    "              #dimensión de la matriz V.   \n",
    "    for k in 1:n0\n",
    "        D[i,k]=solución(Matriz_Ec(V))[k+count]  #Aquí se calcula los coeficientes de la matriz inversa.      \n",
    "    end\n",
    "count=count+n0\n",
    "end\n",
    "return D\n",
    "end"
   ]
  },
  {
   "cell_type": "code",
   "execution_count": 401,
   "id": "7eaa3059",
   "metadata": {},
   "outputs": [
    {
     "data": {
      "text/plain": [
       "2×2 Matrix{Float64}:\n",
       "  2.0  -5.0\n",
       " -1.0   3.0"
      ]
     },
     "execution_count": 401,
     "metadata": {},
     "output_type": "execute_result"
    }
   ],
   "source": [
    "invertir(Q)"
   ]
  },
  {
   "cell_type": "markdown",
   "id": "70597fba",
   "metadata": {},
   "source": [
    "## El método de propagación\n",
    "\n",
    "Existe otro método para solucionar sistemas lineales de ecuaciones algebráicas **totalmente análogo al que hemos visto**. En efecto, esto se sigue de observar que, si en vez de tener un sistema cuya matriz asociada sea triangular superior, fuese triangular _inferior_\n",
    "\n",
    "$$ \\begin{pmatrix} a'_{11} &0 &\\dots &0 \\\\ a'_{21} &a'_{22} &\\dots &0 \\\\ \\vdots &\\vdots &\\ddots &\\vdots \\\\ a'_{n1} &a'_{n2} &\\dots &a'_{nn} \\end{pmatrix} \\begin{pmatrix} x_1 \\\\ x_2 \\\\ \\vdots \\\\ x_n \\end{pmatrix} = \\begin{pmatrix} b'_1 \\\\ b'_2 \\\\ \\vdots \\\\ b'_n \\end{pmatrix} $$\n",
    "\n",
    "entonces podríamos solucionarlo de principio a fin, obteniendo primero a\n",
    "\n",
    "$$x_1 = \\frac{b'_{1}}{a'_{11}}$$\n",
    "\n",
    "y luego la fórmula general\n",
    "\n",
    "$$ x_i = \\frac{1}{a'_{ii}} \\bigg( b'_i - \\sum_{j=1}^{i-1} a'_{ij}x_j \\bigg) $$\n",
    "\n",
    "para $1<i\\leq n$. A este método se le conoce como _propagación_, pues solucionamos la primera entrada del vector incógnita y después propagamos esa solución iterativamente hacia adelante. Asimismo, podemos reducir una matriz aumentada de la forma\n",
    "\n",
    "$$ \\begin{pmatrix} a_{11} &a_{12} &\\dots &a_{1n} &\\mid &b_1 \\\\ a_{21} &a_{22} &\\dots &a_{2n} &\\mid &b_2 \\\\ \\vdots &\\vdots &\\ddots &\\vdots &\\mid &\\vdots \\\\ a_{n1} &a_{n2} &\\dots &a_{nn} &\\mid &b_n \\end{pmatrix} $$\n",
    "\n",
    "a una de la forma\n",
    "\n",
    "$$ \\begin{pmatrix} a'_{11} &0 &\\dots &0 &\\mid &b'_1 \\\\ a'_{21} &a'_{22} &\\dots &0 &\\mid &b'_2 \\\\ \\vdots &\\vdots &\\ddots &\\vdots &\\mid &\\vdots \\\\ a'_{n1} &a'_{n2} &\\dots &a'_{nn} &\\mid &b'_n \\end{pmatrix} $$\n",
    "\n",
    "haciendo un proceso inverso al que vimos anteriormente -siempre y cuando, nuevamente, la matriz cuadrada sea no singular.\n",
    "\n",
    "En inglés, este segundo método (propagación) se conoce como _forward substitution_, mientras que el primero que vimos (retropropagación) se conoce como _backward substitution_."
   ]
  },
  {
   "cell_type": "markdown",
   "id": "9864317a",
   "metadata": {},
   "source": [
    "## Recursos complementarios\n",
    "\n",
    "* Capítulo 6 \"Direct Methods for Solving Linear Systems\" de Burden, Faires y Burden, _Numerical Analysis_ (2016).\n",
    "* Secciones 3.2 \"Solution of Triangular Systems\" y 3.3 \"The Gaussian Elimination Method (GEM) and LU Factorization\" de Quarteroni, Sacco y Saleri, _Numerical Mathematics_ (2000).\n",
    "* Capítulo 2 \"Systems of Linear Equations\" de Poole, _Linear Algebra: A Modern Introduction_ (2015)."
   ]
  },
  {
   "cell_type": "code",
   "execution_count": null,
   "id": "8cd0cb15",
   "metadata": {},
   "outputs": [],
   "source": []
  }
 ],
 "metadata": {
  "kernelspec": {
   "display_name": "Julia 1.8.5",
   "language": "julia",
   "name": "julia-1.8"
  },
  "language_info": {
   "file_extension": ".jl",
   "mimetype": "application/julia",
   "name": "julia",
   "version": "1.8.5"
  }
 },
 "nbformat": 4,
 "nbformat_minor": 5
}
